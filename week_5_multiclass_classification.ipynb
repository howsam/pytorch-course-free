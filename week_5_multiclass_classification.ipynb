{
  "nbformat": 4,
  "nbformat_minor": 0,
  "metadata": {
    "colab": {
      "provenance": [],
      "collapsed_sections": [
        "2Uo3zoOHboyX",
        "Yr3bfpgyoD_c",
        "z5Ix-JmlZ8xn",
        "GR24qEHXboyT",
        "HX_M1Kwgboyd",
        "WJ4hWyDyuqDc",
        "-kz6vr4NuxAC",
        "y6D1tpUqUw5Y",
        "eJwX1uUo9s65",
        "ogv19AK90GHQ",
        "jw1VwE7d97gD",
        "VkNBA0NvhVTU",
        "lIWkjpuGUmUN"
      ],
      "mount_file_id": "1OraDdL3cZ-obfqRMLE_FfWqdR9asV-uG",
      "authorship_tag": "ABX9TyP8/Iha7EXrU06Kuj3JWDGD",
      "include_colab_link": true
    },
    "kernelspec": {
      "name": "python3",
      "display_name": "Python 3"
    },
    "language_info": {
      "name": "python"
    }
  },
  "cells": [
    {
      "cell_type": "markdown",
      "metadata": {
        "id": "view-in-github",
        "colab_type": "text"
      },
      "source": [
        "<a href=\"https://colab.research.google.com/github/howsam/pytorch-course-free/blob/main/week_5_multiclass_classification.ipynb\" target=\"_parent\"><img src=\"https://colab.research.google.com/assets/colab-badge.svg\" alt=\"Open In Colab\"/></a>"
      ]
    },
    {
      "cell_type": "markdown",
      "metadata": {
        "id": "j33aYo98boyK"
      },
      "source": [
        "#  <font color='#FFE15D'><b>💎 Week 5: Multiclass Classification</b></font>\n",
        "### Pytorch Free Course [webpage](https://howsam.org/downloads/pytorch-courset/)\n",
        "\n",
        "### Source Codes on Github [pytorch-course-free](https://github.com/howsam/pytorch-course-free.git)\n",
        "\n",
        "### by Howsam AI Academy www.howsam.org\n"
      ]
    },
    {
      "cell_type": "markdown",
      "metadata": {
        "jp-MarkdownHeadingCollapsed": true,
        "tags": [],
        "id": "2Uo3zoOHboyX"
      },
      "source": [
        "## ◀️ **Recap 👀**"
      ]
    },
    {
      "cell_type": "markdown",
      "source": [
        "<font size=5>✅ **Week 0**: Installation </font>\n",
        "\n",
        "<font size=5>✅ **Week 1**: Torch as Numpy </font>\n",
        "\n",
        "<font size=5>✅ **Week 2**: Linear Regression with Torch API </font>\n",
        "\n",
        "<font size=5>✅ **Week 3**: Linear Regression Autograd </font>\n",
        "\n",
        "<font size=5>✅ **Week 4**: Binary Classification </font>"
      ],
      "metadata": {
        "id": "ER-s39fmlOxe"
      }
    },
    {
      "cell_type": "code",
      "source": [
        "# Load Data\n",
        "train_set = TensorDataset(X, y)\n",
        "train_loader = DataLoader(train_set, batch_size=..., shuffle=True)\n",
        "\n",
        "# Define Model\n",
        "model = nn.Linear(...)\n",
        "\n",
        "# Define Loss\n",
        "loss_fn = nn...\n",
        "\n",
        "# Define Optimizer\n",
        "optimizer = optim.SGD(model.parameters(), lr=..., momentum=0.9)\n",
        "\n",
        "# train Loop\n",
        "for epoch in range(n_epochs):\n",
        "  for x_batch, y_batch in train_loader:\n",
        "    # model\n",
        "    y_hat = model(x_batch)\n",
        "    # loss\n",
        "    loss = loss_fn(y_hat, y_batch)\n",
        "    # gradient\n",
        "    loss.backward()\n",
        "    # update\n",
        "    optimizer.step()\n",
        "    optimizer.zero_grad()"
      ],
      "metadata": {
        "id": "1zk7bs5V08HZ"
      },
      "execution_count": null,
      "outputs": []
    },
    {
      "cell_type": "markdown",
      "source": [
        "## 🟪 **Increasing the output font size in Colab cells**"
      ],
      "metadata": {
        "id": "Yr3bfpgyoD_c"
      }
    },
    {
      "cell_type": "code",
      "source": [
        "from IPython.display import HTML\n",
        "shell = get_ipython()\n",
        "\n",
        "def adjust_font_size():\n",
        "  display(HTML('''<style>\n",
        "    body {\n",
        "      font-size: 30px;\n",
        "    }\n",
        "  '''))\n",
        "\n",
        "if adjust_font_size not in shell.events.callbacks['pre_execute']:\n",
        "  shell.events.register('pre_execute', adjust_font_size)"
      ],
      "metadata": {
        "id": "V5KCx1Cqmiya"
      },
      "execution_count": 1,
      "outputs": []
    },
    {
      "cell_type": "code",
      "source": [
        "a = 3\n",
        "a"
      ],
      "metadata": {
        "id": "reSgRYEYqGHZ",
        "colab": {
          "base_uri": "https://localhost:8080/",
          "height": 0
        },
        "outputId": "9cac6282-583f-47a1-b566-8516d0f18245"
      },
      "execution_count": 2,
      "outputs": [
        {
          "output_type": "display_data",
          "data": {
            "text/plain": [
              "<IPython.core.display.HTML object>"
            ],
            "text/html": [
              "<style>\n",
              "    body {\n",
              "      font-size: 30px;\n",
              "    }\n",
              "  "
            ]
          },
          "metadata": {}
        },
        {
          "output_type": "execute_result",
          "data": {
            "text/plain": [
              "3"
            ]
          },
          "metadata": {},
          "execution_count": 2
        }
      ]
    },
    {
      "cell_type": "markdown",
      "metadata": {
        "jp-MarkdownHeadingCollapsed": true,
        "tags": [],
        "id": "z5Ix-JmlZ8xn"
      },
      "source": [
        "## 🟥 **Imports**"
      ]
    },
    {
      "cell_type": "code",
      "source": [
        "import numpy as np\n",
        "import matplotlib.pyplot as plt\n",
        "import pandas as pd\n",
        "\n",
        "from sklearn.model_selection import train_test_split\n",
        "from sklearn.preprocessing import StandardScaler\n",
        "\n",
        "import torch\n",
        "from torch.utils.data import TensorDataset, DataLoader\n",
        "import torch.nn as nn\n",
        "from torch.optim import SGD"
      ],
      "metadata": {
        "id": "BgzrYL9ugK4l",
        "colab": {
          "base_uri": "https://localhost:8080/",
          "height": 0
        },
        "outputId": "adbd5090-07e5-47eb-9c8c-08ad5ea2776c"
      },
      "execution_count": 3,
      "outputs": [
        {
          "output_type": "display_data",
          "data": {
            "text/plain": [
              "<IPython.core.display.HTML object>"
            ],
            "text/html": [
              "<style>\n",
              "    body {\n",
              "      font-size: 30px;\n",
              "    }\n",
              "  "
            ]
          },
          "metadata": {}
        }
      ]
    },
    {
      "cell_type": "code",
      "source": [
        "torch.__version__"
      ],
      "metadata": {
        "id": "SaLIYWTmoZqD",
        "colab": {
          "base_uri": "https://localhost:8080/",
          "height": 0
        },
        "outputId": "94327d9b-c645-480c-c608-546fad80f1bc"
      },
      "execution_count": 4,
      "outputs": [
        {
          "output_type": "display_data",
          "data": {
            "text/plain": [
              "<IPython.core.display.HTML object>"
            ],
            "text/html": [
              "<style>\n",
              "    body {\n",
              "      font-size: 30px;\n",
              "    }\n",
              "  "
            ]
          },
          "metadata": {}
        },
        {
          "output_type": "execute_result",
          "data": {
            "text/plain": [
              "'2.3.0+cu121'"
            ],
            "application/vnd.google.colaboratory.intrinsic+json": {
              "type": "string"
            }
          },
          "metadata": {},
          "execution_count": 4
        }
      ]
    },
    {
      "cell_type": "markdown",
      "metadata": {
        "tags": [],
        "id": "GR24qEHXboyT"
      },
      "source": [
        "## 🟥 **Step 1: Data**"
      ]
    },
    {
      "cell_type": "code",
      "source": [
        "from sklearn import datasets"
      ],
      "metadata": {
        "colab": {
          "base_uri": "https://localhost:8080/",
          "height": 0
        },
        "id": "l-Ep2UMqIJCU",
        "outputId": "917c2327-1afa-48df-e73b-4ef2980819f7"
      },
      "execution_count": 5,
      "outputs": [
        {
          "output_type": "display_data",
          "data": {
            "text/plain": [
              "<IPython.core.display.HTML object>"
            ],
            "text/html": [
              "<style>\n",
              "    body {\n",
              "      font-size: 30px;\n",
              "    }\n",
              "  "
            ]
          },
          "metadata": {}
        }
      ]
    },
    {
      "cell_type": "code",
      "source": [
        "iris = datasets.load_iris()\n",
        "X = iris.data\n",
        "y = iris.target\n",
        "num_samples, num_features = X.shape\n",
        "num_classes = len(np.unique(y))\n",
        "num_samples, num_features, num_classes"
      ],
      "metadata": {
        "colab": {
          "base_uri": "https://localhost:8080/",
          "height": 0
        },
        "id": "cn8G0kl_II-m",
        "outputId": "89b5d655-1875-417e-e483-09aff8dbaa5f"
      },
      "execution_count": 6,
      "outputs": [
        {
          "output_type": "display_data",
          "data": {
            "text/plain": [
              "<IPython.core.display.HTML object>"
            ],
            "text/html": [
              "<style>\n",
              "    body {\n",
              "      font-size: 30px;\n",
              "    }\n",
              "  "
            ]
          },
          "metadata": {}
        },
        {
          "output_type": "execute_result",
          "data": {
            "text/plain": [
              "(150, 4, 3)"
            ]
          },
          "metadata": {},
          "execution_count": 6
        }
      ]
    },
    {
      "cell_type": "code",
      "source": [
        "_, ax = plt.subplots()\n",
        "scatter = ax.scatter(iris.data[:, 2], iris.data[:, 3], c=iris.target)\n",
        "ax.set(xlabel=iris.feature_names[2], ylabel=iris.feature_names[3])\n",
        "_ = ax.legend(\n",
        "    scatter.legend_elements()[0], iris.target_names, loc=\"lower right\", title=\"Classes\"\n",
        ")"
      ],
      "metadata": {
        "colab": {
          "base_uri": "https://localhost:8080/",
          "height": 0
        },
        "id": "XEqkRiqSNKdC",
        "outputId": "5470a12e-e01b-4dd4-fbf1-01ed3fa58bf9"
      },
      "execution_count": 7,
      "outputs": [
        {
          "output_type": "display_data",
          "data": {
            "text/plain": [
              "<IPython.core.display.HTML object>"
            ],
            "text/html": [
              "<style>\n",
              "    body {\n",
              "      font-size: 30px;\n",
              "    }\n",
              "  "
            ]
          },
          "metadata": {}
        },
        {
          "output_type": "display_data",
          "data": {
            "text/plain": [
              "<Figure size 640x480 with 1 Axes>"
            ],
            "image/png": "[encoded data removed]"
          },
          "metadata": {}
        }
      ]
    },
    {
      "cell_type": "code",
      "source": [
        "X_train, X_test, y_train, y_test = train_test_split(X, y, train_size=0.8, random_state=10, stratify=y)\n",
        "X_train, X_valid, y_train, y_valid = train_test_split(X_train, y_train, train_size=0.9, random_state=10, stratify=y_train)\n",
        "X_train.shape, y_train.shape, X_valid.shape, y_valid.shape, X_test.shape, y_test.shape"
      ],
      "metadata": {
        "colab": {
          "base_uri": "https://localhost:8080/",
          "height": 0
        },
        "id": "jrk33ARUDq2I",
        "outputId": "b8d0fbd7-6815-436c-9e55-39fdc69cd4e9"
      },
      "execution_count": 8,
      "outputs": [
        {
          "output_type": "display_data",
          "data": {
            "text/plain": [
              "<IPython.core.display.HTML object>"
            ],
            "text/html": [
              "<style>\n",
              "    body {\n",
              "      font-size: 30px;\n",
              "    }\n",
              "  "
            ]
          },
          "metadata": {}
        },
        {
          "output_type": "execute_result",
          "data": {
            "text/plain": [
              "((108, 4), (108,), (12, 4), (12,), (30, 4), (30,))"
            ]
          },
          "metadata": {},
          "execution_count": 8
        }
      ]
    },
    {
      "cell_type": "code",
      "source": [
        "x_scaler = StandardScaler()\n",
        "X_train = x_scaler.fit_transform(X_train)\n",
        "X_valid = x_scaler.transform(X_valid)\n",
        "X_test = x_scaler.transform(X_test)"
      ],
      "metadata": {
        "colab": {
          "base_uri": "https://localhost:8080/",
          "height": 0
        },
        "id": "Qb-OvDY0q9js",
        "outputId": "cb73d286-90af-4cac-f16d-7a6a002e947f"
      },
      "execution_count": 9,
      "outputs": [
        {
          "output_type": "display_data",
          "data": {
            "text/plain": [
              "<IPython.core.display.HTML object>"
            ],
            "text/html": [
              "<style>\n",
              "    body {\n",
              "      font-size: 30px;\n",
              "    }\n",
              "  "
            ]
          },
          "metadata": {}
        }
      ]
    },
    {
      "cell_type": "code",
      "source": [
        "X_train = torch.tensor(X_train, dtype=torch.float32)\n",
        "y_train = torch.tensor(y_train, dtype=torch.int64)\n",
        "\n",
        "X_valid = torch.tensor(X_valid, dtype=torch.float32)\n",
        "y_valid = torch.tensor(y_valid, dtype=torch.int64)\n",
        "\n",
        "X_test = torch.tensor(X_test, dtype=torch.float32)\n",
        "y_test = torch.tensor(y_test, dtype=torch.int64)\n",
        "\n",
        "X_train.shape, y_train.shape, X_valid.shape, y_valid.shape, X_test.shape, y_test.shape"
      ],
      "metadata": {
        "colab": {
          "base_uri": "https://localhost:8080/",
          "height": 0
        },
        "id": "W4ZNEsoArPkI",
        "outputId": "62a26585-799a-499c-92f1-8ef0e4de4d25"
      },
      "execution_count": 10,
      "outputs": [
        {
          "output_type": "display_data",
          "data": {
            "text/plain": [
              "<IPython.core.display.HTML object>"
            ],
            "text/html": [
              "<style>\n",
              "    body {\n",
              "      font-size: 30px;\n",
              "    }\n",
              "  "
            ]
          },
          "metadata": {}
        },
        {
          "output_type": "execute_result",
          "data": {
            "text/plain": [
              "(torch.Size([108, 4]),\n",
              " torch.Size([108]),\n",
              " torch.Size([12, 4]),\n",
              " torch.Size([12]),\n",
              " torch.Size([30, 4]),\n",
              " torch.Size([30]))"
            ]
          },
          "metadata": {},
          "execution_count": 10
        }
      ]
    },
    {
      "cell_type": "code",
      "source": [
        "train_set = TensorDataset(X_train, y_train)\n",
        "valid_set = TensorDataset(X_valid, y_valid)\n",
        "test_set = TensorDataset(X_test, y_test)"
      ],
      "metadata": {
        "colab": {
          "base_uri": "https://localhost:8080/",
          "height": 0
        },
        "id": "6-ObtWMFsE6q",
        "outputId": "e96b48ac-2c20-42fb-b74e-a7925bc00079"
      },
      "execution_count": 11,
      "outputs": [
        {
          "output_type": "display_data",
          "data": {
            "text/plain": [
              "<IPython.core.display.HTML object>"
            ],
            "text/html": [
              "<style>\n",
              "    body {\n",
              "      font-size: 30px;\n",
              "    }\n",
              "  "
            ]
          },
          "metadata": {}
        }
      ]
    },
    {
      "cell_type": "code",
      "source": [
        "train_loader = DataLoader(train_set, batch_size=10, shuffle=True)\n",
        "valid_loader = DataLoader(valid_set, batch_size=10)\n",
        "test_loader = DataLoader(test_set, batch_size=10)"
      ],
      "metadata": {
        "colab": {
          "base_uri": "https://localhost:8080/",
          "height": 0
        },
        "id": "LenzGWZWsOPi",
        "outputId": "43b4a9ca-fa41-4047-ce91-885cf7056819"
      },
      "execution_count": 12,
      "outputs": [
        {
          "output_type": "display_data",
          "data": {
            "text/plain": [
              "<IPython.core.display.HTML object>"
            ],
            "text/html": [
              "<style>\n",
              "    body {\n",
              "      font-size: 30px;\n",
              "    }\n",
              "  "
            ]
          },
          "metadata": {}
        }
      ]
    },
    {
      "cell_type": "code",
      "source": [
        "x_batch, y_batch = next(iter(train_loader))\n",
        "x_batch.shape, y_batch.shape"
      ],
      "metadata": {
        "colab": {
          "base_uri": "https://localhost:8080/",
          "height": 0
        },
        "id": "lXglVLU3tp_G",
        "outputId": "4cba9fb2-d7cc-417e-bcac-b6dca04166d3"
      },
      "execution_count": 13,
      "outputs": [
        {
          "output_type": "display_data",
          "data": {
            "text/plain": [
              "<IPython.core.display.HTML object>"
            ],
            "text/html": [
              "<style>\n",
              "    body {\n",
              "      font-size: 30px;\n",
              "    }\n",
              "  "
            ]
          },
          "metadata": {}
        },
        {
          "output_type": "execute_result",
          "data": {
            "text/plain": [
              "(torch.Size([10, 4]), torch.Size([10]))"
            ]
          },
          "metadata": {},
          "execution_count": 13
        }
      ]
    },
    {
      "cell_type": "code",
      "source": [
        "y_batch"
      ],
      "metadata": {
        "colab": {
          "base_uri": "https://localhost:8080/",
          "height": 0
        },
        "id": "w0_FFBTidFyZ",
        "outputId": "96300a3a-7a59-4217-8d01-63c4a4d8f4c1"
      },
      "execution_count": 14,
      "outputs": [
        {
          "output_type": "display_data",
          "data": {
            "text/plain": [
              "<IPython.core.display.HTML object>"
            ],
            "text/html": [
              "<style>\n",
              "    body {\n",
              "      font-size: 30px;\n",
              "    }\n",
              "  "
            ]
          },
          "metadata": {}
        },
        {
          "output_type": "execute_result",
          "data": {
            "text/plain": [
              "tensor([1, 1, 1, 1, 1, 2, 2, 2, 0, 0])"
            ]
          },
          "metadata": {},
          "execution_count": 14
        }
      ]
    },
    {
      "cell_type": "markdown",
      "metadata": {
        "tags": [],
        "id": "HX_M1Kwgboyd"
      },
      "source": [
        "## 🟥 **Step 2: Model**"
      ]
    },
    {
      "cell_type": "markdown",
      "source": [
        "### 🟧 **`nn.Linear()`**"
      ],
      "metadata": {
        "id": "WJ4hWyDyuqDc"
      }
    },
    {
      "cell_type": "code",
      "source": [
        "model = nn.Linear(num_features, num_classes)\n",
        "model"
      ],
      "metadata": {
        "colab": {
          "base_uri": "https://localhost:8080/",
          "height": 0
        },
        "id": "ndYIc8zVVYEy",
        "outputId": "c0258d19-a06e-4383-c8fa-f3caaafd8033"
      },
      "execution_count": 15,
      "outputs": [
        {
          "output_type": "display_data",
          "data": {
            "text/plain": [
              "<IPython.core.display.HTML object>"
            ],
            "text/html": [
              "<style>\n",
              "    body {\n",
              "      font-size: 30px;\n",
              "    }\n",
              "  "
            ]
          },
          "metadata": {}
        },
        {
          "output_type": "execute_result",
          "data": {
            "text/plain": [
              "Linear(in_features=4, out_features=3, bias=True)"
            ]
          },
          "metadata": {},
          "execution_count": 15
        }
      ]
    },
    {
      "cell_type": "code",
      "source": [
        "y_hat = model(x_batch)\n",
        "y_hat.shape"
      ],
      "metadata": {
        "colab": {
          "base_uri": "https://localhost:8080/",
          "height": 0
        },
        "id": "fDSwWO-CVaav",
        "outputId": "e26c1749-7cac-40f0-b48f-f9c9edc3b7e0"
      },
      "execution_count": 16,
      "outputs": [
        {
          "output_type": "display_data",
          "data": {
            "text/plain": [
              "<IPython.core.display.HTML object>"
            ],
            "text/html": [
              "<style>\n",
              "    body {\n",
              "      font-size: 30px;\n",
              "    }\n",
              "  "
            ]
          },
          "metadata": {}
        },
        {
          "output_type": "execute_result",
          "data": {
            "text/plain": [
              "torch.Size([10, 3])"
            ]
          },
          "metadata": {},
          "execution_count": 16
        }
      ]
    },
    {
      "cell_type": "code",
      "source": [
        "model.weight, model.bias"
      ],
      "metadata": {
        "colab": {
          "base_uri": "https://localhost:8080/",
          "height": 0
        },
        "id": "m9V2acs3VZCi",
        "outputId": "5b4341ca-7f6d-4b16-8eaa-e8929c2fb281"
      },
      "execution_count": 17,
      "outputs": [
        {
          "output_type": "display_data",
          "data": {
            "text/plain": [
              "<IPython.core.display.HTML object>"
            ],
            "text/html": [
              "<style>\n",
              "    body {\n",
              "      font-size: 30px;\n",
              "    }\n",
              "  "
            ]
          },
          "metadata": {}
        },
        {
          "output_type": "execute_result",
          "data": {
            "text/plain": [
              "(Parameter containing:\n",
              " tensor([[ 0.2985, -0.2027,  0.0424, -0.2748],\n",
              "         [ 0.2565,  0.1891, -0.0867, -0.4634],\n",
              "         [ 0.1593, -0.4196,  0.1537,  0.2970]], requires_grad=True),\n",
              " Parameter containing:\n",
              " tensor([-0.2139, -0.3437, -0.0708], requires_grad=True))"
            ]
          },
          "metadata": {},
          "execution_count": 17
        }
      ]
    },
    {
      "cell_type": "markdown",
      "source": [
        "### 🟧 **Softmax**"
      ],
      "metadata": {
        "id": "-kz6vr4NuxAC"
      }
    },
    {
      "cell_type": "code",
      "source": [
        "a = torch.tensor(\n",
        "    [[5, 2.5, 0.5],\n",
        "     [5, 2.5, 0.5]]\n",
        "     )\n",
        "torch.softmax(a, dim=1)"
      ],
      "metadata": {
        "colab": {
          "base_uri": "https://localhost:8080/",
          "height": 0
        },
        "id": "tKwaaLxSU28C",
        "outputId": "e95ab30f-fa1d-4b66-ec61-43bdf36da92b"
      },
      "execution_count": 18,
      "outputs": [
        {
          "output_type": "display_data",
          "data": {
            "text/plain": [
              "<IPython.core.display.HTML object>"
            ],
            "text/html": [
              "<style>\n",
              "    body {\n",
              "      font-size: 30px;\n",
              "    }\n",
              "  "
            ]
          },
          "metadata": {}
        },
        {
          "output_type": "execute_result",
          "data": {
            "text/plain": [
              "tensor([[0.9148, 0.0751, 0.0102],\n",
              "        [0.9148, 0.0751, 0.0102]])"
            ]
          },
          "metadata": {},
          "execution_count": 18
        }
      ]
    },
    {
      "cell_type": "code",
      "source": [
        "torch.softmax(y_hat, dim=1)"
      ],
      "metadata": {
        "colab": {
          "base_uri": "https://localhost:8080/",
          "height": 0
        },
        "id": "R3jVELISZ89L",
        "outputId": "36ca4279-9f25-4342-d95f-60d1fdecc78c"
      },
      "execution_count": 19,
      "outputs": [
        {
          "output_type": "display_data",
          "data": {
            "text/plain": [
              "<IPython.core.display.HTML object>"
            ],
            "text/html": [
              "<style>\n",
              "    body {\n",
              "      font-size: 30px;\n",
              "    }\n",
              "  "
            ]
          },
          "metadata": {}
        },
        {
          "output_type": "execute_result",
          "data": {
            "text/plain": [
              "tensor([[0.3229, 0.1579, 0.5192],\n",
              "        [0.3266, 0.2619, 0.4115],\n",
              "        [0.2791, 0.2196, 0.5013],\n",
              "        [0.3354, 0.2401, 0.4245],\n",
              "        [0.2852, 0.1439, 0.5709],\n",
              "        [0.2616, 0.1180, 0.6203],\n",
              "        [0.2528, 0.2053, 0.5419],\n",
              "        [0.2420, 0.1115, 0.6465],\n",
              "        [0.3004, 0.5390, 0.1606],\n",
              "        [0.2518, 0.6385, 0.1097]], grad_fn=<SoftmaxBackward0>)"
            ]
          },
          "metadata": {},
          "execution_count": 19
        }
      ]
    },
    {
      "cell_type": "markdown",
      "source": [
        "### 🟧 **Define Multiclass Model**"
      ],
      "metadata": {
        "id": "y6D1tpUqUw5Y"
      }
    },
    {
      "cell_type": "code",
      "source": [
        "model = nn.Linear(num_features, num_classes)\n",
        "y_hat = torch.softmax(model(x_batch), dim=1)\n",
        "y_hat"
      ],
      "metadata": {
        "colab": {
          "base_uri": "https://localhost:8080/",
          "height": 0
        },
        "id": "Lg6I_JO7ba61",
        "outputId": "e967f636-0198-4e87-c051-8d854bab99e9"
      },
      "execution_count": 20,
      "outputs": [
        {
          "output_type": "display_data",
          "data": {
            "text/plain": [
              "<IPython.core.display.HTML object>"
            ],
            "text/html": [
              "<style>\n",
              "    body {\n",
              "      font-size: 30px;\n",
              "    }\n",
              "  "
            ]
          },
          "metadata": {}
        },
        {
          "output_type": "execute_result",
          "data": {
            "text/plain": [
              "tensor([[0.2306, 0.4367, 0.3326],\n",
              "        [0.2716, 0.4737, 0.2547],\n",
              "        [0.3506, 0.3754, 0.2740],\n",
              "        [0.4177, 0.2720, 0.3103],\n",
              "        [0.3531, 0.3192, 0.3276],\n",
              "        [0.4235, 0.2193, 0.3573],\n",
              "        [0.6174, 0.1358, 0.2469],\n",
              "        [0.4443, 0.2093, 0.3464],\n",
              "        [0.1072, 0.7588, 0.1340],\n",
              "        [0.1100, 0.7872, 0.1027]], grad_fn=<SoftmaxBackward0>)"
            ]
          },
          "metadata": {},
          "execution_count": 20
        }
      ]
    },
    {
      "cell_type": "code",
      "source": [
        "model = nn.Sequential(\n",
        "    nn.Linear(num_features, num_classes),\n",
        "    nn.Softmax(dim=1)\n",
        "    )\n",
        "model"
      ],
      "metadata": {
        "colab": {
          "base_uri": "https://localhost:8080/",
          "height": 0
        },
        "id": "zgeys_CxbcvR",
        "outputId": "ada9ddbf-91e7-458e-a0eb-7bfd158148dc"
      },
      "execution_count": 21,
      "outputs": [
        {
          "output_type": "display_data",
          "data": {
            "text/plain": [
              "<IPython.core.display.HTML object>"
            ],
            "text/html": [
              "<style>\n",
              "    body {\n",
              "      font-size: 30px;\n",
              "    }\n",
              "  "
            ]
          },
          "metadata": {}
        },
        {
          "output_type": "execute_result",
          "data": {
            "text/plain": [
              "Sequential(\n",
              "  (0): Linear(in_features=4, out_features=3, bias=True)\n",
              "  (1): Softmax(dim=1)\n",
              ")"
            ]
          },
          "metadata": {},
          "execution_count": 21
        }
      ]
    },
    {
      "cell_type": "code",
      "source": [
        "model = nn.Linear(num_features, num_classes)\n",
        "model"
      ],
      "metadata": {
        "colab": {
          "base_uri": "https://localhost:8080/",
          "height": 0
        },
        "id": "CyaZZXtAbg3H",
        "outputId": "d41d32d0-ab24-43fd-ef83-afa2a596558c"
      },
      "execution_count": 22,
      "outputs": [
        {
          "output_type": "display_data",
          "data": {
            "text/plain": [
              "<IPython.core.display.HTML object>"
            ],
            "text/html": [
              "<style>\n",
              "    body {\n",
              "      font-size: 30px;\n",
              "    }\n",
              "  "
            ]
          },
          "metadata": {}
        },
        {
          "output_type": "execute_result",
          "data": {
            "text/plain": [
              "Linear(in_features=4, out_features=3, bias=True)"
            ]
          },
          "metadata": {},
          "execution_count": 22
        }
      ]
    },
    {
      "cell_type": "markdown",
      "metadata": {
        "tags": [],
        "id": "eJwX1uUo9s65"
      },
      "source": [
        "## 🟥 **Step 3: Loss**"
      ]
    },
    {
      "cell_type": "code",
      "source": [
        "loss_fn = nn.CrossEntropyLoss()\n",
        "loss_fn"
      ],
      "metadata": {
        "colab": {
          "base_uri": "https://localhost:8080/",
          "height": 0
        },
        "id": "y-SR3AZAzsy4",
        "outputId": "7e40c440-a150-4975-a415-029ec9098913"
      },
      "execution_count": 23,
      "outputs": [
        {
          "output_type": "display_data",
          "data": {
            "text/plain": [
              "<IPython.core.display.HTML object>"
            ],
            "text/html": [
              "<style>\n",
              "    body {\n",
              "      font-size: 30px;\n",
              "    }\n",
              "  "
            ]
          },
          "metadata": {}
        },
        {
          "output_type": "execute_result",
          "data": {
            "text/plain": [
              "CrossEntropyLoss()"
            ]
          },
          "metadata": {},
          "execution_count": 23
        }
      ]
    },
    {
      "cell_type": "code",
      "source": [
        "y_batch"
      ],
      "metadata": {
        "colab": {
          "base_uri": "https://localhost:8080/",
          "height": 0
        },
        "id": "DPHzrUINcvan",
        "outputId": "105bf46e-735e-4bb4-ebfa-0589b433d06c"
      },
      "execution_count": 24,
      "outputs": [
        {
          "output_type": "display_data",
          "data": {
            "text/plain": [
              "<IPython.core.display.HTML object>"
            ],
            "text/html": [
              "<style>\n",
              "    body {\n",
              "      font-size: 30px;\n",
              "    }\n",
              "  "
            ]
          },
          "metadata": {}
        },
        {
          "output_type": "execute_result",
          "data": {
            "text/plain": [
              "tensor([1, 1, 1, 1, 1, 2, 2, 2, 0, 0])"
            ]
          },
          "metadata": {},
          "execution_count": 24
        }
      ]
    },
    {
      "cell_type": "code",
      "source": [
        "loss_fn(y_hat, y_batch)"
      ],
      "metadata": {
        "colab": {
          "base_uri": "https://localhost:8080/",
          "height": 0
        },
        "id": "jmQv_8wu0HUJ",
        "outputId": "6e0ce6a4-15d5-4248-a581-3e69aae82663"
      },
      "execution_count": 25,
      "outputs": [
        {
          "output_type": "display_data",
          "data": {
            "text/plain": [
              "<IPython.core.display.HTML object>"
            ],
            "text/html": [
              "<style>\n",
              "    body {\n",
              "      font-size: 30px;\n",
              "    }\n",
              "  "
            ]
          },
          "metadata": {}
        },
        {
          "output_type": "execute_result",
          "data": {
            "text/plain": [
              "tensor(1.1419, grad_fn=<NllLossBackward0>)"
            ]
          },
          "metadata": {},
          "execution_count": 25
        }
      ]
    },
    {
      "cell_type": "markdown",
      "metadata": {
        "tags": [],
        "id": "ogv19AK90GHQ"
      },
      "source": [
        "## 🟥 **Step 4: Optimizer**"
      ]
    },
    {
      "cell_type": "code",
      "source": [
        "optimizer = SGD(model.parameters(), lr=0.1, momentum=0.9)\n",
        "optimizer"
      ],
      "metadata": {
        "colab": {
          "base_uri": "https://localhost:8080/",
          "height": 0
        },
        "id": "RLe7lHV20Fcf",
        "outputId": "a7def2a8-08ff-419a-f89e-8ec7a14be5d2"
      },
      "execution_count": 26,
      "outputs": [
        {
          "output_type": "display_data",
          "data": {
            "text/plain": [
              "<IPython.core.display.HTML object>"
            ],
            "text/html": [
              "<style>\n",
              "    body {\n",
              "      font-size: 30px;\n",
              "    }\n",
              "  "
            ]
          },
          "metadata": {}
        },
        {
          "output_type": "execute_result",
          "data": {
            "text/plain": [
              "SGD (\n",
              "Parameter Group 0\n",
              "    dampening: 0\n",
              "    differentiable: False\n",
              "    foreach: None\n",
              "    fused: None\n",
              "    lr: 0.1\n",
              "    maximize: False\n",
              "    momentum: 0.9\n",
              "    nesterov: False\n",
              "    weight_decay: 0\n",
              ")"
            ]
          },
          "metadata": {},
          "execution_count": 26
        }
      ]
    },
    {
      "cell_type": "markdown",
      "metadata": {
        "tags": [],
        "id": "jw1VwE7d97gD"
      },
      "source": [
        "## 🟥 **Step 5: Train**"
      ]
    },
    {
      "cell_type": "code",
      "source": [
        "y_hat.argmax(dim=1), y_batch"
      ],
      "metadata": {
        "colab": {
          "base_uri": "https://localhost:8080/",
          "height": 91
        },
        "id": "qoTZFYGKeXPR",
        "outputId": "b019ef04-6be4-4b62-da3c-92901d1cc023"
      },
      "execution_count": 34,
      "outputs": [
        {
          "output_type": "display_data",
          "data": {
            "text/plain": [
              "<IPython.core.display.HTML object>"
            ],
            "text/html": [
              "<style>\n",
              "    body {\n",
              "      font-size: 30px;\n",
              "    }\n",
              "  "
            ]
          },
          "metadata": {}
        },
        {
          "output_type": "execute_result",
          "data": {
            "text/plain": [
              "(tensor([2, 2, 2, 0, 0, 1, 1, 0, 1, 1]),\n",
              " tensor([2, 2, 2, 0, 0, 1, 1, 0, 1, 1]))"
            ]
          },
          "metadata": {},
          "execution_count": 34
        }
      ]
    },
    {
      "cell_type": "code",
      "source": [
        "n_epochs = 10\n",
        "loss_train_hist, loss_valid_hist = [], []\n",
        "acc_train_hist, acc_valid_hist = [], []\n",
        "best_loss_valid = 10000"
      ],
      "metadata": {
        "colab": {
          "base_uri": "https://localhost:8080/",
          "height": 17
        },
        "id": "fWv_KWBg6XIr",
        "outputId": "c8d328cc-f0a3-4093-b7bc-1297b2674d1c"
      },
      "execution_count": 35,
      "outputs": [
        {
          "output_type": "display_data",
          "data": {
            "text/plain": [
              "<IPython.core.display.HTML object>"
            ],
            "text/html": [
              "<style>\n",
              "    body {\n",
              "      font-size: 30px;\n",
              "    }\n",
              "  "
            ]
          },
          "metadata": {}
        }
      ]
    },
    {
      "cell_type": "code",
      "source": [
        "for epoch in range(n_epochs):\n",
        "\n",
        "  mean_loss_train, mean_loss_valid = 0, 0\n",
        "  mean_acc_train, mean_acc_valid = 0, 0\n",
        "\n",
        "  for x_batch, y_batch in train_loader:\n",
        "\n",
        "    # model\n",
        "    y_hat = model(x_batch)\n",
        "\n",
        "    # loss\n",
        "    loss = loss_fn(y_hat, y_batch)\n",
        "\n",
        "    # gradient\n",
        "    loss.backward()\n",
        "\n",
        "    # update\n",
        "    optimizer.step()\n",
        "    optimizer.zero_grad()\n",
        "\n",
        "    mean_loss_train += loss.item() * len(x_batch)\n",
        "    mean_acc_train += torch.sum(y_hat.argmax(dim=1) == y_batch).item()\n",
        "\n",
        "  mean_loss_train = mean_loss_train / len(train_set)\n",
        "  mean_acc_train = mean_acc_train / len(train_set)\n",
        "\n",
        "  loss_train_hist.append(mean_loss_train)\n",
        "  acc_train_hist.append(mean_acc_train)\n",
        "\n",
        "\n",
        "  with torch.no_grad():\n",
        "    for x_batch, y_batch in valid_loader:\n",
        "      y_hat = model(x_batch)\n",
        "      loss = loss_fn(y_hat, y_batch)\n",
        "      mean_loss_valid += loss.item() * len(x_batch)\n",
        "      mean_acc_valid += torch.sum(y_hat.argmax(dim=1) == y_batch).item()\n",
        "\n",
        "    mean_loss_valid = mean_loss_valid / len(valid_set)\n",
        "    mean_acc_valid = mean_acc_valid / len(valid_set)\n",
        "\n",
        "    loss_valid_hist.append(mean_loss_valid)\n",
        "    acc_valid_hist.append(mean_acc_valid)\n",
        "\n",
        "  print(\n",
        "  f\"Epoch: {epoch}   \"\n",
        "  f\"LossTrain: {mean_loss_train:.2}   \"\n",
        "  f\"AccTrain: {mean_acc_train:.2}   \"\n",
        "  f\"LossValid: {mean_loss_valid:.2}   \"\n",
        "  f\"AccValid: {mean_acc_valid:.2}\"\n",
        "  )\n",
        "\n",
        "  if mean_loss_valid < best_loss_valid:\n",
        "    torch.save(model, \"best-model.pt\")\n",
        "    best_loss_valid = mean_loss_valid\n",
        "    print(\"Model Saved!\")\n",
        "    print()"
      ],
      "metadata": {
        "colab": {
          "base_uri": "https://localhost:8080/",
          "height": 612
        },
        "id": "fPYOBz_O5J66",
        "outputId": "f09c623c-cbc6-48e8-8ec9-2ee1b24f3cf2"
      },
      "execution_count": 36,
      "outputs": [
        {
          "output_type": "display_data",
          "data": {
            "text/plain": [
              "<IPython.core.display.HTML object>"
            ],
            "text/html": [
              "<style>\n",
              "    body {\n",
              "      font-size: 30px;\n",
              "    }\n",
              "  "
            ]
          },
          "metadata": {}
        },
        {
          "output_type": "stream",
          "name": "stdout",
          "text": [
            "Epoch: 0   LossTrain: 0.11   AccTrain: 0.96   LossValid: 0.09   AccValid: 1.0\n",
            "Model Saved!\n",
            "\n",
            "Epoch: 1   LossTrain: 0.11   AccTrain: 0.95   LossValid: 0.11   AccValid: 1.0\n",
            "Epoch: 2   LossTrain: 0.11   AccTrain: 0.96   LossValid: 0.092   AccValid: 1.0\n",
            "Epoch: 3   LossTrain: 0.1   AccTrain: 0.97   LossValid: 0.077   AccValid: 1.0\n",
            "Model Saved!\n",
            "\n",
            "Epoch: 4   LossTrain: 0.11   AccTrain: 0.95   LossValid: 0.11   AccValid: 0.92\n",
            "Epoch: 5   LossTrain: 0.099   AccTrain: 0.96   LossValid: 0.078   AccValid: 1.0\n",
            "Epoch: 6   LossTrain: 0.099   AccTrain: 0.96   LossValid: 0.088   AccValid: 1.0\n",
            "Epoch: 7   LossTrain: 0.095   AccTrain: 0.95   LossValid: 0.08   AccValid: 1.0\n",
            "Epoch: 8   LossTrain: 0.095   AccTrain: 0.95   LossValid: 0.088   AccValid: 1.0\n",
            "Epoch: 9   LossTrain: 0.091   AccTrain: 0.96   LossValid: 0.077   AccValid: 1.0\n",
            "Model Saved!\n",
            "\n"
          ]
        }
      ]
    },
    {
      "cell_type": "code",
      "source": [
        "plt.plot(torch.arange(n_epochs), loss_train_hist)\n",
        "plt.plot(torch.arange(n_epochs), loss_valid_hist)\n",
        "plt.legend([\"Train\", \"Valid\"]);"
      ],
      "metadata": {
        "colab": {
          "base_uri": "https://localhost:8080/",
          "height": 430
        },
        "id": "fBpJWv2eIeBD",
        "outputId": "a9b9758f-9955-427c-a491-8a08e5d68c27"
      },
      "execution_count": 37,
      "outputs": [
        {
          "output_type": "display_data",
          "data": {
            "text/plain": [
              "<IPython.core.display.HTML object>"
            ],
            "text/html": [
              "<style>\n",
              "    body {\n",
              "      font-size: 30px;\n",
              "    }\n",
              "  "
            ]
          },
          "metadata": {}
        },
        {
          "output_type": "display_data",
          "data": {
            "text/plain": [
              "<Figure size 640x480 with 1 Axes>"
            ],
            "image/png": "[encoded data removed]"
          },
          "metadata": {}
        }
      ]
    },
    {
      "cell_type": "code",
      "source": [
        "plt.plot(torch.arange(n_epochs), acc_train_hist)\n",
        "plt.plot(torch.arange(n_epochs), acc_valid_hist)\n",
        "plt.legend([\"Train\", \"Valid\"]);"
      ],
      "metadata": {
        "colab": {
          "base_uri": "https://localhost:8080/",
          "height": 430
        },
        "id": "2Y-gTcgyIzCr",
        "outputId": "4203c78c-52e6-44c4-9168-63909fdef527"
      },
      "execution_count": 38,
      "outputs": [
        {
          "output_type": "display_data",
          "data": {
            "text/plain": [
              "<IPython.core.display.HTML object>"
            ],
            "text/html": [
              "<style>\n",
              "    body {\n",
              "      font-size: 30px;\n",
              "    }\n",
              "  "
            ]
          },
          "metadata": {}
        },
        {
          "output_type": "display_data",
          "data": {
            "text/plain": [
              "<Figure size 640x480 with 1 Axes>"
            ],
            "image/png": "[encoded data removed]"
          },
          "metadata": {}
        }
      ]
    },
    {
      "cell_type": "markdown",
      "metadata": {
        "tags": [],
        "id": "VkNBA0NvhVTU"
      },
      "source": [
        "## 🟥 **Test**"
      ]
    },
    {
      "cell_type": "code",
      "source": [
        "model = torch.load(\"best-model.pt\")"
      ],
      "metadata": {
        "colab": {
          "base_uri": "https://localhost:8080/",
          "height": 17
        },
        "id": "zbZArNUQ-2Qv",
        "outputId": "ab123042-6b41-4439-d10d-634b252d2294"
      },
      "execution_count": 40,
      "outputs": [
        {
          "output_type": "display_data",
          "data": {
            "text/plain": [
              "<IPython.core.display.HTML object>"
            ],
            "text/html": [
              "<style>\n",
              "    body {\n",
              "      font-size: 30px;\n",
              "    }\n",
              "  "
            ]
          },
          "metadata": {}
        }
      ]
    },
    {
      "cell_type": "code",
      "source": [
        "mean_acc_test = 0\n",
        "\n",
        "with torch.no_grad():\n",
        "  for x_batch, y_batch in test_loader:\n",
        "    y_hat = model(x_batch)\n",
        "    mean_acc_test += torch.sum(y_hat.argmax(dim=1) == y_batch).item()\n",
        "  mean_acc_test = mean_acc_test / len(test_set)\n",
        "\n",
        "mean_acc_test"
      ],
      "metadata": {
        "colab": {
          "base_uri": "https://localhost:8080/",
          "height": 54
        },
        "id": "KDZi8N0q-bCf",
        "outputId": "4660cceb-a128-41c1-e4d5-246ff4feb953"
      },
      "execution_count": 41,
      "outputs": [
        {
          "output_type": "display_data",
          "data": {
            "text/plain": [
              "<IPython.core.display.HTML object>"
            ],
            "text/html": [
              "<style>\n",
              "    body {\n",
              "      font-size: 30px;\n",
              "    }\n",
              "  "
            ]
          },
          "metadata": {}
        },
        {
          "output_type": "execute_result",
          "data": {
            "text/plain": [
              "1.0"
            ]
          },
          "metadata": {},
          "execution_count": 41
        }
      ]
    },
    {
      "cell_type": "markdown",
      "metadata": {
        "tags": [],
        "id": "lIWkjpuGUmUN"
      },
      "source": [
        "## 🟪 **Exercise: Fetal Health Classification**"
      ]
    },
    {
      "cell_type": "markdown",
      "source": [
        "https://www.kaggle.com/datasets/andrewmvd/fetal-health-classification/code?datasetId=916586"
      ],
      "metadata": {
        "id": "v6KemLSSUtjF"
      }
    },
    {
      "cell_type": "markdown",
      "source": [
        "**Classify fetal health in order to prevent child and maternal mortality.**\n",
        "\n",
        "Reduction of child mortality is reflected in several of the United Nations' Sustainable Development Goals and is a key indicator of human progress.\n",
        "The UN expects that by 2030, countries end preventable deaths of newborns and children under 5 years of age, with all countries aiming to reduce under‑5 mortality to at least as low as 25 per 1,000 live births.\n",
        "\n",
        "Parallel to notion of child mortality is of course maternal mortality, which accounts for **295 000 deaths** during and following pregnancy and childbirth (as of 2017). The vast majority of these deaths (**94%**) occurred in low-resource settings, and most **could have been prevented**.\n",
        "\n",
        "In light of what was mentioned above, **Cardiotocograms (CTGs)** are a simple and cost accessible option to assess fetal health, allowing healthcare professionals to take action in order to prevent child and maternal mortality. The equipment itself works by sending ultrasound pulses and reading its response, thus shedding light on fetal heart rate (FHR), fetal movements, uterine contractions and more.\n",
        "\n",
        "This dataset contains **2126** records of features extracted from Cardiotocogram exams, which were then classified by three expert obstetritians into **3 classes**:\n",
        "\n",
        "* Normal\n",
        "* Suspect\n",
        "* Pathological"
      ],
      "metadata": {
        "id": "CLUHEYf-UvnT"
      }
    }
  ]
}