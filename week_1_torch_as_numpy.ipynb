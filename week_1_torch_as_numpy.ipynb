{
  "nbformat": 4,
  "nbformat_minor": 0,
  "metadata": {
    "colab": {
      "provenance": [],
      "collapsed_sections": [
        "Yr3bfpgyoD_c",
        "2Uo3zoOHboyX",
        "GR24qEHXboyT",
        "HX_M1Kwgboyd",
        "JrhCbz5oboyf",
        "b7DtHM5oqCzw",
        "bG7uplWlgovb",
        "KSdkQgF7gsAZ",
        "CYCBCIq7hQ96",
        "N4DAl5nLboyl",
        "TmZq_FH3Xivq",
        "pPnZg2QPboym",
        "-aF6GCjaboyn",
        "qSi8ygo7boyu",
        "2QPPeal9boyu",
        "LMEhIoXuboyu",
        "dkdvXQJ-boyv",
        "PTDl4xoWboyv",
        "84TeHYTsboyw",
        "Ytsv4RCMboyx",
        "KyPorUcpboyy",
        "QZBMpTXhboyy",
        "0dpRzDaOboyy",
        "JN4FAycxboyz",
        "vGW_30kPboy0",
        "7L4raiOAboy1",
        "Zlx9cHUyboy2",
        "_DKdbol8boy2",
        "eV5p6ql6lC5T",
        "2-OsXu8Iboy4",
        "aky5RTWLkHJ-",
        "klOdbvNMIpIf",
        "xCPvIQ0Nboy5",
        "LOy44fH5boy6",
        "6HVK-iI0boy6",
        "W3Ee_GzXboy6",
        "6uYor12pboy7",
        "jLjI8U-CnYus",
        "TL16xTwHnf5Q",
        "zAd0fbR-boy9",
        "1bniMl5On39T",
        "mjrsxnT_n9qt",
        "yq2a2w9Kboy-",
        "R4xI_JJGboy_",
        "wvutjpiMmJgm",
        "cIts3NiYo5v9",
        "1QXtRPQRpLil",
        "nzMU-yeQpOmq",
        "vccy5ipJp96M",
        "AXc3pMHoq5nE",
        "xEODsATtq8B1",
        "CMrxWMpQq_BF",
        "yFu1p-IvrENF",
        "ezNzhTpNrHeN",
        "TFSHVbuAmmY-",
        "Q0sJqcqurPaX",
        "f3HN3CarrQOS",
        "7ePgKtnjrVcb",
        "IB4qnlQGrXsJ",
        "neJ6icCdm0RV",
        "B1ZzjQcYrdOm",
        "sJYEm0DYrfHN",
        "vv7C4pbErhgZ",
        "U3glMa17rjJq",
        "2QcpbYV6bozJ",
        "xUtxCw0_bozJ",
        "kvdt_5JLbozK",
        "1mDarQCabozK",
        "YwrOiVzVbozK",
        "S6XjSqbZbozL",
        "GKhA4qkAbozL",
        "DXHitV-2bozM",
        "wfqBOfr_3W6x",
        "YSRqbr29vkED",
        "aTIidY7-bozO",
        "JDwa1MREbozO",
        "U-w_2TBZbozP",
        "7SowXP4ybozP",
        "2MIh1qLGbozV",
        "49Fn7LPbbozX",
        "qkaNGCabbozY",
        "2xHx6jOZbozZ",
        "AKkoElAF67C6",
        "uTO09awubozb",
        "KvthHwi0bozb",
        "a-W8xd9Obozd",
        "ZoAYO3p2boze",
        "KOx_sZG6bozf",
        "X4QycWJ3bozg",
        "d8ZqYYpCbozh",
        "O2CwXaFAbozh",
        "dDt2R0vRbozi",
        "-ZTssdyebozj",
        "Ami0FpfDbozk",
        "rKxunf3jbozk",
        "KeD_IFIabozl",
        "daGAD4aYbozm",
        "3NtczZOabozm",
        "6UVlS4h2bozn",
        "33uvpu0xbozo",
        "SfHqjwL4bozo",
        "c_-SOAP7bozp",
        "p5NFjGUmbozp",
        "N4dI9WuVbozq",
        "KEDGHR-Lbozq",
        "UjKA40zEbozq",
        "mt_4XXf6bozr",
        "dste1he0bozs",
        "skvWIWo_bozs",
        "ttI2OqmObozt",
        "iix8VB4c7Czb",
        "srI-iDkU8j_4",
        "YRH-C8Zr8o7J"
      ],
      "authorship_tag": "ABX9TyO54O5tvL6ZN1st3EXpcc6o",
      "include_colab_link": true
    },
    "kernelspec": {
      "name": "python3",
      "display_name": "Python 3"
    },
    "language_info": {
      "name": "python"
    }
  },
  "cells": [
    {
      "cell_type": "markdown",
      "metadata": {
        "id": "view-in-github",
        "colab_type": "text"
      },
      "source": [
        "<a href=\"https://colab.research.google.com/github/howsam/pytorch-course-free/blob/main/week_1_torch_as_numpy.ipynb\" target=\"_parent\"><img src=\"https://colab.research.google.com/assets/colab-badge.svg\" alt=\"Open In Colab\"/></a>"
      ]
    },
    {
      "cell_type": "markdown",
      "metadata": {
        "id": "j33aYo98boyK"
      },
      "source": [
        "#  <font color='#FFE15D'><b>💎 Week 1: torch as numpy</b></font>\n",
        "### Pytorch Free Course [webpage](https://howsam.org/downloads/pytorch-courset/)\n",
        "\n",
        "### Source Codes on Github [pytorch-course-free](https://github.com/howsam/pytorch-course-free.git)\n",
        "\n",
        "### by Howsam AI Academy www.howsam.org\n"
      ]
    },
    {
      "cell_type": "markdown",
      "source": [
        "## 🟪 **Increasing the output font size in Colab cells**"
      ],
      "metadata": {
        "id": "Yr3bfpgyoD_c"
      }
    },
    {
      "cell_type": "code",
      "source": [
        "from IPython.display import HTML\n",
        "shell = get_ipython()\n",
        "\n",
        "def adjust_font_size():\n",
        "  display(HTML('''<style>\n",
        "    body {\n",
        "      font-size: 30px;\n",
        "    }\n",
        "  '''))\n",
        "\n",
        "if adjust_font_size not in shell.events.callbacks['pre_execute']:\n",
        "  shell.events.register('pre_execute', adjust_font_size)"
      ],
      "metadata": {
        "id": "V5KCx1Cqmiya"
      },
      "execution_count": null,
      "outputs": []
    },
    {
      "cell_type": "code",
      "source": [
        "a = 3\n",
        "a"
      ],
      "metadata": {
        "colab": {
          "base_uri": "https://localhost:8080/"
        },
        "id": "reSgRYEYqGHZ",
        "outputId": "e288ef85-faa1-4472-ece0-a2884f2640aa"
      },
      "execution_count": null,
      "outputs": [
        {
          "output_type": "display_data",
          "data": {
            "text/plain": [
              "<IPython.core.display.HTML object>"
            ],
            "text/html": [
              "<style> \n",
              "    body {\n",
              "      font-size: 30px;\n",
              "    }\n",
              "  "
            ]
          },
          "metadata": {}
        },
        {
          "output_type": "execute_result",
          "data": {
            "text/plain": [
              "3"
            ]
          },
          "metadata": {},
          "execution_count": 2
        }
      ]
    },
    {
      "cell_type": "markdown",
      "metadata": {
        "jp-MarkdownHeadingCollapsed": true,
        "tags": [],
        "id": "2Uo3zoOHboyX"
      },
      "source": [
        "## 🟥 **Section 1: `import torch`**"
      ]
    },
    {
      "cell_type": "code",
      "source": [
        "import numpy as np\n",
        "import matplotlib.pyplot as plt\n",
        "\n",
        "import torch"
      ],
      "metadata": {
        "colab": {
          "base_uri": "https://localhost:8080/",
          "height": 17
        },
        "id": "_mktTy36oYm1",
        "outputId": "efe41f8b-bcc6-4fa6-8070-b687804e885c"
      },
      "execution_count": null,
      "outputs": [
        {
          "output_type": "display_data",
          "data": {
            "text/plain": [
              "<IPython.core.display.HTML object>"
            ],
            "text/html": [
              "<style> \n",
              "    body {\n",
              "      font-size: 30px;\n",
              "    }\n",
              "  "
            ]
          },
          "metadata": {}
        }
      ]
    },
    {
      "cell_type": "code",
      "source": [
        "torch.__version__"
      ],
      "metadata": {
        "colab": {
          "base_uri": "https://localhost:8080/",
          "height": 54
        },
        "id": "SaLIYWTmoZqD",
        "outputId": "9cf0db44-54a2-45a6-aa15-20aa3d592116"
      },
      "execution_count": null,
      "outputs": [
        {
          "output_type": "display_data",
          "data": {
            "text/plain": [
              "<IPython.core.display.HTML object>"
            ],
            "text/html": [
              "<style> \n",
              "    body {\n",
              "      font-size: 30px;\n",
              "    }\n",
              "  "
            ]
          },
          "metadata": {}
        },
        {
          "output_type": "execute_result",
          "data": {
            "text/plain": [
              "'2.3.0+cu121'"
            ],
            "application/vnd.google.colaboratory.intrinsic+json": {
              "type": "string"
            }
          },
          "metadata": {},
          "execution_count": 4
        }
      ]
    },
    {
      "cell_type": "markdown",
      "metadata": {
        "tags": [],
        "id": "GR24qEHXboyT"
      },
      "source": [
        "## 🟥 **Section 2: What is Pytorch?**"
      ]
    },
    {
      "cell_type": "markdown",
      "metadata": {
        "id": "w0LLMGKzboyV"
      },
      "source": [
        "PyTorch is a python package that provides two high-level features:\n",
        "\n",
        "\n",
        "*   Tensor computation (like numpy) with strong GPU acceleration\n",
        "*   Deep Neural Networks built on a tape-based autograd system\n",
        "\n",
        "You can reuse your favorite python packages such as numpy, scipy and Cython to\n",
        "extend PyTorch when needed."
      ]
    },
    {
      "cell_type": "markdown",
      "metadata": {
        "tags": [],
        "id": "HX_M1Kwgboyd"
      },
      "source": [
        "## 🟥 **Section 3: Tensor**"
      ]
    },
    {
      "cell_type": "code",
      "source": [
        "torch.tensor()"
      ],
      "metadata": {
        "id": "BdIqkaJ6khIf"
      },
      "execution_count": null,
      "outputs": []
    },
    {
      "cell_type": "markdown",
      "metadata": {
        "jp-MarkdownHeadingCollapsed": true,
        "tags": [],
        "id": "JrhCbz5oboyf"
      },
      "source": [
        "### 🟧 **Scalar**"
      ]
    },
    {
      "cell_type": "code",
      "source": [
        "torch.tensor(4/3)"
      ],
      "metadata": {
        "colab": {
          "base_uri": "https://localhost:8080/",
          "height": 54
        },
        "id": "u5AhSmxzmSL5",
        "outputId": "c90ae05f-5270-40ab-9e27-4762fe77f22c"
      },
      "execution_count": null,
      "outputs": [
        {
          "output_type": "display_data",
          "data": {
            "text/plain": [
              "<IPython.core.display.HTML object>"
            ],
            "text/html": [
              "<style> \n",
              "    body {\n",
              "      font-size: 30px;\n",
              "    }\n",
              "  "
            ]
          },
          "metadata": {}
        },
        {
          "output_type": "execute_result",
          "data": {
            "text/plain": [
              "tensor(1.3333)"
            ]
          },
          "metadata": {},
          "execution_count": 7
        }
      ]
    },
    {
      "cell_type": "markdown",
      "metadata": {
        "id": "b7DtHM5oqCzw",
        "jp-MarkdownHeadingCollapsed": true,
        "tags": []
      },
      "source": [
        "### 🟧 **Vector**"
      ]
    },
    {
      "cell_type": "markdown",
      "metadata": {
        "id": "JP1YoNQNboyi"
      },
      "source": [
        "<img src=\"data:image/png;base64,iVBORw0KGgoAAAANSUhEUgAAAUEAAAA2CAMAAABugNvOAAAAAXNSR0IArs4c6QAAAARnQU1BAACxjwv8YQUAAAAVUExURQAAAACw8HAwoHCtR/F9If8AAP/AAIALjWEAAAABdFJOUwBA5thmAAAACXBIWXMAABcRAAAXEQHKJvM/AAAA+0lEQVR4Xu3QsXECQADEwAdj+i8ZAs34Ur1TbQl7zvPG68bjyvvGz43fG6fBP5w4DQ5OnAYHJ06DgxOnwcGJ0+DgxGlwcOI0ODhxGhycOA0OTpwGBydOg4MTp8HBidPg4MRpcHDiNDg4cRocnDgNDk6cBgcnToODE6fBwYnT4ODEaXBw4jQ4OHEaHJw4DQ5OnAYHJ06DgxOnwcGJ0+DgxGlwcOI0ODhxGhycOA0OTpwGBydOg4MTp8HBidPg4MRpcHDiNDg4cRocnDgNDk6cBgcnToODE6fBwYnT4ODEaXBw4jQ4OHEaHJw4DQ5OnAYHJ06DgxPnO5j/OOcDLkzmoyFh8JIAAAAASUVORK5CYII=\" style=\"width: 150px; height: auto;\">"
      ]
    },
    {
      "cell_type": "code",
      "execution_count": null,
      "metadata": {
        "id": "E2RcRcU8qBTc",
        "colab": {
          "base_uri": "https://localhost:8080/",
          "height": 54
        },
        "outputId": "eac25ebf-c8dc-460c-f09c-f23c2a7f1f30"
      },
      "outputs": [
        {
          "output_type": "display_data",
          "data": {
            "text/plain": [
              "<IPython.core.display.HTML object>"
            ],
            "text/html": [
              "<style> \n",
              "    body {\n",
              "      font-size: 30px;\n",
              "    }\n",
              "  "
            ]
          },
          "metadata": {}
        },
        {
          "output_type": "execute_result",
          "data": {
            "text/plain": [
              "tensor([1.0000, 2.0000, 3.4000])"
            ]
          },
          "metadata": {},
          "execution_count": 10
        }
      ],
      "source": [
        "torch.tensor([1, 2, 3.4])"
      ]
    },
    {
      "cell_type": "markdown",
      "metadata": {
        "jp-MarkdownHeadingCollapsed": true,
        "tags": [],
        "id": "bG7uplWlgovb"
      },
      "source": [
        "### 🟧 **Matrix**"
      ]
    },
    {
      "cell_type": "markdown",
      "metadata": {
        "id": "9q3fsEyEboyj"
      },
      "source": [
        "<img src=\"data:image/png;base64,iVBORw0KGgoAAAANSUhEUgAAAQgAAADcCAMAAAC78M9AAAAAAXNSR0IArs4c6QAAAARnQU1BAACxjwv8YQUAAAA5UExURQAAAAAAAAAA/wAgYACLkQCwUACw8BRNUzhXI3AwoHCtR5LQUMyZAN8sPfF9IfPE/f8AAP8A///AAPXRxBMAAAABdFJOUwBA5thmAAAACXBIWXMAABcRAAAXEQHKJvM/AAABzklEQVR4Xu3cQU4YMAwAQVNKC4UWyv8fi5DmAfZ9557I2lytzLzs/Tv4dfB88Ofg46AQFIJCUAgKQSEoBIWgEBSCQlAICkEhKASFoBAUgkJQCApBISgEhaAQFIJCUAgKQSEoBIWgEBSCQlAICkEhKASFoBAUgkIwY5iNnwd/Dz4PXL/iTVYKQSEoBIWgEBSCQlAICkEhKASFoBAUgkJQCApBISgEhaAQFIJCUAgKQSEoBIWgEBSCQlAICkEhKASFoBAUgkJQCApBISgEMz/2nFn5fWDnfeX14P2gEBSCQlAICkEhKASFoBAUgkJQCApBISgEhaAQFIJCUAgKQSEoBIWgEBSCQlAICkEhKASFoBAUgkJQCApBISgEhaAQFIJCMPO093ig3cr/A/95r3iTlUJQCApBISgEhaAQFIJCUAgKQSEoBIWgEBSCQlAICkEhKASFoBAUgkJQCApBISgEhaAQFIJCUAgKQSEoBIWgEBSCQlAICsGMT7o37IWvvB2YZeXhwM77SiEoBIWgEBSCQlAICkEhKASFoBAUgkJQCApBISgEhaAQFIJCUAgKQSEoBIWgEBSCQlAICkEhKASFoBAUgkJQCApBISgEk28zX4vYmLKVVy0+AAAAAElFTkSuQmCC\" style=\"width: 150px; height: auto;\">"
      ]
    },
    {
      "cell_type": "code",
      "execution_count": null,
      "metadata": {
        "id": "XFB2Q2mVqOoq",
        "colab": {
          "base_uri": "https://localhost:8080/",
          "height": 129
        },
        "outputId": "3d3bc4d5-889a-4f4f-c7e7-48e6c60b3301"
      },
      "outputs": [
        {
          "output_type": "display_data",
          "data": {
            "text/plain": [
              "<IPython.core.display.HTML object>"
            ],
            "text/html": [
              "<style> \n",
              "    body {\n",
              "      font-size: 30px;\n",
              "    }\n",
              "  "
            ]
          },
          "metadata": {}
        },
        {
          "output_type": "execute_result",
          "data": {
            "text/plain": [
              "tensor([[1, 2, 3],\n",
              "        [4, 5, 6],\n",
              "        [7, 8, 9]])"
            ]
          },
          "metadata": {},
          "execution_count": 14
        }
      ],
      "source": [
        "a = torch.tensor(\n",
        "    [[1, 2, 3],\n",
        "     [4, 5, 6],\n",
        "     [7, 8, 9]]\n",
        ")\n",
        "a"
      ]
    },
    {
      "cell_type": "markdown",
      "metadata": {
        "jp-MarkdownHeadingCollapsed": true,
        "tags": [],
        "id": "KSdkQgF7gsAZ"
      },
      "source": [
        "### 🟧 **Column vector**"
      ]
    },
    {
      "cell_type": "markdown",
      "metadata": {
        "id": "e9fQ43c_boyj"
      },
      "source": [
        "<img src=\"data:image/png;base64,iVBORw0KGgoAAAANSUhEUgAAADMAAADJCAMAAAC5dvpnAAAAAXNSR0IArs4c6QAAAARnQU1BAACxjwv8YQUAAAAPUExURQAAAACw8HCtR/8AAP/AANEoJ4cAAAABdFJOUwBA5thmAAAACXBIWXMAABcRAAAXEQHKJvM/AAAAT0lEQVRoQ+3LuQ3AMAwAMefZf+bgRpCrwCB7ri3XlOPEceI4cZw4vz/vlOPEceI4cZw4R557ynHiOHGcOE6cI88z5ThxnDhOHCfOkWdqrQ/HmV+ELNxTwAAAAABJRU5ErkJggg==\" style=\"width: 30px; height: auto;\">"
      ]
    },
    {
      "cell_type": "code",
      "source": [
        "torch.tensor([1, 2, 3, 4])"
      ],
      "metadata": {
        "colab": {
          "base_uri": "https://localhost:8080/",
          "height": 54
        },
        "id": "I-JCBiIRuQJj",
        "outputId": "a5104529-bdba-4e54-88f4-f6ad3a87ad8d"
      },
      "execution_count": null,
      "outputs": [
        {
          "output_type": "display_data",
          "data": {
            "text/plain": [
              "<IPython.core.display.HTML object>"
            ],
            "text/html": [
              "<style> \n",
              "    body {\n",
              "      font-size: 30px;\n",
              "    }\n",
              "  "
            ]
          },
          "metadata": {}
        },
        {
          "output_type": "execute_result",
          "data": {
            "text/plain": [
              "tensor([1, 2, 3, 4])"
            ]
          },
          "metadata": {},
          "execution_count": 16
        }
      ]
    },
    {
      "cell_type": "code",
      "execution_count": null,
      "metadata": {
        "id": "_ImQp8QOsFjd",
        "colab": {
          "base_uri": "https://localhost:8080/",
          "height": 166
        },
        "outputId": "2dca7aa9-525d-4c68-a665-23ca9c2d5f5d"
      },
      "outputs": [
        {
          "output_type": "display_data",
          "data": {
            "text/plain": [
              "<IPython.core.display.HTML object>"
            ],
            "text/html": [
              "<style> \n",
              "    body {\n",
              "      font-size: 30px;\n",
              "    }\n",
              "  "
            ]
          },
          "metadata": {}
        },
        {
          "output_type": "execute_result",
          "data": {
            "text/plain": [
              "tensor([[1],\n",
              "        [2],\n",
              "        [3],\n",
              "        [4]])"
            ]
          },
          "metadata": {},
          "execution_count": 15
        }
      ],
      "source": [
        "torch.tensor([[1], [2], [3], [4]])"
      ]
    },
    {
      "cell_type": "markdown",
      "metadata": {
        "jp-MarkdownHeadingCollapsed": true,
        "tags": [],
        "id": "CYCBCIq7hQ96"
      },
      "source": [
        "### 🟧 **N-d Tensor**"
      ]
    },
    {
      "cell_type": "markdown",
      "metadata": {
        "id": "3_-nxJVkboyk"
      },
      "source": [
        "<img src=\"data:image/png;base64,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\" style=\"width: 10px; height: auto;\">"
      ]
    },
    {
      "cell_type": "code",
      "execution_count": null,
      "metadata": {
        "id": "zAQLhFlLqh5U",
        "colab": {
          "base_uri": "https://localhost:8080/",
          "height": 314
        },
        "outputId": "510b9fc0-5cc4-4984-f137-c2c09308ff0f"
      },
      "outputs": [
        {
          "output_type": "display_data",
          "data": {
            "text/plain": [
              "<IPython.core.display.HTML object>"
            ],
            "text/html": [
              "<style> \n",
              "    body {\n",
              "      font-size: 30px;\n",
              "    }\n",
              "  "
            ]
          },
          "metadata": {}
        },
        {
          "output_type": "execute_result",
          "data": {
            "text/plain": [
              "tensor([[[1, 2, 3],\n",
              "         [4, 5, 6]],\n",
              "\n",
              "        [[5, 6, 7],\n",
              "         [4, 8, 9]],\n",
              "\n",
              "        [[1, 1, 3],\n",
              "         [0, 0, 1]]])"
            ]
          },
          "metadata": {},
          "execution_count": 17
        }
      ],
      "source": [
        "torch.tensor(\n",
        "    [[[1, 2, 3],\n",
        "      [4, 5, 6]],\n",
        "\n",
        "     [[5, 6, 7],\n",
        "      [4, 8, 9]],\n",
        "\n",
        "     [[1, 1, 3],\n",
        "      [0, 0, 1]]\n",
        "    ])"
      ]
    },
    {
      "cell_type": "markdown",
      "metadata": {
        "jp-MarkdownHeadingCollapsed": true,
        "tags": [],
        "id": "N4DAl5nLboyl"
      },
      "source": [
        "### 🟧 **Data Type**"
      ]
    },
    {
      "cell_type": "markdown",
      "metadata": {
        "id": "avLLG4SGQtMR"
      },
      "source": [
        "[List of data types in pytorch](https://pytorch.org/docs/stable/tensors.html)"
      ]
    },
    {
      "cell_type": "code",
      "execution_count": null,
      "metadata": {
        "id": "BI3PJTpmst9a",
        "colab": {
          "base_uri": "https://localhost:8080/",
          "height": 54
        },
        "outputId": "cecd71b2-97bf-4a01-92ed-7856d39f443c"
      },
      "outputs": [
        {
          "output_type": "display_data",
          "data": {
            "text/plain": [
              "<IPython.core.display.HTML object>"
            ],
            "text/html": [
              "<style> \n",
              "    body {\n",
              "      font-size: 30px;\n",
              "    }\n",
              "  "
            ]
          },
          "metadata": {}
        },
        {
          "output_type": "execute_result",
          "data": {
            "text/plain": [
              "(tensor([1, 2, 3]), tensor([1., 2., 3.]))"
            ]
          },
          "metadata": {},
          "execution_count": 27
        }
      ],
      "source": [
        "a = torch.tensor([1, 2, 3])\n",
        "b = torch.tensor([1, 2, 3.])\n",
        "a, b"
      ]
    },
    {
      "cell_type": "code",
      "execution_count": null,
      "metadata": {
        "id": "svkgtjTSs2k8",
        "colab": {
          "base_uri": "https://localhost:8080/",
          "height": 54
        },
        "outputId": "b869962d-9dcd-4170-921b-927efd0e797c"
      },
      "outputs": [
        {
          "output_type": "display_data",
          "data": {
            "text/plain": [
              "<IPython.core.display.HTML object>"
            ],
            "text/html": [
              "<style> \n",
              "    body {\n",
              "      font-size: 30px;\n",
              "    }\n",
              "  "
            ]
          },
          "metadata": {}
        },
        {
          "output_type": "execute_result",
          "data": {
            "text/plain": [
              "(torch.int64, torch.float32)"
            ]
          },
          "metadata": {},
          "execution_count": 25
        }
      ],
      "source": [
        "a.dtype, b.dtype"
      ]
    },
    {
      "cell_type": "markdown",
      "metadata": {
        "id": "TmZq_FH3Xivq"
      },
      "source": [
        "#### 🟨 Define a uint8 tensor"
      ]
    },
    {
      "cell_type": "code",
      "execution_count": null,
      "metadata": {
        "id": "Y5hFhNiksnHe",
        "colab": {
          "base_uri": "https://localhost:8080/",
          "height": 54
        },
        "outputId": "26a8f235-985b-4633-f0b7-38806eef16fd"
      },
      "outputs": [
        {
          "output_type": "display_data",
          "data": {
            "text/plain": [
              "<IPython.core.display.HTML object>"
            ],
            "text/html": [
              "<style> \n",
              "    body {\n",
              "      font-size: 30px;\n",
              "    }\n",
              "  "
            ]
          },
          "metadata": {}
        },
        {
          "output_type": "execute_result",
          "data": {
            "text/plain": [
              "tensor([1, 2, 3], dtype=torch.uint8)"
            ]
          },
          "metadata": {},
          "execution_count": 29
        }
      ],
      "source": [
        "a = torch.tensor([1, 2, 3], dtype=torch.uint8)\n",
        "a"
      ]
    },
    {
      "cell_type": "markdown",
      "metadata": {
        "jp-MarkdownHeadingCollapsed": true,
        "tags": [],
        "id": "pPnZg2QPboym"
      },
      "source": [
        "#### <span style=\"font-size: 0.9em;\">🟨</span> **Convert**"
      ]
    },
    {
      "cell_type": "code",
      "execution_count": null,
      "metadata": {
        "id": "p04AehoWwJel",
        "colab": {
          "base_uri": "https://localhost:8080/",
          "height": 54
        },
        "outputId": "cba9504e-4b97-44a9-d055-97558b73424f"
      },
      "outputs": [
        {
          "output_type": "display_data",
          "data": {
            "text/plain": [
              "<IPython.core.display.HTML object>"
            ],
            "text/html": [
              "<style> \n",
              "    body {\n",
              "      font-size: 30px;\n",
              "    }\n",
              "  "
            ]
          },
          "metadata": {}
        },
        {
          "output_type": "execute_result",
          "data": {
            "text/plain": [
              "tensor([1., 2., 3.], dtype=torch.float16)"
            ]
          },
          "metadata": {},
          "execution_count": 33
        }
      ],
      "source": [
        "a = a.type(torch.float16)\n",
        "a"
      ]
    },
    {
      "cell_type": "code",
      "execution_count": null,
      "metadata": {
        "id": "bXoCNnl-PG59",
        "colab": {
          "base_uri": "https://localhost:8080/",
          "height": 54
        },
        "outputId": "f3206b22-95c5-41aa-ee9e-ff9e01cc5f28"
      },
      "outputs": [
        {
          "output_type": "display_data",
          "data": {
            "text/plain": [
              "<IPython.core.display.HTML object>"
            ],
            "text/html": [
              "<style> \n",
              "    body {\n",
              "      font-size: 30px;\n",
              "    }\n",
              "  "
            ]
          },
          "metadata": {}
        },
        {
          "output_type": "execute_result",
          "data": {
            "text/plain": [
              "tensor([1., 2., 3.], dtype=torch.float16)"
            ]
          },
          "metadata": {},
          "execution_count": 41
        }
      ],
      "source": [
        "a.short()\n",
        "a"
      ]
    },
    {
      "cell_type": "markdown",
      "metadata": {
        "jp-MarkdownHeadingCollapsed": true,
        "tags": [],
        "id": "-aF6GCjaboyn"
      },
      "source": [
        "### 🟧 **Device**"
      ]
    },
    {
      "cell_type": "code",
      "execution_count": null,
      "metadata": {
        "id": "JVIaiiFUxZFc",
        "colab": {
          "base_uri": "https://localhost:8080/",
          "height": 54
        },
        "outputId": "ed2fb948-dfd1-4e91-e7b2-f90450be4d10"
      },
      "outputs": [
        {
          "output_type": "display_data",
          "data": {
            "text/plain": [
              "<IPython.core.display.HTML object>"
            ],
            "text/html": [
              "<style> \n",
              "    body {\n",
              "      font-size: 30px;\n",
              "    }\n",
              "  "
            ]
          },
          "metadata": {}
        },
        {
          "output_type": "execute_result",
          "data": {
            "text/plain": [
              "tensor([1, 2, 3])"
            ]
          },
          "metadata": {},
          "execution_count": 42
        }
      ],
      "source": [
        "a = torch.tensor([1, 2, 3])\n",
        "a"
      ]
    },
    {
      "cell_type": "code",
      "execution_count": null,
      "metadata": {
        "id": "I72rxdBSTP_l",
        "colab": {
          "base_uri": "https://localhost:8080/",
          "height": 54
        },
        "outputId": "f78f92d5-6341-462b-a278-a7c9c9b428af"
      },
      "outputs": [
        {
          "output_type": "display_data",
          "data": {
            "text/plain": [
              "<IPython.core.display.HTML object>"
            ],
            "text/html": [
              "<style> \n",
              "    body {\n",
              "      font-size: 30px;\n",
              "    }\n",
              "  "
            ]
          },
          "metadata": {}
        },
        {
          "output_type": "execute_result",
          "data": {
            "text/plain": [
              "device(type='cpu')"
            ]
          },
          "metadata": {},
          "execution_count": 43
        }
      ],
      "source": [
        "a.device"
      ]
    },
    {
      "cell_type": "code",
      "source": [
        "a = torch.tensor([1, 2, 3], device='cuda')\n",
        "a"
      ],
      "metadata": {
        "colab": {
          "base_uri": "https://localhost:8080/",
          "height": 54
        },
        "id": "yUtv-ZHB1gGL",
        "outputId": "1ab86e77-e807-4649-d0b9-15d3584b4403"
      },
      "execution_count": null,
      "outputs": [
        {
          "output_type": "display_data",
          "data": {
            "text/plain": [
              "<IPython.core.display.HTML object>"
            ],
            "text/html": [
              "<style> \n",
              "    body {\n",
              "      font-size: 30px;\n",
              "    }\n",
              "  "
            ]
          },
          "metadata": {}
        },
        {
          "output_type": "execute_result",
          "data": {
            "text/plain": [
              "tensor([1, 2, 3], device='cuda:0')"
            ]
          },
          "metadata": {},
          "execution_count": 8
        }
      ]
    },
    {
      "cell_type": "code",
      "source": [
        "a = a.cpu()\n",
        "a"
      ],
      "metadata": {
        "colab": {
          "base_uri": "https://localhost:8080/",
          "height": 54
        },
        "id": "YkUrHBUa29HZ",
        "outputId": "d1b7ea16-c6a3-416c-ba1f-da1fe9db71f4"
      },
      "execution_count": null,
      "outputs": [
        {
          "output_type": "display_data",
          "data": {
            "text/plain": [
              "<IPython.core.display.HTML object>"
            ],
            "text/html": [
              "<style> \n",
              "    body {\n",
              "      font-size: 30px;\n",
              "    }\n",
              "  "
            ]
          },
          "metadata": {}
        },
        {
          "output_type": "execute_result",
          "data": {
            "text/plain": [
              "tensor([1, 2, 3])"
            ]
          },
          "metadata": {},
          "execution_count": 12
        }
      ]
    },
    {
      "cell_type": "code",
      "source": [
        "a.cuda()"
      ],
      "metadata": {
        "colab": {
          "base_uri": "https://localhost:8080/",
          "height": 54
        },
        "id": "QU7Wut993NRM",
        "outputId": "4d91e277-7c4f-4129-faac-86625eaddcf5"
      },
      "execution_count": null,
      "outputs": [
        {
          "output_type": "display_data",
          "data": {
            "text/plain": [
              "<IPython.core.display.HTML object>"
            ],
            "text/html": [
              "<style> \n",
              "    body {\n",
              "      font-size: 30px;\n",
              "    }\n",
              "  "
            ]
          },
          "metadata": {}
        },
        {
          "output_type": "execute_result",
          "data": {
            "text/plain": [
              "tensor([1, 2, 3], device='cuda:0')"
            ]
          },
          "metadata": {},
          "execution_count": 13
        }
      ]
    },
    {
      "cell_type": "markdown",
      "metadata": {
        "jp-MarkdownHeadingCollapsed": true,
        "tags": [],
        "id": "qSi8ygo7boyu"
      },
      "source": [
        "## 🟥 **Section 4: Tensor Attributes and Methods**"
      ]
    },
    {
      "cell_type": "code",
      "source": [
        "scalar = torch.tensor(1)\n",
        "vec = torch.tensor([1, 2])\n",
        "mat = torch.tensor([[1., 2, 3], [3, 4, 5]])\n",
        "tensor = torch.tensor([[[2, 3], [1, 2]], [[1, 2], [3, 4]], [[1, 2], [3, 4]]])"
      ],
      "metadata": {
        "colab": {
          "base_uri": "https://localhost:8080/",
          "height": 17
        },
        "id": "zg7V9Y4E7feh",
        "outputId": "04ff48a2-2359-40b4-8c42-c685da46b287"
      },
      "execution_count": null,
      "outputs": [
        {
          "output_type": "display_data",
          "data": {
            "text/plain": [
              "<IPython.core.display.HTML object>"
            ],
            "text/html": [
              "<style> \n",
              "    body {\n",
              "      font-size: 30px;\n",
              "    }\n",
              "  "
            ]
          },
          "metadata": {}
        }
      ]
    },
    {
      "cell_type": "code",
      "source": [
        "scalar.__class__, tensor.__class__"
      ],
      "metadata": {
        "colab": {
          "base_uri": "https://localhost:8080/",
          "height": 54
        },
        "id": "m0NtUr-p9-RV",
        "outputId": "9db34087-ed09-43cd-d9c5-ae4ab826aa6e"
      },
      "execution_count": null,
      "outputs": [
        {
          "output_type": "display_data",
          "data": {
            "text/plain": [
              "<IPython.core.display.HTML object>"
            ],
            "text/html": [
              "<style> \n",
              "    body {\n",
              "      font-size: 30px;\n",
              "    }\n",
              "  "
            ]
          },
          "metadata": {}
        },
        {
          "output_type": "execute_result",
          "data": {
            "text/plain": [
              "(torch.Tensor, torch.Tensor)"
            ]
          },
          "metadata": {},
          "execution_count": 15
        }
      ]
    },
    {
      "cell_type": "markdown",
      "metadata": {
        "jp-MarkdownHeadingCollapsed": true,
        "tags": [],
        "id": "2QPPeal9boyu"
      },
      "source": [
        "### 🟧 **`.shape`**"
      ]
    },
    {
      "cell_type": "code",
      "source": [
        "scalar.shape, vec.shape, mat.shape, tensor.shape"
      ],
      "metadata": {
        "colab": {
          "base_uri": "https://localhost:8080/",
          "height": 54
        },
        "id": "klOeAaUK9p4G",
        "outputId": "d3f6e2ce-4fb9-47aa-a4ba-7e4fc3aacd21"
      },
      "execution_count": null,
      "outputs": [
        {
          "output_type": "display_data",
          "data": {
            "text/plain": [
              "<IPython.core.display.HTML object>"
            ],
            "text/html": [
              "<style> \n",
              "    body {\n",
              "      font-size: 30px;\n",
              "    }\n",
              "  "
            ]
          },
          "metadata": {}
        },
        {
          "output_type": "execute_result",
          "data": {
            "text/plain": [
              "(torch.Size([]), torch.Size([2]), torch.Size([2, 3]), torch.Size([3, 2, 2]))"
            ]
          },
          "metadata": {},
          "execution_count": 20
        }
      ]
    },
    {
      "cell_type": "code",
      "source": [
        "c, r, cc = tensor.shape\n",
        "c, r, cc"
      ],
      "metadata": {
        "colab": {
          "base_uri": "https://localhost:8080/",
          "height": 54
        },
        "id": "EeTT3Gkq-1fX",
        "outputId": "f31a147b-bb01-4505-8f4c-d65135dbd9f3"
      },
      "execution_count": null,
      "outputs": [
        {
          "output_type": "display_data",
          "data": {
            "text/plain": [
              "<IPython.core.display.HTML object>"
            ],
            "text/html": [
              "<style> \n",
              "    body {\n",
              "      font-size: 30px;\n",
              "    }\n",
              "  "
            ]
          },
          "metadata": {}
        },
        {
          "output_type": "execute_result",
          "data": {
            "text/plain": [
              "(3, 2, 2)"
            ]
          },
          "metadata": {},
          "execution_count": 22
        }
      ]
    },
    {
      "cell_type": "code",
      "source": [
        "tensor.shape[0]"
      ],
      "metadata": {
        "colab": {
          "base_uri": "https://localhost:8080/",
          "height": 54
        },
        "id": "ZP4ncKVk_Dc3",
        "outputId": "fce3799e-9e06-49e6-8650-e05dfe1633ae"
      },
      "execution_count": null,
      "outputs": [
        {
          "output_type": "display_data",
          "data": {
            "text/plain": [
              "<IPython.core.display.HTML object>"
            ],
            "text/html": [
              "<style> \n",
              "    body {\n",
              "      font-size: 30px;\n",
              "    }\n",
              "  "
            ]
          },
          "metadata": {}
        },
        {
          "output_type": "execute_result",
          "data": {
            "text/plain": [
              "3"
            ]
          },
          "metadata": {},
          "execution_count": 24
        }
      ]
    },
    {
      "cell_type": "markdown",
      "metadata": {
        "jp-MarkdownHeadingCollapsed": true,
        "tags": [],
        "id": "LMEhIoXuboyu"
      },
      "source": [
        "### 🟧**`.size()`**"
      ]
    },
    {
      "cell_type": "code",
      "execution_count": null,
      "metadata": {
        "id": "iBu3iQRiuV0B",
        "colab": {
          "base_uri": "https://localhost:8080/",
          "height": 54
        },
        "outputId": "e15c6c35-cf84-4232-a0f3-20ee11dfb3a3"
      },
      "outputs": [
        {
          "output_type": "display_data",
          "data": {
            "text/plain": [
              "<IPython.core.display.HTML object>"
            ],
            "text/html": [
              "<style> \n",
              "    body {\n",
              "      font-size: 30px;\n",
              "    }\n",
              "  "
            ]
          },
          "metadata": {}
        },
        {
          "output_type": "execute_result",
          "data": {
            "text/plain": [
              "torch.Size([3, 2, 2])"
            ]
          },
          "metadata": {},
          "execution_count": 28
        }
      ],
      "source": [
        "ch, row, col = tensor.size()"
      ]
    },
    {
      "cell_type": "markdown",
      "metadata": {
        "jp-MarkdownHeadingCollapsed": true,
        "tags": [],
        "id": "dkdvXQJ-boyv"
      },
      "source": [
        "### 🟧**`.min()` & `.max()`**"
      ]
    },
    {
      "cell_type": "code",
      "execution_count": null,
      "metadata": {
        "id": "qvNXi43SvFVJ",
        "colab": {
          "base_uri": "https://localhost:8080/",
          "height": 54
        },
        "outputId": "b2b74203-8cc6-45fd-8f04-03a861ca0cdc"
      },
      "outputs": [
        {
          "output_type": "display_data",
          "data": {
            "text/plain": [
              "<IPython.core.display.HTML object>"
            ],
            "text/html": [
              "<style> \n",
              "    body {\n",
              "      font-size: 30px;\n",
              "    }\n",
              "  "
            ]
          },
          "metadata": {}
        },
        {
          "output_type": "execute_result",
          "data": {
            "text/plain": [
              "(tensor(1), tensor(5.))"
            ]
          },
          "metadata": {},
          "execution_count": 30
        }
      ],
      "source": [
        "tensor.min(), mat.max()"
      ]
    },
    {
      "cell_type": "markdown",
      "metadata": {
        "jp-MarkdownHeadingCollapsed": true,
        "tags": [],
        "id": "PTDl4xoWboyv"
      },
      "source": [
        "### 🟧**`.mean()` & `.std()`**"
      ]
    },
    {
      "cell_type": "code",
      "execution_count": null,
      "metadata": {
        "id": "0e55CBA6vukZ",
        "colab": {
          "base_uri": "https://localhost:8080/",
          "height": 54
        },
        "outputId": "f9e2aa78-ae5d-44a3-99f6-a058ce44f301"
      },
      "outputs": [
        {
          "output_type": "display_data",
          "data": {
            "text/plain": [
              "<IPython.core.display.HTML object>"
            ],
            "text/html": [
              "<style> \n",
              "    body {\n",
              "      font-size: 30px;\n",
              "    }\n",
              "  "
            ]
          },
          "metadata": {}
        },
        {
          "output_type": "execute_result",
          "data": {
            "text/plain": [
              "tensor(1.5000)"
            ]
          },
          "metadata": {},
          "execution_count": 32
        }
      ],
      "source": [
        "vec.float().mean()"
      ]
    },
    {
      "cell_type": "code",
      "execution_count": null,
      "metadata": {
        "id": "NE30W9Xxv2cd",
        "colab": {
          "base_uri": "https://localhost:8080/",
          "height": 54
        },
        "outputId": "fb182930-af16-4ed2-f0fb-74eddca9c8ce"
      },
      "outputs": [
        {
          "output_type": "display_data",
          "data": {
            "text/plain": [
              "<IPython.core.display.HTML object>"
            ],
            "text/html": [
              "<style> \n",
              "    body {\n",
              "      font-size: 30px;\n",
              "    }\n",
              "  "
            ]
          },
          "metadata": {}
        },
        {
          "output_type": "execute_result",
          "data": {
            "text/plain": [
              "tensor(0.7071)"
            ]
          },
          "metadata": {},
          "execution_count": 34
        }
      ],
      "source": [
        "vec.type(torch.float32).std()"
      ]
    },
    {
      "cell_type": "markdown",
      "metadata": {
        "jp-MarkdownHeadingCollapsed": true,
        "tags": [],
        "id": "84TeHYTsboyw"
      },
      "source": [
        "### 🟧**`.t()`**"
      ]
    },
    {
      "cell_type": "code",
      "execution_count": null,
      "metadata": {
        "id": "JzSOLFyAcqmi",
        "colab": {
          "base_uri": "https://localhost:8080/",
          "height": 129
        },
        "outputId": "4bafc51a-ce37-4da4-a1c7-c9d8e3ac776e"
      },
      "outputs": [
        {
          "output_type": "display_data",
          "data": {
            "text/plain": [
              "<IPython.core.display.HTML object>"
            ],
            "text/html": [
              "<style> \n",
              "    body {\n",
              "      font-size: 30px;\n",
              "    }\n",
              "  "
            ]
          },
          "metadata": {}
        },
        {
          "output_type": "execute_result",
          "data": {
            "text/plain": [
              "tensor([[1., 3.],\n",
              "        [2., 4.],\n",
              "        [3., 5.]])"
            ]
          },
          "metadata": {},
          "execution_count": 36
        }
      ],
      "source": [
        "mat.t()"
      ]
    },
    {
      "cell_type": "markdown",
      "metadata": {
        "jp-MarkdownHeadingCollapsed": true,
        "tags": [],
        "id": "Ytsv4RCMboyx"
      },
      "source": [
        "### 🟧 **and soooo on...**"
      ]
    },
    {
      "cell_type": "code",
      "execution_count": null,
      "metadata": {
        "id": "xmegVcgEZewI",
        "colab": {
          "base_uri": "https://localhost:8080/",
          "height": 54
        },
        "outputId": "0b25b9fd-489e-458c-e956-42a2ad02511f"
      },
      "outputs": [
        {
          "output_type": "display_data",
          "data": {
            "text/plain": [
              "<IPython.core.display.HTML object>"
            ],
            "text/html": [
              "<style> \n",
              "    body {\n",
              "      font-size: 30px;\n",
              "    }\n",
              "  "
            ]
          },
          "metadata": {}
        },
        {
          "output_type": "execute_result",
          "data": {
            "text/plain": [
              "torch.float32"
            ]
          },
          "metadata": {},
          "execution_count": 37
        }
      ],
      "source": [
        "mat."
      ]
    },
    {
      "cell_type": "code",
      "source": [
        "scalar = torch.tensor(-1)\n",
        "\n",
        "scalar.abs()\n",
        "scalar\n",
        "\n",
        "scalar.abs_()\n",
        "scalar"
      ],
      "metadata": {
        "colab": {
          "base_uri": "https://localhost:8080/",
          "height": 54
        },
        "id": "Kc7EcsGMBFWv",
        "outputId": "57fd3674-c461-4727-ff22-04eae719ddc0"
      },
      "execution_count": null,
      "outputs": [
        {
          "output_type": "display_data",
          "data": {
            "text/plain": [
              "<IPython.core.display.HTML object>"
            ],
            "text/html": [
              "<style> \n",
              "    body {\n",
              "      font-size: 30px;\n",
              "    }\n",
              "  "
            ]
          },
          "metadata": {}
        },
        {
          "output_type": "execute_result",
          "data": {
            "text/plain": [
              "tensor(1)"
            ]
          },
          "metadata": {},
          "execution_count": 47
        }
      ]
    },
    {
      "cell_type": "code",
      "source": [
        "scalar."
      ],
      "metadata": {
        "id": "x3PyjCP1BugI"
      },
      "execution_count": null,
      "outputs": []
    },
    {
      "cell_type": "markdown",
      "metadata": {
        "jp-MarkdownHeadingCollapsed": true,
        "tags": [],
        "id": "KyPorUcpboyy"
      },
      "source": [
        "## 🟥 **Section 5: Special Arrays**"
      ]
    },
    {
      "cell_type": "markdown",
      "metadata": {
        "jp-MarkdownHeadingCollapsed": true,
        "tags": [],
        "id": "QZBMpTXhboyy"
      },
      "source": [
        "### 🟧 **`torch.ones()`**"
      ]
    },
    {
      "cell_type": "markdown",
      "metadata": {
        "id": "VRyFKO_odIru"
      },
      "source": [
        "Create a 2\\*3 tensor of ones"
      ]
    },
    {
      "cell_type": "code",
      "execution_count": null,
      "metadata": {
        "id": "l0A7FLuszE4t",
        "colab": {
          "base_uri": "https://localhost:8080/",
          "height": 91
        },
        "outputId": "33d81584-a9ee-4624-f093-4c43ee7692af"
      },
      "outputs": [
        {
          "output_type": "display_data",
          "data": {
            "text/plain": [
              "<IPython.core.display.HTML object>"
            ],
            "text/html": [
              "<style> \n",
              "    body {\n",
              "      font-size: 30px;\n",
              "    }\n",
              "  "
            ]
          },
          "metadata": {}
        },
        {
          "output_type": "execute_result",
          "data": {
            "text/plain": [
              "tensor([[1.],\n",
              "        [1.]])"
            ]
          },
          "metadata": {},
          "execution_count": 50
        }
      ],
      "source": [
        "torch.ones((2, 1))"
      ]
    },
    {
      "cell_type": "code",
      "source": [
        "torch.ones((3, 4, 5))"
      ],
      "metadata": {
        "colab": {
          "base_uri": "https://localhost:8080/",
          "height": 538
        },
        "id": "Dua8UpgKEPI7",
        "outputId": "980b5bb4-00b2-412b-d684-ef6bb78b6e7c"
      },
      "execution_count": null,
      "outputs": [
        {
          "output_type": "display_data",
          "data": {
            "text/plain": [
              "<IPython.core.display.HTML object>"
            ],
            "text/html": [
              "<style> \n",
              "    body {\n",
              "      font-size: 30px;\n",
              "    }\n",
              "  "
            ]
          },
          "metadata": {}
        },
        {
          "output_type": "execute_result",
          "data": {
            "text/plain": [
              "tensor([[[1., 1., 1., 1., 1.],\n",
              "         [1., 1., 1., 1., 1.],\n",
              "         [1., 1., 1., 1., 1.],\n",
              "         [1., 1., 1., 1., 1.]],\n",
              "\n",
              "        [[1., 1., 1., 1., 1.],\n",
              "         [1., 1., 1., 1., 1.],\n",
              "         [1., 1., 1., 1., 1.],\n",
              "         [1., 1., 1., 1., 1.]],\n",
              "\n",
              "        [[1., 1., 1., 1., 1.],\n",
              "         [1., 1., 1., 1., 1.],\n",
              "         [1., 1., 1., 1., 1.],\n",
              "         [1., 1., 1., 1., 1.]]])"
            ]
          },
          "metadata": {},
          "execution_count": 53
        }
      ]
    },
    {
      "cell_type": "code",
      "source": [
        "torch.ones()"
      ],
      "metadata": {
        "id": "OYVO3Sq7EfLe"
      },
      "execution_count": null,
      "outputs": []
    },
    {
      "cell_type": "markdown",
      "metadata": {
        "jp-MarkdownHeadingCollapsed": true,
        "tags": [],
        "id": "0dpRzDaOboyy"
      },
      "source": [
        "### 🟧 **`torch.zeros()`**"
      ]
    },
    {
      "cell_type": "markdown",
      "metadata": {
        "id": "yuLiJXIXdOLz"
      },
      "source": [
        "Create a 2\\*2\\*3 tensor of zeros"
      ]
    },
    {
      "cell_type": "code",
      "execution_count": null,
      "metadata": {
        "id": "8nS0n5wP0T1g",
        "colab": {
          "base_uri": "https://localhost:8080/",
          "height": 91
        },
        "outputId": "b71bece6-14fc-4271-ceb9-4767bd95a540"
      },
      "outputs": [
        {
          "output_type": "display_data",
          "data": {
            "text/plain": [
              "<IPython.core.display.HTML object>"
            ],
            "text/html": [
              "<style> \n",
              "    body {\n",
              "      font-size: 30px;\n",
              "    }\n",
              "  "
            ]
          },
          "metadata": {}
        },
        {
          "output_type": "execute_result",
          "data": {
            "text/plain": [
              "tensor([[0., 0., 0.],\n",
              "        [0., 0., 0.]])"
            ]
          },
          "metadata": {},
          "execution_count": 56
        }
      ],
      "source": [
        "torch.zeros((2, 3), )"
      ]
    },
    {
      "cell_type": "markdown",
      "metadata": {
        "jp-MarkdownHeadingCollapsed": true,
        "tags": [],
        "id": "JN4FAycxboyz"
      },
      "source": [
        "### 🟧 **`torch.eye()`**"
      ]
    },
    {
      "cell_type": "markdown",
      "metadata": {
        "id": "mNr0dFt3hLLr"
      },
      "source": [
        "Create a 5\\*5 identity tensor"
      ]
    },
    {
      "cell_type": "code",
      "execution_count": null,
      "metadata": {
        "id": "7mYZ7DeG0uGH",
        "colab": {
          "base_uri": "https://localhost:8080/",
          "height": 203
        },
        "outputId": "ecb780fa-fa70-427d-d222-d745c40e5966"
      },
      "outputs": [
        {
          "output_type": "display_data",
          "data": {
            "text/plain": [
              "<IPython.core.display.HTML object>"
            ],
            "text/html": [
              "<style> \n",
              "    body {\n",
              "      font-size: 30px;\n",
              "    }\n",
              "  "
            ]
          },
          "metadata": {}
        },
        {
          "output_type": "execute_result",
          "data": {
            "text/plain": [
              "tensor([[1., 0., 0., 0., 0.],\n",
              "        [0., 1., 0., 0., 0.],\n",
              "        [0., 0., 1., 0., 0.],\n",
              "        [0., 0., 0., 1., 0.],\n",
              "        [0., 0., 0., 0., 1.]])"
            ]
          },
          "metadata": {},
          "execution_count": 57
        }
      ],
      "source": [
        "torch.eye(5)"
      ]
    },
    {
      "cell_type": "markdown",
      "metadata": {
        "id": "kpy7Ij-9hURx"
      },
      "source": [
        "Create a 5\\*4 identity tensor with `int` type"
      ]
    },
    {
      "cell_type": "code",
      "execution_count": null,
      "metadata": {
        "id": "vlVtSzHu1Nvu",
        "colab": {
          "base_uri": "https://localhost:8080/",
          "height": 203
        },
        "outputId": "fdee6cce-52aa-47cf-a45c-fd4a6f8167ea"
      },
      "outputs": [
        {
          "output_type": "display_data",
          "data": {
            "text/plain": [
              "<IPython.core.display.HTML object>"
            ],
            "text/html": [
              "<style> \n",
              "    body {\n",
              "      font-size: 30px;\n",
              "    }\n",
              "  "
            ]
          },
          "metadata": {}
        },
        {
          "output_type": "execute_result",
          "data": {
            "text/plain": [
              "tensor([[1, 0, 0, 0],\n",
              "        [0, 1, 0, 0],\n",
              "        [0, 0, 1, 0],\n",
              "        [0, 0, 0, 1],\n",
              "        [0, 0, 0, 0]], dtype=torch.int16)"
            ]
          },
          "metadata": {},
          "execution_count": 59
        }
      ],
      "source": [
        "torch.eye(5, 4, dtype=torch.int16)"
      ]
    },
    {
      "cell_type": "markdown",
      "metadata": {
        "jp-MarkdownHeadingCollapsed": true,
        "tags": [],
        "id": "vGW_30kPboy0"
      },
      "source": [
        "### 🟧 **`torch.empty()`**"
      ]
    },
    {
      "cell_type": "markdown",
      "metadata": {
        "id": "ZMUW9WqDdcta"
      },
      "source": [
        "Create an empty 3\\*3 tensor"
      ]
    },
    {
      "cell_type": "code",
      "execution_count": null,
      "metadata": {
        "id": "EWK62aOV1dBE",
        "colab": {
          "base_uri": "https://localhost:8080/",
          "height": 129
        },
        "outputId": "b76eaefa-5501-48d7-b210-ca4d9735366f"
      },
      "outputs": [
        {
          "output_type": "display_data",
          "data": {
            "text/plain": [
              "<IPython.core.display.HTML object>"
            ],
            "text/html": [
              "<style> \n",
              "    body {\n",
              "      font-size: 30px;\n",
              "    }\n",
              "  "
            ]
          },
          "metadata": {}
        },
        {
          "output_type": "execute_result",
          "data": {
            "text/plain": [
              "tensor([[2.4023e+13, 3.1371e-41, 2.3126e+13],\n",
              "        [3.1371e-41, 4.5919e-41, 4.1478e-43],\n",
              "        [9.1084e-44, 0.0000e+00, 2.2900e+13]])"
            ]
          },
          "metadata": {},
          "execution_count": 61
        }
      ],
      "source": [
        "em = torch.empty(3, 3)\n",
        "em"
      ]
    },
    {
      "cell_type": "code",
      "source": [
        "em.fill_(1.2)\n",
        "em"
      ],
      "metadata": {
        "colab": {
          "base_uri": "https://localhost:8080/",
          "height": 129
        },
        "id": "tl7UiTfGFY-g",
        "outputId": "91007bdc-e5e4-4ab8-9bdb-7af22ec787f2"
      },
      "execution_count": null,
      "outputs": [
        {
          "output_type": "display_data",
          "data": {
            "text/plain": [
              "<IPython.core.display.HTML object>"
            ],
            "text/html": [
              "<style> \n",
              "    body {\n",
              "      font-size: 30px;\n",
              "    }\n",
              "  "
            ]
          },
          "metadata": {}
        },
        {
          "output_type": "execute_result",
          "data": {
            "text/plain": [
              "tensor([[1.2000, 1.2000, 1.2000],\n",
              "        [1.2000, 1.2000, 1.2000],\n",
              "        [1.2000, 1.2000, 1.2000]])"
            ]
          },
          "metadata": {},
          "execution_count": 63
        }
      ]
    },
    {
      "cell_type": "markdown",
      "metadata": {
        "jp-MarkdownHeadingCollapsed": true,
        "tags": [],
        "id": "7L4raiOAboy1"
      },
      "source": [
        "### 🟧 **`torch.full()`**"
      ]
    },
    {
      "cell_type": "code",
      "source": [
        "torch.full()"
      ],
      "metadata": {
        "id": "SyAVisr_F6Eo"
      },
      "execution_count": null,
      "outputs": []
    },
    {
      "cell_type": "markdown",
      "metadata": {
        "jp-MarkdownHeadingCollapsed": true,
        "tags": [],
        "id": "Zlx9cHUyboy2"
      },
      "source": [
        "## 🟥 **Section 6: Random Arrays**"
      ]
    },
    {
      "cell_type": "markdown",
      "metadata": {
        "jp-MarkdownHeadingCollapsed": true,
        "tags": [],
        "id": "_DKdbol8boy2"
      },
      "source": [
        "### 🟧 **`torch.rand()`**"
      ]
    },
    {
      "cell_type": "markdown",
      "metadata": {
        "id": "dz1GD9Esk6kR"
      },
      "source": [
        "Create a 2\\*3 tensor filled with random numbers from a uniform distribution on the interval [0, 1)"
      ]
    },
    {
      "cell_type": "code",
      "execution_count": null,
      "metadata": {
        "id": "zT0X7zJQkLPi",
        "colab": {
          "base_uri": "https://localhost:8080/",
          "height": 91
        },
        "outputId": "5cac0e28-e3e5-441e-da71-e5d4b0618f58"
      },
      "outputs": [
        {
          "output_type": "display_data",
          "data": {
            "text/plain": [
              "<IPython.core.display.HTML object>"
            ],
            "text/html": [
              "<style> \n",
              "    body {\n",
              "      font-size: 30px;\n",
              "    }\n",
              "  "
            ]
          },
          "metadata": {}
        },
        {
          "output_type": "execute_result",
          "data": {
            "text/plain": [
              "tensor([[0.2075, 0.2353, 0.9440],\n",
              "        [0.7698, 0.8771, 0.3919]])"
            ]
          },
          "metadata": {},
          "execution_count": 66
        }
      ],
      "source": [
        "torch.rand((2, 3))"
      ]
    },
    {
      "cell_type": "markdown",
      "metadata": {
        "id": "eV5p6ql6lC5T",
        "jp-MarkdownHeadingCollapsed": true,
        "tags": []
      },
      "source": [
        "#### 🟨 Visualization"
      ]
    },
    {
      "cell_type": "code",
      "execution_count": null,
      "metadata": {
        "id": "f-evZ66ckLPj",
        "colab": {
          "base_uri": "https://localhost:8080/",
          "height": 430
        },
        "outputId": "8d3bf94c-8708-49d8-9942-7471c74b758f"
      },
      "outputs": [
        {
          "output_type": "display_data",
          "data": {
            "text/plain": [
              "<IPython.core.display.HTML object>"
            ],
            "text/html": [
              "<style> \n",
              "    body {\n",
              "      font-size: 30px;\n",
              "    }\n",
              "  "
            ]
          },
          "metadata": {}
        },
        {
          "output_type": "display_data",
          "data": {
            "text/plain": [
              "<Figure size 640x480 with 1 Axes>"
            ],
            "image/png": "[encoded data removed]"
          },
          "metadata": {}
        }
      ],
      "source": [
        "rand_uniform = 2*torch.rand(100000) - 1\n",
        "plt.hist(rand_uniform);"
      ]
    },
    {
      "cell_type": "markdown",
      "metadata": {
        "jp-MarkdownHeadingCollapsed": true,
        "tags": [],
        "id": "2-OsXu8Iboy4"
      },
      "source": [
        "### 🟧 **`torch.randn()`**"
      ]
    },
    {
      "cell_type": "markdown",
      "metadata": {
        "id": "U-P4PgmqlC5S"
      },
      "source": [
        "Create a 3\\*3\\*2 tensor filled with random numbers from a normal distribution with mean 0 and variance 1"
      ]
    },
    {
      "cell_type": "code",
      "execution_count": null,
      "metadata": {
        "id": "Y0_TNsSKkLPi",
        "colab": {
          "base_uri": "https://localhost:8080/",
          "height": 426
        },
        "outputId": "3646edfc-0057-4345-8183-31d70b1cbaa8"
      },
      "outputs": [
        {
          "output_type": "display_data",
          "data": {
            "text/plain": [
              "<IPython.core.display.HTML object>"
            ],
            "text/html": [
              "<style> \n",
              "    body {\n",
              "      font-size: 30px;\n",
              "    }\n",
              "  "
            ]
          },
          "metadata": {}
        },
        {
          "output_type": "execute_result",
          "data": {
            "text/plain": [
              "tensor([[[ 1.2418,  0.1925],\n",
              "         [-0.4216,  0.6271],\n",
              "         [-0.9257,  0.2766]],\n",
              "\n",
              "        [[-0.5003,  0.1624],\n",
              "         [ 0.5378, -1.0721],\n",
              "         [-1.3829,  0.9673]],\n",
              "\n",
              "        [[-0.5984,  1.2387],\n",
              "         [ 1.1760,  1.5677],\n",
              "         [-0.6147, -0.4324]]])"
            ]
          },
          "metadata": {},
          "execution_count": 72
        }
      ],
      "source": [
        "torch.randn((3, 3, 2))"
      ]
    },
    {
      "cell_type": "markdown",
      "metadata": {
        "jp-MarkdownHeadingCollapsed": true,
        "tags": [],
        "id": "aky5RTWLkHJ-"
      },
      "source": [
        "#### 🟨 Visualization"
      ]
    },
    {
      "cell_type": "code",
      "execution_count": null,
      "metadata": {
        "id": "GDPsgYR-boy5",
        "colab": {
          "base_uri": "https://localhost:8080/",
          "height": 430
        },
        "outputId": "b6e274ec-42dd-4dd1-ea29-6cf4d7d67314"
      },
      "outputs": [
        {
          "output_type": "display_data",
          "data": {
            "text/plain": [
              "<IPython.core.display.HTML object>"
            ],
            "text/html": [
              "<style> \n",
              "    body {\n",
              "      font-size: 30px;\n",
              "    }\n",
              "  "
            ]
          },
          "metadata": {}
        },
        {
          "output_type": "display_data",
          "data": {
            "text/plain": [
              "<Figure size 640x480 with 1 Axes>"
            ],
            "image/png": "[encoded data removed]"
          },
          "metadata": {}
        }
      ],
      "source": [
        "rand_gauss = 0.1*torch.randn(100000) + 2\n",
        "plt.hist(rand_gauss, 100);"
      ]
    },
    {
      "cell_type": "markdown",
      "source": [
        "### 🟧 **`torch.randint()`**"
      ],
      "metadata": {
        "id": "klOdbvNMIpIf"
      }
    },
    {
      "cell_type": "code",
      "source": [
        "torch.randint(2, 13, (2, 3))"
      ],
      "metadata": {
        "id": "KDx-1WyeIqda",
        "colab": {
          "base_uri": "https://localhost:8080/",
          "height": 91
        },
        "outputId": "d45c7a02-7889-47f6-a22e-cd633810bb0c"
      },
      "execution_count": null,
      "outputs": [
        {
          "output_type": "display_data",
          "data": {
            "text/plain": [
              "<IPython.core.display.HTML object>"
            ],
            "text/html": [
              "<style> \n",
              "    body {\n",
              "      font-size: 30px;\n",
              "    }\n",
              "  "
            ]
          },
          "metadata": {}
        },
        {
          "output_type": "execute_result",
          "data": {
            "text/plain": [
              "tensor([[5, 4, 3],\n",
              "        [6, 8, 5]])"
            ]
          },
          "metadata": {},
          "execution_count": 80
        }
      ]
    },
    {
      "cell_type": "markdown",
      "metadata": {
        "jp-MarkdownHeadingCollapsed": true,
        "tags": [],
        "id": "xCPvIQ0Nboy5"
      },
      "source": [
        "### 🟧 **`torch.randperm()`**"
      ]
    },
    {
      "cell_type": "markdown",
      "metadata": {
        "id": "xOuWKMUllSws"
      },
      "source": [
        "Create a random permutation of integers from 0 to 9"
      ]
    },
    {
      "cell_type": "code",
      "execution_count": null,
      "metadata": {
        "id": "gQMIGTGukLPk",
        "colab": {
          "base_uri": "https://localhost:8080/",
          "height": 575
        },
        "outputId": "fa68e83a-2039-4762-efc0-6ed1b894f175"
      },
      "outputs": [
        {
          "output_type": "display_data",
          "data": {
            "text/plain": [
              "<IPython.core.display.HTML object>"
            ],
            "text/html": [
              "<style> \n",
              "    body {\n",
              "      font-size: 30px;\n",
              "    }\n",
              "  "
            ]
          },
          "metadata": {}
        },
        {
          "output_type": "execute_result",
          "data": {
            "text/plain": [
              "tensor([133, 153,  60, 128, 136, 101, 112,  71,  68, 107, 141,  66, 111,  13,\n",
              "        195, 139,  97, 165, 196,  84, 116,  58,  62, 109,  86, 110,  14, 175,\n",
              "        113,  79,  24,  75,  82,  74, 167, 119, 168,  94,   3, 129,   0, 146,\n",
              "         90,  88, 122,  16,  95,  47, 166, 174,  72,  38,  26, 191,  52,  33,\n",
              "         17, 125,   1, 132, 169,  29, 135, 197,  87,  91,  56,  76, 127,  46,\n",
              "        182,  25, 159,  31,  70, 171, 121, 103,   4, 188, 177,   2, 147, 157,\n",
              "         32, 186, 114,  36,  63,  98,  83, 145,   8, 154, 164,  21,  48, 138,\n",
              "        179, 178, 162,  45,  93, 158, 187, 140, 142,  57,  11,   7,  61,  12,\n",
              "        163,  53,  51, 151, 131, 183, 161, 172, 192,  85, 108,  27, 193,  41,\n",
              "          6,  99, 106,  54, 115,  30,  44, 104, 126, 152,  22,  80,  96, 120,\n",
              "        150,  35, 149, 155,  69, 199,  37, 148,  23, 105,  49,  78, 123, 173,\n",
              "        102, 190,   5, 184,  59, 160,  81,  28, 181, 198,  39, 144,  65, 143,\n",
              "         40,  50,   9, 130,  10,  42, 194,  92,  15, 176,  77,  18,  73, 134,\n",
              "         89, 156,  55, 180,  43,  19,  34,  20, 185, 100, 124, 189, 170, 118,\n",
              "        117,  67,  64, 137])"
            ]
          },
          "metadata": {},
          "execution_count": 84
        }
      ],
      "source": [
        "torch.randperm(200)"
      ]
    },
    {
      "cell_type": "markdown",
      "metadata": {
        "jp-MarkdownHeadingCollapsed": true,
        "tags": [],
        "id": "LOy44fH5boy6"
      },
      "source": [
        "### 🟧 **`seed`**"
      ]
    },
    {
      "cell_type": "code",
      "execution_count": null,
      "metadata": {
        "id": "2_gdGPsuJZDr",
        "colab": {
          "base_uri": "https://localhost:8080/",
          "height": 54
        },
        "outputId": "36f9fe58-abc6-4d62-ba74-6098b0333b47"
      },
      "outputs": [
        {
          "output_type": "display_data",
          "data": {
            "text/plain": [
              "<IPython.core.display.HTML object>"
            ],
            "text/html": [
              "<style> \n",
              "    body {\n",
              "      font-size: 30px;\n",
              "    }\n",
              "  "
            ]
          },
          "metadata": {}
        },
        {
          "output_type": "execute_result",
          "data": {
            "text/plain": [
              "tensor([3, 3, 2, 7, 3])"
            ]
          },
          "metadata": {},
          "execution_count": 102
        }
      ],
      "source": [
        "torch.manual_seed(12)\n",
        "torch.randint(0, 10, (5,))"
      ]
    },
    {
      "cell_type": "code",
      "source": [
        "torch.randint(0, 10, (5,))"
      ],
      "metadata": {
        "colab": {
          "base_uri": "https://localhost:8080/",
          "height": 54
        },
        "id": "CbELmxBDMmhi",
        "outputId": "4cb55402-8bfa-470c-ef6b-a29515080bdc"
      },
      "execution_count": null,
      "outputs": [
        {
          "output_type": "display_data",
          "data": {
            "text/plain": [
              "<IPython.core.display.HTML object>"
            ],
            "text/html": [
              "<style> \n",
              "    body {\n",
              "      font-size: 30px;\n",
              "    }\n",
              "  "
            ]
          },
          "metadata": {}
        },
        {
          "output_type": "execute_result",
          "data": {
            "text/plain": [
              "tensor([1, 2, 7, 8, 8])"
            ]
          },
          "metadata": {},
          "execution_count": 105
        }
      ]
    },
    {
      "cell_type": "markdown",
      "metadata": {
        "jp-MarkdownHeadingCollapsed": true,
        "tags": [],
        "id": "6HVK-iI0boy6"
      },
      "source": [
        "## 🟥 **Section 7: Indexing & Slicing**"
      ]
    },
    {
      "cell_type": "markdown",
      "metadata": {
        "jp-MarkdownHeadingCollapsed": true,
        "tags": [],
        "id": "W3Ee_GzXboy6"
      },
      "source": [
        "### 🟧 **Indexing**"
      ]
    },
    {
      "cell_type": "markdown",
      "metadata": {
        "jp-MarkdownHeadingCollapsed": true,
        "tags": [],
        "id": "6uYor12pboy7"
      },
      "source": [
        "#### 🟨 **Vector**"
      ]
    },
    {
      "cell_type": "code",
      "execution_count": null,
      "metadata": {
        "colab": {
          "base_uri": "https://localhost:8080/",
          "height": 54
        },
        "id": "kb0ktDENL_Ew",
        "outputId": "a591533a-f18c-4c61-87b2-3638363f758a"
      },
      "outputs": [
        {
          "output_type": "display_data",
          "data": {
            "text/plain": [
              "<IPython.core.display.HTML object>"
            ],
            "text/html": [
              "<style> \n",
              "    body {\n",
              "      font-size: 30px;\n",
              "    }\n",
              "  "
            ]
          },
          "metadata": {}
        },
        {
          "output_type": "execute_result",
          "data": {
            "text/plain": [
              "tensor([-0.1471,  0.7590,  0.1466, -1.0041, -0.7882])"
            ]
          },
          "metadata": {},
          "execution_count": 106
        }
      ],
      "source": [
        "a = torch.randn(5)\n",
        "a"
      ]
    },
    {
      "cell_type": "markdown",
      "metadata": {
        "id": "jLjI8U-CnYus"
      },
      "source": [
        "##### ⬜ Get the first element"
      ]
    },
    {
      "cell_type": "code",
      "execution_count": null,
      "metadata": {
        "id": "ck9wRpcyO3Bm",
        "colab": {
          "base_uri": "https://localhost:8080/",
          "height": 54
        },
        "outputId": "25531878-0e1d-4647-9222-d3e4d5af2d1b"
      },
      "outputs": [
        {
          "output_type": "display_data",
          "data": {
            "text/plain": [
              "<IPython.core.display.HTML object>"
            ],
            "text/html": [
              "<style> \n",
              "    body {\n",
              "      font-size: 30px;\n",
              "    }\n",
              "  "
            ]
          },
          "metadata": {}
        },
        {
          "output_type": "execute_result",
          "data": {
            "text/plain": [
              "(tensor(-0.1471), tensor(-1.0041), tensor(-0.7882))"
            ]
          },
          "metadata": {},
          "execution_count": 109
        }
      ],
      "source": [
        "a[0], a[3], a[4]"
      ]
    },
    {
      "cell_type": "markdown",
      "metadata": {
        "id": "TL16xTwHnf5Q"
      },
      "source": [
        "##### ⬜ Get the last element"
      ]
    },
    {
      "cell_type": "code",
      "execution_count": null,
      "metadata": {
        "colab": {
          "base_uri": "https://localhost:8080/",
          "height": 54
        },
        "id": "KbfZTp5wNBIa",
        "outputId": "ec28eeef-f971-43ea-c478-21e9c9d2c91e"
      },
      "outputs": [
        {
          "output_type": "display_data",
          "data": {
            "text/plain": [
              "<IPython.core.display.HTML object>"
            ],
            "text/html": [
              "<style> \n",
              "    body {\n",
              "      font-size: 30px;\n",
              "    }\n",
              "  "
            ]
          },
          "metadata": {}
        },
        {
          "output_type": "execute_result",
          "data": {
            "text/plain": [
              "tensor(-0.7882)"
            ]
          },
          "metadata": {},
          "execution_count": 110
        }
      ],
      "source": [
        "a[4]"
      ]
    },
    {
      "cell_type": "code",
      "execution_count": null,
      "metadata": {
        "colab": {
          "base_uri": "https://localhost:8080/",
          "height": 54
        },
        "id": "FKRn2qgRO_cA",
        "outputId": "94b4a686-7f72-49a7-b269-f35b5c4be441"
      },
      "outputs": [
        {
          "output_type": "display_data",
          "data": {
            "text/plain": [
              "<IPython.core.display.HTML object>"
            ],
            "text/html": [
              "<style> \n",
              "    body {\n",
              "      font-size: 30px;\n",
              "    }\n",
              "  "
            ]
          },
          "metadata": {}
        },
        {
          "output_type": "execute_result",
          "data": {
            "text/plain": [
              "(tensor(-0.7882), tensor(-1.0041))"
            ]
          },
          "metadata": {},
          "execution_count": 112
        }
      ],
      "source": [
        "a[-1], a[-2]"
      ]
    },
    {
      "cell_type": "markdown",
      "metadata": {
        "jp-MarkdownHeadingCollapsed": true,
        "tags": [],
        "id": "zAd0fbR-boy9"
      },
      "source": [
        "#### 🟨 **Matrix**"
      ]
    },
    {
      "cell_type": "markdown",
      "metadata": {
        "id": "iA6JKUckboy9"
      },
      "source": [
        "![image.png](data:image/png;base64,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)"
      ]
    },
    {
      "cell_type": "code",
      "execution_count": null,
      "metadata": {
        "colab": {
          "base_uri": "https://localhost:8080/",
          "height": 203
        },
        "id": "uGTGDwZjNIAw",
        "outputId": "2b23e0ad-2307-4c5c-9d4a-c0b1b461626f"
      },
      "outputs": [
        {
          "output_type": "display_data",
          "data": {
            "text/plain": [
              "<IPython.core.display.HTML object>"
            ],
            "text/html": [
              "<style> \n",
              "    body {\n",
              "      font-size: 30px;\n",
              "    }\n",
              "  "
            ]
          },
          "metadata": {}
        },
        {
          "output_type": "execute_result",
          "data": {
            "text/plain": [
              "tensor([[0.3216, 0.2604, 0.2566],\n",
              "        [0.1872, 0.6423, 0.1786],\n",
              "        [0.1435, 0.7490, 0.7275],\n",
              "        [0.1641, 0.3273, 0.1239],\n",
              "        [0.6138, 0.4535, 0.7659]])"
            ]
          },
          "metadata": {},
          "execution_count": 113
        }
      ],
      "source": [
        "b = torch.rand(5, 3)\n",
        "b"
      ]
    },
    {
      "cell_type": "markdown",
      "metadata": {
        "id": "1bniMl5On39T"
      },
      "source": [
        "##### ⬜ Get (1, 2)"
      ]
    },
    {
      "cell_type": "code",
      "execution_count": null,
      "metadata": {
        "id": "ZXIAvMw6NSbb",
        "colab": {
          "base_uri": "https://localhost:8080/",
          "height": 54
        },
        "outputId": "6e4d7267-0720-4c91-c824-e593df688ae4"
      },
      "outputs": [
        {
          "output_type": "display_data",
          "data": {
            "text/plain": [
              "<IPython.core.display.HTML object>"
            ],
            "text/html": [
              "<style> \n",
              "    body {\n",
              "      font-size: 30px;\n",
              "    }\n",
              "  "
            ]
          },
          "metadata": {}
        },
        {
          "output_type": "execute_result",
          "data": {
            "text/plain": [
              "tensor(0.1786)"
            ]
          },
          "metadata": {},
          "execution_count": 114
        }
      ],
      "source": [
        "b[1, 2]"
      ]
    },
    {
      "cell_type": "markdown",
      "metadata": {
        "id": "mjrsxnT_n9qt"
      },
      "source": [
        "##### ⬜ Get the second row"
      ]
    },
    {
      "cell_type": "code",
      "execution_count": null,
      "metadata": {
        "id": "7mUi47oGPH3N",
        "colab": {
          "base_uri": "https://localhost:8080/",
          "height": 54
        },
        "outputId": "70072cf5-f171-41a8-8049-f2463a77ff0f"
      },
      "outputs": [
        {
          "output_type": "display_data",
          "data": {
            "text/plain": [
              "<IPython.core.display.HTML object>"
            ],
            "text/html": [
              "<style> \n",
              "    body {\n",
              "      font-size: 30px;\n",
              "    }\n",
              "  "
            ]
          },
          "metadata": {}
        },
        {
          "output_type": "execute_result",
          "data": {
            "text/plain": [
              "tensor([0.3216, 0.2604, 0.2566])"
            ]
          },
          "metadata": {},
          "execution_count": 116
        }
      ],
      "source": [
        "b[0]"
      ]
    },
    {
      "cell_type": "markdown",
      "metadata": {
        "jp-MarkdownHeadingCollapsed": true,
        "tags": [],
        "id": "yq2a2w9Kboy-"
      },
      "source": [
        "#### 🟨 **Tensor**"
      ]
    },
    {
      "cell_type": "code",
      "execution_count": null,
      "metadata": {
        "colab": {
          "base_uri": "https://localhost:8080/",
          "height": 872
        },
        "id": "Jl_5_TqFPWWb",
        "outputId": "44b37380-9ab7-4e3e-db21-317383ac9024",
        "collapsed": true
      },
      "outputs": [
        {
          "output_type": "display_data",
          "data": {
            "text/plain": [
              "<IPython.core.display.HTML object>"
            ],
            "text/html": [
              "<style> \n",
              "    body {\n",
              "      font-size: 30px;\n",
              "    }\n",
              "  "
            ]
          },
          "metadata": {}
        },
        {
          "output_type": "execute_result",
          "data": {
            "text/plain": [
              "tensor([[[16, 68, 42],\n",
              "         [63,  3,  5],\n",
              "         [79, 52, 39],\n",
              "         [85, 26, 97],\n",
              "         [80, 36, 96]],\n",
              "\n",
              "        [[64, 85,  3],\n",
              "         [88, 61, 23],\n",
              "         [33, 59,  8],\n",
              "         [41, 27, 41],\n",
              "         [55, 35, 12]],\n",
              "\n",
              "        [[40, 58, 54],\n",
              "         [18, 77, 27],\n",
              "         [34, 48, 70],\n",
              "         [34, 95, 96],\n",
              "         [91, 85, 74]],\n",
              "\n",
              "        [[71, 88, 83],\n",
              "         [57, 49, 80],\n",
              "         [57, 73, 57],\n",
              "         [91, 37, 31],\n",
              "         [44,  3, 58]]])"
            ]
          },
          "metadata": {},
          "execution_count": 117
        }
      ],
      "source": [
        "c = torch.randint(100, (4, 5, 3))\n",
        "c"
      ]
    },
    {
      "cell_type": "markdown",
      "metadata": {
        "id": "ceYv-RVbooBD"
      },
      "source": [
        "##### ⬜ Get (0, 0, 0), (2, 3, 1) and (3, 4, 2) elements"
      ]
    },
    {
      "cell_type": "code",
      "execution_count": null,
      "metadata": {
        "colab": {
          "base_uri": "https://localhost:8080/",
          "height": 54
        },
        "id": "_Ja3590ZP1wi",
        "outputId": "0f200041-7280-4c7f-bcd4-458db4690f6c"
      },
      "outputs": [
        {
          "output_type": "display_data",
          "data": {
            "text/plain": [
              "<IPython.core.display.HTML object>"
            ],
            "text/html": [
              "<style> \n",
              "    body {\n",
              "      font-size: 30px;\n",
              "    }\n",
              "  "
            ]
          },
          "metadata": {}
        },
        {
          "output_type": "execute_result",
          "data": {
            "text/plain": [
              "(tensor(16), tensor(95), tensor(58))"
            ]
          },
          "metadata": {},
          "execution_count": 118
        }
      ],
      "source": [
        "c[0, 0, 0], c[2, 3, 1], c[3, 4, 2]"
      ]
    },
    {
      "cell_type": "code",
      "execution_count": null,
      "metadata": {
        "colab": {
          "base_uri": "https://localhost:8080/",
          "height": 203
        },
        "id": "Wr5mo_Onm3Xz",
        "outputId": "f7b54caa-18b5-4979-d04b-a745e8e88707"
      },
      "outputs": [
        {
          "output_type": "display_data",
          "data": {
            "text/plain": [
              "<IPython.core.display.HTML object>"
            ],
            "text/html": [
              "<style> \n",
              "    body {\n",
              "      font-size: 30px;\n",
              "    }\n",
              "  "
            ]
          },
          "metadata": {}
        },
        {
          "output_type": "execute_result",
          "data": {
            "text/plain": [
              "tensor([[16, 68, 42],\n",
              "        [63,  3,  5],\n",
              "        [79, 52, 39],\n",
              "        [85, 26, 97],\n",
              "        [80, 36, 96]])"
            ]
          },
          "metadata": {},
          "execution_count": 119
        }
      ],
      "source": [
        "c[0]"
      ]
    },
    {
      "cell_type": "code",
      "source": [
        "c[0, 2]"
      ],
      "metadata": {
        "colab": {
          "base_uri": "https://localhost:8080/",
          "height": 54
        },
        "id": "WFp7XqFmQy8b",
        "outputId": "c61208a2-ecab-49cd-c3f4-90528b574605"
      },
      "execution_count": null,
      "outputs": [
        {
          "output_type": "display_data",
          "data": {
            "text/plain": [
              "<IPython.core.display.HTML object>"
            ],
            "text/html": [
              "<style> \n",
              "    body {\n",
              "      font-size: 30px;\n",
              "    }\n",
              "  "
            ]
          },
          "metadata": {}
        },
        {
          "output_type": "execute_result",
          "data": {
            "text/plain": [
              "tensor([79, 52, 39])"
            ]
          },
          "metadata": {},
          "execution_count": 120
        }
      ]
    },
    {
      "cell_type": "markdown",
      "metadata": {
        "jp-MarkdownHeadingCollapsed": true,
        "tags": [],
        "id": "R4xI_JJGboy_"
      },
      "source": [
        "### 🟧 **Slicing**"
      ]
    },
    {
      "cell_type": "markdown",
      "metadata": {
        "jp-MarkdownHeadingCollapsed": true,
        "tags": [],
        "id": "wvutjpiMmJgm"
      },
      "source": [
        "#### 🟨 **Vector**"
      ]
    },
    {
      "cell_type": "code",
      "execution_count": null,
      "metadata": {
        "colab": {
          "base_uri": "https://localhost:8080/",
          "height": 91
        },
        "id": "UC8lSxNLQUoq",
        "outputId": "820ceb32-2fde-46b6-a6e1-856f03cc0eda"
      },
      "outputs": [
        {
          "output_type": "display_data",
          "data": {
            "text/plain": [
              "<IPython.core.display.HTML object>"
            ],
            "text/html": [
              "<style> \n",
              "    body {\n",
              "      font-size: 30px;\n",
              "    }\n",
              "  "
            ]
          },
          "metadata": {}
        },
        {
          "output_type": "execute_result",
          "data": {
            "text/plain": [
              "tensor([-0.8074, -0.5224, -1.4004,  0.0016, -1.0554,  0.1362,  0.5167, -0.3897,\n",
              "        -0.0225,  0.5419])"
            ]
          },
          "metadata": {},
          "execution_count": 121
        }
      ],
      "source": [
        "a = torch.randn(10)\n",
        "a"
      ]
    },
    {
      "cell_type": "markdown",
      "metadata": {
        "id": "cIts3NiYo5v9"
      },
      "source": [
        "##### ⬜ [4:8]"
      ]
    },
    {
      "cell_type": "code",
      "execution_count": null,
      "metadata": {
        "id": "bQ1g8Kw7Qtui",
        "colab": {
          "base_uri": "https://localhost:8080/",
          "height": 54
        },
        "outputId": "c8e9ab93-8453-4191-edda-adacda3e0153"
      },
      "outputs": [
        {
          "output_type": "display_data",
          "data": {
            "text/plain": [
              "<IPython.core.display.HTML object>"
            ],
            "text/html": [
              "<style> \n",
              "    body {\n",
              "      font-size: 30px;\n",
              "    }\n",
              "  "
            ]
          },
          "metadata": {}
        },
        {
          "output_type": "execute_result",
          "data": {
            "text/plain": [
              "tensor([-1.0554,  0.1362,  0.5167, -0.3897])"
            ]
          },
          "metadata": {},
          "execution_count": 122
        }
      ],
      "source": [
        "a[4:8]"
      ]
    },
    {
      "cell_type": "markdown",
      "metadata": {
        "id": "1QXtRPQRpLil"
      },
      "source": [
        "##### ⬜ [0:1]"
      ]
    },
    {
      "cell_type": "code",
      "execution_count": null,
      "metadata": {
        "colab": {
          "base_uri": "https://localhost:8080/",
          "height": 54
        },
        "id": "VQfzbUV2Qxwj",
        "outputId": "2d49689a-ba1b-4d6a-ba2d-2221c6597237"
      },
      "outputs": [
        {
          "output_type": "display_data",
          "data": {
            "text/plain": [
              "<IPython.core.display.HTML object>"
            ],
            "text/html": [
              "<style> \n",
              "    body {\n",
              "      font-size: 30px;\n",
              "    }\n",
              "  "
            ]
          },
          "metadata": {}
        },
        {
          "output_type": "execute_result",
          "data": {
            "text/plain": [
              "tensor([-0.8074])"
            ]
          },
          "metadata": {},
          "execution_count": 123
        }
      ],
      "source": [
        "a[0:1]"
      ]
    },
    {
      "cell_type": "code",
      "source": [
        "a[0]"
      ],
      "metadata": {
        "colab": {
          "base_uri": "https://localhost:8080/",
          "height": 54
        },
        "id": "1xsh1UKFRjL5",
        "outputId": "142337f3-6f8e-4807-af2d-c15e2912bf72"
      },
      "execution_count": null,
      "outputs": [
        {
          "output_type": "display_data",
          "data": {
            "text/plain": [
              "<IPython.core.display.HTML object>"
            ],
            "text/html": [
              "<style> \n",
              "    body {\n",
              "      font-size: 30px;\n",
              "    }\n",
              "  "
            ]
          },
          "metadata": {}
        },
        {
          "output_type": "execute_result",
          "data": {
            "text/plain": [
              "tensor(-0.8074)"
            ]
          },
          "metadata": {},
          "execution_count": 124
        }
      ]
    },
    {
      "cell_type": "markdown",
      "metadata": {
        "id": "nzMU-yeQpOmq"
      },
      "source": [
        "##### ⬜ [0:-1]"
      ]
    },
    {
      "cell_type": "code",
      "execution_count": null,
      "metadata": {
        "colab": {
          "base_uri": "https://localhost:8080/",
          "height": 91
        },
        "id": "zhpygQaNRJQa",
        "outputId": "6ce27387-c8b3-492a-8bc8-ba85ae769d41"
      },
      "outputs": [
        {
          "output_type": "display_data",
          "data": {
            "text/plain": [
              "<IPython.core.display.HTML object>"
            ],
            "text/html": [
              "<style> \n",
              "    body {\n",
              "      font-size: 30px;\n",
              "    }\n",
              "  "
            ]
          },
          "metadata": {}
        },
        {
          "output_type": "execute_result",
          "data": {
            "text/plain": [
              "tensor([-0.8074, -0.5224, -1.4004,  0.0016, -1.0554,  0.1362,  0.5167, -0.3897,\n",
              "        -0.0225])"
            ]
          },
          "metadata": {},
          "execution_count": 125
        }
      ],
      "source": [
        "a[0:-1]"
      ]
    },
    {
      "cell_type": "markdown",
      "metadata": {
        "id": "vccy5ipJp96M"
      },
      "source": [
        "##### ⬜ [-2:-1]"
      ]
    },
    {
      "cell_type": "code",
      "execution_count": null,
      "metadata": {
        "id": "xzXmZkLKRVK5",
        "colab": {
          "base_uri": "https://localhost:8080/",
          "height": 54
        },
        "outputId": "f23cd311-e55e-4f76-ec47-33abe570b3b8"
      },
      "outputs": [
        {
          "output_type": "display_data",
          "data": {
            "text/plain": [
              "<IPython.core.display.HTML object>"
            ],
            "text/html": [
              "<style> \n",
              "    body {\n",
              "      font-size: 30px;\n",
              "    }\n",
              "  "
            ]
          },
          "metadata": {}
        },
        {
          "output_type": "execute_result",
          "data": {
            "text/plain": [
              "tensor([-0.0225])"
            ]
          },
          "metadata": {},
          "execution_count": 126
        }
      ],
      "source": [
        "a[-2:-1]"
      ]
    },
    {
      "cell_type": "markdown",
      "metadata": {
        "id": "AXc3pMHoq5nE"
      },
      "source": [
        "##### ⬜ [4:]"
      ]
    },
    {
      "cell_type": "code",
      "execution_count": null,
      "metadata": {
        "id": "u2mX-2eqV3Rd",
        "colab": {
          "base_uri": "https://localhost:8080/",
          "height": 54
        },
        "outputId": "c65a5029-301f-4247-dc10-e36b905ed94a"
      },
      "outputs": [
        {
          "output_type": "display_data",
          "data": {
            "text/plain": [
              "<IPython.core.display.HTML object>"
            ],
            "text/html": [
              "<style> \n",
              "    body {\n",
              "      font-size: 30px;\n",
              "    }\n",
              "  "
            ]
          },
          "metadata": {}
        },
        {
          "output_type": "execute_result",
          "data": {
            "text/plain": [
              "tensor([-1.0554,  0.1362,  0.5167, -0.3897, -0.0225,  0.5419])"
            ]
          },
          "metadata": {},
          "execution_count": 127
        }
      ],
      "source": [
        "a[4:]"
      ]
    },
    {
      "cell_type": "markdown",
      "metadata": {
        "id": "xEODsATtq8B1"
      },
      "source": [
        "##### ⬜ [:3]"
      ]
    },
    {
      "cell_type": "code",
      "execution_count": null,
      "metadata": {
        "id": "sLCEQMz_SNkI",
        "colab": {
          "base_uri": "https://localhost:8080/",
          "height": 54
        },
        "outputId": "08d88214-5aae-4091-d3c8-c9e9f9871f0d"
      },
      "outputs": [
        {
          "output_type": "display_data",
          "data": {
            "text/plain": [
              "<IPython.core.display.HTML object>"
            ],
            "text/html": [
              "<style> \n",
              "    body {\n",
              "      font-size: 30px;\n",
              "    }\n",
              "  "
            ]
          },
          "metadata": {}
        },
        {
          "output_type": "execute_result",
          "data": {
            "text/plain": [
              "tensor([-0.8074, -0.5224, -1.4004])"
            ]
          },
          "metadata": {},
          "execution_count": 129
        }
      ],
      "source": [
        "a[:3]"
      ]
    },
    {
      "cell_type": "markdown",
      "metadata": {
        "id": "CMrxWMpQq_BF"
      },
      "source": [
        "##### ⬜ [::2]"
      ]
    },
    {
      "cell_type": "code",
      "execution_count": null,
      "metadata": {
        "id": "8HzrI1z2WUle",
        "colab": {
          "base_uri": "https://localhost:8080/",
          "height": 91
        },
        "outputId": "cf0c19be-8b00-4b38-f415-dbb4667575c9"
      },
      "outputs": [
        {
          "output_type": "display_data",
          "data": {
            "text/plain": [
              "<IPython.core.display.HTML object>"
            ],
            "text/html": [
              "<style> \n",
              "    body {\n",
              "      font-size: 30px;\n",
              "    }\n",
              "  "
            ]
          },
          "metadata": {}
        },
        {
          "output_type": "execute_result",
          "data": {
            "text/plain": [
              "tensor([-0.8074, -0.5224, -1.4004,  0.0016, -1.0554,  0.1362,  0.5167, -0.3897,\n",
              "        -0.0225,  0.5419])"
            ]
          },
          "metadata": {},
          "execution_count": 130
        }
      ],
      "source": [
        "a"
      ]
    },
    {
      "cell_type": "code",
      "source": [
        "a[2:8:2]"
      ],
      "metadata": {
        "colab": {
          "base_uri": "https://localhost:8080/",
          "height": 54
        },
        "id": "Z_FA8s7USU9j",
        "outputId": "81e85417-7231-4c73-a974-044eb787e63a"
      },
      "execution_count": null,
      "outputs": [
        {
          "output_type": "display_data",
          "data": {
            "text/plain": [
              "<IPython.core.display.HTML object>"
            ],
            "text/html": [
              "<style> \n",
              "    body {\n",
              "      font-size: 30px;\n",
              "    }\n",
              "  "
            ]
          },
          "metadata": {}
        },
        {
          "output_type": "execute_result",
          "data": {
            "text/plain": [
              "tensor([-1.4004, -1.0554,  0.5167])"
            ]
          },
          "metadata": {},
          "execution_count": 132
        }
      ]
    },
    {
      "cell_type": "code",
      "source": [
        "a[::3]"
      ],
      "metadata": {
        "colab": {
          "base_uri": "https://localhost:8080/",
          "height": 54
        },
        "id": "U8ut69ZsSoWL",
        "outputId": "b1f2a05c-d6c4-44f0-9ff7-d713052f12e9"
      },
      "execution_count": null,
      "outputs": [
        {
          "output_type": "display_data",
          "data": {
            "text/plain": [
              "<IPython.core.display.HTML object>"
            ],
            "text/html": [
              "<style> \n",
              "    body {\n",
              "      font-size: 30px;\n",
              "    }\n",
              "  "
            ]
          },
          "metadata": {}
        },
        {
          "output_type": "execute_result",
          "data": {
            "text/plain": [
              "tensor([-0.8074,  0.0016,  0.5167,  0.5419])"
            ]
          },
          "metadata": {},
          "execution_count": 135
        }
      ]
    },
    {
      "cell_type": "markdown",
      "metadata": {
        "id": "yFu1p-IvrENF"
      },
      "source": [
        "##### ⬜ [1::3]"
      ]
    },
    {
      "cell_type": "code",
      "execution_count": null,
      "metadata": {
        "colab": {
          "base_uri": "https://localhost:8080/",
          "height": 54
        },
        "id": "3-19smnYrEvn",
        "outputId": "d0273064-e619-4222-b1f8-051fb822975e"
      },
      "outputs": [
        {
          "output_type": "display_data",
          "data": {
            "text/plain": [
              "<IPython.core.display.HTML object>"
            ],
            "text/html": [
              "<style> \n",
              "    body {\n",
              "      font-size: 30px;\n",
              "    }\n",
              "  "
            ]
          },
          "metadata": {}
        },
        {
          "output_type": "execute_result",
          "data": {
            "text/plain": [
              "tensor([-0.5224,  0.0016,  0.1362, -0.3897,  0.5419])"
            ]
          },
          "metadata": {},
          "execution_count": 136
        }
      ],
      "source": [
        "a[1::2]"
      ]
    },
    {
      "cell_type": "markdown",
      "metadata": {
        "id": "ezNzhTpNrHeN"
      },
      "source": [
        "##### ⬜ [[0, 2, 4]]"
      ]
    },
    {
      "cell_type": "code",
      "execution_count": null,
      "metadata": {
        "id": "flGjPAf_U65w",
        "colab": {
          "base_uri": "https://localhost:8080/",
          "height": 91
        },
        "outputId": "fef475ac-1cb5-45ab-8e19-2b4fadcee923"
      },
      "outputs": [
        {
          "output_type": "display_data",
          "data": {
            "text/plain": [
              "<IPython.core.display.HTML object>"
            ],
            "text/html": [
              "<style> \n",
              "    body {\n",
              "      font-size: 30px;\n",
              "    }\n",
              "  "
            ]
          },
          "metadata": {}
        },
        {
          "output_type": "execute_result",
          "data": {
            "text/plain": [
              "tensor([-0.8074, -0.5224, -1.4004,  0.0016, -1.0554,  0.1362,  0.5167, -0.3897,\n",
              "        -0.0225,  0.5419])"
            ]
          },
          "metadata": {},
          "execution_count": 137
        }
      ],
      "source": [
        "a"
      ]
    },
    {
      "cell_type": "code",
      "source": [
        "a[[0, 2, 7]]"
      ],
      "metadata": {
        "colab": {
          "base_uri": "https://localhost:8080/",
          "height": 54
        },
        "id": "-P8yE9-BTJuW",
        "outputId": "4444fdfd-49d6-4cca-a210-e03dcc51810b"
      },
      "execution_count": null,
      "outputs": [
        {
          "output_type": "display_data",
          "data": {
            "text/plain": [
              "<IPython.core.display.HTML object>"
            ],
            "text/html": [
              "<style> \n",
              "    body {\n",
              "      font-size: 30px;\n",
              "    }\n",
              "  "
            ]
          },
          "metadata": {}
        },
        {
          "output_type": "execute_result",
          "data": {
            "text/plain": [
              "tensor([-0.8074, -1.4004, -0.3897])"
            ]
          },
          "metadata": {},
          "execution_count": 138
        }
      ]
    },
    {
      "cell_type": "markdown",
      "metadata": {
        "jp-MarkdownHeadingCollapsed": true,
        "tags": [],
        "id": "TFSHVbuAmmY-"
      },
      "source": [
        "#### 🟨 **Matrix**"
      ]
    },
    {
      "cell_type": "code",
      "execution_count": null,
      "metadata": {
        "colab": {
          "base_uri": "https://localhost:8080/",
          "height": 129
        },
        "id": "-D9KlldgRtJl",
        "outputId": "90498596-6292-4756-a4e1-df71e36b3333"
      },
      "outputs": [
        {
          "output_type": "display_data",
          "data": {
            "text/plain": [
              "<IPython.core.display.HTML object>"
            ],
            "text/html": [
              "<style> \n",
              "    body {\n",
              "      font-size: 30px;\n",
              "    }\n",
              "  "
            ]
          },
          "metadata": {}
        },
        {
          "output_type": "execute_result",
          "data": {
            "text/plain": [
              "tensor([[-0.7418, -0.5037,  0.6972, -0.7789, -0.6758],\n",
              "        [-1.6758, -1.6717, -1.3953,  0.2272,  0.1272],\n",
              "        [ 0.4296, -1.6039,  0.3015, -1.5541, -1.7352]])"
            ]
          },
          "metadata": {},
          "execution_count": 139
        }
      ],
      "source": [
        "b = torch.randn(3,5)\n",
        "b"
      ]
    },
    {
      "cell_type": "markdown",
      "metadata": {
        "id": "Q0sJqcqurPaX"
      },
      "source": [
        "##### ⬜ [0:3, 2:-1]"
      ]
    },
    {
      "cell_type": "code",
      "execution_count": null,
      "metadata": {
        "colab": {
          "base_uri": "https://localhost:8080/",
          "height": 129
        },
        "id": "Ea1IdjaURvPz",
        "outputId": "9a6c7f2c-6eeb-440b-c017-1abf5e27c8b6"
      },
      "outputs": [
        {
          "output_type": "display_data",
          "data": {
            "text/plain": [
              "<IPython.core.display.HTML object>"
            ],
            "text/html": [
              "<style> \n",
              "    body {\n",
              "      font-size: 30px;\n",
              "    }\n",
              "  "
            ]
          },
          "metadata": {}
        },
        {
          "output_type": "execute_result",
          "data": {
            "text/plain": [
              "tensor([[ 0.6972, -0.7789],\n",
              "        [-1.3953,  0.2272],\n",
              "        [ 0.3015, -1.5541]])"
            ]
          },
          "metadata": {},
          "execution_count": 140
        }
      ],
      "source": [
        "b[0:3, 2:-1]"
      ]
    },
    {
      "cell_type": "code",
      "source": [
        "b[:, 2:-1]"
      ],
      "metadata": {
        "colab": {
          "base_uri": "https://localhost:8080/",
          "height": 129
        },
        "id": "-bDdCvLWTl-G",
        "outputId": "0c919456-4f8f-4d26-8c08-dd414a4e253a"
      },
      "execution_count": null,
      "outputs": [
        {
          "output_type": "display_data",
          "data": {
            "text/plain": [
              "<IPython.core.display.HTML object>"
            ],
            "text/html": [
              "<style> \n",
              "    body {\n",
              "      font-size: 30px;\n",
              "    }\n",
              "  "
            ]
          },
          "metadata": {}
        },
        {
          "output_type": "execute_result",
          "data": {
            "text/plain": [
              "tensor([[ 0.6972, -0.7789],\n",
              "        [-1.3953,  0.2272],\n",
              "        [ 0.3015, -1.5541]])"
            ]
          },
          "metadata": {},
          "execution_count": 141
        }
      ]
    },
    {
      "cell_type": "markdown",
      "metadata": {
        "id": "f3HN3CarrQOS"
      },
      "source": [
        "##### ⬜ [0:2]"
      ]
    },
    {
      "cell_type": "code",
      "execution_count": null,
      "metadata": {
        "colab": {
          "base_uri": "https://localhost:8080/",
          "height": 91
        },
        "id": "tWVnllOhRzb3",
        "outputId": "83f1dc0d-5212-40d0-cb50-28d387969150"
      },
      "outputs": [
        {
          "output_type": "display_data",
          "data": {
            "text/plain": [
              "<IPython.core.display.HTML object>"
            ],
            "text/html": [
              "<style> \n",
              "    body {\n",
              "      font-size: 30px;\n",
              "    }\n",
              "  "
            ]
          },
          "metadata": {}
        },
        {
          "output_type": "execute_result",
          "data": {
            "text/plain": [
              "tensor([[-0.7418, -0.5037,  0.6972, -0.7789, -0.6758],\n",
              "        [-1.6758, -1.6717, -1.3953,  0.2272,  0.1272]])"
            ]
          },
          "metadata": {},
          "execution_count": 143
        }
      ],
      "source": [
        "b[0:2]"
      ]
    },
    {
      "cell_type": "markdown",
      "metadata": {
        "id": "7ePgKtnjrVcb"
      },
      "source": [
        "##### ⬜ [0:2, :]"
      ]
    },
    {
      "cell_type": "code",
      "execution_count": null,
      "metadata": {
        "colab": {
          "base_uri": "https://localhost:8080/",
          "height": 91
        },
        "id": "BmITlIRIR31B",
        "outputId": "108cf2dd-dd97-4b7d-ff27-b84119a7cacd"
      },
      "outputs": [
        {
          "output_type": "display_data",
          "data": {
            "text/plain": [
              "<IPython.core.display.HTML object>"
            ],
            "text/html": [
              "<style> \n",
              "    body {\n",
              "      font-size: 30px;\n",
              "    }\n",
              "  "
            ]
          },
          "metadata": {}
        },
        {
          "output_type": "execute_result",
          "data": {
            "text/plain": [
              "tensor([[-0.7418, -0.5037,  0.6972, -0.7789, -0.6758],\n",
              "        [-1.6758, -1.6717, -1.3953,  0.2272,  0.1272]])"
            ]
          },
          "metadata": {},
          "execution_count": 146
        }
      ],
      "source": [
        "b[:2]"
      ]
    },
    {
      "cell_type": "markdown",
      "metadata": {
        "id": "IB4qnlQGrXsJ"
      },
      "source": [
        "##### ⬜ [::2, 2:]"
      ]
    },
    {
      "cell_type": "code",
      "execution_count": null,
      "metadata": {
        "colab": {
          "base_uri": "https://localhost:8080/",
          "height": 91
        },
        "id": "WHx9Nv52Sx2X",
        "outputId": "2fc0603f-4764-43b5-a491-550d810e46db"
      },
      "outputs": [
        {
          "output_type": "display_data",
          "data": {
            "text/plain": [
              "<IPython.core.display.HTML object>"
            ],
            "text/html": [
              "<style> \n",
              "    body {\n",
              "      font-size: 30px;\n",
              "    }\n",
              "  "
            ]
          },
          "metadata": {}
        },
        {
          "output_type": "execute_result",
          "data": {
            "text/plain": [
              "tensor([[ 0.6972, -0.7789, -0.6758],\n",
              "        [ 0.3015, -1.5541, -1.7352]])"
            ]
          },
          "metadata": {},
          "execution_count": 147
        }
      ],
      "source": [
        "b[::2, 2:]"
      ]
    },
    {
      "cell_type": "markdown",
      "metadata": {
        "jp-MarkdownHeadingCollapsed": true,
        "tags": [],
        "id": "neJ6icCdm0RV"
      },
      "source": [
        "#### 🟨 **Tensor**"
      ]
    },
    {
      "cell_type": "code",
      "execution_count": null,
      "metadata": {
        "colab": {
          "base_uri": "https://localhost:8080/",
          "height": 1000
        },
        "id": "iuzMXyw_S_XN",
        "outputId": "27cd295a-2ae0-4da7-d6e0-9e43328ab4ea",
        "collapsed": true
      },
      "outputs": [
        {
          "output_type": "display_data",
          "data": {
            "text/plain": [
              "<IPython.core.display.HTML object>"
            ],
            "text/html": [
              "<style> \n",
              "    body {\n",
              "      font-size: 30px;\n",
              "    }\n",
              "  "
            ]
          },
          "metadata": {}
        },
        {
          "output_type": "execute_result",
          "data": {
            "text/plain": [
              "tensor([[[ 3.9964e-01,  2.5257e+00, -8.4593e-01,  7.4750e-01,  4.0258e-01,\n",
              "          -6.1080e-01,  8.8297e-01],\n",
              "         [-1.2222e+00,  1.6030e-01,  9.8632e-01,  3.8095e-01,  4.1416e-01,\n",
              "          -3.2519e-01, -3.5170e-02],\n",
              "         [ 1.0306e+00, -1.2798e+00, -1.8296e+00,  1.0600e+00, -3.5288e-01,\n",
              "           1.1780e+00, -4.1732e-01],\n",
              "         [-7.3049e-01,  9.1435e-01, -1.2835e+00,  8.1665e-01,  7.5862e-01,\n",
              "          -4.1897e-01, -5.9710e-01],\n",
              "         [ 3.0264e-01,  1.5967e+00,  6.0474e-01,  5.0088e-01,  1.2449e+00,\n",
              "          -9.5075e-01, -8.5619e-01],\n",
              "         [-1.6270e+00,  1.3200e-01, -7.8860e-01,  8.3347e-01, -1.1505e+00,\n",
              "           2.6248e+00, -7.6603e-02]],\n",
              "\n",
              "        [[-3.6748e-01, -1.0196e+00,  4.2049e-01, -7.0006e-01,  3.4864e-01,\n",
              "          -7.1837e-02, -6.0987e-01],\n",
              "         [ 9.5295e-01,  1.0476e+00, -5.5043e-01, -1.8614e-01,  1.2470e+00,\n",
              "           7.5712e-02,  1.8035e+00],\n",
              "         [-1.1165e+00, -7.2209e-02, -3.6708e-01,  1.0457e+00,  1.6917e+00,\n",
              "          -2.0579e+00, -3.0253e-01],\n",
              "         [-1.0582e+00,  4.8157e-01, -1.5625e-01, -5.0144e-01,  3.7736e-01,\n",
              "           1.5871e+00,  1.3538e+00],\n",
              "         [ 7.8838e-01, -1.6192e+00,  6.6749e-01,  1.3915e+00, -7.3116e-01,\n",
              "          -3.6546e-01,  9.0632e-01],\n",
              "         [-1.6588e-01, -1.9973e+00,  4.0366e-01, -2.0559e-01, -7.5239e-01,\n",
              "           3.5400e-01,  1.4734e+00]],\n",
              "\n",
              "        [[ 1.3110e+00,  3.9656e-01,  2.2142e-01, -6.9264e-03, -1.8184e-03,\n",
              "           3.4152e-01,  1.9004e+00],\n",
              "         [-2.3433e-01,  8.2599e-02,  7.1185e-02,  8.9662e-02,  3.6016e-01,\n",
              "          -5.3821e-01,  4.2969e-01],\n",
              "         [ 1.1980e+00, -1.0833e+00,  3.5402e-01,  7.9477e-01,  2.3819e+00,\n",
              "          -3.7064e-01,  1.1136e+00],\n",
              "         [-8.3236e-01, -3.2613e-01,  1.7579e+00,  3.6650e-01, -3.3034e-02,\n",
              "          -1.3126e+00, -9.2532e-01],\n",
              "         [ 1.2165e+00, -5.3512e-01,  4.0278e-01,  1.1849e-01,  2.9048e+00,\n",
              "           1.4602e+00,  1.5539e+00],\n",
              "         [-1.5911e+00,  4.6668e-01, -9.3761e-01,  5.8109e-01, -2.9350e-01,\n",
              "          -8.0874e-01, -3.1397e-01]],\n",
              "\n",
              "        [[-1.9417e+00, -1.8543e+00, -3.5177e-01, -5.9811e-01, -3.8076e-01,\n",
              "           3.5677e-03,  2.4633e-01],\n",
              "         [ 1.3368e-01, -1.0755e+00,  1.9913e+00, -8.6562e-01, -1.3697e+00,\n",
              "          -5.6596e-01,  1.1672e+00],\n",
              "         [-1.7709e+00, -4.4624e-01,  7.9434e-01,  7.4588e-01, -1.1040e+00,\n",
              "           4.3685e-01,  8.1806e-01],\n",
              "         [-1.0156e+00, -5.4061e-01,  1.5879e-01, -4.2923e-01,  4.3937e-01,\n",
              "           8.3979e-01,  1.0139e+00],\n",
              "         [ 1.5684e+00, -2.8093e-03,  5.3198e-01,  2.9024e-01, -1.3789e+00,\n",
              "           6.5103e-03, -5.6694e-01],\n",
              "         [-2.3711e-01,  9.2061e-01, -3.3571e-01,  5.5805e-01,  3.0900e-01,\n",
              "           2.4973e-01,  6.1005e-01]]])"
            ]
          },
          "metadata": {},
          "execution_count": 148
        }
      ],
      "source": [
        "c = torch.randn(4, 6, 7)\n",
        "c"
      ]
    },
    {
      "cell_type": "markdown",
      "metadata": {
        "id": "B1ZzjQcYrdOm"
      },
      "source": [
        "##### ⬜ [1:2, 3:5, 2:4]"
      ]
    },
    {
      "cell_type": "code",
      "execution_count": null,
      "metadata": {
        "colab": {
          "base_uri": "https://localhost:8080/",
          "height": 91
        },
        "id": "K-qc_xdkTCtm",
        "outputId": "aa517ddb-601b-4f03-cfe8-82e29025d708"
      },
      "outputs": [
        {
          "output_type": "display_data",
          "data": {
            "text/plain": [
              "<IPython.core.display.HTML object>"
            ],
            "text/html": [
              "<style> \n",
              "    body {\n",
              "      font-size: 30px;\n",
              "    }\n",
              "  "
            ]
          },
          "metadata": {}
        },
        {
          "output_type": "execute_result",
          "data": {
            "text/plain": [
              "tensor([[[-0.1562, -0.5014],\n",
              "         [ 0.6675,  1.3915]]])"
            ]
          },
          "metadata": {},
          "execution_count": 151
        }
      ],
      "source": [
        "c[1:2, 3:5, 2:4]"
      ]
    },
    {
      "cell_type": "code",
      "source": [
        "c[[1], 3:5, 2:4]"
      ],
      "metadata": {
        "colab": {
          "base_uri": "https://localhost:8080/",
          "height": 91
        },
        "id": "Q6t6l0QHUmxh",
        "outputId": "152b15fe-be4e-4270-dbbe-fb7f5a04e0fb"
      },
      "execution_count": null,
      "outputs": [
        {
          "output_type": "display_data",
          "data": {
            "text/plain": [
              "<IPython.core.display.HTML object>"
            ],
            "text/html": [
              "<style> \n",
              "    body {\n",
              "      font-size: 30px;\n",
              "    }\n",
              "  "
            ]
          },
          "metadata": {}
        },
        {
          "output_type": "execute_result",
          "data": {
            "text/plain": [
              "tensor([[[-0.1562, -0.5014],\n",
              "         [ 0.6675,  1.3915]]])"
            ]
          },
          "metadata": {},
          "execution_count": 152
        }
      ]
    },
    {
      "cell_type": "markdown",
      "metadata": {
        "id": "sJYEm0DYrfHN"
      },
      "source": [
        "##### ⬜ [1:3, :, -1]"
      ]
    },
    {
      "cell_type": "code",
      "execution_count": null,
      "metadata": {
        "colab": {
          "base_uri": "https://localhost:8080/",
          "height": 91
        },
        "id": "V0RhsISVTer6",
        "outputId": "a248ac6b-f545-4e89-9e5c-ac2f2ddfd860"
      },
      "outputs": [
        {
          "output_type": "display_data",
          "data": {
            "text/plain": [
              "<IPython.core.display.HTML object>"
            ],
            "text/html": [
              "<style> \n",
              "    body {\n",
              "      font-size: 30px;\n",
              "    }\n",
              "  "
            ]
          },
          "metadata": {}
        },
        {
          "output_type": "execute_result",
          "data": {
            "text/plain": [
              "tensor([[-0.6099,  1.8035, -0.3025,  1.3538,  0.9063,  1.4734],\n",
              "        [ 1.9004,  0.4297,  1.1136, -0.9253,  1.5539, -0.3140]])"
            ]
          },
          "metadata": {},
          "execution_count": 153
        }
      ],
      "source": [
        "c[1:3, :, -1]"
      ]
    },
    {
      "cell_type": "markdown",
      "metadata": {
        "id": "vv7C4pbErhgZ"
      },
      "source": [
        "##### ⬜ [1]"
      ]
    },
    {
      "cell_type": "code",
      "execution_count": null,
      "metadata": {
        "colab": {
          "base_uri": "https://localhost:8080/",
          "height": 240
        },
        "id": "r-t7VYUQULLs",
        "outputId": "99cf39a5-6eec-4939-c41f-be18f674f816"
      },
      "outputs": [
        {
          "output_type": "display_data",
          "data": {
            "text/plain": [
              "<IPython.core.display.HTML object>"
            ],
            "text/html": [
              "<style> \n",
              "    body {\n",
              "      font-size: 30px;\n",
              "    }\n",
              "  "
            ]
          },
          "metadata": {}
        },
        {
          "output_type": "execute_result",
          "data": {
            "text/plain": [
              "tensor([[-0.3675, -1.0196,  0.4205, -0.7001,  0.3486, -0.0718, -0.6099],\n",
              "        [ 0.9530,  1.0476, -0.5504, -0.1861,  1.2470,  0.0757,  1.8035],\n",
              "        [-1.1165, -0.0722, -0.3671,  1.0457,  1.6917, -2.0579, -0.3025],\n",
              "        [-1.0582,  0.4816, -0.1562, -0.5014,  0.3774,  1.5871,  1.3538],\n",
              "        [ 0.7884, -1.6192,  0.6675,  1.3915, -0.7312, -0.3655,  0.9063],\n",
              "        [-0.1659, -1.9973,  0.4037, -0.2056, -0.7524,  0.3540,  1.4734]])"
            ]
          },
          "metadata": {},
          "execution_count": 156
        }
      ],
      "source": [
        "c[1]"
      ]
    },
    {
      "cell_type": "markdown",
      "metadata": {
        "id": "U3glMa17rjJq"
      },
      "source": [
        "##### ⬜ [..., 1]"
      ]
    },
    {
      "cell_type": "code",
      "execution_count": null,
      "metadata": {
        "id": "05Igf-2bUOlO",
        "colab": {
          "base_uri": "https://localhost:8080/",
          "height": 166
        },
        "outputId": "62f7390b-446e-44c7-b43d-e92cee1f6b69"
      },
      "outputs": [
        {
          "output_type": "display_data",
          "data": {
            "text/plain": [
              "<IPython.core.display.HTML object>"
            ],
            "text/html": [
              "<style> \n",
              "    body {\n",
              "      font-size: 30px;\n",
              "    }\n",
              "  "
            ]
          },
          "metadata": {}
        },
        {
          "output_type": "execute_result",
          "data": {
            "text/plain": [
              "tensor([[ 0.8830, -0.0352, -0.4173, -0.5971, -0.8562, -0.0766],\n",
              "        [-0.6099,  1.8035, -0.3025,  1.3538,  0.9063,  1.4734],\n",
              "        [ 1.9004,  0.4297,  1.1136, -0.9253,  1.5539, -0.3140],\n",
              "        [ 0.2463,  1.1672,  0.8181,  1.0139, -0.5669,  0.6101]])"
            ]
          },
          "metadata": {},
          "execution_count": 157
        }
      ],
      "source": [
        "c[:, :, -1]"
      ]
    },
    {
      "cell_type": "code",
      "source": [
        "c[..., -1]"
      ],
      "metadata": {
        "colab": {
          "base_uri": "https://localhost:8080/",
          "height": 166
        },
        "id": "3BCBRYIJVIY_",
        "outputId": "0f28b8da-5ba3-4d78-9878-ffcb92705dc0"
      },
      "execution_count": null,
      "outputs": [
        {
          "output_type": "display_data",
          "data": {
            "text/plain": [
              "<IPython.core.display.HTML object>"
            ],
            "text/html": [
              "<style> \n",
              "    body {\n",
              "      font-size: 30px;\n",
              "    }\n",
              "  "
            ]
          },
          "metadata": {}
        },
        {
          "output_type": "execute_result",
          "data": {
            "text/plain": [
              "tensor([[ 0.8830, -0.0352, -0.4173, -0.5971, -0.8562, -0.0766],\n",
              "        [-0.6099,  1.8035, -0.3025,  1.3538,  0.9063,  1.4734],\n",
              "        [ 1.9004,  0.4297,  1.1136, -0.9253,  1.5539, -0.3140],\n",
              "        [ 0.2463,  1.1672,  0.8181,  1.0139, -0.5669,  0.6101]])"
            ]
          },
          "metadata": {},
          "execution_count": 158
        }
      ]
    },
    {
      "cell_type": "markdown",
      "metadata": {
        "jp-MarkdownHeadingCollapsed": true,
        "tags": [],
        "id": "2QcpbYV6bozJ"
      },
      "source": [
        "## 🟥 **Section 8: Math Operations**"
      ]
    },
    {
      "cell_type": "markdown",
      "metadata": {
        "jp-MarkdownHeadingCollapsed": true,
        "tags": [],
        "id": "xUtxCw0_bozJ"
      },
      "source": [
        "### 🟧 **Sample matrices**"
      ]
    },
    {
      "cell_type": "code",
      "source": [
        "a = torch.randint(10, (2, 2))\n",
        "a"
      ],
      "metadata": {
        "colab": {
          "base_uri": "https://localhost:8080/",
          "height": 91
        },
        "id": "QVKT8_COW9KD",
        "outputId": "7e020faf-78d2-4a96-9e7b-a39017acfdcf"
      },
      "execution_count": null,
      "outputs": [
        {
          "output_type": "display_data",
          "data": {
            "text/plain": [
              "<IPython.core.display.HTML object>"
            ],
            "text/html": [
              "<style> \n",
              "    body {\n",
              "      font-size: 30px;\n",
              "    }\n",
              "  "
            ]
          },
          "metadata": {}
        },
        {
          "output_type": "execute_result",
          "data": {
            "text/plain": [
              "tensor([[9, 1],\n",
              "        [7, 9]])"
            ]
          },
          "metadata": {},
          "execution_count": 164
        }
      ]
    },
    {
      "cell_type": "code",
      "source": [
        "b = torch.randint(10, (2, 2))\n",
        "b"
      ],
      "metadata": {
        "colab": {
          "base_uri": "https://localhost:8080/",
          "height": 91
        },
        "id": "Aj8d3nzrW9AY",
        "outputId": "40540a1c-8da5-4b5d-e8df-6ee83d64ef50"
      },
      "execution_count": null,
      "outputs": [
        {
          "output_type": "display_data",
          "data": {
            "text/plain": [
              "<IPython.core.display.HTML object>"
            ],
            "text/html": [
              "<style> \n",
              "    body {\n",
              "      font-size: 30px;\n",
              "    }\n",
              "  "
            ]
          },
          "metadata": {}
        },
        {
          "output_type": "execute_result",
          "data": {
            "text/plain": [
              "tensor([[9, 0],\n",
              "        [1, 3]])"
            ]
          },
          "metadata": {},
          "execution_count": 165
        }
      ]
    },
    {
      "cell_type": "markdown",
      "metadata": {
        "jp-MarkdownHeadingCollapsed": true,
        "tags": [],
        "id": "kvdt_5JLbozK"
      },
      "source": [
        "### 🟧 **Addition**"
      ]
    },
    {
      "cell_type": "code",
      "source": [
        "a + b"
      ],
      "metadata": {
        "colab": {
          "base_uri": "https://localhost:8080/",
          "height": 91
        },
        "id": "ijE9pSfhW4a2",
        "outputId": "fb39af26-f4be-451c-a08f-644e4e262d6b"
      },
      "execution_count": null,
      "outputs": [
        {
          "output_type": "display_data",
          "data": {
            "text/plain": [
              "<IPython.core.display.HTML object>"
            ],
            "text/html": [
              "<style> \n",
              "    body {\n",
              "      font-size: 30px;\n",
              "    }\n",
              "  "
            ]
          },
          "metadata": {}
        },
        {
          "output_type": "execute_result",
          "data": {
            "text/plain": [
              "tensor([[18,  1],\n",
              "        [ 8, 12]])"
            ]
          },
          "metadata": {},
          "execution_count": 166
        }
      ]
    },
    {
      "cell_type": "code",
      "source": [
        "torch.add(a, b, )"
      ],
      "metadata": {
        "colab": {
          "base_uri": "https://localhost:8080/",
          "height": 91
        },
        "id": "W4LjAqS5W7R4",
        "outputId": "2e18b6e8-7d0b-4718-b6ce-882ac74d7337"
      },
      "execution_count": null,
      "outputs": [
        {
          "output_type": "display_data",
          "data": {
            "text/plain": [
              "<IPython.core.display.HTML object>"
            ],
            "text/html": [
              "<style> \n",
              "    body {\n",
              "      font-size: 30px;\n",
              "    }\n",
              "  "
            ]
          },
          "metadata": {}
        },
        {
          "output_type": "execute_result",
          "data": {
            "text/plain": [
              "tensor([[18,  1],\n",
              "        [ 8, 12]])"
            ]
          },
          "metadata": {},
          "execution_count": 167
        }
      ]
    },
    {
      "cell_type": "markdown",
      "metadata": {
        "jp-MarkdownHeadingCollapsed": true,
        "tags": [],
        "id": "1mDarQCabozK"
      },
      "source": [
        "### 🟧 **Subtraction**"
      ]
    },
    {
      "cell_type": "code",
      "source": [
        "a - b"
      ],
      "metadata": {
        "colab": {
          "base_uri": "https://localhost:8080/",
          "height": 91
        },
        "id": "gY6KzK0PW2Uk",
        "outputId": "911e7811-0668-405d-f4be-b5b0be1f36f4"
      },
      "execution_count": null,
      "outputs": [
        {
          "output_type": "display_data",
          "data": {
            "text/plain": [
              "<IPython.core.display.HTML object>"
            ],
            "text/html": [
              "<style> \n",
              "    body {\n",
              "      font-size: 30px;\n",
              "    }\n",
              "  "
            ]
          },
          "metadata": {}
        },
        {
          "output_type": "execute_result",
          "data": {
            "text/plain": [
              "tensor([[0, 1],\n",
              "        [6, 6]])"
            ]
          },
          "metadata": {},
          "execution_count": 168
        }
      ]
    },
    {
      "cell_type": "markdown",
      "metadata": {
        "jp-MarkdownHeadingCollapsed": true,
        "tags": [],
        "id": "YwrOiVzVbozK"
      },
      "source": [
        "### 🟧 **Multiplication**"
      ]
    },
    {
      "cell_type": "code",
      "execution_count": null,
      "metadata": {
        "id": "aLGoptfoapTl",
        "colab": {
          "base_uri": "https://localhost:8080/",
          "height": 91
        },
        "outputId": "e546e118-3a86-40d5-e85c-f5dcd5360a72"
      },
      "outputs": [
        {
          "output_type": "display_data",
          "data": {
            "text/plain": [
              "<IPython.core.display.HTML object>"
            ],
            "text/html": [
              "<style> \n",
              "    body {\n",
              "      font-size: 30px;\n",
              "    }\n",
              "  "
            ]
          },
          "metadata": {}
        },
        {
          "output_type": "execute_result",
          "data": {
            "text/plain": [
              "tensor([[81,  0],\n",
              "        [ 7, 27]])"
            ]
          },
          "metadata": {},
          "execution_count": 169
        }
      ],
      "source": [
        "a * b"
      ]
    },
    {
      "cell_type": "markdown",
      "metadata": {
        "jp-MarkdownHeadingCollapsed": true,
        "tags": [],
        "id": "S6XjSqbZbozL"
      },
      "source": [
        "### 🟧 **Division**"
      ]
    },
    {
      "cell_type": "code",
      "execution_count": null,
      "metadata": {
        "id": "E7cSVFzxaqiU",
        "colab": {
          "base_uri": "https://localhost:8080/",
          "height": 91
        },
        "outputId": "97e46373-f956-420a-8894-1a3833853ebf"
      },
      "outputs": [
        {
          "output_type": "display_data",
          "data": {
            "text/plain": [
              "<IPython.core.display.HTML object>"
            ],
            "text/html": [
              "<style> \n",
              "    body {\n",
              "      font-size: 30px;\n",
              "    }\n",
              "  "
            ]
          },
          "metadata": {}
        },
        {
          "output_type": "execute_result",
          "data": {
            "text/plain": [
              "tensor([[1., inf],\n",
              "        [7., 3.]])"
            ]
          },
          "metadata": {},
          "execution_count": 170
        }
      ],
      "source": [
        "a / b"
      ]
    },
    {
      "cell_type": "code",
      "source": [
        "-torch.inf, torch.pi"
      ],
      "metadata": {
        "colab": {
          "base_uri": "https://localhost:8080/",
          "height": 54
        },
        "id": "CZzICqiMYJdJ",
        "outputId": "830bf7a7-6908-4dfe-e5a5-4e3f2b98f1d9"
      },
      "execution_count": null,
      "outputs": [
        {
          "output_type": "display_data",
          "data": {
            "text/plain": [
              "<IPython.core.display.HTML object>"
            ],
            "text/html": [
              "<style> \n",
              "    body {\n",
              "      font-size: 30px;\n",
              "    }\n",
              "  "
            ]
          },
          "metadata": {}
        },
        {
          "output_type": "execute_result",
          "data": {
            "text/plain": [
              "(-inf, 3.141592653589793)"
            ]
          },
          "metadata": {},
          "execution_count": 176
        }
      ]
    },
    {
      "cell_type": "markdown",
      "metadata": {
        "jp-MarkdownHeadingCollapsed": true,
        "tags": [],
        "id": "GKhA4qkAbozL"
      },
      "source": [
        "### 🟧 **Matrix Multiplication**"
      ]
    },
    {
      "cell_type": "code",
      "execution_count": null,
      "metadata": {
        "id": "EvCzmrvuarS9",
        "colab": {
          "base_uri": "https://localhost:8080/",
          "height": 91
        },
        "outputId": "46df5f2d-a0ac-4fd0-e3c2-f2d2ea480d64"
      },
      "outputs": [
        {
          "output_type": "display_data",
          "data": {
            "text/plain": [
              "<IPython.core.display.HTML object>"
            ],
            "text/html": [
              "<style> \n",
              "    body {\n",
              "      font-size: 30px;\n",
              "    }\n",
              "  "
            ]
          },
          "metadata": {}
        },
        {
          "output_type": "execute_result",
          "data": {
            "text/plain": [
              "tensor([[82,  3],\n",
              "        [72, 27]])"
            ]
          },
          "metadata": {},
          "execution_count": 177
        }
      ],
      "source": [
        "a @ b"
      ]
    },
    {
      "cell_type": "code",
      "execution_count": null,
      "metadata": {
        "id": "m59MHrEmcT35",
        "colab": {
          "base_uri": "https://localhost:8080/",
          "height": 91
        },
        "outputId": "1a754e81-ddba-4374-da3e-725f3eee8448"
      },
      "outputs": [
        {
          "output_type": "display_data",
          "data": {
            "text/plain": [
              "<IPython.core.display.HTML object>"
            ],
            "text/html": [
              "<style> \n",
              "    body {\n",
              "      font-size: 30px;\n",
              "    }\n",
              "  "
            ]
          },
          "metadata": {}
        },
        {
          "output_type": "execute_result",
          "data": {
            "text/plain": [
              "tensor([[82,  3],\n",
              "        [72, 27]])"
            ]
          },
          "metadata": {},
          "execution_count": 178
        }
      ],
      "source": [
        "torch.matmul(a, b)"
      ]
    },
    {
      "cell_type": "code",
      "source": [
        "a.matmul(b)"
      ],
      "metadata": {
        "colab": {
          "base_uri": "https://localhost:8080/",
          "height": 91
        },
        "id": "tl1xhr7RYkzG",
        "outputId": "be478bbc-42ae-4346-a103-426bddc0c96b"
      },
      "execution_count": null,
      "outputs": [
        {
          "output_type": "display_data",
          "data": {
            "text/plain": [
              "<IPython.core.display.HTML object>"
            ],
            "text/html": [
              "<style> \n",
              "    body {\n",
              "      font-size: 30px;\n",
              "    }\n",
              "  "
            ]
          },
          "metadata": {}
        },
        {
          "output_type": "execute_result",
          "data": {
            "text/plain": [
              "tensor([[82,  3],\n",
              "        [72, 27]])"
            ]
          },
          "metadata": {},
          "execution_count": 179
        }
      ]
    },
    {
      "cell_type": "code",
      "execution_count": null,
      "metadata": {
        "id": "e_y2I6zYc7Ht"
      },
      "outputs": [],
      "source": [
        "a * b"
      ]
    },
    {
      "cell_type": "markdown",
      "metadata": {
        "jp-MarkdownHeadingCollapsed": true,
        "tags": [],
        "id": "DXHitV-2bozM"
      },
      "source": [
        "### 🟧 **Broadcasting**"
      ]
    },
    {
      "cell_type": "markdown",
      "metadata": {
        "id": "wfqBOfr_3W6x"
      },
      "source": [
        "#### 🟨 **Sum a vector with a scalar**"
      ]
    },
    {
      "cell_type": "markdown",
      "source": [
        "![image.png](data:image/png;base64,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)"
      ],
      "metadata": {
        "id": "368QbKyNsSwS"
      }
    },
    {
      "cell_type": "code",
      "execution_count": null,
      "metadata": {
        "id": "x6X5fDN0emkx",
        "colab": {
          "base_uri": "https://localhost:8080/",
          "height": 91
        },
        "outputId": "b6d7e0d9-f805-4b7f-a308-7d5c6f677b0c"
      },
      "outputs": [
        {
          "output_type": "display_data",
          "data": {
            "text/plain": [
              "<IPython.core.display.HTML object>"
            ],
            "text/html": [
              "<style> \n",
              "    body {\n",
              "      font-size: 30px;\n",
              "    }\n",
              "  "
            ]
          },
          "metadata": {}
        },
        {
          "output_type": "execute_result",
          "data": {
            "text/plain": [
              "tensor([[[1, 2, 4],\n",
              "         [7, 1, 2]]])"
            ]
          },
          "metadata": {},
          "execution_count": 180
        }
      ],
      "source": [
        "a = torch.randint(10, (1, 2, 3))\n",
        "a"
      ]
    },
    {
      "cell_type": "code",
      "execution_count": null,
      "metadata": {
        "id": "4-eeMe5iflgC",
        "colab": {
          "base_uri": "https://localhost:8080/",
          "height": 91
        },
        "outputId": "05f44e87-5033-4938-89bb-2f3b3a94f344"
      },
      "outputs": [
        {
          "output_type": "display_data",
          "data": {
            "text/plain": [
              "<IPython.core.display.HTML object>"
            ],
            "text/html": [
              "<style> \n",
              "    body {\n",
              "      font-size: 30px;\n",
              "    }\n",
              "  "
            ]
          },
          "metadata": {}
        },
        {
          "output_type": "execute_result",
          "data": {
            "text/plain": [
              "tensor([[[3, 4, 6],\n",
              "         [9, 3, 4]]])"
            ]
          },
          "metadata": {},
          "execution_count": 181
        }
      ],
      "source": [
        "a + 2"
      ]
    },
    {
      "cell_type": "markdown",
      "metadata": {
        "id": "YSRqbr29vkED"
      },
      "source": [
        "#### 🟨 **Sum a matrix with a vector**"
      ]
    },
    {
      "cell_type": "markdown",
      "source": [
        "![image.png](data:image/png;base64,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)"
      ],
      "metadata": {
        "id": "rW-sU-Y8sDRq"
      }
    },
    {
      "cell_type": "code",
      "execution_count": null,
      "metadata": {
        "id": "jJdDTfDS42sQ",
        "colab": {
          "base_uri": "https://localhost:8080/",
          "height": 166
        },
        "outputId": "3a8c12cd-38ae-4c9c-aa03-b191ca7c9ebd"
      },
      "outputs": [
        {
          "output_type": "display_data",
          "data": {
            "text/plain": [
              "<IPython.core.display.HTML object>"
            ],
            "text/html": [
              "<style> \n",
              "    body {\n",
              "      font-size: 30px;\n",
              "    }\n",
              "  "
            ]
          },
          "metadata": {}
        },
        {
          "output_type": "execute_result",
          "data": {
            "text/plain": [
              "(tensor([[1., 1., 1.],\n",
              "         [1., 1., 1.],\n",
              "         [1., 1., 1.]]),\n",
              " tensor([0, 1, 2]))"
            ]
          },
          "metadata": {},
          "execution_count": 182
        }
      ],
      "source": [
        "a = torch.ones(3, 3)\n",
        "b = torch.arange(0, 3)\n",
        "a, b"
      ]
    },
    {
      "cell_type": "code",
      "source": [
        "a + b"
      ],
      "metadata": {
        "colab": {
          "base_uri": "https://localhost:8080/",
          "height": 129
        },
        "id": "B3KJGJscZTW6",
        "outputId": "f10892e3-0631-4742-a26d-9cc4de29ff5e"
      },
      "execution_count": null,
      "outputs": [
        {
          "output_type": "display_data",
          "data": {
            "text/plain": [
              "<IPython.core.display.HTML object>"
            ],
            "text/html": [
              "<style> \n",
              "    body {\n",
              "      font-size: 30px;\n",
              "    }\n",
              "  "
            ]
          },
          "metadata": {}
        },
        {
          "output_type": "execute_result",
          "data": {
            "text/plain": [
              "tensor([[1., 2., 3.],\n",
              "        [1., 2., 3.],\n",
              "        [1., 2., 3.]])"
            ]
          },
          "metadata": {},
          "execution_count": 183
        }
      ]
    },
    {
      "cell_type": "markdown",
      "metadata": {
        "jp-MarkdownHeadingCollapsed": true,
        "tags": [],
        "id": "aTIidY7-bozO"
      },
      "source": [
        "## 🟥 **Section 9: Dimension Transformation**"
      ]
    },
    {
      "cell_type": "markdown",
      "metadata": {
        "jp-MarkdownHeadingCollapsed": true,
        "tags": [],
        "id": "JDwa1MREbozO"
      },
      "source": [
        "### 🟧 **Sample tensors**"
      ]
    },
    {
      "cell_type": "code",
      "source": [
        "a = torch.randn(2, 6)\n",
        "b = torch.randn(3)"
      ],
      "metadata": {
        "colab": {
          "base_uri": "https://localhost:8080/",
          "height": 17
        },
        "id": "DCFssGcVeqXY",
        "outputId": "d04830c3-1f4d-47be-960d-e77f705cff04"
      },
      "execution_count": null,
      "outputs": [
        {
          "output_type": "display_data",
          "data": {
            "text/plain": [
              "<IPython.core.display.HTML object>"
            ],
            "text/html": [
              "<style> \n",
              "    body {\n",
              "      font-size: 30px;\n",
              "    }\n",
              "  "
            ]
          },
          "metadata": {}
        }
      ]
    },
    {
      "cell_type": "code",
      "source": [
        "a"
      ],
      "metadata": {
        "colab": {
          "base_uri": "https://localhost:8080/",
          "height": 91
        },
        "id": "qx7V0javerxF",
        "outputId": "0681ade6-3cd5-4c2f-92cd-7931ccae1540"
      },
      "execution_count": null,
      "outputs": [
        {
          "output_type": "display_data",
          "data": {
            "text/plain": [
              "<IPython.core.display.HTML object>"
            ],
            "text/html": [
              "<style> \n",
              "    body {\n",
              "      font-size: 30px;\n",
              "    }\n",
              "  "
            ]
          },
          "metadata": {}
        },
        {
          "output_type": "execute_result",
          "data": {
            "text/plain": [
              "tensor([[ 0.1529, -0.9053, -0.2742, -2.5797,  0.4038,  0.8559],\n",
              "        [ 0.7227,  0.3751, -0.7090,  0.5533, -1.9691,  1.4398]])"
            ]
          },
          "metadata": {},
          "execution_count": 205
        }
      ]
    },
    {
      "cell_type": "code",
      "source": [
        "b"
      ],
      "metadata": {
        "colab": {
          "base_uri": "https://localhost:8080/",
          "height": 54
        },
        "id": "BrsCQvWketXu",
        "outputId": "00e79f5c-b300-4df7-f5e8-4fbd79f2d4fe"
      },
      "execution_count": null,
      "outputs": [
        {
          "output_type": "display_data",
          "data": {
            "text/plain": [
              "<IPython.core.display.HTML object>"
            ],
            "text/html": [
              "<style> \n",
              "    body {\n",
              "      font-size: 30px;\n",
              "    }\n",
              "  "
            ]
          },
          "metadata": {}
        },
        {
          "output_type": "execute_result",
          "data": {
            "text/plain": [
              "tensor([ 0.1442, -0.1487,  0.4457])"
            ]
          },
          "metadata": {},
          "execution_count": 206
        }
      ]
    },
    {
      "cell_type": "markdown",
      "metadata": {
        "jp-MarkdownHeadingCollapsed": true,
        "tags": [],
        "id": "U-w_2TBZbozP"
      },
      "source": [
        "### 🟧 **`.view()`**"
      ]
    },
    {
      "cell_type": "markdown",
      "metadata": {
        "id": "dUo01hBzsuLG"
      },
      "source": [
        "Reshape `a` into a (2, 3, 2) tensor using `view`"
      ]
    },
    {
      "cell_type": "code",
      "source": [
        "a.view(2, 3, 2)"
      ],
      "metadata": {
        "colab": {
          "base_uri": "https://localhost:8080/",
          "height": 277
        },
        "id": "OmyPXzMsejyL",
        "outputId": "8bec28d1-3f92-4e1d-e516-7c1e7ad39927"
      },
      "execution_count": null,
      "outputs": [
        {
          "output_type": "display_data",
          "data": {
            "text/plain": [
              "<IPython.core.display.HTML object>"
            ],
            "text/html": [
              "<style> \n",
              "    body {\n",
              "      font-size: 30px;\n",
              "    }\n",
              "  "
            ]
          },
          "metadata": {}
        },
        {
          "output_type": "execute_result",
          "data": {
            "text/plain": [
              "tensor([[[ 0.1529, -0.9053],\n",
              "         [-0.2742, -2.5797],\n",
              "         [ 0.4038,  0.8559]],\n",
              "\n",
              "        [[ 0.7227,  0.3751],\n",
              "         [-0.7090,  0.5533],\n",
              "         [-1.9691,  1.4398]]])"
            ]
          },
          "metadata": {},
          "execution_count": 207
        }
      ]
    },
    {
      "cell_type": "markdown",
      "metadata": {
        "jp-MarkdownHeadingCollapsed": true,
        "tags": [],
        "id": "7SowXP4ybozP"
      },
      "source": [
        "### 🟧 **`.reshape()`**"
      ]
    },
    {
      "cell_type": "markdown",
      "metadata": {
        "id": "YoRb6QuN5i5Y"
      },
      "source": [
        "Reshape `a` into a (2, 3, 2) tensor using `reshape`"
      ]
    },
    {
      "cell_type": "code",
      "source": [
        "a.reshape(2, 3, 2)"
      ],
      "metadata": {
        "colab": {
          "base_uri": "https://localhost:8080/",
          "height": 277
        },
        "id": "C6n_ByxYefhi",
        "outputId": "b3e44835-f535-4f06-c5c5-98485a49a708"
      },
      "execution_count": null,
      "outputs": [
        {
          "output_type": "display_data",
          "data": {
            "text/plain": [
              "<IPython.core.display.HTML object>"
            ],
            "text/html": [
              "<style> \n",
              "    body {\n",
              "      font-size: 30px;\n",
              "    }\n",
              "  "
            ]
          },
          "metadata": {}
        },
        {
          "output_type": "execute_result",
          "data": {
            "text/plain": [
              "tensor([[[ 0.1529, -0.9053],\n",
              "         [-0.2742, -2.5797],\n",
              "         [ 0.4038,  0.8559]],\n",
              "\n",
              "        [[ 0.7227,  0.3751],\n",
              "         [-0.7090,  0.5533],\n",
              "         [-1.9691,  1.4398]]])"
            ]
          },
          "metadata": {},
          "execution_count": 208
        }
      ]
    },
    {
      "cell_type": "markdown",
      "metadata": {
        "jp-MarkdownHeadingCollapsed": true,
        "tags": [],
        "id": "2MIh1qLGbozV"
      },
      "source": [
        "### 🟧 **N-d tensor to vector**"
      ]
    },
    {
      "cell_type": "code",
      "execution_count": null,
      "metadata": {
        "colab": {
          "base_uri": "https://localhost:8080/",
          "height": 91
        },
        "id": "It9nSwIFp0R6",
        "outputId": "8d06a933-666f-4166-b6ea-0611caaff1b3"
      },
      "outputs": [
        {
          "output_type": "display_data",
          "data": {
            "text/plain": [
              "<IPython.core.display.HTML object>"
            ],
            "text/html": [
              "<style> \n",
              "    body {\n",
              "      font-size: 30px;\n",
              "    }\n",
              "  "
            ]
          },
          "metadata": {}
        },
        {
          "output_type": "execute_result",
          "data": {
            "text/plain": [
              "tensor([ 0.1529, -0.9053, -0.2742, -2.5797,  0.4038,  0.8559,  0.7227,  0.3751,\n",
              "        -0.7090,  0.5533, -1.9691,  1.4398])"
            ]
          },
          "metadata": {},
          "execution_count": 209
        }
      ],
      "source": [
        "a.view(-1)\n",
        "a.reshape(-1)"
      ]
    },
    {
      "cell_type": "code",
      "source": [
        "a.flatten()"
      ],
      "metadata": {
        "colab": {
          "base_uri": "https://localhost:8080/",
          "height": 91
        },
        "id": "NCzgKtI1gAM7",
        "outputId": "e4d34e8a-0df0-4db4-c7c4-727c412e36a1"
      },
      "execution_count": null,
      "outputs": [
        {
          "output_type": "display_data",
          "data": {
            "text/plain": [
              "<IPython.core.display.HTML object>"
            ],
            "text/html": [
              "<style> \n",
              "    body {\n",
              "      font-size: 30px;\n",
              "    }\n",
              "  "
            ]
          },
          "metadata": {}
        },
        {
          "output_type": "execute_result",
          "data": {
            "text/plain": [
              "tensor([ 0.1529, -0.9053, -0.2742, -2.5797,  0.4038,  0.8559,  0.7227,  0.3751,\n",
              "        -0.7090,  0.5533, -1.9691,  1.4398])"
            ]
          },
          "metadata": {},
          "execution_count": 210
        }
      ]
    },
    {
      "cell_type": "markdown",
      "metadata": {
        "jp-MarkdownHeadingCollapsed": true,
        "tags": [],
        "id": "49Fn7LPbbozX"
      },
      "source": [
        "### 🟧 **`.repeat()`**"
      ]
    },
    {
      "cell_type": "markdown",
      "metadata": {
        "id": "Y3K7B4xY6QPu"
      },
      "source": [
        "#### 🟨 Repeat b 3 times using `repeat`"
      ]
    },
    {
      "cell_type": "code",
      "execution_count": null,
      "metadata": {
        "id": "WYRnRNHkhX7-",
        "colab": {
          "base_uri": "https://localhost:8080/",
          "height": 91
        },
        "outputId": "26464281-f4f6-4d82-a328-a61baa1a369f"
      },
      "outputs": [
        {
          "output_type": "display_data",
          "data": {
            "text/plain": [
              "<IPython.core.display.HTML object>"
            ],
            "text/html": [
              "<style> \n",
              "    body {\n",
              "      font-size: 30px;\n",
              "    }\n",
              "  "
            ]
          },
          "metadata": {}
        },
        {
          "output_type": "execute_result",
          "data": {
            "text/plain": [
              "tensor([ 0.1442, -0.1487,  0.4457,  0.1442, -0.1487,  0.4457,  0.1442, -0.1487,\n",
              "         0.4457])"
            ]
          },
          "metadata": {},
          "execution_count": 212
        }
      ],
      "source": [
        "b.repeat(3)"
      ]
    },
    {
      "cell_type": "code",
      "execution_count": null,
      "metadata": {
        "id": "UFJs5eg0p4R9",
        "colab": {
          "base_uri": "https://localhost:8080/",
          "height": 54
        },
        "outputId": "e6980bc6-b0dd-4346-846c-6a9386da0e59"
      },
      "outputs": [
        {
          "output_type": "display_data",
          "data": {
            "text/plain": [
              "<IPython.core.display.HTML object>"
            ],
            "text/html": [
              "<style> \n",
              "    body {\n",
              "      font-size: 30px;\n",
              "    }\n",
              "  "
            ]
          },
          "metadata": {}
        },
        {
          "output_type": "execute_result",
          "data": {
            "text/plain": [
              "torch.Size([4, 18])"
            ]
          },
          "metadata": {},
          "execution_count": 214
        }
      ],
      "source": [
        "a.repeat((2, 3)).shape"
      ]
    },
    {
      "cell_type": "markdown",
      "metadata": {
        "jp-MarkdownHeadingCollapsed": true,
        "tags": [],
        "id": "qkaNGCabbozY"
      },
      "source": [
        "### 🟧 **`.cat()`**"
      ]
    },
    {
      "cell_type": "markdown",
      "metadata": {
        "id": "EEj795-z6ni4"
      },
      "source": [
        "#### 🟨 Repeat b twice using `cat`"
      ]
    },
    {
      "cell_type": "code",
      "execution_count": null,
      "metadata": {
        "id": "Ocv8zppPrlXX",
        "colab": {
          "base_uri": "https://localhost:8080/",
          "height": 54
        },
        "outputId": "5318190d-58f1-45b9-b1eb-119515ae43f1"
      },
      "outputs": [
        {
          "output_type": "display_data",
          "data": {
            "text/plain": [
              "<IPython.core.display.HTML object>"
            ],
            "text/html": [
              "<style> \n",
              "    body {\n",
              "      font-size: 30px;\n",
              "    }\n",
              "  "
            ]
          },
          "metadata": {}
        },
        {
          "output_type": "execute_result",
          "data": {
            "text/plain": [
              "tensor([ 0.1442, -0.1487,  0.4457,  0.1442, -0.1487,  0.4457])"
            ]
          },
          "metadata": {},
          "execution_count": 215
        }
      ],
      "source": [
        "torch.cat((b, b))"
      ]
    },
    {
      "cell_type": "code",
      "source": [
        "torch.cat((a, torch.randn(2, 6), a), dim=1).shape"
      ],
      "metadata": {
        "colab": {
          "base_uri": "https://localhost:8080/",
          "height": 54
        },
        "id": "LOdKZjDEgmrB",
        "outputId": "f46acb99-5fcd-44cb-9c10-182567e7502c"
      },
      "execution_count": null,
      "outputs": [
        {
          "output_type": "display_data",
          "data": {
            "text/plain": [
              "<IPython.core.display.HTML object>"
            ],
            "text/html": [
              "<style> \n",
              "    body {\n",
              "      font-size: 30px;\n",
              "    }\n",
              "  "
            ]
          },
          "metadata": {}
        },
        {
          "output_type": "execute_result",
          "data": {
            "text/plain": [
              "torch.Size([2, 18])"
            ]
          },
          "metadata": {},
          "execution_count": 219
        }
      ]
    },
    {
      "cell_type": "markdown",
      "metadata": {
        "jp-MarkdownHeadingCollapsed": true,
        "tags": [],
        "id": "2xHx6jOZbozZ"
      },
      "source": [
        "### 🟧 **`.unsqueeze()`**"
      ]
    },
    {
      "cell_type": "markdown",
      "metadata": {
        "id": "fM18wi0R9LoY",
        "tags": []
      },
      "source": [
        "#### 🟨 Transform `a` to a (2, 1, 6) tensor using `unsqueeze`"
      ]
    },
    {
      "cell_type": "code",
      "execution_count": null,
      "metadata": {
        "id": "jZ-5dAn_rtoW",
        "colab": {
          "base_uri": "https://localhost:8080/",
          "height": 54
        },
        "outputId": "dd29c0fa-a287-4e12-add1-5b52d3dfae3a"
      },
      "outputs": [
        {
          "output_type": "display_data",
          "data": {
            "text/plain": [
              "<IPython.core.display.HTML object>"
            ],
            "text/html": [
              "<style> \n",
              "    body {\n",
              "      font-size: 30px;\n",
              "    }\n",
              "  "
            ]
          },
          "metadata": {}
        },
        {
          "output_type": "execute_result",
          "data": {
            "text/plain": [
              "torch.Size([1, 2, 6])"
            ]
          },
          "metadata": {},
          "execution_count": 226
        }
      ],
      "source": [
        "a.unsqueeze(0).shape"
      ]
    },
    {
      "cell_type": "markdown",
      "metadata": {
        "id": "AKkoElAF67C6"
      },
      "source": [
        "### 🟧 **`.squeeze()`**"
      ]
    },
    {
      "cell_type": "code",
      "execution_count": null,
      "metadata": {
        "id": "rFXTDk0qrzjm",
        "colab": {
          "base_uri": "https://localhost:8080/",
          "height": 54
        },
        "outputId": "d0ebd96e-182e-483b-b4ad-4bf03a3c183f"
      },
      "outputs": [
        {
          "output_type": "display_data",
          "data": {
            "text/plain": [
              "<IPython.core.display.HTML object>"
            ],
            "text/html": [
              "<style> \n",
              "    body {\n",
              "      font-size: 30px;\n",
              "    }\n",
              "  "
            ]
          },
          "metadata": {}
        },
        {
          "output_type": "execute_result",
          "data": {
            "text/plain": [
              "torch.Size([1, 1, 1, 1, 1, 2, 6])"
            ]
          },
          "metadata": {},
          "execution_count": 232
        }
      ],
      "source": [
        "a.unsqueeze_(0).unsqueeze_(1)\n",
        "a.shape"
      ]
    },
    {
      "cell_type": "code",
      "source": [
        "a.squeeze(3).shape"
      ],
      "metadata": {
        "colab": {
          "base_uri": "https://localhost:8080/",
          "height": 54
        },
        "id": "gYzSa_PKha1O",
        "outputId": "34b7b48d-5c66-47c1-b5e4-50f26dac3054"
      },
      "execution_count": null,
      "outputs": [
        {
          "output_type": "display_data",
          "data": {
            "text/plain": [
              "<IPython.core.display.HTML object>"
            ],
            "text/html": [
              "<style> \n",
              "    body {\n",
              "      font-size: 30px;\n",
              "    }\n",
              "  "
            ]
          },
          "metadata": {}
        },
        {
          "output_type": "execute_result",
          "data": {
            "text/plain": [
              "torch.Size([1, 1, 1, 1, 2, 6])"
            ]
          },
          "metadata": {},
          "execution_count": 233
        }
      ]
    },
    {
      "cell_type": "markdown",
      "metadata": {
        "jp-MarkdownHeadingCollapsed": true,
        "tags": [],
        "id": "uTO09awubozb"
      },
      "source": [
        "## 🟥 **Section 10: Built-in Funtions**"
      ]
    },
    {
      "cell_type": "markdown",
      "metadata": {
        "jp-MarkdownHeadingCollapsed": true,
        "tags": [],
        "id": "KvthHwi0bozb"
      },
      "source": [
        "### 🟧 **Sample arrays**"
      ]
    },
    {
      "cell_type": "code",
      "execution_count": null,
      "metadata": {
        "colab": {
          "base_uri": "https://localhost:8080/",
          "height": 54
        },
        "id": "kRKW-6LwgyHn",
        "outputId": "1aea579e-cf09-451c-c4a1-1a29d8a42455"
      },
      "outputs": [
        {
          "output_type": "display_data",
          "data": {
            "text/plain": [
              "<IPython.core.display.HTML object>"
            ],
            "text/html": [
              "<style> \n",
              "    body {\n",
              "      font-size: 30px;\n",
              "    }\n",
              "  "
            ]
          },
          "metadata": {}
        },
        {
          "output_type": "execute_result",
          "data": {
            "text/plain": [
              "tensor([5, 9, 2, 8, 9])"
            ]
          },
          "metadata": {},
          "execution_count": 234
        }
      ],
      "source": [
        "a = torch.randint(10, (5,))\n",
        "a"
      ]
    },
    {
      "cell_type": "code",
      "execution_count": null,
      "metadata": {
        "colab": {
          "base_uri": "https://localhost:8080/",
          "height": 91
        },
        "id": "qQiTflEbhav2",
        "outputId": "1bf0f528-6f56-4895-f139-db99168e2aea"
      },
      "outputs": [
        {
          "output_type": "display_data",
          "data": {
            "text/plain": [
              "<IPython.core.display.HTML object>"
            ],
            "text/html": [
              "<style> \n",
              "    body {\n",
              "      font-size: 30px;\n",
              "    }\n",
              "  "
            ]
          },
          "metadata": {}
        },
        {
          "output_type": "execute_result",
          "data": {
            "text/plain": [
              "tensor([[3, 9],\n",
              "        [7, 9]])"
            ]
          },
          "metadata": {},
          "execution_count": 235
        }
      ],
      "source": [
        "b = torch.randint(10, (2, 2))\n",
        "b"
      ]
    },
    {
      "cell_type": "code",
      "execution_count": null,
      "metadata": {
        "colab": {
          "base_uri": "https://localhost:8080/",
          "height": 277
        },
        "id": "pxjmiXrhjCbF",
        "outputId": "23255ee7-974a-406c-d351-b01d11d8cef2"
      },
      "outputs": [
        {
          "output_type": "display_data",
          "data": {
            "text/plain": [
              "<IPython.core.display.HTML object>"
            ],
            "text/html": [
              "<style> \n",
              "    body {\n",
              "      font-size: 30px;\n",
              "    }\n",
              "  "
            ]
          },
          "metadata": {}
        },
        {
          "output_type": "execute_result",
          "data": {
            "text/plain": [
              "tensor([[[1.4828, 4.7296, 0.3939],\n",
              "         [3.0150, 7.1383, 6.9501],\n",
              "         [9.9464, 4.7022, 1.1355]],\n",
              "\n",
              "        [[2.6289, 8.6664, 7.6686],\n",
              "         [8.1246, 0.8322, 0.8135],\n",
              "         [7.4542, 5.6401, 1.6097]]])"
            ]
          },
          "metadata": {},
          "execution_count": 236
        }
      ],
      "source": [
        "c = 10 * torch.rand((2, 3, 3))\n",
        "c"
      ]
    },
    {
      "cell_type": "markdown",
      "metadata": {
        "jp-MarkdownHeadingCollapsed": true,
        "tags": [],
        "id": "a-W8xd9Obozd"
      },
      "source": [
        "### 🟧 **`torch.sum()`**"
      ]
    },
    {
      "cell_type": "code",
      "execution_count": null,
      "metadata": {
        "colab": {
          "base_uri": "https://localhost:8080/",
          "height": 54
        },
        "id": "aNuLEp1sdDbm",
        "outputId": "ac3f7ff5-8848-4b9a-d11e-1a2aef6d64d2"
      },
      "outputs": [
        {
          "output_type": "display_data",
          "data": {
            "text/plain": [
              "<IPython.core.display.HTML object>"
            ],
            "text/html": [
              "<style> \n",
              "    body {\n",
              "      font-size: 30px;\n",
              "    }\n",
              "  "
            ]
          },
          "metadata": {}
        },
        {
          "output_type": "execute_result",
          "data": {
            "text/plain": [
              "tensor(82.9317)"
            ]
          },
          "metadata": {},
          "execution_count": 237
        }
      ],
      "source": [
        "torch.sum(c)"
      ]
    },
    {
      "cell_type": "code",
      "source": [
        "b"
      ],
      "metadata": {
        "colab": {
          "base_uri": "https://localhost:8080/",
          "height": 91
        },
        "id": "h9tcf8jEjdAA",
        "outputId": "2f106d83-04b9-4b9a-acda-f0d8eef62d55"
      },
      "execution_count": null,
      "outputs": [
        {
          "output_type": "display_data",
          "data": {
            "text/plain": [
              "<IPython.core.display.HTML object>"
            ],
            "text/html": [
              "<style> \n",
              "    body {\n",
              "      font-size: 30px;\n",
              "    }\n",
              "  "
            ]
          },
          "metadata": {}
        },
        {
          "output_type": "execute_result",
          "data": {
            "text/plain": [
              "tensor([[3, 9],\n",
              "        [7, 9]])"
            ]
          },
          "metadata": {},
          "execution_count": 239
        }
      ]
    },
    {
      "cell_type": "code",
      "source": [
        "torch.sum(b, 0, keepdim=True)"
      ],
      "metadata": {
        "colab": {
          "base_uri": "https://localhost:8080/",
          "height": 54
        },
        "id": "09upBN7aiB-Y",
        "outputId": "c9a5aad9-1034-4430-b0e8-fdbf73d0625b"
      },
      "execution_count": null,
      "outputs": [
        {
          "output_type": "display_data",
          "data": {
            "text/plain": [
              "<IPython.core.display.HTML object>"
            ],
            "text/html": [
              "<style> \n",
              "    body {\n",
              "      font-size: 30px;\n",
              "    }\n",
              "  "
            ]
          },
          "metadata": {}
        },
        {
          "output_type": "execute_result",
          "data": {
            "text/plain": [
              "tensor([[10, 18]])"
            ]
          },
          "metadata": {},
          "execution_count": 241
        }
      ]
    },
    {
      "cell_type": "code",
      "source": [
        "torch.sum(b, 1, keepdim=True)"
      ],
      "metadata": {
        "colab": {
          "base_uri": "https://localhost:8080/",
          "height": 91
        },
        "id": "yckKNFBCiC6n",
        "outputId": "841fd35c-16dd-4243-e736-f30168bd1334"
      },
      "execution_count": null,
      "outputs": [
        {
          "output_type": "display_data",
          "data": {
            "text/plain": [
              "<IPython.core.display.HTML object>"
            ],
            "text/html": [
              "<style> \n",
              "    body {\n",
              "      font-size: 30px;\n",
              "    }\n",
              "  "
            ]
          },
          "metadata": {}
        },
        {
          "output_type": "execute_result",
          "data": {
            "text/plain": [
              "tensor([[12],\n",
              "        [16]])"
            ]
          },
          "metadata": {},
          "execution_count": 242
        }
      ]
    },
    {
      "cell_type": "markdown",
      "metadata": {
        "jp-MarkdownHeadingCollapsed": true,
        "tags": [],
        "id": "ZoAYO3p2boze"
      },
      "source": [
        "### 🟧 **`torch.cumsum()`**"
      ]
    },
    {
      "cell_type": "code",
      "execution_count": null,
      "metadata": {
        "colab": {
          "base_uri": "https://localhost:8080/",
          "height": 54
        },
        "id": "u_-kC5zMnIzp",
        "outputId": "d79d1f7d-10b5-423c-9e1e-0dbc1d4fb7b6"
      },
      "outputs": [
        {
          "output_type": "display_data",
          "data": {
            "text/plain": [
              "<IPython.core.display.HTML object>"
            ],
            "text/html": [
              "<style> \n",
              "    body {\n",
              "      font-size: 30px;\n",
              "    }\n",
              "  "
            ]
          },
          "metadata": {}
        },
        {
          "output_type": "execute_result",
          "data": {
            "text/plain": [
              "tensor([5, 9, 2, 8, 9])"
            ]
          },
          "metadata": {},
          "execution_count": 243
        }
      ],
      "source": [
        "a"
      ]
    },
    {
      "cell_type": "code",
      "execution_count": null,
      "metadata": {
        "colab": {
          "base_uri": "https://localhost:8080/",
          "height": 54
        },
        "id": "SEfVqPHnhLF7",
        "outputId": "5a228c26-e958-46fe-9f63-d7246cd98b7b"
      },
      "outputs": [
        {
          "output_type": "display_data",
          "data": {
            "text/plain": [
              "<IPython.core.display.HTML object>"
            ],
            "text/html": [
              "<style> \n",
              "    body {\n",
              "      font-size: 30px;\n",
              "    }\n",
              "  "
            ]
          },
          "metadata": {}
        },
        {
          "output_type": "execute_result",
          "data": {
            "text/plain": [
              "tensor([ 5, 14, 16, 24, 33])"
            ]
          },
          "metadata": {},
          "execution_count": 245
        }
      ],
      "source": [
        "torch.cumsum(a, 0)"
      ]
    },
    {
      "cell_type": "markdown",
      "metadata": {
        "jp-MarkdownHeadingCollapsed": true,
        "tags": [],
        "id": "KOx_sZG6bozf"
      },
      "source": [
        "### 🟧 **`torch.diff()`**"
      ]
    },
    {
      "cell_type": "code",
      "source": [
        "a"
      ],
      "metadata": {
        "colab": {
          "base_uri": "https://localhost:8080/",
          "height": 54
        },
        "id": "IAT20BRiiE1G",
        "outputId": "1fcb3026-44be-4eea-ea23-a85130150cb8"
      },
      "execution_count": null,
      "outputs": [
        {
          "output_type": "display_data",
          "data": {
            "text/plain": [
              "<IPython.core.display.HTML object>"
            ],
            "text/html": [
              "<style> \n",
              "    body {\n",
              "      font-size: 30px;\n",
              "    }\n",
              "  "
            ]
          },
          "metadata": {}
        },
        {
          "output_type": "execute_result",
          "data": {
            "text/plain": [
              "tensor([5, 9, 2, 8, 9])"
            ]
          },
          "metadata": {},
          "execution_count": 246
        }
      ]
    },
    {
      "cell_type": "code",
      "execution_count": null,
      "metadata": {
        "colab": {
          "base_uri": "https://localhost:8080/",
          "height": 54
        },
        "id": "bk3lXCvXiHaq",
        "outputId": "f06e6a0d-19ea-4fb8-a3c3-3ffb621ecad3"
      },
      "outputs": [
        {
          "output_type": "display_data",
          "data": {
            "text/plain": [
              "<IPython.core.display.HTML object>"
            ],
            "text/html": [
              "<style> \n",
              "    body {\n",
              "      font-size: 30px;\n",
              "    }\n",
              "  "
            ]
          },
          "metadata": {}
        },
        {
          "output_type": "execute_result",
          "data": {
            "text/plain": [
              "tensor([ 4, -7,  6,  1])"
            ]
          },
          "metadata": {},
          "execution_count": 247
        }
      ],
      "source": [
        "torch.diff(a)"
      ]
    },
    {
      "cell_type": "markdown",
      "metadata": {
        "jp-MarkdownHeadingCollapsed": true,
        "tags": [],
        "id": "X4QycWJ3bozg"
      },
      "source": [
        "### 🟧 **`torch.prod()`**"
      ]
    },
    {
      "cell_type": "code",
      "execution_count": null,
      "metadata": {
        "colab": {
          "base_uri": "https://localhost:8080/",
          "height": 54
        },
        "id": "dC1ijPhRiOlh",
        "outputId": "b204ce4f-72af-4ba7-9042-6411c5cfcdfc"
      },
      "outputs": [
        {
          "output_type": "display_data",
          "data": {
            "text/plain": [
              "<IPython.core.display.HTML object>"
            ],
            "text/html": [
              "<style> \n",
              "    body {\n",
              "      font-size: 30px;\n",
              "    }\n",
              "  "
            ]
          },
          "metadata": {}
        },
        {
          "output_type": "execute_result",
          "data": {
            "text/plain": [
              "tensor(1701)"
            ]
          },
          "metadata": {},
          "execution_count": 249
        }
      ],
      "source": [
        "torch.prod(b)"
      ]
    },
    {
      "cell_type": "markdown",
      "metadata": {
        "jp-MarkdownHeadingCollapsed": true,
        "tags": [],
        "id": "d8ZqYYpCbozh"
      },
      "source": [
        "### 🟧 **`torch.sqrt()`**"
      ]
    },
    {
      "cell_type": "code",
      "execution_count": null,
      "metadata": {
        "colab": {
          "base_uri": "https://localhost:8080/",
          "height": 54
        },
        "id": "gVnNDp4ziaBz",
        "outputId": "42cdde8a-f029-4d79-82f9-8cc1e333f154"
      },
      "outputs": [
        {
          "output_type": "display_data",
          "data": {
            "text/plain": [
              "<IPython.core.display.HTML object>"
            ],
            "text/html": [
              "<style> \n",
              "    body {\n",
              "      font-size: 30px;\n",
              "    }\n",
              "  "
            ]
          },
          "metadata": {}
        },
        {
          "output_type": "execute_result",
          "data": {
            "text/plain": [
              "tensor([2.2361, 3.0000, 1.4142, 2.8284, 3.0000])"
            ]
          },
          "metadata": {},
          "execution_count": 250
        }
      ],
      "source": [
        "torch.sqrt(a)"
      ]
    },
    {
      "cell_type": "markdown",
      "metadata": {
        "jp-MarkdownHeadingCollapsed": true,
        "tags": [],
        "id": "O2CwXaFAbozh"
      },
      "source": [
        "### 🟧 **`torch.remainder()`**"
      ]
    },
    {
      "cell_type": "code",
      "execution_count": null,
      "metadata": {
        "id": "732A0Xj6idpd"
      },
      "outputs": [],
      "source": [
        "torch.remainder(a, 5)"
      ]
    },
    {
      "cell_type": "markdown",
      "metadata": {
        "jp-MarkdownHeadingCollapsed": true,
        "tags": [],
        "id": "dDt2R0vRbozi"
      },
      "source": [
        "### 🟧 **`torch.round()`**"
      ]
    },
    {
      "cell_type": "code",
      "execution_count": null,
      "metadata": {
        "id": "caoAA3tdn2uq"
      },
      "outputs": [],
      "source": [
        "c"
      ]
    },
    {
      "cell_type": "code",
      "execution_count": null,
      "metadata": {
        "id": "SwWKsiPlizTb"
      },
      "outputs": [],
      "source": [
        "torch.round(c)"
      ]
    },
    {
      "cell_type": "markdown",
      "metadata": {
        "jp-MarkdownHeadingCollapsed": true,
        "tags": [],
        "id": "-ZTssdyebozj"
      },
      "source": [
        "### 🟧 **`torch.ceil()`**"
      ]
    },
    {
      "cell_type": "code",
      "execution_count": null,
      "metadata": {
        "id": "_Nx0TuLRjVaP"
      },
      "outputs": [],
      "source": [
        "torch.ceil(c)"
      ]
    },
    {
      "cell_type": "markdown",
      "metadata": {
        "jp-MarkdownHeadingCollapsed": true,
        "tags": [],
        "id": "Ami0FpfDbozk"
      },
      "source": [
        "### 🟧 **`torch.floor()`**"
      ]
    },
    {
      "cell_type": "code",
      "source": [
        "c"
      ],
      "metadata": {
        "colab": {
          "base_uri": "https://localhost:8080/",
          "height": 277
        },
        "id": "VyJcGxgfkVzg",
        "outputId": "e3106e3f-89a1-4e42-c1d8-b35223453be4"
      },
      "execution_count": null,
      "outputs": [
        {
          "output_type": "display_data",
          "data": {
            "text/plain": [
              "<IPython.core.display.HTML object>"
            ],
            "text/html": [
              "<style> \n",
              "    body {\n",
              "      font-size: 30px;\n",
              "    }\n",
              "  "
            ]
          },
          "metadata": {}
        },
        {
          "output_type": "execute_result",
          "data": {
            "text/plain": [
              "tensor([[[1.4828, 4.7296, 0.3939],\n",
              "         [3.0150, 7.1383, 6.9501],\n",
              "         [9.9464, 4.7022, 1.1355]],\n",
              "\n",
              "        [[2.6289, 8.6664, 7.6686],\n",
              "         [8.1246, 0.8322, 0.8135],\n",
              "         [7.4542, 5.6401, 1.6097]]])"
            ]
          },
          "metadata": {},
          "execution_count": 251
        }
      ]
    },
    {
      "cell_type": "code",
      "execution_count": null,
      "metadata": {
        "colab": {
          "base_uri": "https://localhost:8080/",
          "height": 277
        },
        "id": "n_CHWE_6jZlX",
        "outputId": "f2d4cdc2-a529-4e65-84d7-e574d50ac546"
      },
      "outputs": [
        {
          "output_type": "display_data",
          "data": {
            "text/plain": [
              "<IPython.core.display.HTML object>"
            ],
            "text/html": [
              "<style> \n",
              "    body {\n",
              "      font-size: 30px;\n",
              "    }\n",
              "  "
            ]
          },
          "metadata": {}
        },
        {
          "output_type": "execute_result",
          "data": {
            "text/plain": [
              "tensor([[[1., 4., 0.],\n",
              "         [3., 7., 6.],\n",
              "         [9., 4., 1.]],\n",
              "\n",
              "        [[2., 8., 7.],\n",
              "         [8., 0., 0.],\n",
              "         [7., 5., 1.]]])"
            ]
          },
          "metadata": {},
          "execution_count": 252
        }
      ],
      "source": [
        "torch.floor(c)"
      ]
    },
    {
      "cell_type": "markdown",
      "metadata": {
        "jp-MarkdownHeadingCollapsed": true,
        "tags": [],
        "id": "rKxunf3jbozk"
      },
      "source": [
        "### 🟧 **`torch.fix()`**"
      ]
    },
    {
      "cell_type": "code",
      "execution_count": null,
      "metadata": {
        "id": "GnC9g6F8jbBn"
      },
      "outputs": [],
      "source": [
        "torch.fix(c)"
      ]
    },
    {
      "cell_type": "markdown",
      "metadata": {
        "jp-MarkdownHeadingCollapsed": true,
        "tags": [],
        "id": "KeD_IFIabozl"
      },
      "source": [
        "### 🟧 **`torch.norm()`**"
      ]
    },
    {
      "cell_type": "code",
      "execution_count": null,
      "metadata": {
        "colab": {
          "base_uri": "https://localhost:8080/",
          "height": 54
        },
        "id": "ufxaQwSOjuqP",
        "outputId": "852b1b60-82dc-416b-c615-5cdee0dcc84e"
      },
      "outputs": [
        {
          "output_type": "display_data",
          "data": {
            "text/plain": [
              "<IPython.core.display.HTML object>"
            ],
            "text/html": [
              "<style> \n",
              "    body {\n",
              "      font-size: 30px;\n",
              "    }\n",
              "  "
            ]
          },
          "metadata": {}
        },
        {
          "output_type": "execute_result",
          "data": {
            "text/plain": [
              "tensor(23.5278)"
            ]
          },
          "metadata": {},
          "execution_count": 253
        }
      ],
      "source": [
        "torch.norm(c, 2)"
      ]
    },
    {
      "cell_type": "markdown",
      "metadata": {
        "jp-MarkdownHeadingCollapsed": true,
        "tags": [],
        "id": "daGAD4aYbozm"
      },
      "source": [
        "### 🟧 **`torch.mean()`**"
      ]
    },
    {
      "cell_type": "code",
      "execution_count": null,
      "metadata": {
        "id": "p0NBcokBkd5K",
        "colab": {
          "base_uri": "https://localhost:8080/",
          "height": 54
        },
        "outputId": "14f69ced-4355-4561-fc20-3b10664bfeac"
      },
      "outputs": [
        {
          "output_type": "display_data",
          "data": {
            "text/plain": [
              "<IPython.core.display.HTML object>"
            ],
            "text/html": [
              "<style> \n",
              "    body {\n",
              "      font-size: 30px;\n",
              "    }\n",
              "  "
            ]
          },
          "metadata": {}
        },
        {
          "output_type": "execute_result",
          "data": {
            "text/plain": [
              "tensor(4.6073)"
            ]
          },
          "metadata": {},
          "execution_count": 254
        }
      ],
      "source": [
        "torch.mean(c)"
      ]
    },
    {
      "cell_type": "markdown",
      "metadata": {
        "jp-MarkdownHeadingCollapsed": true,
        "tags": [],
        "id": "3NtczZOabozm"
      },
      "source": [
        "### 🟧 **`torch.std()`**"
      ]
    },
    {
      "cell_type": "code",
      "execution_count": null,
      "metadata": {
        "id": "tOn4MwDIkjA3"
      },
      "outputs": [],
      "source": [
        "torch.std(c)"
      ]
    },
    {
      "cell_type": "markdown",
      "metadata": {
        "jp-MarkdownHeadingCollapsed": true,
        "tags": [],
        "id": "6UVlS4h2bozn"
      },
      "source": [
        "### 🟧 **`torch.var()`**"
      ]
    },
    {
      "cell_type": "code",
      "execution_count": null,
      "metadata": {
        "id": "OeLpEYbSmHmh"
      },
      "outputs": [],
      "source": [
        "torch.var(c)"
      ]
    },
    {
      "cell_type": "markdown",
      "metadata": {
        "jp-MarkdownHeadingCollapsed": true,
        "tags": [],
        "id": "33uvpu0xbozo"
      },
      "source": [
        "### 🟧 **`torch.exp()`**"
      ]
    },
    {
      "cell_type": "code",
      "execution_count": null,
      "metadata": {
        "colab": {
          "base_uri": "https://localhost:8080/",
          "height": 277
        },
        "id": "c2tT9ypekvBm",
        "outputId": "434313a8-a919-411e-da52-2917366bedd0"
      },
      "outputs": [
        {
          "output_type": "display_data",
          "data": {
            "text/plain": [
              "<IPython.core.display.HTML object>"
            ],
            "text/html": [
              "<style> \n",
              "    body {\n",
              "      font-size: 30px;\n",
              "    }\n",
              "  "
            ]
          },
          "metadata": {}
        },
        {
          "output_type": "execute_result",
          "data": {
            "text/plain": [
              "tensor([[[4.4052e+00, 1.1325e+02, 1.4828e+00],\n",
              "         [2.0389e+01, 1.2593e+03, 1.0432e+03],\n",
              "         [2.0876e+04, 1.1018e+02, 3.1127e+00]],\n",
              "\n",
              "        [[1.3858e+01, 5.8044e+03, 2.1400e+03],\n",
              "         [3.3765e+03, 2.2983e+00, 2.2559e+00],\n",
              "         [1.7271e+03, 2.8148e+02, 5.0011e+00]]])"
            ]
          },
          "metadata": {},
          "execution_count": 255
        }
      ],
      "source": [
        "torch.exp(c)"
      ]
    },
    {
      "cell_type": "markdown",
      "metadata": {
        "jp-MarkdownHeadingCollapsed": true,
        "tags": [],
        "id": "SfHqjwL4bozo"
      },
      "source": [
        "### 🟧 **`torch.log()`**"
      ]
    },
    {
      "cell_type": "code",
      "execution_count": null,
      "metadata": {
        "id": "fOhvhfttlKdv"
      },
      "outputs": [],
      "source": [
        "torch.log(torch.exp(c))"
      ]
    },
    {
      "cell_type": "markdown",
      "metadata": {
        "jp-MarkdownHeadingCollapsed": true,
        "tags": [],
        "id": "c_-SOAP7bozp"
      },
      "source": [
        "### 🟧 **`torch.min()`**"
      ]
    },
    {
      "cell_type": "code",
      "execution_count": null,
      "metadata": {
        "colab": {
          "base_uri": "https://localhost:8080/",
          "height": 54
        },
        "id": "wdpQitDclahD",
        "outputId": "6de25ac3-799b-4be8-a4c2-d4837a01ea0c"
      },
      "outputs": [
        {
          "output_type": "display_data",
          "data": {
            "text/plain": [
              "<IPython.core.display.HTML object>"
            ],
            "text/html": [
              "<style> \n",
              "    body {\n",
              "      font-size: 30px;\n",
              "    }\n",
              "  "
            ]
          },
          "metadata": {}
        },
        {
          "output_type": "execute_result",
          "data": {
            "text/plain": [
              "tensor(0.3939)"
            ]
          },
          "metadata": {},
          "execution_count": 256
        }
      ],
      "source": [
        "torch.min(c)"
      ]
    },
    {
      "cell_type": "markdown",
      "metadata": {
        "jp-MarkdownHeadingCollapsed": true,
        "tags": [],
        "id": "p5NFjGUmbozp"
      },
      "source": [
        "### 🟧 **`torch.max()`**"
      ]
    },
    {
      "cell_type": "code",
      "execution_count": null,
      "metadata": {
        "colab": {
          "base_uri": "https://localhost:8080/",
          "height": 166
        },
        "id": "RT2Qu46Tld9o",
        "outputId": "8c3bce8e-36b1-4039-92e7-d788d65c5e77"
      },
      "outputs": [
        {
          "output_type": "display_data",
          "data": {
            "text/plain": [
              "<IPython.core.display.HTML object>"
            ],
            "text/html": [
              "<style> \n",
              "    body {\n",
              "      font-size: 30px;\n",
              "    }\n",
              "  "
            ]
          },
          "metadata": {}
        },
        {
          "output_type": "execute_result",
          "data": {
            "text/plain": [
              "(tensor([[9.9464, 7.1383, 6.9501],\n",
              "         [8.1246, 8.6664, 7.6686]]),\n",
              " tensor([[2, 1, 1],\n",
              "         [1, 0, 0]]))"
            ]
          },
          "metadata": {},
          "execution_count": 258
        }
      ],
      "source": [
        "vals, inds = torch.max(c, dim=1)\n",
        "vals, inds"
      ]
    },
    {
      "cell_type": "markdown",
      "metadata": {
        "jp-MarkdownHeadingCollapsed": true,
        "tags": [],
        "id": "N4dI9WuVbozq"
      },
      "source": [
        "### 🟧 **`torch.argmin()`**"
      ]
    },
    {
      "cell_type": "code",
      "execution_count": null,
      "metadata": {
        "colab": {
          "base_uri": "https://localhost:8080/",
          "height": 54
        },
        "id": "fyRfoZxolo-w",
        "outputId": "45ecca87-9828-4017-fd56-b89f7425a9b0"
      },
      "outputs": [
        {
          "output_type": "display_data",
          "data": {
            "text/plain": [
              "<IPython.core.display.HTML object>"
            ],
            "text/html": [
              "<style> \n",
              "    body {\n",
              "      font-size: 30px;\n",
              "    }\n",
              "  "
            ]
          },
          "metadata": {}
        },
        {
          "output_type": "execute_result",
          "data": {
            "text/plain": [
              "tensor(2)"
            ]
          },
          "metadata": {},
          "execution_count": 259
        }
      ],
      "source": [
        "torch.argmin(c)"
      ]
    },
    {
      "cell_type": "markdown",
      "metadata": {
        "jp-MarkdownHeadingCollapsed": true,
        "tags": [],
        "id": "KEDGHR-Lbozq"
      },
      "source": [
        "### 🟧 **`torch.argmax()`**"
      ]
    },
    {
      "cell_type": "code",
      "execution_count": null,
      "metadata": {
        "colab": {
          "base_uri": "https://localhost:8080/",
          "height": 54
        },
        "id": "yv8a280llr_S",
        "outputId": "d166db8c-a176-4666-88c6-b28fe780c199"
      },
      "outputs": [
        {
          "output_type": "display_data",
          "data": {
            "text/plain": [
              "<IPython.core.display.HTML object>"
            ],
            "text/html": [
              "<style> \n",
              "    body {\n",
              "      font-size: 30px;\n",
              "    }\n",
              "  "
            ]
          },
          "metadata": {}
        },
        {
          "output_type": "execute_result",
          "data": {
            "text/plain": [
              "tensor(6)"
            ]
          },
          "metadata": {},
          "execution_count": 260
        }
      ],
      "source": [
        "torch.argmax(c)"
      ]
    },
    {
      "cell_type": "markdown",
      "metadata": {
        "jp-MarkdownHeadingCollapsed": true,
        "tags": [],
        "id": "UjKA40zEbozq"
      },
      "source": [
        "### 🟧 **`torch.topk()`**"
      ]
    },
    {
      "cell_type": "code",
      "execution_count": null,
      "metadata": {
        "colab": {
          "base_uri": "https://localhost:8080/",
          "height": 54
        },
        "id": "AGTespOYpogN",
        "outputId": "70aef0bb-783b-4777-a0d2-98735d9b0a55"
      },
      "outputs": [
        {
          "output_type": "display_data",
          "data": {
            "text/plain": [
              "<IPython.core.display.HTML object>"
            ],
            "text/html": [
              "<style> \n",
              "    body {\n",
              "      font-size: 30px;\n",
              "    }\n",
              "  "
            ]
          },
          "metadata": {}
        },
        {
          "output_type": "execute_result",
          "data": {
            "text/plain": [
              "tensor([5, 9, 2, 8, 9])"
            ]
          },
          "metadata": {},
          "execution_count": 261
        }
      ],
      "source": [
        "a"
      ]
    },
    {
      "cell_type": "code",
      "execution_count": null,
      "metadata": {
        "colab": {
          "base_uri": "https://localhost:8080/",
          "height": 129
        },
        "id": "y_7cKfzzlfl4",
        "outputId": "071d7313-ea87-4697-866a-ae3e7fcffb47"
      },
      "outputs": [
        {
          "output_type": "display_data",
          "data": {
            "text/plain": [
              "<IPython.core.display.HTML object>"
            ],
            "text/html": [
              "<style> \n",
              "    body {\n",
              "      font-size: 30px;\n",
              "    }\n",
              "  "
            ]
          },
          "metadata": {}
        },
        {
          "output_type": "execute_result",
          "data": {
            "text/plain": [
              "torch.return_types.topk(\n",
              "values=tensor([9, 9]),\n",
              "indices=tensor([1, 4]))"
            ]
          },
          "metadata": {},
          "execution_count": 262
        }
      ],
      "source": [
        "torch.topk(a, 2)"
      ]
    },
    {
      "cell_type": "code",
      "execution_count": null,
      "metadata": {
        "colab": {
          "base_uri": "https://localhost:8080/",
          "height": 129
        },
        "id": "2YKFOHcJpv2C",
        "outputId": "8d63cde1-4844-42e3-aa2c-975c72aa891f"
      },
      "outputs": [
        {
          "output_type": "display_data",
          "data": {
            "text/plain": [
              "<IPython.core.display.HTML object>"
            ],
            "text/html": [
              "<style> \n",
              "    body {\n",
              "      font-size: 30px;\n",
              "    }\n",
              "  "
            ]
          },
          "metadata": {}
        },
        {
          "output_type": "execute_result",
          "data": {
            "text/plain": [
              "torch.return_types.topk(\n",
              "values=tensor([2, 5, 8]),\n",
              "indices=tensor([2, 0, 3]))"
            ]
          },
          "metadata": {},
          "execution_count": 264
        }
      ],
      "source": [
        "torch.topk(a, 3, largest=False)"
      ]
    },
    {
      "cell_type": "markdown",
      "metadata": {
        "jp-MarkdownHeadingCollapsed": true,
        "tags": [],
        "id": "mt_4XXf6bozr"
      },
      "source": [
        "### 🟧 **`torch.mode()`**"
      ]
    },
    {
      "cell_type": "code",
      "execution_count": null,
      "metadata": {
        "colab": {
          "base_uri": "https://localhost:8080/",
          "height": 129
        },
        "id": "1PshJYaKmZxQ",
        "outputId": "20e648a5-0665-4506-fa60-b15e15ff21c1"
      },
      "outputs": [
        {
          "output_type": "display_data",
          "data": {
            "text/plain": [
              "<IPython.core.display.HTML object>"
            ],
            "text/html": [
              "<style> \n",
              "    body {\n",
              "      font-size: 30px;\n",
              "    }\n",
              "  "
            ]
          },
          "metadata": {}
        },
        {
          "output_type": "execute_result",
          "data": {
            "text/plain": [
              "torch.return_types.mode(\n",
              "values=tensor(9),\n",
              "indices=tensor(4))"
            ]
          },
          "metadata": {},
          "execution_count": 265
        }
      ],
      "source": [
        "torch.mode(a)"
      ]
    },
    {
      "cell_type": "markdown",
      "metadata": {
        "jp-MarkdownHeadingCollapsed": true,
        "tags": [],
        "id": "dste1he0bozs"
      },
      "source": [
        "### 🟧 **`torch.median()`**"
      ]
    },
    {
      "cell_type": "code",
      "source": [
        "a.sort()"
      ],
      "metadata": {
        "colab": {
          "base_uri": "https://localhost:8080/",
          "height": 129
        },
        "id": "ycdUJ97mllrn",
        "outputId": "08c9e9ab-1fc1-4880-8da7-964317e667f2"
      },
      "execution_count": null,
      "outputs": [
        {
          "output_type": "display_data",
          "data": {
            "text/plain": [
              "<IPython.core.display.HTML object>"
            ],
            "text/html": [
              "<style> \n",
              "    body {\n",
              "      font-size: 30px;\n",
              "    }\n",
              "  "
            ]
          },
          "metadata": {}
        },
        {
          "output_type": "execute_result",
          "data": {
            "text/plain": [
              "torch.return_types.sort(\n",
              "values=tensor([2, 5, 8, 9, 9]),\n",
              "indices=tensor([2, 0, 3, 1, 4]))"
            ]
          },
          "metadata": {},
          "execution_count": 268
        }
      ]
    },
    {
      "cell_type": "code",
      "execution_count": null,
      "metadata": {
        "colab": {
          "base_uri": "https://localhost:8080/",
          "height": 54
        },
        "id": "eSaJMmnlm7T9",
        "outputId": "e637d66c-5691-4b16-8f9f-ba2fe80c851a"
      },
      "outputs": [
        {
          "output_type": "display_data",
          "data": {
            "text/plain": [
              "<IPython.core.display.HTML object>"
            ],
            "text/html": [
              "<style> \n",
              "    body {\n",
              "      font-size: 30px;\n",
              "    }\n",
              "  "
            ]
          },
          "metadata": {}
        },
        {
          "output_type": "execute_result",
          "data": {
            "text/plain": [
              "tensor(8)"
            ]
          },
          "metadata": {},
          "execution_count": 266
        }
      ],
      "source": [
        "torch.median(a)"
      ]
    },
    {
      "cell_type": "markdown",
      "metadata": {
        "jp-MarkdownHeadingCollapsed": true,
        "tags": [],
        "id": "_oPbWAi_6p0Z"
      },
      "source": [
        "## 🟥 **Section 11: torch ↔️ numpy**"
      ]
    },
    {
      "cell_type": "code",
      "source": [
        "a = torch.randperm(5)\n",
        "b = np.random.randint(0, 5, (5))\n",
        "a, b"
      ],
      "metadata": {
        "colab": {
          "base_uri": "https://localhost:8080/",
          "height": 54
        },
        "id": "eB5-AiyTmPRl",
        "outputId": "47855b3c-4cea-4308-e117-af1ebf834e46"
      },
      "execution_count": null,
      "outputs": [
        {
          "output_type": "display_data",
          "data": {
            "text/plain": [
              "<IPython.core.display.HTML object>"
            ],
            "text/html": [
              "<style> \n",
              "    body {\n",
              "      font-size: 30px;\n",
              "    }\n",
              "  "
            ]
          },
          "metadata": {}
        },
        {
          "output_type": "execute_result",
          "data": {
            "text/plain": [
              "(tensor([1, 2, 4, 0, 3]), array([2, 2, 2, 0, 0]))"
            ]
          },
          "metadata": {},
          "execution_count": 270
        }
      ]
    },
    {
      "cell_type": "markdown",
      "metadata": {
        "jp-MarkdownHeadingCollapsed": true,
        "tags": [],
        "id": "skvWIWo_bozs"
      },
      "source": [
        "### 🟧 **torch to numpy**"
      ]
    },
    {
      "cell_type": "code",
      "execution_count": null,
      "metadata": {
        "id": "vJMbi2yEsvyC",
        "colab": {
          "base_uri": "https://localhost:8080/",
          "height": 54
        },
        "outputId": "dc78704b-dddb-4788-fc03-6126f3b0e6ab"
      },
      "outputs": [
        {
          "output_type": "display_data",
          "data": {
            "text/plain": [
              "<IPython.core.display.HTML object>"
            ],
            "text/html": [
              "<style> \n",
              "    body {\n",
              "      font-size: 30px;\n",
              "    }\n",
              "  "
            ]
          },
          "metadata": {}
        },
        {
          "output_type": "execute_result",
          "data": {
            "text/plain": [
              "array([1, 2, 4, 0, 3])"
            ]
          },
          "metadata": {},
          "execution_count": 271
        }
      ],
      "source": [
        "a.numpy()"
      ]
    },
    {
      "cell_type": "markdown",
      "metadata": {
        "tags": [],
        "id": "ttI2OqmObozt"
      },
      "source": [
        "### 🟧 **numpy to torch**"
      ]
    },
    {
      "cell_type": "code",
      "execution_count": null,
      "metadata": {
        "id": "ri9G5caPs2kE",
        "colab": {
          "base_uri": "https://localhost:8080/",
          "height": 54
        },
        "outputId": "5fb6162f-7ddf-49b5-d977-75cbfecfc92e"
      },
      "outputs": [
        {
          "output_type": "display_data",
          "data": {
            "text/plain": [
              "<IPython.core.display.HTML object>"
            ],
            "text/html": [
              "<style> \n",
              "    body {\n",
              "      font-size: 30px;\n",
              "    }\n",
              "  "
            ]
          },
          "metadata": {}
        },
        {
          "output_type": "execute_result",
          "data": {
            "text/plain": [
              "tensor([2., 2., 2., 0., 0.])"
            ]
          },
          "metadata": {},
          "execution_count": 272
        }
      ],
      "source": [
        "torch.tensor(b, dtype=torch.float32)"
      ]
    },
    {
      "cell_type": "markdown",
      "metadata": {
        "jp-MarkdownHeadingCollapsed": true,
        "tags": [],
        "id": "iix8VB4c7Czb"
      },
      "source": [
        "## 🟥 **Section 12: Save & Load**"
      ]
    },
    {
      "cell_type": "markdown",
      "metadata": {
        "jp-MarkdownHeadingCollapsed": true,
        "tags": [],
        "id": "srI-iDkU8j_4"
      },
      "source": [
        "### 🟧 **`torch.save()`**"
      ]
    },
    {
      "cell_type": "code",
      "source": [
        "torch.save(a, '/content/a.pt')"
      ],
      "metadata": {
        "colab": {
          "base_uri": "https://localhost:8080/",
          "height": 17
        },
        "id": "G_oY3Hs0nkmg",
        "outputId": "049fb67b-ef71-45aa-eda9-fc85050f8d2f"
      },
      "execution_count": null,
      "outputs": [
        {
          "output_type": "display_data",
          "data": {
            "text/plain": [
              "<IPython.core.display.HTML object>"
            ],
            "text/html": [
              "<style> \n",
              "    body {\n",
              "      font-size: 30px;\n",
              "    }\n",
              "  "
            ]
          },
          "metadata": {}
        }
      ]
    },
    {
      "cell_type": "markdown",
      "metadata": {
        "jp-MarkdownHeadingCollapsed": true,
        "tags": [],
        "id": "YRH-C8Zr8o7J"
      },
      "source": [
        "### 🟧 **`torch.load()`**"
      ]
    },
    {
      "cell_type": "code",
      "source": [
        "aa = torch.load('/content/a.pt')\n",
        "aa"
      ],
      "metadata": {
        "colab": {
          "base_uri": "https://localhost:8080/",
          "height": 54
        },
        "id": "rYX09VtZ8rQF",
        "outputId": "9e05a4e8-6494-4f8b-c625-d2d276ab48a7"
      },
      "execution_count": null,
      "outputs": [
        {
          "output_type": "display_data",
          "data": {
            "text/plain": [
              "<IPython.core.display.HTML object>"
            ],
            "text/html": [
              "<style> \n",
              "    body {\n",
              "      font-size: 30px;\n",
              "    }\n",
              "  "
            ]
          },
          "metadata": {}
        },
        {
          "output_type": "execute_result",
          "data": {
            "text/plain": [
              "tensor([1, 2, 4, 0, 3])"
            ]
          },
          "metadata": {},
          "execution_count": 278
        }
      ]
    }
  ]
}