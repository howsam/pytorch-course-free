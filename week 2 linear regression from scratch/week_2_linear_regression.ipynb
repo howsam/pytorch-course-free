{
  "nbformat": 4,
  "nbformat_minor": 0,
  "metadata": {
    "colab": {
      "provenance": [],
      "collapsed_sections": [
        "Yr3bfpgyoD_c",
        "2Uo3zoOHboyX",
        "GR24qEHXboyT",
        "HX_M1Kwgboyd",
        "tsCPFzFY14by",
        "dJhD3VN81_fI",
        "eJwX1uUo9s65",
        "VFrruUJ5qlr_",
        "g4lpeGvE9xQV",
        "jw1VwE7d97gD",
        "-zJ9yWvk-x4Q",
        "axvKF4YoxdCA"
      ],
      "authorship_tag": "ABX9TyPhHuLPDqXyA58is55oWiTw",
      "include_colab_link": true
    },
    "kernelspec": {
      "name": "python3",
      "display_name": "Python 3"
    },
    "language_info": {
      "name": "python"
    }
  },
  "cells": [
    {
      "cell_type": "markdown",
      "metadata": {
        "id": "view-in-github",
        "colab_type": "text"
      },
      "source": [
        "<a href=\"https://colab.research.google.com/github/howsam/pytorch-course-free/blob/main/week_2_linear_regression.ipynb\" target=\"_parent\"><img src=\"https://colab.research.google.com/assets/colab-badge.svg\" alt=\"Open In Colab\"/></a>"
      ]
    },
    {
      "cell_type": "markdown",
      "metadata": {
        "id": "j33aYo98boyK"
      },
      "source": [
        "#  <font color='#FFE15D'><b>💎 Week 2: Linear Regression with torch API</b></font>\n",
        "### Pytorch Free Course [webpage](https://howsam.org/downloads/pytorch-courset/)\n",
        "\n",
        "### Source Codes on Github [pytorch-course-free](https://github.com/howsam/pytorch-course-free.git)\n",
        "\n",
        "### by Howsam AI Academy www.howsam.org\n"
      ]
    },
    {
      "cell_type": "markdown",
      "source": [
        "## 🟪 **Increasing the output font size in Colab cells**"
      ],
      "metadata": {
        "id": "Yr3bfpgyoD_c"
      }
    },
    {
      "cell_type": "code",
      "source": [
        "from IPython.display import HTML\n",
        "shell = get_ipython()\n",
        "\n",
        "def adjust_font_size():\n",
        "  display(HTML('''<style>\n",
        "    body {\n",
        "      font-size: 30px;\n",
        "    }\n",
        "  '''))\n",
        "\n",
        "if adjust_font_size not in shell.events.callbacks['pre_execute']:\n",
        "  shell.events.register('pre_execute', adjust_font_size)"
      ],
      "metadata": {
        "id": "V5KCx1Cqmiya"
      },
      "execution_count": null,
      "outputs": []
    },
    {
      "cell_type": "code",
      "source": [
        "a = 3\n",
        "a"
      ],
      "metadata": {
        "colab": {
          "base_uri": "https://localhost:8080/"
        },
        "id": "reSgRYEYqGHZ",
        "outputId": "50d2b722-9837-42da-c7d1-6f9bbe576eca"
      },
      "execution_count": null,
      "outputs": [
        {
          "output_type": "display_data",
          "data": {
            "text/plain": [
              "<IPython.core.display.HTML object>"
            ],
            "text/html": [
              "<style>\n",
              "    body {\n",
              "      font-size: 30px;\n",
              "    }\n",
              "  "
            ]
          },
          "metadata": {}
        },
        {
          "output_type": "execute_result",
          "data": {
            "text/plain": [
              "3"
            ]
          },
          "metadata": {},
          "execution_count": 2
        }
      ]
    },
    {
      "cell_type": "markdown",
      "metadata": {
        "jp-MarkdownHeadingCollapsed": true,
        "tags": [],
        "id": "2Uo3zoOHboyX"
      },
      "source": [
        "## 🟥 **Step 0: Imports**"
      ]
    },
    {
      "cell_type": "code",
      "source": [
        "import numpy as np\n",
        "import matplotlib.pyplot as plt\n",
        "import pandas as pd\n",
        "\n",
        "from sklearn.model_selection import train_test_split\n",
        "from sklearn.preprocessing import StandardScaler\n",
        "\n",
        "import torch"
      ],
      "metadata": {
        "colab": {
          "base_uri": "https://localhost:8080/"
        },
        "id": "BgzrYL9ugK4l",
        "outputId": "b6ec407e-f080-4f09-98e9-25c333d65c76"
      },
      "execution_count": null,
      "outputs": [
        {
          "output_type": "display_data",
          "data": {
            "text/plain": [
              "<IPython.core.display.HTML object>"
            ],
            "text/html": [
              "<style>\n",
              "    body {\n",
              "      font-size: 30px;\n",
              "    }\n",
              "  "
            ]
          },
          "metadata": {}
        }
      ]
    },
    {
      "cell_type": "code",
      "source": [
        "torch.__version__"
      ],
      "metadata": {
        "colab": {
          "base_uri": "https://localhost:8080/"
        },
        "id": "SaLIYWTmoZqD",
        "outputId": "d55af12c-20ec-4361-8b46-71dfa9f77e21"
      },
      "execution_count": null,
      "outputs": [
        {
          "output_type": "display_data",
          "data": {
            "text/plain": [
              "<IPython.core.display.HTML object>"
            ],
            "text/html": [
              "<style>\n",
              "    body {\n",
              "      font-size: 30px;\n",
              "    }\n",
              "  "
            ]
          },
          "metadata": {}
        },
        {
          "output_type": "execute_result",
          "data": {
            "text/plain": [
              "'2.3.0+cu121'"
            ],
            "application/vnd.google.colaboratory.intrinsic+json": {
              "type": "string"
            }
          },
          "metadata": {},
          "execution_count": 4
        }
      ]
    },
    {
      "cell_type": "markdown",
      "metadata": {
        "tags": [],
        "id": "GR24qEHXboyT"
      },
      "source": [
        "## 🟥 **Step 1: Dataset**"
      ]
    },
    {
      "cell_type": "markdown",
      "source": [
        "https://www.kaggle.com/code/ybifoundation/simple-linear-regression"
      ],
      "metadata": {
        "id": "z5OJUGSz8ga2"
      }
    },
    {
      "cell_type": "markdown",
      "source": [
        "<table border=\"1\" align=\"left\">\n",
        "  <tr>\n",
        "    <th align=\"center\">Experience Years</th>\n",
        "    <th align=\"center\">Salary</th>\n",
        "  </tr>\n",
        "  <tr>\n",
        "    <td align=\"center\">1.1</td>\n",
        "    <td align=\"center\">39343</td>\n",
        "  </tr>\n",
        "  <tr>\n",
        "    <td align=\"center\">1.2</td>\n",
        "    <td align=\"center\">42774</td>\n",
        "  </tr>\n",
        "  <tr>\n",
        "    <td align=\"center\">1.3</td>\n",
        "    <td align=\"center\">46205</td>\n",
        "  </tr>\n",
        "  <tr>\n",
        "    <td align=\"center\">...</td>\n",
        "    <td align=\"center\">...</td>\n",
        "  </tr>\n",
        "  <tr>\n",
        "    <td align=\"center\">10.3</td>\n",
        "    <td align=\"center\">122391</td>\n",
        "  </tr>\n",
        "  <tr>\n",
        "    <td align=\"center\">10.5</td>\n",
        "    <td align=\"center\">121872</td>\n",
        "  </tr>\n",
        "</table>\n"
      ],
      "metadata": {
        "id": "zPgWRDXk8VLI"
      }
    },
    {
      "cell_type": "code",
      "source": [
        "salary = pd.read_csv('https://github.com/ybifoundation/Dataset/raw/main/Salary%20Data.csv')\n",
        "salary"
      ],
      "metadata": {
        "colab": {
          "base_uri": "https://localhost:8080/"
        },
        "collapsed": true,
        "id": "ieypyKfFmg4j",
        "outputId": "ec00fdc5-a8bc-4d21-ea5d-b14fe79284ea"
      },
      "execution_count": null,
      "outputs": [
        {
          "output_type": "display_data",
          "data": {
            "text/plain": [
              "<IPython.core.display.HTML object>"
            ],
            "text/html": [
              "<style>\n",
              "    body {\n",
              "      font-size: 30px;\n",
              "    }\n",
              "  "
            ]
          },
          "metadata": {}
        },
        {
          "output_type": "execute_result",
          "data": {
            "text/plain": [
              "    Experience Years  Salary\n",
              "0                1.1   39343\n",
              "1                1.2   42774\n",
              "2                1.3   46205\n",
              "3                1.5   37731\n",
              "4                2.0   43525\n",
              "5                2.2   39891\n",
              "6                2.5   48266\n",
              "7                2.9   56642\n",
              "8                3.0   60150\n",
              "9                3.2   54445\n",
              "10               3.2   64445\n",
              "11               3.5   60000\n",
              "12               3.7   57189\n",
              "13               3.8   60200\n",
              "14               3.9   63218\n",
              "15               4.0   55794\n",
              "16               4.0   56957\n",
              "17               4.1   57081\n",
              "18               4.3   59095\n",
              "19               4.5   61111\n",
              "20               4.7   64500\n",
              "21               4.9   67938\n",
              "22               5.1   66029\n",
              "23               5.3   83088\n",
              "24               5.5   82200\n",
              "25               5.9   81363\n",
              "26               6.0   93940\n",
              "27               6.2   91000\n",
              "28               6.5   90000\n",
              "29               6.8   91738\n",
              "30               7.1   98273\n",
              "31               7.9  101302\n",
              "32               8.2  113812\n",
              "33               8.5  111620\n",
              "34               8.7  109431\n",
              "35               9.0  105582\n",
              "36               9.5  116969\n",
              "37               9.6  112635\n",
              "38              10.3  122391\n",
              "39              10.5  121872"
            ],
            "text/html": [
              "\n",
              "  <div id=\"df-df7745d8-41e9-4a3c-a0b1-9a5761692805\" class=\"colab-df-container\">\n",
              "    <div>\n",
              "<style scoped>\n",
              "    .dataframe tbody tr th:only-of-type {\n",
              "        vertical-align: middle;\n",
              "    }\n",
              "\n",
              "    .dataframe tbody tr th {\n",
              "        vertical-align: top;\n",
              "    }\n",
              "\n",
              "    .dataframe thead th {\n",
              "        text-align: right;\n",
              "    }\n",
              "</style>\n",
              "<table border=\"1\" class=\"dataframe\">\n",
              "  <thead>\n",
              "    <tr style=\"text-align: right;\">\n",
              "      <th></th>\n",
              "      <th>Experience Years</th>\n",
              "      <th>Salary</th>\n",
              "    </tr>\n",
              "  </thead>\n",
              "  <tbody>\n",
              "    <tr>\n",
              "      <th>0</th>\n",
              "      <td>1.1</td>\n",
              "      <td>39343</td>\n",
              "    </tr>\n",
              "    <tr>\n",
              "      <th>1</th>\n",
              "      <td>1.2</td>\n",
              "      <td>42774</td>\n",
              "    </tr>\n",
              "    <tr>\n",
              "      <th>2</th>\n",
              "      <td>1.3</td>\n",
              "      <td>46205</td>\n",
              "    </tr>\n",
              "    <tr>\n",
              "      <th>3</th>\n",
              "      <td>1.5</td>\n",
              "      <td>37731</td>\n",
              "    </tr>\n",
              "    <tr>\n",
              "      <th>4</th>\n",
              "      <td>2.0</td>\n",
              "      <td>43525</td>\n",
              "    </tr>\n",
              "    <tr>\n",
              "      <th>5</th>\n",
              "      <td>2.2</td>\n",
              "      <td>39891</td>\n",
              "    </tr>\n",
              "    <tr>\n",
              "      <th>6</th>\n",
              "      <td>2.5</td>\n",
              "      <td>48266</td>\n",
              "    </tr>\n",
              "    <tr>\n",
              "      <th>7</th>\n",
              "      <td>2.9</td>\n",
              "      <td>56642</td>\n",
              "    </tr>\n",
              "    <tr>\n",
              "      <th>8</th>\n",
              "      <td>3.0</td>\n",
              "      <td>60150</td>\n",
              "    </tr>\n",
              "    <tr>\n",
              "      <th>9</th>\n",
              "      <td>3.2</td>\n",
              "      <td>54445</td>\n",
              "    </tr>\n",
              "    <tr>\n",
              "      <th>10</th>\n",
              "      <td>3.2</td>\n",
              "      <td>64445</td>\n",
              "    </tr>\n",
              "    <tr>\n",
              "      <th>11</th>\n",
              "      <td>3.5</td>\n",
              "      <td>60000</td>\n",
              "    </tr>\n",
              "    <tr>\n",
              "      <th>12</th>\n",
              "      <td>3.7</td>\n",
              "      <td>57189</td>\n",
              "    </tr>\n",
              "    <tr>\n",
              "      <th>13</th>\n",
              "      <td>3.8</td>\n",
              "      <td>60200</td>\n",
              "    </tr>\n",
              "    <tr>\n",
              "      <th>14</th>\n",
              "      <td>3.9</td>\n",
              "      <td>63218</td>\n",
              "    </tr>\n",
              "    <tr>\n",
              "      <th>15</th>\n",
              "      <td>4.0</td>\n",
              "      <td>55794</td>\n",
              "    </tr>\n",
              "    <tr>\n",
              "      <th>16</th>\n",
              "      <td>4.0</td>\n",
              "      <td>56957</td>\n",
              "    </tr>\n",
              "    <tr>\n",
              "      <th>17</th>\n",
              "      <td>4.1</td>\n",
              "      <td>57081</td>\n",
              "    </tr>\n",
              "    <tr>\n",
              "      <th>18</th>\n",
              "      <td>4.3</td>\n",
              "      <td>59095</td>\n",
              "    </tr>\n",
              "    <tr>\n",
              "      <th>19</th>\n",
              "      <td>4.5</td>\n",
              "      <td>61111</td>\n",
              "    </tr>\n",
              "    <tr>\n",
              "      <th>20</th>\n",
              "      <td>4.7</td>\n",
              "      <td>64500</td>\n",
              "    </tr>\n",
              "    <tr>\n",
              "      <th>21</th>\n",
              "      <td>4.9</td>\n",
              "      <td>67938</td>\n",
              "    </tr>\n",
              "    <tr>\n",
              "      <th>22</th>\n",
              "      <td>5.1</td>\n",
              "      <td>66029</td>\n",
              "    </tr>\n",
              "    <tr>\n",
              "      <th>23</th>\n",
              "      <td>5.3</td>\n",
              "      <td>83088</td>\n",
              "    </tr>\n",
              "    <tr>\n",
              "      <th>24</th>\n",
              "      <td>5.5</td>\n",
              "      <td>82200</td>\n",
              "    </tr>\n",
              "    <tr>\n",
              "      <th>25</th>\n",
              "      <td>5.9</td>\n",
              "      <td>81363</td>\n",
              "    </tr>\n",
              "    <tr>\n",
              "      <th>26</th>\n",
              "      <td>6.0</td>\n",
              "      <td>93940</td>\n",
              "    </tr>\n",
              "    <tr>\n",
              "      <th>27</th>\n",
              "      <td>6.2</td>\n",
              "      <td>91000</td>\n",
              "    </tr>\n",
              "    <tr>\n",
              "      <th>28</th>\n",
              "      <td>6.5</td>\n",
              "      <td>90000</td>\n",
              "    </tr>\n",
              "    <tr>\n",
              "      <th>29</th>\n",
              "      <td>6.8</td>\n",
              "      <td>91738</td>\n",
              "    </tr>\n",
              "    <tr>\n",
              "      <th>30</th>\n",
              "      <td>7.1</td>\n",
              "      <td>98273</td>\n",
              "    </tr>\n",
              "    <tr>\n",
              "      <th>31</th>\n",
              "      <td>7.9</td>\n",
              "      <td>101302</td>\n",
              "    </tr>\n",
              "    <tr>\n",
              "      <th>32</th>\n",
              "      <td>8.2</td>\n",
              "      <td>113812</td>\n",
              "    </tr>\n",
              "    <tr>\n",
              "      <th>33</th>\n",
              "      <td>8.5</td>\n",
              "      <td>111620</td>\n",
              "    </tr>\n",
              "    <tr>\n",
              "      <th>34</th>\n",
              "      <td>8.7</td>\n",
              "      <td>109431</td>\n",
              "    </tr>\n",
              "    <tr>\n",
              "      <th>35</th>\n",
              "      <td>9.0</td>\n",
              "      <td>105582</td>\n",
              "    </tr>\n",
              "    <tr>\n",
              "      <th>36</th>\n",
              "      <td>9.5</td>\n",
              "      <td>116969</td>\n",
              "    </tr>\n",
              "    <tr>\n",
              "      <th>37</th>\n",
              "      <td>9.6</td>\n",
              "      <td>112635</td>\n",
              "    </tr>\n",
              "    <tr>\n",
              "      <th>38</th>\n",
              "      <td>10.3</td>\n",
              "      <td>122391</td>\n",
              "    </tr>\n",
              "    <tr>\n",
              "      <th>39</th>\n",
              "      <td>10.5</td>\n",
              "      <td>121872</td>\n",
              "    </tr>\n",
              "  </tbody>\n",
              "</table>\n",
              "</div>\n",
              "    <div class=\"colab-df-buttons\">\n",
              "\n",
              "  <div class=\"colab-df-container\">\n",
              "    <button class=\"colab-df-convert\" onclick=\"convertToInteractive('df-df7745d8-41e9-4a3c-a0b1-9a5761692805')\"\n",
              "            title=\"Convert this dataframe to an interactive table.\"\n",
              "            style=\"display:none;\">\n",
              "\n",
              "  <svg xmlns=\"http://www.w3.org/2000/svg\" height=\"24px\" viewBox=\"0 -960 960 960\">\n",
              "    <path d=\"M120-120v-720h720v720H120Zm60-500h600v-160H180v160Zm220 220h160v-160H400v160Zm0 220h160v-160H400v160ZM180-400h160v-160H180v160Zm440 0h160v-160H620v160ZM180-180h160v-160H180v160Zm440 0h160v-160H620v160Z\"/>\n",
              "  </svg>\n",
              "    </button>\n",
              "\n",
              "  <style>\n",
              "    .colab-df-container {\n",
              "      display:flex;\n",
              "      gap: 12px;\n",
              "    }\n",
              "\n",
              "    .colab-df-convert {\n",
              "      background-color: #E8F0FE;\n",
              "      border: none;\n",
              "      border-radius: 50%;\n",
              "      cursor: pointer;\n",
              "      display: none;\n",
              "      fill: #1967D2;\n",
              "      height: 32px;\n",
              "      padding: 0 0 0 0;\n",
              "      width: 32px;\n",
              "    }\n",
              "\n",
              "    .colab-df-convert:hover {\n",
              "      background-color: #E2EBFA;\n",
              "      box-shadow: 0px 1px 2px rgba(60, 64, 67, 0.3), 0px 1px 3px 1px rgba(60, 64, 67, 0.15);\n",
              "      fill: #174EA6;\n",
              "    }\n",
              "\n",
              "    .colab-df-buttons div {\n",
              "      margin-bottom: 4px;\n",
              "    }\n",
              "\n",
              "    [theme=dark] .colab-df-convert {\n",
              "      background-color: #3B4455;\n",
              "      fill: #D2E3FC;\n",
              "    }\n",
              "\n",
              "    [theme=dark] .colab-df-convert:hover {\n",
              "      background-color: #434B5C;\n",
              "      box-shadow: 0px 1px 3px 1px rgba(0, 0, 0, 0.15);\n",
              "      filter: drop-shadow(0px 1px 2px rgba(0, 0, 0, 0.3));\n",
              "      fill: #FFFFFF;\n",
              "    }\n",
              "  </style>\n",
              "\n",
              "    <script>\n",
              "      const buttonEl =\n",
              "        document.querySelector('#df-df7745d8-41e9-4a3c-a0b1-9a5761692805 button.colab-df-convert');\n",
              "      buttonEl.style.display =\n",
              "        google.colab.kernel.accessAllowed ? 'block' : 'none';\n",
              "\n",
              "      async function convertToInteractive(key) {\n",
              "        const element = document.querySelector('#df-df7745d8-41e9-4a3c-a0b1-9a5761692805');\n",
              "        const dataTable =\n",
              "          await google.colab.kernel.invokeFunction('convertToInteractive',\n",
              "                                                    [key], {});\n",
              "        if (!dataTable) return;\n",
              "\n",
              "        const docLinkHtml = 'Like what you see? Visit the ' +\n",
              "          '<a target=\"_blank\" href=https://colab.research.google.com/notebooks/data_table.ipynb>data table notebook</a>'\n",
              "          + ' to learn more about interactive tables.';\n",
              "        element.innerHTML = '';\n",
              "        dataTable['output_type'] = 'display_data';\n",
              "        await google.colab.output.renderOutput(dataTable, element);\n",
              "        const docLink = document.createElement('div');\n",
              "        docLink.innerHTML = docLinkHtml;\n",
              "        element.appendChild(docLink);\n",
              "      }\n",
              "    </script>\n",
              "  </div>\n",
              "\n",
              "\n",
              "<div id=\"df-10c21490-858f-4549-b4c9-5bfe94d1277d\">\n",
              "  <button class=\"colab-df-quickchart\" onclick=\"quickchart('df-10c21490-858f-4549-b4c9-5bfe94d1277d')\"\n",
              "            title=\"Suggest charts\"\n",
              "            style=\"display:none;\">\n",
              "\n",
              "<svg xmlns=\"http://www.w3.org/2000/svg\" height=\"24px\"viewBox=\"0 0 24 24\"\n",
              "     width=\"24px\">\n",
              "    <g>\n",
              "        <path d=\"M19 3H5c-1.1 0-2 .9-2 2v14c0 1.1.9 2 2 2h14c1.1 0 2-.9 2-2V5c0-1.1-.9-2-2-2zM9 17H7v-7h2v7zm4 0h-2V7h2v10zm4 0h-2v-4h2v4z\"/>\n",
              "    </g>\n",
              "</svg>\n",
              "  </button>\n",
              "\n",
              "<style>\n",
              "  .colab-df-quickchart {\n",
              "      --bg-color: #E8F0FE;\n",
              "      --fill-color: #1967D2;\n",
              "      --hover-bg-color: #E2EBFA;\n",
              "      --hover-fill-color: #174EA6;\n",
              "      --disabled-fill-color: #AAA;\n",
              "      --disabled-bg-color: #DDD;\n",
              "  }\n",
              "\n",
              "  [theme=dark] .colab-df-quickchart {\n",
              "      --bg-color: #3B4455;\n",
              "      --fill-color: #D2E3FC;\n",
              "      --hover-bg-color: #434B5C;\n",
              "      --hover-fill-color: #FFFFFF;\n",
              "      --disabled-bg-color: #3B4455;\n",
              "      --disabled-fill-color: #666;\n",
              "  }\n",
              "\n",
              "  .colab-df-quickchart {\n",
              "    background-color: var(--bg-color);\n",
              "    border: none;\n",
              "    border-radius: 50%;\n",
              "    cursor: pointer;\n",
              "    display: none;\n",
              "    fill: var(--fill-color);\n",
              "    height: 32px;\n",
              "    padding: 0;\n",
              "    width: 32px;\n",
              "  }\n",
              "\n",
              "  .colab-df-quickchart:hover {\n",
              "    background-color: var(--hover-bg-color);\n",
              "    box-shadow: 0 1px 2px rgba(60, 64, 67, 0.3), 0 1px 3px 1px rgba(60, 64, 67, 0.15);\n",
              "    fill: var(--button-hover-fill-color);\n",
              "  }\n",
              "\n",
              "  .colab-df-quickchart-complete:disabled,\n",
              "  .colab-df-quickchart-complete:disabled:hover {\n",
              "    background-color: var(--disabled-bg-color);\n",
              "    fill: var(--disabled-fill-color);\n",
              "    box-shadow: none;\n",
              "  }\n",
              "\n",
              "  .colab-df-spinner {\n",
              "    border: 2px solid var(--fill-color);\n",
              "    border-color: transparent;\n",
              "    border-bottom-color: var(--fill-color);\n",
              "    animation:\n",
              "      spin 1s steps(1) infinite;\n",
              "  }\n",
              "\n",
              "  @keyframes spin {\n",
              "    0% {\n",
              "      border-color: transparent;\n",
              "      border-bottom-color: var(--fill-color);\n",
              "      border-left-color: var(--fill-color);\n",
              "    }\n",
              "    20% {\n",
              "      border-color: transparent;\n",
              "      border-left-color: var(--fill-color);\n",
              "      border-top-color: var(--fill-color);\n",
              "    }\n",
              "    30% {\n",
              "      border-color: transparent;\n",
              "      border-left-color: var(--fill-color);\n",
              "      border-top-color: var(--fill-color);\n",
              "      border-right-color: var(--fill-color);\n",
              "    }\n",
              "    40% {\n",
              "      border-color: transparent;\n",
              "      border-right-color: var(--fill-color);\n",
              "      border-top-color: var(--fill-color);\n",
              "    }\n",
              "    60% {\n",
              "      border-color: transparent;\n",
              "      border-right-color: var(--fill-color);\n",
              "    }\n",
              "    80% {\n",
              "      border-color: transparent;\n",
              "      border-right-color: var(--fill-color);\n",
              "      border-bottom-color: var(--fill-color);\n",
              "    }\n",
              "    90% {\n",
              "      border-color: transparent;\n",
              "      border-bottom-color: var(--fill-color);\n",
              "    }\n",
              "  }\n",
              "</style>\n",
              "\n",
              "  <script>\n",
              "    async function quickchart(key) {\n",
              "      const quickchartButtonEl =\n",
              "        document.querySelector('#' + key + ' button');\n",
              "      quickchartButtonEl.disabled = true;  // To prevent multiple clicks.\n",
              "      quickchartButtonEl.classList.add('colab-df-spinner');\n",
              "      try {\n",
              "        const charts = await google.colab.kernel.invokeFunction(\n",
              "            'suggestCharts', [key], {});\n",
              "      } catch (error) {\n",
              "        console.error('Error during call to suggestCharts:', error);\n",
              "      }\n",
              "      quickchartButtonEl.classList.remove('colab-df-spinner');\n",
              "      quickchartButtonEl.classList.add('colab-df-quickchart-complete');\n",
              "    }\n",
              "    (() => {\n",
              "      let quickchartButtonEl =\n",
              "        document.querySelector('#df-10c21490-858f-4549-b4c9-5bfe94d1277d button');\n",
              "      quickchartButtonEl.style.display =\n",
              "        google.colab.kernel.accessAllowed ? 'block' : 'none';\n",
              "    })();\n",
              "  </script>\n",
              "</div>\n",
              "    </div>\n",
              "  </div>\n"
            ],
            "application/vnd.google.colaboratory.intrinsic+json": {
              "type": "dataframe",
              "variable_name": "salary",
              "summary": "{\n  \"name\": \"salary\",\n  \"rows\": 40,\n  \"fields\": [\n    {\n      \"column\": \"Experience Years\",\n      \"properties\": {\n        \"dtype\": \"number\",\n        \"std\": 2.6637151133573207,\n        \"min\": 1.1,\n        \"max\": 10.5,\n        \"num_unique_values\": 38,\n        \"samples\": [\n          9.0,\n          10.3,\n          2.0\n        ],\n        \"semantic_type\": \"\",\n        \"description\": \"\"\n      }\n    },\n    {\n      \"column\": \"Salary\",\n      \"properties\": {\n        \"dtype\": \"number\",\n        \"std\": 25947,\n        \"min\": 37731,\n        \"max\": 122391,\n        \"num_unique_values\": 40,\n        \"samples\": [\n          61111,\n          56957,\n          55794\n        ],\n        \"semantic_type\": \"\",\n        \"description\": \"\"\n      }\n    }\n  ]\n}"
            }
          },
          "metadata": {},
          "execution_count": 5
        }
      ]
    },
    {
      "cell_type": "code",
      "source": [
        "X = salary['Experience Years'].values\n",
        "y = salary['Salary'].values\n",
        "X, y"
      ],
      "metadata": {
        "colab": {
          "base_uri": "https://localhost:8080/"
        },
        "id": "tWofzi2UmfbV",
        "outputId": "d0dfa8ed-bf32-4963-c9b7-7e41dbfb3d20"
      },
      "execution_count": null,
      "outputs": [
        {
          "output_type": "display_data",
          "data": {
            "text/plain": [
              "<IPython.core.display.HTML object>"
            ],
            "text/html": [
              "<style>\n",
              "    body {\n",
              "      font-size: 30px;\n",
              "    }\n",
              "  "
            ]
          },
          "metadata": {}
        },
        {
          "output_type": "execute_result",
          "data": {
            "text/plain": [
              "(array([ 1.1,  1.2,  1.3,  1.5,  2. ,  2.2,  2.5,  2.9,  3. ,  3.2,  3.2,\n",
              "         3.5,  3.7,  3.8,  3.9,  4. ,  4. ,  4.1,  4.3,  4.5,  4.7,  4.9,\n",
              "         5.1,  5.3,  5.5,  5.9,  6. ,  6.2,  6.5,  6.8,  7.1,  7.9,  8.2,\n",
              "         8.5,  8.7,  9. ,  9.5,  9.6, 10.3, 10.5]),\n",
              " array([ 39343,  42774,  46205,  37731,  43525,  39891,  48266,  56642,\n",
              "         60150,  54445,  64445,  60000,  57189,  60200,  63218,  55794,\n",
              "         56957,  57081,  59095,  61111,  64500,  67938,  66029,  83088,\n",
              "         82200,  81363,  93940,  91000,  90000,  91738,  98273, 101302,\n",
              "        113812, 111620, 109431, 105582, 116969, 112635, 122391, 121872]))"
            ]
          },
          "metadata": {},
          "execution_count": 6
        }
      ]
    },
    {
      "cell_type": "code",
      "source": [
        "X_train, X_test, y_train, y_test = train_test_split(X, y, train_size=0.7)\n",
        "X_train.shape, y_train.shape, X_test.shape, y_test.shape"
      ],
      "metadata": {
        "colab": {
          "base_uri": "https://localhost:8080/"
        },
        "id": "HVHeyCOkoIhz",
        "outputId": "0790e7f2-56e9-4f26-bcd5-63c79a3ba8ab"
      },
      "execution_count": null,
      "outputs": [
        {
          "output_type": "display_data",
          "data": {
            "text/plain": [
              "<IPython.core.display.HTML object>"
            ],
            "text/html": [
              "<style>\n",
              "    body {\n",
              "      font-size: 30px;\n",
              "    }\n",
              "  "
            ]
          },
          "metadata": {}
        },
        {
          "output_type": "execute_result",
          "data": {
            "text/plain": [
              "((28,), (28,), (12,), (12,))"
            ]
          },
          "metadata": {},
          "execution_count": 7
        }
      ]
    },
    {
      "cell_type": "code",
      "source": [
        "X_train = X_train.reshape(-1, 1)\n",
        "y_train = y_train.reshape(-1, 1)\n",
        "\n",
        "X_test = X_test.reshape(-1, 1)\n",
        "y_test = y_test.reshape(-1, 1)\n",
        "\n",
        "X_train.shape, y_train.shape, X_test.shape, y_test.shape"
      ],
      "metadata": {
        "colab": {
          "base_uri": "https://localhost:8080/"
        },
        "id": "rEj9BwSkTslJ",
        "outputId": "b1e2e8fa-88b3-4a43-e748-36e341965009"
      },
      "execution_count": null,
      "outputs": [
        {
          "output_type": "display_data",
          "data": {
            "text/plain": [
              "<IPython.core.display.HTML object>"
            ],
            "text/html": [
              "<style>\n",
              "    body {\n",
              "      font-size: 30px;\n",
              "    }\n",
              "  "
            ]
          },
          "metadata": {}
        },
        {
          "output_type": "execute_result",
          "data": {
            "text/plain": [
              "((28, 1), (28, 1), (12, 1), (12, 1))"
            ]
          },
          "metadata": {},
          "execution_count": 8
        }
      ]
    },
    {
      "cell_type": "code",
      "source": [
        "x_scaler = StandardScaler()\n",
        "X_train = x_scaler.fit_transform(X_train)"
      ],
      "metadata": {
        "colab": {
          "base_uri": "https://localhost:8080/"
        },
        "id": "1iJQjUACUG4Y",
        "outputId": "c432f3e4-d318-4635-eee7-bbeae893ce8a"
      },
      "execution_count": null,
      "outputs": [
        {
          "output_type": "display_data",
          "data": {
            "text/plain": [
              "<IPython.core.display.HTML object>"
            ],
            "text/html": [
              "<style>\n",
              "    body {\n",
              "      font-size: 30px;\n",
              "    }\n",
              "  "
            ]
          },
          "metadata": {}
        }
      ]
    },
    {
      "cell_type": "code",
      "source": [
        "y_scaler = StandardScaler()\n",
        "y_train = y_scaler.fit_transform(y_train)"
      ],
      "metadata": {
        "colab": {
          "base_uri": "https://localhost:8080/"
        },
        "id": "iZJcZxe1VPYQ",
        "outputId": "d302177f-b947-426b-a962-28509fe982a0"
      },
      "execution_count": null,
      "outputs": [
        {
          "output_type": "display_data",
          "data": {
            "text/plain": [
              "<IPython.core.display.HTML object>"
            ],
            "text/html": [
              "<style>\n",
              "    body {\n",
              "      font-size: 30px;\n",
              "    }\n",
              "  "
            ]
          },
          "metadata": {}
        }
      ]
    },
    {
      "cell_type": "code",
      "source": [
        "X_test = x_scaler.transform(X_test)\n",
        "y_test = y_scaler.transform(y_test)"
      ],
      "metadata": {
        "colab": {
          "base_uri": "https://localhost:8080/"
        },
        "id": "efoIOxlLVaBm",
        "outputId": "cbd27920-17b8-44ce-fcbb-55efb8bf31e0"
      },
      "execution_count": null,
      "outputs": [
        {
          "output_type": "display_data",
          "data": {
            "text/plain": [
              "<IPython.core.display.HTML object>"
            ],
            "text/html": [
              "<style>\n",
              "    body {\n",
              "      font-size: 30px;\n",
              "    }\n",
              "  "
            ]
          },
          "metadata": {}
        }
      ]
    },
    {
      "cell_type": "code",
      "source": [
        "y_scaler.inverse_transform(y_test)"
      ],
      "metadata": {
        "colab": {
          "base_uri": "https://localhost:8080/"
        },
        "collapsed": true,
        "id": "vSjwhHjcVtTj",
        "outputId": "7497a9f5-3122-474c-fd3c-00e6c9fccaed"
      },
      "execution_count": null,
      "outputs": [
        {
          "output_type": "display_data",
          "data": {
            "text/plain": [
              "<IPython.core.display.HTML object>"
            ],
            "text/html": [
              "<style>\n",
              "    body {\n",
              "      font-size: 30px;\n",
              "    }\n",
              "  "
            ]
          },
          "metadata": {}
        },
        {
          "output_type": "execute_result",
          "data": {
            "text/plain": [
              "array([[ 83088.],\n",
              "       [111620.],\n",
              "       [ 93940.],\n",
              "       [ 56642.],\n",
              "       [ 67938.],\n",
              "       [121872.],\n",
              "       [ 37731.],\n",
              "       [ 90000.],\n",
              "       [116969.],\n",
              "       [105582.],\n",
              "       [ 60150.],\n",
              "       [ 66029.]])"
            ]
          },
          "metadata": {},
          "execution_count": 12
        }
      ]
    },
    {
      "cell_type": "code",
      "source": [
        "plt.scatter(X_train, y_train, s=100)\n",
        "plt.scatter(X_test, y_test, s=100)\n",
        "\n",
        "plt.legend(['Train', 'Test']);"
      ],
      "metadata": {
        "colab": {
          "base_uri": "https://localhost:8080/"
        },
        "id": "ohNcgFKfV8yl",
        "outputId": "56e42b6b-df48-43c2-c581-949d25a85d8f"
      },
      "execution_count": null,
      "outputs": [
        {
          "output_type": "display_data",
          "data": {
            "text/plain": [
              "<IPython.core.display.HTML object>"
            ],
            "text/html": [
              "<style>\n",
              "    body {\n",
              "      font-size: 30px;\n",
              "    }\n",
              "  "
            ]
          },
          "metadata": {}
        },
        {
          "output_type": "display_data",
          "data": {
            "text/plain": [
              "<Figure size 640x480 with 1 Axes>"
            ],
            "image/png": "[encoded data removed]"
          },
          "metadata": {}
        }
      ]
    },
    {
      "cell_type": "code",
      "source": [
        "X_train = torch.tensor(X_train, dtype=torch.float32)\n",
        "y_train = torch.tensor(y_train, dtype=torch.float32)\n",
        "\n",
        "X_test = torch.tensor(X_test, dtype=torch.float32)\n",
        "y_test = torch.tensor(y_test, dtype=torch.float32)\n",
        "\n",
        "X_train.shape, y_train.shape, X_test.shape, y_test.shape"
      ],
      "metadata": {
        "colab": {
          "base_uri": "https://localhost:8080/"
        },
        "id": "LM42nBRIWYwk",
        "outputId": "31a97f07-1900-47d5-d993-84ab8b29ec4b"
      },
      "execution_count": null,
      "outputs": [
        {
          "output_type": "display_data",
          "data": {
            "text/plain": [
              "<IPython.core.display.HTML object>"
            ],
            "text/html": [
              "<style>\n",
              "    body {\n",
              "      font-size: 30px;\n",
              "    }\n",
              "  "
            ]
          },
          "metadata": {}
        },
        {
          "output_type": "execute_result",
          "data": {
            "text/plain": [
              "(torch.Size([28, 1]),\n",
              " torch.Size([28, 1]),\n",
              " torch.Size([12, 1]),\n",
              " torch.Size([12, 1]))"
            ]
          },
          "metadata": {},
          "execution_count": 14
        }
      ]
    },
    {
      "cell_type": "markdown",
      "metadata": {
        "tags": [],
        "id": "HX_M1Kwgboyd"
      },
      "source": [
        "## 🟥 **Step 2: Model**"
      ]
    },
    {
      "cell_type": "markdown",
      "metadata": {
        "tags": [],
        "id": "tsCPFzFY14by"
      },
      "source": [
        "### 🟧 **Functional**"
      ]
    },
    {
      "cell_type": "code",
      "source": [
        "def linear_regression(x, theta0, theta1):\n",
        "  y_hat = x * theta1 + theta0\n",
        "  return y_hat"
      ],
      "metadata": {
        "colab": {
          "base_uri": "https://localhost:8080/"
        },
        "id": "1EUsU6OJ9C3y",
        "outputId": "f13a75dd-791a-4d4d-853a-08f817db7303"
      },
      "execution_count": null,
      "outputs": [
        {
          "output_type": "display_data",
          "data": {
            "text/plain": [
              "<IPython.core.display.HTML object>"
            ],
            "text/html": [
              "<style>\n",
              "    body {\n",
              "      font-size: 30px;\n",
              "    }\n",
              "  "
            ]
          },
          "metadata": {}
        }
      ]
    },
    {
      "cell_type": "code",
      "source": [
        "theta0 = torch.randn(1)\n",
        "theta1 = torch.randn(1)\n",
        "print(theta0, theta1)\n",
        "\n",
        "y_hat = linear_regression(X_train, theta0, theta1)\n",
        "y_hat.shape"
      ],
      "metadata": {
        "colab": {
          "base_uri": "https://localhost:8080/"
        },
        "collapsed": true,
        "id": "BDkBBlzc98cZ",
        "outputId": "b99a34a5-441d-40ae-8147-8e4d346a84c2"
      },
      "execution_count": null,
      "outputs": [
        {
          "output_type": "display_data",
          "data": {
            "text/plain": [
              "<IPython.core.display.HTML object>"
            ],
            "text/html": [
              "<style>\n",
              "    body {\n",
              "      font-size: 30px;\n",
              "    }\n",
              "  "
            ]
          },
          "metadata": {}
        },
        {
          "output_type": "stream",
          "name": "stdout",
          "text": [
            "tensor([0.0003]) tensor([0.0063])\n"
          ]
        },
        {
          "output_type": "execute_result",
          "data": {
            "text/plain": [
              "torch.Size([28, 1])"
            ]
          },
          "metadata": {},
          "execution_count": 19
        }
      ]
    },
    {
      "cell_type": "code",
      "source": [
        "linear_regression(1, 2, -2)"
      ],
      "metadata": {
        "colab": {
          "base_uri": "https://localhost:8080/"
        },
        "id": "GRhNCMHU-pdj",
        "outputId": "e5e98995-4b10-4c0c-856e-ce3099918562"
      },
      "execution_count": null,
      "outputs": [
        {
          "output_type": "display_data",
          "data": {
            "text/plain": [
              "<IPython.core.display.HTML object>"
            ],
            "text/html": [
              "<style>\n",
              "    body {\n",
              "      font-size: 30px;\n",
              "    }\n",
              "  "
            ]
          },
          "metadata": {}
        },
        {
          "output_type": "execute_result",
          "data": {
            "text/plain": [
              "0"
            ]
          },
          "metadata": {},
          "execution_count": 17
        }
      ]
    },
    {
      "cell_type": "code",
      "source": [
        "plt.scatter(X_train, y_train)\n",
        "plt.scatter(X_train, y_hat)"
      ],
      "metadata": {
        "colab": {
          "base_uri": "https://localhost:8080/"
        },
        "id": "vW-qflmr-0xo",
        "outputId": "e54f1bdc-09a8-4ec6-bcaf-11bbba4ba3bc"
      },
      "execution_count": null,
      "outputs": [
        {
          "output_type": "display_data",
          "data": {
            "text/plain": [
              "<IPython.core.display.HTML object>"
            ],
            "text/html": [
              "<style>\n",
              "    body {\n",
              "      font-size: 30px;\n",
              "    }\n",
              "  "
            ]
          },
          "metadata": {}
        },
        {
          "output_type": "execute_result",
          "data": {
            "text/plain": [
              "<matplotlib.collections.PathCollection at 0x78d24ecf7640>"
            ]
          },
          "metadata": {},
          "execution_count": 20
        },
        {
          "output_type": "display_data",
          "data": {
            "text/plain": [
              "<Figure size 640x480 with 1 Axes>"
            ],
            "image/png": "[encoded data removed]"
          },
          "metadata": {}
        }
      ]
    },
    {
      "cell_type": "code",
      "source": [
        "Xr = np.linspace(-10, 10, 100)\n",
        "yr = np.sin(Xr)\n",
        "\n",
        "plt.plot(Xr, yr)"
      ],
      "metadata": {
        "colab": {
          "base_uri": "https://localhost:8080/"
        },
        "id": "Fj95jWAxAvEo",
        "outputId": "5fdf1bea-463e-4dac-9d6a-483a5944150f"
      },
      "execution_count": null,
      "outputs": [
        {
          "output_type": "display_data",
          "data": {
            "text/plain": [
              "<IPython.core.display.HTML object>"
            ],
            "text/html": [
              "<style>\n",
              "    body {\n",
              "      font-size: 30px;\n",
              "    }\n",
              "  "
            ]
          },
          "metadata": {}
        },
        {
          "output_type": "execute_result",
          "data": {
            "text/plain": [
              "[<matplotlib.lines.Line2D at 0x78d24f00d0f0>]"
            ]
          },
          "metadata": {},
          "execution_count": 25
        },
        {
          "output_type": "display_data",
          "data": {
            "text/plain": [
              "<Figure size 640x480 with 1 Axes>"
            ],
            "image/png": "[encoded data removed]"
          },
          "metadata": {}
        }
      ]
    },
    {
      "cell_type": "code",
      "source": [
        "Xr = torch.linspace(X_train.min(), X_train.max(), 100).unsqueeze(1)\n",
        "y_hat = linear_regression(Xr, theta0, theta1)\n",
        "\n",
        "plt.scatter(X_train, y_train)\n",
        "plt.plot(Xr, y_hat, color='red')"
      ],
      "metadata": {
        "colab": {
          "base_uri": "https://localhost:8080/"
        },
        "id": "uMJtSX7hA950",
        "outputId": "40e437d9-f729-47e3-85ee-691424857212"
      },
      "execution_count": null,
      "outputs": [
        {
          "output_type": "display_data",
          "data": {
            "text/plain": [
              "<IPython.core.display.HTML object>"
            ],
            "text/html": [
              "<style>\n",
              "    body {\n",
              "      font-size: 30px;\n",
              "    }\n",
              "  "
            ]
          },
          "metadata": {}
        },
        {
          "output_type": "execute_result",
          "data": {
            "text/plain": [
              "[<matplotlib.lines.Line2D at 0x78d24e6be080>]"
            ]
          },
          "metadata": {},
          "execution_count": 29
        },
        {
          "output_type": "display_data",
          "data": {
            "text/plain": [
              "<Figure size 640x480 with 1 Axes>"
            ],
            "image/png": "[encoded data removed]"
          },
          "metadata": {}
        }
      ]
    },
    {
      "cell_type": "markdown",
      "metadata": {
        "tags": [],
        "id": "dJhD3VN81_fI"
      },
      "source": [
        "### 🟧 **OO**"
      ]
    },
    {
      "cell_type": "code",
      "source": [
        "from sklearn.linear_model import LinearRegression\n",
        "\n",
        "model = LinearRegression()\n",
        "model.fit(X_train, y_train)\n",
        "\n",
        "y_hat = model.predict(Xr)\n",
        "\n",
        "plt.scatter(X_train, y_train)\n",
        "plt.plot(Xr, y_hat, color='red')"
      ],
      "metadata": {
        "colab": {
          "base_uri": "https://localhost:8080/"
        },
        "id": "i1Ajhsen9E2A",
        "outputId": "5c8391df-8241-4bb7-9398-466cf6371fac"
      },
      "execution_count": null,
      "outputs": [
        {
          "output_type": "display_data",
          "data": {
            "text/plain": [
              "<IPython.core.display.HTML object>"
            ],
            "text/html": [
              "<style>\n",
              "    body {\n",
              "      font-size: 30px;\n",
              "    }\n",
              "  "
            ]
          },
          "metadata": {}
        },
        {
          "output_type": "execute_result",
          "data": {
            "text/plain": [
              "[<matplotlib.lines.Line2D at 0x78d24e7f2020>]"
            ]
          },
          "metadata": {},
          "execution_count": 38
        },
        {
          "output_type": "display_data",
          "data": {
            "text/plain": [
              "<Figure size 640x480 with 1 Axes>"
            ],
            "image/png": "[encoded data removed]"
          },
          "metadata": {}
        }
      ]
    },
    {
      "cell_type": "code",
      "source": [
        "class LinearRegression:\n",
        "\n",
        "  def __init__(self):\n",
        "    self.theta0 = torch.randn(1)\n",
        "    self.theta1 = torch.randn(1)\n",
        "\n",
        "  def __call__(self, x):\n",
        "    y_hat = x * self.theta1 + self.theta0\n",
        "    return y_hat\n",
        "\n",
        "  def __repr__(self):\n",
        "    return \"Linear Regression by Howsam AI\""
      ],
      "metadata": {
        "colab": {
          "base_uri": "https://localhost:8080/"
        },
        "id": "CuEYtbqCCRj9",
        "outputId": "33a4bf24-fed3-4c23-cf2e-d65a0882a6d6"
      },
      "execution_count": null,
      "outputs": [
        {
          "output_type": "display_data",
          "data": {
            "text/plain": [
              "<IPython.core.display.HTML object>"
            ],
            "text/html": [
              "<style>\n",
              "    body {\n",
              "      font-size: 30px;\n",
              "    }\n",
              "  "
            ]
          },
          "metadata": {}
        }
      ]
    },
    {
      "cell_type": "code",
      "source": [
        "model = LinearRegression()\n",
        "model.theta0, model.theta1"
      ],
      "metadata": {
        "colab": {
          "base_uri": "https://localhost:8080/"
        },
        "id": "NglcPzI5Clat",
        "outputId": "970c2079-7508-44b1-e270-358db7b51d12"
      },
      "execution_count": null,
      "outputs": [
        {
          "output_type": "display_data",
          "data": {
            "text/plain": [
              "<IPython.core.display.HTML object>"
            ],
            "text/html": [
              "<style>\n",
              "    body {\n",
              "      font-size: 30px;\n",
              "    }\n",
              "  "
            ]
          },
          "metadata": {}
        },
        {
          "output_type": "execute_result",
          "data": {
            "text/plain": [
              "(tensor([-1.0005]), tensor([-1.3062]))"
            ]
          },
          "metadata": {},
          "execution_count": 48
        }
      ]
    },
    {
      "cell_type": "code",
      "source": [
        "model(X_train).shape"
      ],
      "metadata": {
        "colab": {
          "base_uri": "https://localhost:8080/"
        },
        "id": "ZLpw-hIBDi0-",
        "outputId": "4bd9ddc7-a616-44cd-fc4d-a519840106e4"
      },
      "execution_count": null,
      "outputs": [
        {
          "output_type": "display_data",
          "data": {
            "text/plain": [
              "<IPython.core.display.HTML object>"
            ],
            "text/html": [
              "<style>\n",
              "    body {\n",
              "      font-size: 30px;\n",
              "    }\n",
              "  "
            ]
          },
          "metadata": {}
        },
        {
          "output_type": "execute_result",
          "data": {
            "text/plain": [
              "torch.Size([28, 1])"
            ]
          },
          "metadata": {},
          "execution_count": 50
        }
      ]
    },
    {
      "cell_type": "markdown",
      "metadata": {
        "tags": [],
        "id": "eJwX1uUo9s65"
      },
      "source": [
        "## 🟥 **Step 3: Loss**"
      ]
    },
    {
      "cell_type": "code",
      "source": [
        "y_hat = model(X_train)\n",
        "y_hat.shape"
      ],
      "metadata": {
        "colab": {
          "base_uri": "https://localhost:8080/",
          "height": 55
        },
        "id": "WDYm4uLF9Hjr",
        "outputId": "74ae97ac-076f-46f6-d9d6-76ea625739f5"
      },
      "execution_count": null,
      "outputs": [
        {
          "output_type": "display_data",
          "data": {
            "text/plain": [
              "<IPython.core.display.HTML object>"
            ],
            "text/html": [
              "<style>\n",
              "    body {\n",
              "      font-size: 30px;\n",
              "    }\n",
              "  "
            ]
          },
          "metadata": {}
        },
        {
          "output_type": "execute_result",
          "data": {
            "text/plain": [
              "torch.Size([28, 1])"
            ]
          },
          "metadata": {},
          "execution_count": 70
        }
      ]
    },
    {
      "cell_type": "code",
      "source": [
        "def mse(y_hat, y):\n",
        "  return torch.mean((y_hat - y)**2)"
      ],
      "metadata": {
        "colab": {
          "base_uri": "https://localhost:8080/",
          "height": 17
        },
        "id": "j3rjB2ZD9Hat",
        "outputId": "4e72d829-3934-47a4-8319-128637b2bc38"
      },
      "execution_count": null,
      "outputs": [
        {
          "output_type": "display_data",
          "data": {
            "text/plain": [
              "<IPython.core.display.HTML object>"
            ],
            "text/html": [
              "<style>\n",
              "    body {\n",
              "      font-size: 30px;\n",
              "    }\n",
              "  "
            ]
          },
          "metadata": {}
        }
      ]
    },
    {
      "cell_type": "code",
      "source": [
        "loss = mse(y_hat, y_train)\n",
        "loss"
      ],
      "metadata": {
        "colab": {
          "base_uri": "https://localhost:8080/",
          "height": 55
        },
        "id": "oNSgmTuR9HS-",
        "outputId": "575bd9fa-8953-4161-ed57-709dfc5b86aa"
      },
      "execution_count": null,
      "outputs": [
        {
          "output_type": "display_data",
          "data": {
            "text/plain": [
              "<IPython.core.display.HTML object>"
            ],
            "text/html": [
              "<style>\n",
              "    body {\n",
              "      font-size: 30px;\n",
              "    }\n",
              "  "
            ]
          },
          "metadata": {}
        },
        {
          "output_type": "execute_result",
          "data": {
            "text/plain": [
              "tensor(6.2596)"
            ]
          },
          "metadata": {},
          "execution_count": 75
        }
      ]
    },
    {
      "cell_type": "code",
      "source": [
        "loss = (x*theta1 + theta0 - y)**2\n",
        "# z = (x+y)**2"
      ],
      "metadata": {
        "id": "rQEqAHjJGJDe"
      },
      "execution_count": null,
      "outputs": []
    },
    {
      "cell_type": "code",
      "source": [
        "theta0 = 0\n",
        "theta1 = torch.linspace(-10, 10, 100)\n",
        "\n",
        "loss = torch.zeros(len(theta1))\n",
        "\n",
        "for i, t1 in enumerate(theta1):\n",
        "  y_hat = linear_regression(X_train, theta0, theta1=t1)\n",
        "  loss[i] = mse(y_hat, y_train)\n",
        "\n",
        "loss.shape"
      ],
      "metadata": {
        "colab": {
          "base_uri": "https://localhost:8080/",
          "height": 55
        },
        "id": "SGsYgIHlGzMv",
        "outputId": "a836741a-d5e4-4d26-9e3c-64fb9d749618"
      },
      "execution_count": null,
      "outputs": [
        {
          "output_type": "display_data",
          "data": {
            "text/plain": [
              "<IPython.core.display.HTML object>"
            ],
            "text/html": [
              "<style>\n",
              "    body {\n",
              "      font-size: 30px;\n",
              "    }\n",
              "  "
            ]
          },
          "metadata": {}
        },
        {
          "output_type": "execute_result",
          "data": {
            "text/plain": [
              "torch.Size([100])"
            ]
          },
          "metadata": {},
          "execution_count": 61
        }
      ]
    },
    {
      "cell_type": "code",
      "source": [
        "plt.plot(theta1, loss)"
      ],
      "metadata": {
        "colab": {
          "base_uri": "https://localhost:8080/",
          "height": 468
        },
        "id": "EtlseJwCHnpL",
        "outputId": "6fa3b3dc-6358-443b-d08f-deea9208bc05"
      },
      "execution_count": null,
      "outputs": [
        {
          "output_type": "display_data",
          "data": {
            "text/plain": [
              "<IPython.core.display.HTML object>"
            ],
            "text/html": [
              "<style>\n",
              "    body {\n",
              "      font-size: 30px;\n",
              "    }\n",
              "  "
            ]
          },
          "metadata": {}
        },
        {
          "output_type": "execute_result",
          "data": {
            "text/plain": [
              "[<matplotlib.lines.Line2D at 0x78d24e3f6020>]"
            ]
          },
          "metadata": {},
          "execution_count": 62
        },
        {
          "output_type": "display_data",
          "data": {
            "text/plain": [
              "<Figure size 640x480 with 1 Axes>"
            ],
            "image/png": "[encoded data removed]"
          },
          "metadata": {}
        }
      ]
    },
    {
      "cell_type": "code",
      "source": [
        "idx = torch.argmin(loss)\n",
        "theta1[idx]"
      ],
      "metadata": {
        "colab": {
          "base_uri": "https://localhost:8080/",
          "height": 55
        },
        "id": "jlyvRKvEJFRQ",
        "outputId": "7ad6dd0f-d044-412a-839e-1d0bc2f19abf"
      },
      "execution_count": null,
      "outputs": [
        {
          "output_type": "display_data",
          "data": {
            "text/plain": [
              "<IPython.core.display.HTML object>"
            ],
            "text/html": [
              "<style>\n",
              "    body {\n",
              "      font-size: 30px;\n",
              "    }\n",
              "  "
            ]
          },
          "metadata": {}
        },
        {
          "output_type": "execute_result",
          "data": {
            "text/plain": [
              "tensor(0.9091)"
            ]
          },
          "metadata": {},
          "execution_count": 65
        }
      ]
    },
    {
      "cell_type": "code",
      "source": [
        "plt.scatter(X_train, y_train)\n",
        "\n",
        "y_hat = linear_regression(Xr, theta0=0, theta1=theta1[idx])\n",
        "plt.plot(Xr, y_hat, color='r')"
      ],
      "metadata": {
        "colab": {
          "base_uri": "https://localhost:8080/",
          "height": 468
        },
        "id": "XpD2HEKHJUwD",
        "outputId": "0ad00478-ba4f-4ea6-ef8a-47687d2b0527"
      },
      "execution_count": null,
      "outputs": [
        {
          "output_type": "display_data",
          "data": {
            "text/plain": [
              "<IPython.core.display.HTML object>"
            ],
            "text/html": [
              "<style>\n",
              "    body {\n",
              "      font-size: 30px;\n",
              "    }\n",
              "  "
            ]
          },
          "metadata": {}
        },
        {
          "output_type": "execute_result",
          "data": {
            "text/plain": [
              "[<matplotlib.lines.Line2D at 0x78d24e704070>]"
            ]
          },
          "metadata": {},
          "execution_count": 66
        },
        {
          "output_type": "display_data",
          "data": {
            "text/plain": [
              "<Figure size 640x480 with 1 Axes>"
            ],
            "image/png": "[encoded data removed]"
          },
          "metadata": {}
        }
      ]
    },
    {
      "cell_type": "markdown",
      "metadata": {
        "tags": [],
        "id": "VFrruUJ5qlr_"
      },
      "source": [
        "### 🟧 **Loss landscape**"
      ]
    },
    {
      "cell_type": "code",
      "source": [
        "theta0_vals = torch.linspace(-10, 10, 100)\n",
        "theta1_vals = torch.linspace(-10, 10, 100)\n",
        "theta0, theta1 = torch.meshgrid(theta0_vals, theta1_vals)\n",
        "\n",
        "loss = torch.zeros_like(theta0)\n",
        "\n",
        "for i in range(len(theta0_vals)):\n",
        "    for j in range(len(theta1_vals)):\n",
        "        t0 = theta0_vals[i]\n",
        "        t1 = theta1_vals[j]\n",
        "        loss[i, j] = torch.mean((t0 + t1 * X_train - y_train)** 2)\n",
        "\n",
        "fig = plt.figure()\n",
        "ax = fig.add_subplot(111, projection='3d')\n",
        "ax.plot_surface(theta0, theta1, loss, cmap='viridis');"
      ],
      "metadata": {
        "colab": {
          "base_uri": "https://localhost:8080/",
          "height": 415
        },
        "id": "Qij0rpm2Ok8T",
        "outputId": "168234de-a5d6-4ac0-e15c-4db86499e48a"
      },
      "execution_count": null,
      "outputs": [
        {
          "output_type": "display_data",
          "data": {
            "text/plain": [
              "<IPython.core.display.HTML object>"
            ],
            "text/html": [
              "<style>\n",
              "    body {\n",
              "      font-size: 30px;\n",
              "    }\n",
              "  "
            ]
          },
          "metadata": {}
        },
        {
          "output_type": "display_data",
          "data": {
            "text/plain": [
              "<Figure size 640x480 with 1 Axes>"
            ],
            "image/png": "[encoded data removed]"
          },
          "metadata": {}
        }
      ]
    },
    {
      "cell_type": "code",
      "source": [
        "fig = plt.figure()\n",
        "CS = plt.contour(theta0, theta1, loss, levels=torch.logspace(-2, 3, 20))\n",
        "plt.clabel(CS, inline=1, fontsize=10)"
      ],
      "metadata": {
        "colab": {
          "base_uri": "https://localhost:8080/",
          "height": 473
        },
        "id": "ddyPvsv6OmvC",
        "outputId": "b0caa89c-9a32-4b1f-d531-244b2a5caf9f"
      },
      "execution_count": null,
      "outputs": [
        {
          "output_type": "display_data",
          "data": {
            "text/plain": [
              "<IPython.core.display.HTML object>"
            ],
            "text/html": [
              "<style>\n",
              "    body {\n",
              "      font-size: 30px;\n",
              "    }\n",
              "  "
            ]
          },
          "metadata": {}
        },
        {
          "output_type": "execute_result",
          "data": {
            "text/plain": [
              "<a list of 12 text.Text objects>"
            ]
          },
          "metadata": {},
          "execution_count": 91
        },
        {
          "output_type": "display_data",
          "data": {
            "text/plain": [
              "<Figure size 640x480 with 1 Axes>"
            ],
            "image/png": "[encoded data removed]"
          },
          "metadata": {}
        }
      ]
    },
    {
      "cell_type": "code",
      "source": [
        "idx = torch.argmin(loss.flatten())\n",
        "theta0.flatten()[idx], theta1.flatten()[idx]"
      ],
      "metadata": {
        "colab": {
          "base_uri": "https://localhost:8080/",
          "height": 55
        },
        "id": "ZJ4zoH4VOoYg",
        "outputId": "c4e2959d-7ddb-4e76-d2bd-a7c2673fce9d"
      },
      "execution_count": null,
      "outputs": [
        {
          "output_type": "display_data",
          "data": {
            "text/plain": [
              "<IPython.core.display.HTML object>"
            ],
            "text/html": [
              "<style>\n",
              "    body {\n",
              "      font-size: 30px;\n",
              "    }\n",
              "  "
            ]
          },
          "metadata": {}
        },
        {
          "output_type": "execute_result",
          "data": {
            "text/plain": [
              "(tensor(0.1010), tensor(0.9091))"
            ]
          },
          "metadata": {},
          "execution_count": 98
        }
      ]
    },
    {
      "cell_type": "markdown",
      "metadata": {
        "tags": [],
        "id": "g4lpeGvE9xQV"
      },
      "source": [
        "## 🟥 **Step 4: Optimizer**"
      ]
    },
    {
      "cell_type": "code",
      "source": [
        "def gradient_descent(x, y, y_hat, eta, theta0, theta1):\n",
        "  # gradient\n",
        "  error = y_hat - y\n",
        "  grad_theta0 = 2*torch.mean(error)\n",
        "  grad_theta1 = 2*torch.mean(x*error)\n",
        "  # update\n",
        "  theta0 -= eta * grad_theta0\n",
        "  theta1 -= eta * grad_theta1\n",
        "  return theta0, theta1"
      ],
      "metadata": {
        "colab": {
          "base_uri": "https://localhost:8080/",
          "height": 17
        },
        "id": "sU84egOtqqW_",
        "outputId": "63a3faf0-a1b3-449b-f815-9aa1002c6ee2"
      },
      "execution_count": null,
      "outputs": [
        {
          "output_type": "display_data",
          "data": {
            "text/plain": [
              "<IPython.core.display.HTML object>"
            ],
            "text/html": [
              "<style>\n",
              "    body {\n",
              "      font-size: 30px;\n",
              "    }\n",
              "  "
            ]
          },
          "metadata": {}
        }
      ]
    },
    {
      "cell_type": "code",
      "source": [
        "y_hat = model(X_train)\n",
        "loss = mse(y_hat, y_train)\n",
        "print(loss)\n",
        "gradient_descent(X_train, y_train, y_hat, 0.5, model.theta0, model.theta1)"
      ],
      "metadata": {
        "colab": {
          "base_uri": "https://localhost:8080/",
          "height": 93
        },
        "id": "105L56PUuVgR",
        "outputId": "6b938462-2af2-47f7-9dfd-335b0d3e7674"
      },
      "execution_count": null,
      "outputs": [
        {
          "output_type": "display_data",
          "data": {
            "text/plain": [
              "<IPython.core.display.HTML object>"
            ],
            "text/html": [
              "<style>\n",
              "    body {\n",
              "      font-size: 30px;\n",
              "    }\n",
              "  "
            ]
          },
          "metadata": {}
        },
        {
          "output_type": "stream",
          "name": "stdout",
          "text": [
            "tensor(0.0455)\n"
          ]
        },
        {
          "output_type": "execute_result",
          "data": {
            "text/plain": [
              "(tensor([2.1287e-09]), tensor([0.9770]))"
            ]
          },
          "metadata": {},
          "execution_count": 102
        }
      ]
    },
    {
      "cell_type": "code",
      "source": [
        "def calc_gradient(x, y, y_hat):\n",
        "  error = y_hat - y\n",
        "  grad_theta0 = 2*torch.mean(error)\n",
        "  grad_theta1 = 2*torch.mean(x*error)\n",
        "  return grad_theta0, grad_theta1"
      ],
      "metadata": {
        "colab": {
          "base_uri": "https://localhost:8080/",
          "height": 17
        },
        "id": "KjmS0GnDvFbW",
        "outputId": "99dbdf3e-68a5-4a28-803c-f79ba8663a44"
      },
      "execution_count": null,
      "outputs": [
        {
          "output_type": "display_data",
          "data": {
            "text/plain": [
              "<IPython.core.display.HTML object>"
            ],
            "text/html": [
              "<style>\n",
              "    body {\n",
              "      font-size: 30px;\n",
              "    }\n",
              "  "
            ]
          },
          "metadata": {}
        }
      ]
    },
    {
      "cell_type": "code",
      "source": [
        "def update(theta0, theta1, eta, grad_theta0, grad_theta1):\n",
        "  theta0 -= eta * grad_theta0\n",
        "  theta1 -= eta * grad_theta1\n",
        "  return theta0, theta1"
      ],
      "metadata": {
        "colab": {
          "base_uri": "https://localhost:8080/",
          "height": 17
        },
        "id": "OtUqziVyvWcX",
        "outputId": "5584ec51-ad1f-44a1-a4b0-f9f0f1193a1f"
      },
      "execution_count": null,
      "outputs": [
        {
          "output_type": "display_data",
          "data": {
            "text/plain": [
              "<IPython.core.display.HTML object>"
            ],
            "text/html": [
              "<style>\n",
              "    body {\n",
              "      font-size: 30px;\n",
              "    }\n",
              "  "
            ]
          },
          "metadata": {}
        }
      ]
    },
    {
      "cell_type": "code",
      "source": [
        "y_hat = model(X_train)\n",
        "\n",
        "loss = mse(y_hat, y_train)\n",
        "print(loss)\n",
        "\n",
        "grad_theta0, grad_theta1 = calc_gradient(X_train, y_train, y_hat)\n",
        "print(grad_theta0, grad_theta1)\n",
        "\n",
        "model.theta0, model.theta1 = update(model.theta0, model.theta1, 0.5, grad_theta0, grad_theta1)\n",
        "model.theta0, model.theta1"
      ],
      "metadata": {
        "colab": {
          "base_uri": "https://localhost:8080/",
          "height": 132
        },
        "id": "GY_wlpGjvjFl",
        "outputId": "a1fb7066-2e09-4c43-9acf-5f06fa127bdf"
      },
      "execution_count": null,
      "outputs": [
        {
          "output_type": "display_data",
          "data": {
            "text/plain": [
              "<IPython.core.display.HTML object>"
            ],
            "text/html": [
              "<style>\n",
              "    body {\n",
              "      font-size: 30px;\n",
              "    }\n",
              "  "
            ]
          },
          "metadata": {}
        },
        {
          "output_type": "stream",
          "name": "stdout",
          "text": [
            "tensor(0.0455)\n",
            "tensor(1.2772e-08) tensor(6.5991e-08)\n"
          ]
        },
        {
          "output_type": "execute_result",
          "data": {
            "text/plain": [
              "(tensor([-4.2575e-09]), tensor([0.9770]))"
            ]
          },
          "metadata": {},
          "execution_count": 106
        }
      ]
    },
    {
      "cell_type": "markdown",
      "metadata": {
        "tags": [],
        "id": "jw1VwE7d97gD"
      },
      "source": [
        "## 🟥 **Step 5: Train Lꝏp**"
      ]
    },
    {
      "cell_type": "code",
      "source": [
        "theta0 = torch.randn(1)\n",
        "theta1 = torch.randn(1)\n",
        "print(theta0, theta1)\n",
        "\n",
        "eta = 0.1\n",
        "N = 100"
      ],
      "metadata": {
        "id": "CwSKXr0N97gE",
        "colab": {
          "base_uri": "https://localhost:8080/",
          "height": 55
        },
        "outputId": "bbdc56ed-184b-4999-dfa5-c78d335d340c"
      },
      "execution_count": null,
      "outputs": [
        {
          "output_type": "display_data",
          "data": {
            "text/plain": [
              "<IPython.core.display.HTML object>"
            ],
            "text/html": [
              "<style>\n",
              "    body {\n",
              "      font-size: 30px;\n",
              "    }\n",
              "  "
            ]
          },
          "metadata": {}
        },
        {
          "output_type": "stream",
          "name": "stdout",
          "text": [
            "tensor([1.4930]) tensor([0.5812])\n"
          ]
        }
      ]
    },
    {
      "cell_type": "code",
      "source": [
        "for iter in range(N):\n",
        "  # model\n",
        "  y_hat = linear_regression(X_train, theta0, theta1)\n",
        "\n",
        "  # loss\n",
        "  loss = mse(y_hat, y_train)\n",
        "\n",
        "  # gradient\n",
        "  grad_theta0, grad_theta1 = calc_gradient(X_train, y_train, y_hat)\n",
        "\n",
        "  # update\n",
        "  theta0, theta1 = update(theta0, theta1, eta, grad_theta0, grad_theta1)\n",
        "\n",
        "  print(f'Iter: {iter}/{N} , Loss: {loss:.2f} , g_th0: {grad_theta0:.2f} , g_th1: {grad_theta1:.2f} , th0: {theta0.item():.2f} , th1: {theta1.item():.2f}')"
      ],
      "metadata": {
        "colab": {
          "base_uri": "https://localhost:8080/",
          "height": 1000
        },
        "collapsed": true,
        "id": "We62pJqV0GHE",
        "outputId": "e184784c-9791-4549-f1ce-977c5e185800"
      },
      "execution_count": null,
      "outputs": [
        {
          "output_type": "display_data",
          "data": {
            "text/plain": [
              "<IPython.core.display.HTML object>"
            ],
            "text/html": [
              "<style>\n",
              "    body {\n",
              "      font-size: 30px;\n",
              "    }\n",
              "  "
            ]
          },
          "metadata": {}
        },
        {
          "output_type": "stream",
          "name": "stdout",
          "text": [
            "Iter: 0/100 , Loss: 2.43 , g_th0: 2.99 , g_th1: -0.79 , th0: 1.19 , th1: 0.66\n",
            "Iter: 1/100 , Loss: 1.57 , g_th0: 2.39 , g_th1: -0.63 , th0: 0.96 , th1: 0.72\n",
            "Iter: 2/100 , Loss: 1.02 , g_th0: 1.91 , g_th1: -0.51 , th0: 0.76 , th1: 0.77\n",
            "Iter: 3/100 , Loss: 0.67 , g_th0: 1.53 , g_th1: -0.41 , th0: 0.61 , th1: 0.81\n",
            "Iter: 4/100 , Loss: 0.45 , g_th0: 1.22 , g_th1: -0.32 , th0: 0.49 , th1: 0.85\n",
            "Iter: 5/100 , Loss: 0.30 , g_th0: 0.98 , g_th1: -0.26 , th0: 0.39 , th1: 0.87\n",
            "Iter: 6/100 , Loss: 0.21 , g_th0: 0.78 , g_th1: -0.21 , th0: 0.31 , th1: 0.89\n",
            "Iter: 7/100 , Loss: 0.15 , g_th0: 0.63 , g_th1: -0.17 , th0: 0.25 , th1: 0.91\n",
            "Iter: 8/100 , Loss: 0.11 , g_th0: 0.50 , g_th1: -0.13 , th0: 0.20 , th1: 0.92\n",
            "Iter: 9/100 , Loss: 0.09 , g_th0: 0.40 , g_th1: -0.11 , th0: 0.16 , th1: 0.93\n",
            "Iter: 10/100 , Loss: 0.07 , g_th0: 0.32 , g_th1: -0.08 , th0: 0.13 , th1: 0.94\n",
            "Iter: 11/100 , Loss: 0.06 , g_th0: 0.26 , g_th1: -0.07 , th0: 0.10 , th1: 0.95\n",
            "Iter: 12/100 , Loss: 0.06 , g_th0: 0.21 , g_th1: -0.05 , th0: 0.08 , th1: 0.96\n",
            "Iter: 13/100 , Loss: 0.05 , g_th0: 0.16 , g_th1: -0.04 , th0: 0.07 , th1: 0.96\n",
            "Iter: 14/100 , Loss: 0.05 , g_th0: 0.13 , g_th1: -0.03 , th0: 0.05 , th1: 0.96\n",
            "Iter: 15/100 , Loss: 0.05 , g_th0: 0.11 , g_th1: -0.03 , th0: 0.04 , th1: 0.97\n",
            "Iter: 16/100 , Loss: 0.05 , g_th0: 0.08 , g_th1: -0.02 , th0: 0.03 , th1: 0.97\n",
            "Iter: 17/100 , Loss: 0.05 , g_th0: 0.07 , g_th1: -0.02 , th0: 0.03 , th1: 0.97\n",
            "Iter: 18/100 , Loss: 0.05 , g_th0: 0.05 , g_th1: -0.01 , th0: 0.02 , th1: 0.97\n",
            "Iter: 19/100 , Loss: 0.05 , g_th0: 0.04 , g_th1: -0.01 , th0: 0.02 , th1: 0.97\n",
            "Iter: 20/100 , Loss: 0.05 , g_th0: 0.03 , g_th1: -0.01 , th0: 0.01 , th1: 0.97\n",
            "Iter: 21/100 , Loss: 0.05 , g_th0: 0.03 , g_th1: -0.01 , th0: 0.01 , th1: 0.97\n",
            "Iter: 22/100 , Loss: 0.05 , g_th0: 0.02 , g_th1: -0.01 , th0: 0.01 , th1: 0.97\n",
            "Iter: 23/100 , Loss: 0.05 , g_th0: 0.02 , g_th1: -0.00 , th0: 0.01 , th1: 0.98\n",
            "Iter: 24/100 , Loss: 0.05 , g_th0: 0.01 , g_th1: -0.00 , th0: 0.01 , th1: 0.98\n",
            "Iter: 25/100 , Loss: 0.05 , g_th0: 0.01 , g_th1: -0.00 , th0: 0.00 , th1: 0.98\n",
            "Iter: 26/100 , Loss: 0.05 , g_th0: 0.01 , g_th1: -0.00 , th0: 0.00 , th1: 0.98\n",
            "Iter: 27/100 , Loss: 0.05 , g_th0: 0.01 , g_th1: -0.00 , th0: 0.00 , th1: 0.98\n",
            "Iter: 28/100 , Loss: 0.05 , g_th0: 0.01 , g_th1: -0.00 , th0: 0.00 , th1: 0.98\n",
            "Iter: 29/100 , Loss: 0.05 , g_th0: 0.00 , g_th1: -0.00 , th0: 0.00 , th1: 0.98\n",
            "Iter: 30/100 , Loss: 0.05 , g_th0: 0.00 , g_th1: -0.00 , th0: 0.00 , th1: 0.98\n",
            "Iter: 31/100 , Loss: 0.05 , g_th0: 0.00 , g_th1: -0.00 , th0: 0.00 , th1: 0.98\n",
            "Iter: 32/100 , Loss: 0.05 , g_th0: 0.00 , g_th1: -0.00 , th0: 0.00 , th1: 0.98\n",
            "Iter: 33/100 , Loss: 0.05 , g_th0: 0.00 , g_th1: -0.00 , th0: 0.00 , th1: 0.98\n",
            "Iter: 34/100 , Loss: 0.05 , g_th0: 0.00 , g_th1: -0.00 , th0: 0.00 , th1: 0.98\n",
            "Iter: 35/100 , Loss: 0.05 , g_th0: 0.00 , g_th1: -0.00 , th0: 0.00 , th1: 0.98\n",
            "Iter: 36/100 , Loss: 0.05 , g_th0: 0.00 , g_th1: -0.00 , th0: 0.00 , th1: 0.98\n",
            "Iter: 37/100 , Loss: 0.05 , g_th0: 0.00 , g_th1: -0.00 , th0: 0.00 , th1: 0.98\n",
            "Iter: 38/100 , Loss: 0.05 , g_th0: 0.00 , g_th1: -0.00 , th0: 0.00 , th1: 0.98\n",
            "Iter: 39/100 , Loss: 0.05 , g_th0: 0.00 , g_th1: -0.00 , th0: 0.00 , th1: 0.98\n",
            "Iter: 40/100 , Loss: 0.05 , g_th0: 0.00 , g_th1: -0.00 , th0: 0.00 , th1: 0.98\n",
            "Iter: 41/100 , Loss: 0.05 , g_th0: 0.00 , g_th1: -0.00 , th0: 0.00 , th1: 0.98\n",
            "Iter: 42/100 , Loss: 0.05 , g_th0: 0.00 , g_th1: -0.00 , th0: 0.00 , th1: 0.98\n",
            "Iter: 43/100 , Loss: 0.05 , g_th0: 0.00 , g_th1: -0.00 , th0: 0.00 , th1: 0.98\n",
            "Iter: 44/100 , Loss: 0.05 , g_th0: 0.00 , g_th1: -0.00 , th0: 0.00 , th1: 0.98\n",
            "Iter: 45/100 , Loss: 0.05 , g_th0: 0.00 , g_th1: -0.00 , th0: 0.00 , th1: 0.98\n",
            "Iter: 46/100 , Loss: 0.05 , g_th0: 0.00 , g_th1: -0.00 , th0: 0.00 , th1: 0.98\n",
            "Iter: 47/100 , Loss: 0.05 , g_th0: 0.00 , g_th1: -0.00 , th0: 0.00 , th1: 0.98\n",
            "Iter: 48/100 , Loss: 0.05 , g_th0: 0.00 , g_th1: -0.00 , th0: 0.00 , th1: 0.98\n",
            "Iter: 49/100 , Loss: 0.05 , g_th0: 0.00 , g_th1: -0.00 , th0: 0.00 , th1: 0.98\n",
            "Iter: 50/100 , Loss: 0.05 , g_th0: 0.00 , g_th1: -0.00 , th0: 0.00 , th1: 0.98\n",
            "Iter: 51/100 , Loss: 0.05 , g_th0: 0.00 , g_th1: -0.00 , th0: 0.00 , th1: 0.98\n",
            "Iter: 52/100 , Loss: 0.05 , g_th0: 0.00 , g_th1: -0.00 , th0: 0.00 , th1: 0.98\n",
            "Iter: 53/100 , Loss: 0.05 , g_th0: 0.00 , g_th1: -0.00 , th0: 0.00 , th1: 0.98\n",
            "Iter: 54/100 , Loss: 0.05 , g_th0: 0.00 , g_th1: -0.00 , th0: 0.00 , th1: 0.98\n",
            "Iter: 55/100 , Loss: 0.05 , g_th0: 0.00 , g_th1: -0.00 , th0: 0.00 , th1: 0.98\n",
            "Iter: 56/100 , Loss: 0.05 , g_th0: 0.00 , g_th1: -0.00 , th0: 0.00 , th1: 0.98\n",
            "Iter: 57/100 , Loss: 0.05 , g_th0: 0.00 , g_th1: -0.00 , th0: 0.00 , th1: 0.98\n",
            "Iter: 58/100 , Loss: 0.05 , g_th0: 0.00 , g_th1: -0.00 , th0: 0.00 , th1: 0.98\n",
            "Iter: 59/100 , Loss: 0.05 , g_th0: 0.00 , g_th1: -0.00 , th0: 0.00 , th1: 0.98\n",
            "Iter: 60/100 , Loss: 0.05 , g_th0: 0.00 , g_th1: -0.00 , th0: 0.00 , th1: 0.98\n",
            "Iter: 61/100 , Loss: 0.05 , g_th0: 0.00 , g_th1: -0.00 , th0: 0.00 , th1: 0.98\n",
            "Iter: 62/100 , Loss: 0.05 , g_th0: 0.00 , g_th1: -0.00 , th0: 0.00 , th1: 0.98\n",
            "Iter: 63/100 , Loss: 0.05 , g_th0: 0.00 , g_th1: -0.00 , th0: 0.00 , th1: 0.98\n",
            "Iter: 64/100 , Loss: 0.05 , g_th0: 0.00 , g_th1: -0.00 , th0: 0.00 , th1: 0.98\n",
            "Iter: 65/100 , Loss: 0.05 , g_th0: 0.00 , g_th1: -0.00 , th0: 0.00 , th1: 0.98\n",
            "Iter: 66/100 , Loss: 0.05 , g_th0: 0.00 , g_th1: -0.00 , th0: 0.00 , th1: 0.98\n",
            "Iter: 67/100 , Loss: 0.05 , g_th0: 0.00 , g_th1: -0.00 , th0: 0.00 , th1: 0.98\n",
            "Iter: 68/100 , Loss: 0.05 , g_th0: 0.00 , g_th1: -0.00 , th0: 0.00 , th1: 0.98\n",
            "Iter: 69/100 , Loss: 0.05 , g_th0: 0.00 , g_th1: -0.00 , th0: 0.00 , th1: 0.98\n",
            "Iter: 70/100 , Loss: 0.05 , g_th0: 0.00 , g_th1: -0.00 , th0: 0.00 , th1: 0.98\n",
            "Iter: 71/100 , Loss: 0.05 , g_th0: 0.00 , g_th1: -0.00 , th0: 0.00 , th1: 0.98\n",
            "Iter: 72/100 , Loss: 0.05 , g_th0: 0.00 , g_th1: -0.00 , th0: 0.00 , th1: 0.98\n",
            "Iter: 73/100 , Loss: 0.05 , g_th0: 0.00 , g_th1: -0.00 , th0: 0.00 , th1: 0.98\n",
            "Iter: 74/100 , Loss: 0.05 , g_th0: 0.00 , g_th1: -0.00 , th0: 0.00 , th1: 0.98\n",
            "Iter: 75/100 , Loss: 0.05 , g_th0: 0.00 , g_th1: -0.00 , th0: 0.00 , th1: 0.98\n",
            "Iter: 76/100 , Loss: 0.05 , g_th0: 0.00 , g_th1: -0.00 , th0: 0.00 , th1: 0.98\n",
            "Iter: 77/100 , Loss: 0.05 , g_th0: 0.00 , g_th1: -0.00 , th0: 0.00 , th1: 0.98\n",
            "Iter: 78/100 , Loss: 0.05 , g_th0: 0.00 , g_th1: -0.00 , th0: 0.00 , th1: 0.98\n",
            "Iter: 79/100 , Loss: 0.05 , g_th0: 0.00 , g_th1: -0.00 , th0: 0.00 , th1: 0.98\n",
            "Iter: 80/100 , Loss: 0.05 , g_th0: 0.00 , g_th1: -0.00 , th0: 0.00 , th1: 0.98\n",
            "Iter: 81/100 , Loss: 0.05 , g_th0: 0.00 , g_th1: -0.00 , th0: 0.00 , th1: 0.98\n",
            "Iter: 82/100 , Loss: 0.05 , g_th0: 0.00 , g_th1: -0.00 , th0: 0.00 , th1: 0.98\n",
            "Iter: 83/100 , Loss: 0.05 , g_th0: 0.00 , g_th1: -0.00 , th0: 0.00 , th1: 0.98\n",
            "Iter: 84/100 , Loss: 0.05 , g_th0: 0.00 , g_th1: -0.00 , th0: 0.00 , th1: 0.98\n",
            "Iter: 85/100 , Loss: 0.05 , g_th0: 0.00 , g_th1: -0.00 , th0: 0.00 , th1: 0.98\n",
            "Iter: 86/100 , Loss: 0.05 , g_th0: 0.00 , g_th1: -0.00 , th0: 0.00 , th1: 0.98\n",
            "Iter: 87/100 , Loss: 0.05 , g_th0: 0.00 , g_th1: -0.00 , th0: 0.00 , th1: 0.98\n",
            "Iter: 88/100 , Loss: 0.05 , g_th0: 0.00 , g_th1: -0.00 , th0: 0.00 , th1: 0.98\n",
            "Iter: 89/100 , Loss: 0.05 , g_th0: 0.00 , g_th1: -0.00 , th0: 0.00 , th1: 0.98\n",
            "Iter: 90/100 , Loss: 0.05 , g_th0: 0.00 , g_th1: -0.00 , th0: 0.00 , th1: 0.98\n",
            "Iter: 91/100 , Loss: 0.05 , g_th0: 0.00 , g_th1: -0.00 , th0: 0.00 , th1: 0.98\n",
            "Iter: 92/100 , Loss: 0.05 , g_th0: 0.00 , g_th1: -0.00 , th0: 0.00 , th1: 0.98\n",
            "Iter: 93/100 , Loss: 0.05 , g_th0: 0.00 , g_th1: -0.00 , th0: 0.00 , th1: 0.98\n",
            "Iter: 94/100 , Loss: 0.05 , g_th0: 0.00 , g_th1: -0.00 , th0: 0.00 , th1: 0.98\n",
            "Iter: 95/100 , Loss: 0.05 , g_th0: 0.00 , g_th1: -0.00 , th0: 0.00 , th1: 0.98\n",
            "Iter: 96/100 , Loss: 0.05 , g_th0: 0.00 , g_th1: -0.00 , th0: 0.00 , th1: 0.98\n",
            "Iter: 97/100 , Loss: 0.05 , g_th0: 0.00 , g_th1: -0.00 , th0: 0.00 , th1: 0.98\n",
            "Iter: 98/100 , Loss: 0.05 , g_th0: 0.00 , g_th1: -0.00 , th0: 0.00 , th1: 0.98\n",
            "Iter: 99/100 , Loss: 0.05 , g_th0: 0.00 , g_th1: -0.00 , th0: 0.00 , th1: 0.98\n"
          ]
        }
      ]
    },
    {
      "cell_type": "markdown",
      "metadata": {
        "tags": [],
        "id": "-zJ9yWvk-x4Q"
      },
      "source": [
        "## 🟥 **Step 6: Test**"
      ]
    },
    {
      "cell_type": "code",
      "source": [
        "theta0, theta1"
      ],
      "metadata": {
        "id": "HxiAqoeZ-x4R",
        "colab": {
          "base_uri": "https://localhost:8080/",
          "height": 55
        },
        "outputId": "4ff2afb7-bcce-4997-eeb3-e3f0586fc8c0"
      },
      "execution_count": null,
      "outputs": [
        {
          "output_type": "display_data",
          "data": {
            "text/plain": [
              "<IPython.core.display.HTML object>"
            ],
            "text/html": [
              "<style>\n",
              "    body {\n",
              "      font-size: 30px;\n",
              "    }\n",
              "  "
            ]
          },
          "metadata": {}
        },
        {
          "output_type": "execute_result",
          "data": {
            "text/plain": [
              "(tensor([7.4540e-09]), tensor([0.9770]))"
            ]
          },
          "metadata": {},
          "execution_count": 139
        }
      ]
    },
    {
      "cell_type": "code",
      "source": [
        "y_hat = linear_regression(X_test, theta0, theta1)\n",
        "y_hat"
      ],
      "metadata": {
        "colab": {
          "base_uri": "https://localhost:8080/",
          "height": 475
        },
        "collapsed": true,
        "id": "At_irKGg8Fuh",
        "outputId": "539f4dab-73cf-409e-8cff-77650e83e0b5"
      },
      "execution_count": null,
      "outputs": [
        {
          "output_type": "display_data",
          "data": {
            "text/plain": [
              "<IPython.core.display.HTML object>"
            ],
            "text/html": [
              "<style>\n",
              "    body {\n",
              "      font-size: 30px;\n",
              "    }\n",
              "  "
            ]
          },
          "metadata": {}
        },
        {
          "output_type": "execute_result",
          "data": {
            "text/plain": [
              "tensor([[ 0.2104],\n",
              "        [ 1.4669],\n",
              "        [ 0.4852],\n",
              "        [-0.7321],\n",
              "        [ 0.0533],\n",
              "        [ 2.2523],\n",
              "        [-1.2818],\n",
              "        [ 0.6816],\n",
              "        [ 1.8596],\n",
              "        [ 1.6633],\n",
              "        [-0.6928],\n",
              "        [ 0.1318]])"
            ]
          },
          "metadata": {},
          "execution_count": 142
        }
      ]
    },
    {
      "cell_type": "code",
      "source": [
        "mse(y_hat, y_test)"
      ],
      "metadata": {
        "colab": {
          "base_uri": "https://localhost:8080/",
          "height": 55
        },
        "id": "4J88DZyL8REa",
        "outputId": "a58dc81f-f8e0-40f8-cb87-f25e41fad773"
      },
      "execution_count": null,
      "outputs": [
        {
          "output_type": "display_data",
          "data": {
            "text/plain": [
              "<IPython.core.display.HTML object>"
            ],
            "text/html": [
              "<style>\n",
              "    body {\n",
              "      font-size: 30px;\n",
              "    }\n",
              "  "
            ]
          },
          "metadata": {}
        },
        {
          "output_type": "execute_result",
          "data": {
            "text/plain": [
              "tensor(0.0560)"
            ]
          },
          "metadata": {},
          "execution_count": 143
        }
      ]
    },
    {
      "cell_type": "code",
      "source": [
        "y_scaler.inverse_transform(y_hat)"
      ],
      "metadata": {
        "colab": {
          "base_uri": "https://localhost:8080/",
          "height": 475
        },
        "id": "jtWklDxV8ZrR",
        "outputId": "66a50f3a-2d9c-4862-fc55-ef54b0262c0b"
      },
      "execution_count": null,
      "outputs": [
        {
          "output_type": "display_data",
          "data": {
            "text/plain": [
              "<IPython.core.display.HTML object>"
            ],
            "text/html": [
              "<style>\n",
              "    body {\n",
              "      font-size: 30px;\n",
              "    }\n",
              "  "
            ]
          },
          "metadata": {}
        },
        {
          "output_type": "execute_result",
          "data": {
            "text/plain": [
              "array([[ 75797.44105859],\n",
              "       [106548.23420451],\n",
              "       [ 82524.17666041],\n",
              "       [ 52734.34501399],\n",
              "       [ 71953.59186977],\n",
              "       [125767.4831571 ],\n",
              "       [ 39280.87308103],\n",
              "       [ 87328.98816923],\n",
              "       [116157.86013946],\n",
              "       [111353.04425468],\n",
              "       [ 53695.30760749],\n",
              "       [ 73875.51660093]])"
            ]
          },
          "metadata": {},
          "execution_count": 144
        }
      ]
    },
    {
      "cell_type": "code",
      "source": [
        "y_scaler.inverse_transform(y_test)"
      ],
      "metadata": {
        "colab": {
          "base_uri": "https://localhost:8080/",
          "height": 475
        },
        "id": "0TYyHXkk8hCc",
        "outputId": "f293a3e3-a769-4275-fef7-8a40f27f8325"
      },
      "execution_count": null,
      "outputs": [
        {
          "output_type": "display_data",
          "data": {
            "text/plain": [
              "<IPython.core.display.HTML object>"
            ],
            "text/html": [
              "<style>\n",
              "    body {\n",
              "      font-size: 30px;\n",
              "    }\n",
              "  "
            ]
          },
          "metadata": {}
        },
        {
          "output_type": "execute_result",
          "data": {
            "text/plain": [
              "array([[ 83087.99972817],\n",
              "       [111619.99872961],\n",
              "       [ 93939.99947148],\n",
              "       [ 56641.9999201 ],\n",
              "       [ 67937.99997281],\n",
              "       [121872.00219424],\n",
              "       [ 37731.00145335],\n",
              "       [ 90000.00032653],\n",
              "       [116969.00125466],\n",
              "       [105582.00002812],\n",
              "       [ 60149.99984815],\n",
              "       [ 66028.99993692]])"
            ]
          },
          "metadata": {},
          "execution_count": 145
        }
      ]
    },
    {
      "cell_type": "markdown",
      "metadata": {
        "tags": [],
        "id": "axvKF4YoxdCA"
      },
      "source": [
        "## 🟪 **Exercise: US Health Insurance Dataset**"
      ]
    },
    {
      "cell_type": "markdown",
      "source": [
        "https://www.kaggle.com/datasets/teertha/ushealthinsurancedataset"
      ],
      "metadata": {
        "id": "TJV_rAF0yK7E"
      }
    }
  ]
}