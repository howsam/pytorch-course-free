{
  "nbformat": 4,
  "nbformat_minor": 0,
  "metadata": {
    "colab": {
      "provenance": [],
      "collapsed_sections": [
        "2Uo3zoOHboyX",
        "z5Ix-JmlZ8xn",
        "GR24qEHXboyT",
        "ZtQrW5JO84F4",
        "d56jEr_TR6VS",
        "H_Pbtllk-xYM",
        "YDKlTsRKB5kg",
        "7hLaLQcUOsyq",
        "FedcgT-3ZiRN",
        "wg4FwAl0dYID",
        "Yr3bfpgyoD_c",
        "bXh5IDxEAsE2",
        "HX_M1Kwgboyd",
        "eJwX1uUo9s65",
        "ogv19AK90GHQ",
        "jw1VwE7d97gD",
        "VkNBA0NvhVTU"
      ],
      "gpuType": "T4",
      "mount_file_id": "19sVajjjKza_42tunFN4W-D4BswWCf55c",
      "authorship_tag": "ABX9TyPMTcxygNC8HExOxTyMFAzW",
      "include_colab_link": true
    },
    "kernelspec": {
      "name": "python3",
      "display_name": "Python 3"
    },
    "language_info": {
      "name": "python"
    },
    "accelerator": "GPU"
  },
  "cells": [
    {
      "cell_type": "markdown",
      "metadata": {
        "id": "view-in-github",
        "colab_type": "text"
      },
      "source": [
        "<a href=\"https://colab.research.google.com/github/howsam/pytorch-course-free/blob/main/week_6_mlp.ipynb\" target=\"_parent\"><img src=\"https://colab.research.google.com/assets/colab-badge.svg\" alt=\"Open In Colab\"/></a>"
      ]
    },
    {
      "cell_type": "markdown",
      "metadata": {
        "id": "j33aYo98boyK"
      },
      "source": [
        "#  <font color='#FFE15D'><b>💎 Week 6: Multilayer Perceptrons (MLP)</b></font>\n",
        "### Pytorch Free Course [webpage](https://howsam.org/downloads/pytorch-courset/)\n",
        "\n",
        "### Source Codes on Github [pytorch-course-free](https://github.com/howsam/pytorch-course-free.git)\n",
        "\n",
        "### by Howsam AI Academy www.howsam.org\n"
      ]
    },
    {
      "cell_type": "markdown",
      "metadata": {
        "jp-MarkdownHeadingCollapsed": true,
        "tags": [],
        "id": "2Uo3zoOHboyX"
      },
      "source": [
        "## ◀️ **Recap 👀**"
      ]
    },
    {
      "cell_type": "markdown",
      "source": [
        "<font size=5>✅ **Week 0**: Installation </font>\n",
        "\n",
        "<font size=5>✅ **Week 1**: Torch as Numpy </font>\n",
        "\n",
        "<font size=5>✅ **Week 2**: Linear Regression with Torch API </font>\n",
        "\n",
        "<font size=5>✅ **Week 3**: Linear Regression Autograd </font>\n",
        "\n",
        "<font size=5>✅ **Week 4**: Binary Classification </font>\n",
        "\n",
        "<font size=5>✅ **Week 5**: Multiclass Classification </font>"
      ],
      "metadata": {
        "id": "ER-s39fmlOxe"
      }
    },
    {
      "cell_type": "code",
      "source": [
        "# Load Data\n",
        "train_set = TensorDataset(X, y)\n",
        "train_loader = DataLoader(train_set, batch_size=..., shuffle=True)\n",
        "\n",
        "# Define Model\n",
        "model = nn.Linear(...)\n",
        "\n",
        "# Define Loss\n",
        "loss_fn = nn...\n",
        "\n",
        "# Define Optimizer\n",
        "optimizer = optim.SGD(model.parameters(), lr=..., momentum=0.9)\n",
        "\n",
        "# train Loop\n",
        "for epoch in range(n_epochs):\n",
        "  for x_batch, y_batch in train_loader:\n",
        "    # model\n",
        "    y_hat = model(x_batch)\n",
        "    # loss\n",
        "    loss = loss_fn(y_hat, y_batch)\n",
        "    # gradient\n",
        "    loss.backward()\n",
        "    # update\n",
        "    optimizer.step()\n",
        "    optimizer.zero_grad()"
      ],
      "metadata": {
        "id": "1zk7bs5V08HZ"
      },
      "execution_count": null,
      "outputs": []
    },
    {
      "cell_type": "markdown",
      "metadata": {
        "jp-MarkdownHeadingCollapsed": true,
        "tags": [],
        "id": "z5Ix-JmlZ8xn"
      },
      "source": [
        "## 🟥 **Imports**"
      ]
    },
    {
      "cell_type": "code",
      "source": [
        "import numpy as np\n",
        "import matplotlib.pyplot as plt\n",
        "import pandas as pd\n",
        "\n",
        "from sklearn.model_selection import train_test_split\n",
        "from sklearn.preprocessing import StandardScaler, LabelEncoder, OrdinalEncoder\n",
        "\n",
        "import torch\n",
        "from torch.utils.data import TensorDataset, DataLoader\n",
        "import torch.nn as nn\n",
        "from torch.optim import SGD"
      ],
      "metadata": {
        "id": "BgzrYL9ugK4l"
      },
      "execution_count": null,
      "outputs": []
    },
    {
      "cell_type": "code",
      "source": [
        "torch.__version__"
      ],
      "metadata": {
        "id": "SaLIYWTmoZqD",
        "colab": {
          "base_uri": "https://localhost:8080/"
        },
        "outputId": "fc702ac3-7203-4350-cff5-6eeb066c45a3"
      },
      "execution_count": null,
      "outputs": [
        {
          "output_type": "execute_result",
          "data": {
            "text/plain": [
              "'2.3.1+cu121'"
            ],
            "application/vnd.google.colaboratory.intrinsic+json": {
              "type": "string"
            }
          },
          "metadata": {},
          "execution_count": 2
        }
      ]
    },
    {
      "cell_type": "code",
      "source": [
        "device = 'cuda' if torch.cuda.is_available() else 'cpu'\n",
        "device"
      ],
      "metadata": {
        "colab": {
          "base_uri": "https://localhost:8080/"
        },
        "id": "t9WXa9P6v9h5",
        "outputId": "1e28c0e5-4fa6-4cf0-c245-3e5dcefb09bc"
      },
      "execution_count": null,
      "outputs": [
        {
          "output_type": "display_data",
          "data": {
            "text/plain": [
              "<IPython.core.display.HTML object>"
            ],
            "text/html": [
              "<style>\n",
              "    body {\n",
              "      font-size: 30px;\n",
              "    }\n",
              "  "
            ]
          },
          "metadata": {}
        },
        {
          "output_type": "execute_result",
          "data": {
            "text/plain": [
              "'cuda'"
            ],
            "application/vnd.google.colaboratory.intrinsic+json": {
              "type": "string"
            }
          },
          "metadata": {},
          "execution_count": 30
        }
      ]
    },
    {
      "cell_type": "markdown",
      "metadata": {
        "tags": [],
        "id": "GR24qEHXboyT"
      },
      "source": [
        "## 🟥 **Step 1: Data**"
      ]
    },
    {
      "cell_type": "markdown",
      "source": [
        "### Binary Prediction of Poisonous Mushrooms | [kaggle](https://www.kaggle.com/competitions/playground-series-s4e8/overview) | [Google Drive](https://drive.google.com/file/d/1UYK3t54ee-9Gxa2POmygRI_kdCBkCONi/view?usp=sharing)\n",
        "*Playground Series - Season 4, Episode 8*\n",
        "\n",
        "![image.png](data:image/png;base64,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)\n",
        "\n",
        "The dataset for this competition (both train and test) was generated from a deep learning model trained on the UCI Mushroom dataset. Feature distributions are close to, but not exactly the same, as the original. Feel free to use the original dataset as part of this competition, both to explore differences as well as to see whether incorporating the original in training improves model performance.\n",
        "\n",
        "**Note:** Unlike many previous Tabular Playground datasets, data artifacts have not been cleaned up. There are categorical values in the dataset that are not found in the original. It is up to the competitors how to handle this.\n",
        "\n",
        "#### Files\n",
        "* **train.csv** - the training dataset; class is the binary target (either e or p)\n",
        "* **test.csv** - the test dataset; your objective is to predict target class for each row\n",
        "* **sample_submission.csv** - a sample submission file in the correct format"
      ],
      "metadata": {
        "id": "ZtQrW5JO84F4"
      }
    },
    {
      "cell_type": "code",
      "source": [
        "!mkdir /content/data"
      ],
      "metadata": {
        "id": "xrAuBNwyLSlO"
      },
      "execution_count": null,
      "outputs": []
    },
    {
      "cell_type": "code",
      "source": [
        "!cp /content/drive/MyDrive/pytorch-free-course/data/playground-series-s4e8.zip /content/data/"
      ],
      "metadata": {
        "id": "KldPuQIoBjpo"
      },
      "execution_count": null,
      "outputs": []
    },
    {
      "cell_type": "code",
      "source": [
        "!unzip /content/data/playground-series-s4e8.zip -d /content/data"
      ],
      "metadata": {
        "colab": {
          "base_uri": "https://localhost:8080/"
        },
        "id": "gMLX9EKwBi5D",
        "outputId": "d4bed3ea-f13b-4234-b0e5-03133c6382ae"
      },
      "execution_count": null,
      "outputs": [
        {
          "output_type": "stream",
          "name": "stdout",
          "text": [
            "Archive:  /content/data/playground-series-s4e8.zip\n",
            "  inflating: /content/data/sample_submission.csv  \n",
            "  inflating: /content/data/test.csv  \n",
            "  inflating: /content/data/train.csv  \n"
          ]
        }
      ]
    },
    {
      "cell_type": "code",
      "source": [
        "!rm /content/data/playground-series-s4e8.zip"
      ],
      "metadata": {
        "id": "etbjNKeGLyYo"
      },
      "execution_count": null,
      "outputs": []
    },
    {
      "cell_type": "markdown",
      "source": [
        "### 🟧 **Load train set**"
      ],
      "metadata": {
        "id": "d56jEr_TR6VS"
      }
    },
    {
      "cell_type": "code",
      "source": [
        "df_train = pd.read_csv('data/train.csv')\n",
        "df_train = df_train.drop(columns=['id'])\n",
        "df_train.head()"
      ],
      "metadata": {
        "colab": {
          "base_uri": "https://localhost:8080/"
        },
        "id": "paN3ZD2eRoxf",
        "outputId": "610217b4-323a-4925-83be-c437253d4cd2"
      },
      "execution_count": null,
      "outputs": [
        {
          "output_type": "execute_result",
          "data": {
            "text/plain": [
              "  class  cap-diameter cap-shape cap-surface cap-color does-bruise-or-bleed  \\\n",
              "0     e          8.80         f           s         u                    f   \n",
              "1     p          4.51         x           h         o                    f   \n",
              "2     e          6.94         f           s         b                    f   \n",
              "3     e          3.88         f           y         g                    f   \n",
              "4     e          5.85         x           l         w                    f   \n",
              "\n",
              "  gill-attachment gill-spacing gill-color  stem-height  ...  stem-root  \\\n",
              "0               a            c          w         4.51  ...        NaN   \n",
              "1               a            c          n         4.79  ...        NaN   \n",
              "2               x            c          w         6.85  ...        NaN   \n",
              "3               s          NaN          g         4.16  ...        NaN   \n",
              "4               d          NaN          w         3.37  ...        NaN   \n",
              "\n",
              "  stem-surface stem-color veil-type veil-color has-ring ring-type  \\\n",
              "0          NaN          w       NaN        NaN        f         f   \n",
              "1            y          o       NaN        NaN        t         z   \n",
              "2            s          n       NaN        NaN        f         f   \n",
              "3          NaN          w       NaN        NaN        f         f   \n",
              "4          NaN          w       NaN        NaN        f         f   \n",
              "\n",
              "  spore-print-color habitat season  \n",
              "0               NaN       d      a  \n",
              "1               NaN       d      w  \n",
              "2               NaN       l      w  \n",
              "3               NaN       d      u  \n",
              "4               NaN       g      a  \n",
              "\n",
              "[5 rows x 21 columns]"
            ],
            "text/html": [
              "\n",
              "  <div id=\"df-79649981-3b57-4ddd-90ef-fded5f1aaf7e\" class=\"colab-df-container\">\n",
              "    <div>\n",
              "<style scoped>\n",
              "    .dataframe tbody tr th:only-of-type {\n",
              "        vertical-align: middle;\n",
              "    }\n",
              "\n",
              "    .dataframe tbody tr th {\n",
              "        vertical-align: top;\n",
              "    }\n",
              "\n",
              "    .dataframe thead th {\n",
              "        text-align: right;\n",
              "    }\n",
              "</style>\n",
              "<table border=\"1\" class=\"dataframe\">\n",
              "  <thead>\n",
              "    <tr style=\"text-align: right;\">\n",
              "      <th></th>\n",
              "      <th>class</th>\n",
              "      <th>cap-diameter</th>\n",
              "      <th>cap-shape</th>\n",
              "      <th>cap-surface</th>\n",
              "      <th>cap-color</th>\n",
              "      <th>does-bruise-or-bleed</th>\n",
              "      <th>gill-attachment</th>\n",
              "      <th>gill-spacing</th>\n",
              "      <th>gill-color</th>\n",
              "      <th>stem-height</th>\n",
              "      <th>...</th>\n",
              "      <th>stem-root</th>\n",
              "      <th>stem-surface</th>\n",
              "      <th>stem-color</th>\n",
              "      <th>veil-type</th>\n",
              "      <th>veil-color</th>\n",
              "      <th>has-ring</th>\n",
              "      <th>ring-type</th>\n",
              "      <th>spore-print-color</th>\n",
              "      <th>habitat</th>\n",
              "      <th>season</th>\n",
              "    </tr>\n",
              "  </thead>\n",
              "  <tbody>\n",
              "    <tr>\n",
              "      <th>0</th>\n",
              "      <td>e</td>\n",
              "      <td>8.80</td>\n",
              "      <td>f</td>\n",
              "      <td>s</td>\n",
              "      <td>u</td>\n",
              "      <td>f</td>\n",
              "      <td>a</td>\n",
              "      <td>c</td>\n",
              "      <td>w</td>\n",
              "      <td>4.51</td>\n",
              "      <td>...</td>\n",
              "      <td>NaN</td>\n",
              "      <td>NaN</td>\n",
              "      <td>w</td>\n",
              "      <td>NaN</td>\n",
              "      <td>NaN</td>\n",
              "      <td>f</td>\n",
              "      <td>f</td>\n",
              "      <td>NaN</td>\n",
              "      <td>d</td>\n",
              "      <td>a</td>\n",
              "    </tr>\n",
              "    <tr>\n",
              "      <th>1</th>\n",
              "      <td>p</td>\n",
              "      <td>4.51</td>\n",
              "      <td>x</td>\n",
              "      <td>h</td>\n",
              "      <td>o</td>\n",
              "      <td>f</td>\n",
              "      <td>a</td>\n",
              "      <td>c</td>\n",
              "      <td>n</td>\n",
              "      <td>4.79</td>\n",
              "      <td>...</td>\n",
              "      <td>NaN</td>\n",
              "      <td>y</td>\n",
              "      <td>o</td>\n",
              "      <td>NaN</td>\n",
              "      <td>NaN</td>\n",
              "      <td>t</td>\n",
              "      <td>z</td>\n",
              "      <td>NaN</td>\n",
              "      <td>d</td>\n",
              "      <td>w</td>\n",
              "    </tr>\n",
              "    <tr>\n",
              "      <th>2</th>\n",
              "      <td>e</td>\n",
              "      <td>6.94</td>\n",
              "      <td>f</td>\n",
              "      <td>s</td>\n",
              "      <td>b</td>\n",
              "      <td>f</td>\n",
              "      <td>x</td>\n",
              "      <td>c</td>\n",
              "      <td>w</td>\n",
              "      <td>6.85</td>\n",
              "      <td>...</td>\n",
              "      <td>NaN</td>\n",
              "      <td>s</td>\n",
              "      <td>n</td>\n",
              "      <td>NaN</td>\n",
              "      <td>NaN</td>\n",
              "      <td>f</td>\n",
              "      <td>f</td>\n",
              "      <td>NaN</td>\n",
              "      <td>l</td>\n",
              "      <td>w</td>\n",
              "    </tr>\n",
              "    <tr>\n",
              "      <th>3</th>\n",
              "      <td>e</td>\n",
              "      <td>3.88</td>\n",
              "      <td>f</td>\n",
              "      <td>y</td>\n",
              "      <td>g</td>\n",
              "      <td>f</td>\n",
              "      <td>s</td>\n",
              "      <td>NaN</td>\n",
              "      <td>g</td>\n",
              "      <td>4.16</td>\n",
              "      <td>...</td>\n",
              "      <td>NaN</td>\n",
              "      <td>NaN</td>\n",
              "      <td>w</td>\n",
              "      <td>NaN</td>\n",
              "      <td>NaN</td>\n",
              "      <td>f</td>\n",
              "      <td>f</td>\n",
              "      <td>NaN</td>\n",
              "      <td>d</td>\n",
              "      <td>u</td>\n",
              "    </tr>\n",
              "    <tr>\n",
              "      <th>4</th>\n",
              "      <td>e</td>\n",
              "      <td>5.85</td>\n",
              "      <td>x</td>\n",
              "      <td>l</td>\n",
              "      <td>w</td>\n",
              "      <td>f</td>\n",
              "      <td>d</td>\n",
              "      <td>NaN</td>\n",
              "      <td>w</td>\n",
              "      <td>3.37</td>\n",
              "      <td>...</td>\n",
              "      <td>NaN</td>\n",
              "      <td>NaN</td>\n",
              "      <td>w</td>\n",
              "      <td>NaN</td>\n",
              "      <td>NaN</td>\n",
              "      <td>f</td>\n",
              "      <td>f</td>\n",
              "      <td>NaN</td>\n",
              "      <td>g</td>\n",
              "      <td>a</td>\n",
              "    </tr>\n",
              "  </tbody>\n",
              "</table>\n",
              "<p>5 rows × 21 columns</p>\n",
              "</div>\n",
              "    <div class=\"colab-df-buttons\">\n",
              "\n",
              "  <div class=\"colab-df-container\">\n",
              "    <button class=\"colab-df-convert\" onclick=\"convertToInteractive('df-79649981-3b57-4ddd-90ef-fded5f1aaf7e')\"\n",
              "            title=\"Convert this dataframe to an interactive table.\"\n",
              "            style=\"display:none;\">\n",
              "\n",
              "  <svg xmlns=\"http://www.w3.org/2000/svg\" height=\"24px\" viewBox=\"0 -960 960 960\">\n",
              "    <path d=\"M120-120v-720h720v720H120Zm60-500h600v-160H180v160Zm220 220h160v-160H400v160Zm0 220h160v-160H400v160ZM180-400h160v-160H180v160Zm440 0h160v-160H620v160ZM180-180h160v-160H180v160Zm440 0h160v-160H620v160Z\"/>\n",
              "  </svg>\n",
              "    </button>\n",
              "\n",
              "  <style>\n",
              "    .colab-df-container {\n",
              "      display:flex;\n",
              "      gap: 12px;\n",
              "    }\n",
              "\n",
              "    .colab-df-convert {\n",
              "      background-color: #E8F0FE;\n",
              "      border: none;\n",
              "      border-radius: 50%;\n",
              "      cursor: pointer;\n",
              "      display: none;\n",
              "      fill: #1967D2;\n",
              "      height: 32px;\n",
              "      padding: 0 0 0 0;\n",
              "      width: 32px;\n",
              "    }\n",
              "\n",
              "    .colab-df-convert:hover {\n",
              "      background-color: #E2EBFA;\n",
              "      box-shadow: 0px 1px 2px rgba(60, 64, 67, 0.3), 0px 1px 3px 1px rgba(60, 64, 67, 0.15);\n",
              "      fill: #174EA6;\n",
              "    }\n",
              "\n",
              "    .colab-df-buttons div {\n",
              "      margin-bottom: 4px;\n",
              "    }\n",
              "\n",
              "    [theme=dark] .colab-df-convert {\n",
              "      background-color: #3B4455;\n",
              "      fill: #D2E3FC;\n",
              "    }\n",
              "\n",
              "    [theme=dark] .colab-df-convert:hover {\n",
              "      background-color: #434B5C;\n",
              "      box-shadow: 0px 1px 3px 1px rgba(0, 0, 0, 0.15);\n",
              "      filter: drop-shadow(0px 1px 2px rgba(0, 0, 0, 0.3));\n",
              "      fill: #FFFFFF;\n",
              "    }\n",
              "  </style>\n",
              "\n",
              "    <script>\n",
              "      const buttonEl =\n",
              "        document.querySelector('#df-79649981-3b57-4ddd-90ef-fded5f1aaf7e button.colab-df-convert');\n",
              "      buttonEl.style.display =\n",
              "        google.colab.kernel.accessAllowed ? 'block' : 'none';\n",
              "\n",
              "      async function convertToInteractive(key) {\n",
              "        const element = document.querySelector('#df-79649981-3b57-4ddd-90ef-fded5f1aaf7e');\n",
              "        const dataTable =\n",
              "          await google.colab.kernel.invokeFunction('convertToInteractive',\n",
              "                                                    [key], {});\n",
              "        if (!dataTable) return;\n",
              "\n",
              "        const docLinkHtml = 'Like what you see? Visit the ' +\n",
              "          '<a target=\"_blank\" href=https://colab.research.google.com/notebooks/data_table.ipynb>data table notebook</a>'\n",
              "          + ' to learn more about interactive tables.';\n",
              "        element.innerHTML = '';\n",
              "        dataTable['output_type'] = 'display_data';\n",
              "        await google.colab.output.renderOutput(dataTable, element);\n",
              "        const docLink = document.createElement('div');\n",
              "        docLink.innerHTML = docLinkHtml;\n",
              "        element.appendChild(docLink);\n",
              "      }\n",
              "    </script>\n",
              "  </div>\n",
              "\n",
              "\n",
              "<div id=\"df-e844c041-db98-4a6c-a19b-71d8c959e6d9\">\n",
              "  <button class=\"colab-df-quickchart\" onclick=\"quickchart('df-e844c041-db98-4a6c-a19b-71d8c959e6d9')\"\n",
              "            title=\"Suggest charts\"\n",
              "            style=\"display:none;\">\n",
              "\n",
              "<svg xmlns=\"http://www.w3.org/2000/svg\" height=\"24px\"viewBox=\"0 0 24 24\"\n",
              "     width=\"24px\">\n",
              "    <g>\n",
              "        <path d=\"M19 3H5c-1.1 0-2 .9-2 2v14c0 1.1.9 2 2 2h14c1.1 0 2-.9 2-2V5c0-1.1-.9-2-2-2zM9 17H7v-7h2v7zm4 0h-2V7h2v10zm4 0h-2v-4h2v4z\"/>\n",
              "    </g>\n",
              "</svg>\n",
              "  </button>\n",
              "\n",
              "<style>\n",
              "  .colab-df-quickchart {\n",
              "      --bg-color: #E8F0FE;\n",
              "      --fill-color: #1967D2;\n",
              "      --hover-bg-color: #E2EBFA;\n",
              "      --hover-fill-color: #174EA6;\n",
              "      --disabled-fill-color: #AAA;\n",
              "      --disabled-bg-color: #DDD;\n",
              "  }\n",
              "\n",
              "  [theme=dark] .colab-df-quickchart {\n",
              "      --bg-color: #3B4455;\n",
              "      --fill-color: #D2E3FC;\n",
              "      --hover-bg-color: #434B5C;\n",
              "      --hover-fill-color: #FFFFFF;\n",
              "      --disabled-bg-color: #3B4455;\n",
              "      --disabled-fill-color: #666;\n",
              "  }\n",
              "\n",
              "  .colab-df-quickchart {\n",
              "    background-color: var(--bg-color);\n",
              "    border: none;\n",
              "    border-radius: 50%;\n",
              "    cursor: pointer;\n",
              "    display: none;\n",
              "    fill: var(--fill-color);\n",
              "    height: 32px;\n",
              "    padding: 0;\n",
              "    width: 32px;\n",
              "  }\n",
              "\n",
              "  .colab-df-quickchart:hover {\n",
              "    background-color: var(--hover-bg-color);\n",
              "    box-shadow: 0 1px 2px rgba(60, 64, 67, 0.3), 0 1px 3px 1px rgba(60, 64, 67, 0.15);\n",
              "    fill: var(--button-hover-fill-color);\n",
              "  }\n",
              "\n",
              "  .colab-df-quickchart-complete:disabled,\n",
              "  .colab-df-quickchart-complete:disabled:hover {\n",
              "    background-color: var(--disabled-bg-color);\n",
              "    fill: var(--disabled-fill-color);\n",
              "    box-shadow: none;\n",
              "  }\n",
              "\n",
              "  .colab-df-spinner {\n",
              "    border: 2px solid var(--fill-color);\n",
              "    border-color: transparent;\n",
              "    border-bottom-color: var(--fill-color);\n",
              "    animation:\n",
              "      spin 1s steps(1) infinite;\n",
              "  }\n",
              "\n",
              "  @keyframes spin {\n",
              "    0% {\n",
              "      border-color: transparent;\n",
              "      border-bottom-color: var(--fill-color);\n",
              "      border-left-color: var(--fill-color);\n",
              "    }\n",
              "    20% {\n",
              "      border-color: transparent;\n",
              "      border-left-color: var(--fill-color);\n",
              "      border-top-color: var(--fill-color);\n",
              "    }\n",
              "    30% {\n",
              "      border-color: transparent;\n",
              "      border-left-color: var(--fill-color);\n",
              "      border-top-color: var(--fill-color);\n",
              "      border-right-color: var(--fill-color);\n",
              "    }\n",
              "    40% {\n",
              "      border-color: transparent;\n",
              "      border-right-color: var(--fill-color);\n",
              "      border-top-color: var(--fill-color);\n",
              "    }\n",
              "    60% {\n",
              "      border-color: transparent;\n",
              "      border-right-color: var(--fill-color);\n",
              "    }\n",
              "    80% {\n",
              "      border-color: transparent;\n",
              "      border-right-color: var(--fill-color);\n",
              "      border-bottom-color: var(--fill-color);\n",
              "    }\n",
              "    90% {\n",
              "      border-color: transparent;\n",
              "      border-bottom-color: var(--fill-color);\n",
              "    }\n",
              "  }\n",
              "</style>\n",
              "\n",
              "  <script>\n",
              "    async function quickchart(key) {\n",
              "      const quickchartButtonEl =\n",
              "        document.querySelector('#' + key + ' button');\n",
              "      quickchartButtonEl.disabled = true;  // To prevent multiple clicks.\n",
              "      quickchartButtonEl.classList.add('colab-df-spinner');\n",
              "      try {\n",
              "        const charts = await google.colab.kernel.invokeFunction(\n",
              "            'suggestCharts', [key], {});\n",
              "      } catch (error) {\n",
              "        console.error('Error during call to suggestCharts:', error);\n",
              "      }\n",
              "      quickchartButtonEl.classList.remove('colab-df-spinner');\n",
              "      quickchartButtonEl.classList.add('colab-df-quickchart-complete');\n",
              "    }\n",
              "    (() => {\n",
              "      let quickchartButtonEl =\n",
              "        document.querySelector('#df-e844c041-db98-4a6c-a19b-71d8c959e6d9 button');\n",
              "      quickchartButtonEl.style.display =\n",
              "        google.colab.kernel.accessAllowed ? 'block' : 'none';\n",
              "    })();\n",
              "  </script>\n",
              "</div>\n",
              "\n",
              "    </div>\n",
              "  </div>\n"
            ],
            "application/vnd.google.colaboratory.intrinsic+json": {
              "type": "dataframe",
              "variable_name": "df_train"
            }
          },
          "metadata": {},
          "execution_count": 10
        }
      ]
    },
    {
      "cell_type": "code",
      "source": [
        "num_samples, num_features = df_train.shape\n",
        "num_features -= 1\n",
        "num_classes = len(np.unique(df_train['class']))\n",
        "num_samples, num_features, num_classes"
      ],
      "metadata": {
        "colab": {
          "base_uri": "https://localhost:8080/"
        },
        "id": "nTtkluK8UeLC",
        "outputId": "89dd0471-d3ed-4e7f-b0b4-3308d0fd787d"
      },
      "execution_count": null,
      "outputs": [
        {
          "output_type": "execute_result",
          "data": {
            "text/plain": [
              "(3116945, 20, 2)"
            ]
          },
          "metadata": {},
          "execution_count": 11
        }
      ]
    },
    {
      "cell_type": "code",
      "source": [
        "df_train.info()"
      ],
      "metadata": {
        "colab": {
          "base_uri": "https://localhost:8080/"
        },
        "id": "WWNOvfgDHlqk",
        "outputId": "2bdd46ac-6439-4fec-9b03-7e91b7507592"
      },
      "execution_count": null,
      "outputs": [
        {
          "output_type": "stream",
          "name": "stdout",
          "text": [
            "<class 'pandas.core.frame.DataFrame'>\n",
            "RangeIndex: 3116945 entries, 0 to 3116944\n",
            "Data columns (total 21 columns):\n",
            " #   Column                Dtype  \n",
            "---  ------                -----  \n",
            " 0   class                 object \n",
            " 1   cap-diameter          float64\n",
            " 2   cap-shape             object \n",
            " 3   cap-surface           object \n",
            " 4   cap-color             object \n",
            " 5   does-bruise-or-bleed  object \n",
            " 6   gill-attachment       object \n",
            " 7   gill-spacing          object \n",
            " 8   gill-color            object \n",
            " 9   stem-height           float64\n",
            " 10  stem-width            float64\n",
            " 11  stem-root             object \n",
            " 12  stem-surface          object \n",
            " 13  stem-color            object \n",
            " 14  veil-type             object \n",
            " 15  veil-color            object \n",
            " 16  has-ring              object \n",
            " 17  ring-type             object \n",
            " 18  spore-print-color     object \n",
            " 19  habitat               object \n",
            " 20  season                object \n",
            "dtypes: float64(3), object(18)\n",
            "memory usage: 499.4+ MB\n"
          ]
        }
      ]
    },
    {
      "cell_type": "code",
      "source": [
        "df_train, df_valid = train_test_split(df_train, train_size=0.8, random_state=10, stratify=df_train['class'])\n",
        "len(df_train), len(df_valid)"
      ],
      "metadata": {
        "id": "Sj6huimXCEl4",
        "colab": {
          "base_uri": "https://localhost:8080/"
        },
        "outputId": "ae315410-28ca-47ce-e0be-c6105d3b120e"
      },
      "execution_count": null,
      "outputs": [
        {
          "output_type": "execute_result",
          "data": {
            "text/plain": [
              "(2493556, 623389)"
            ]
          },
          "metadata": {},
          "execution_count": 13
        }
      ]
    },
    {
      "cell_type": "markdown",
      "source": [
        "### 🟧 **Preprocessing**"
      ],
      "metadata": {
        "id": "H_Pbtllk-xYM"
      }
    },
    {
      "cell_type": "markdown",
      "source": [
        "#### 🟨 **NaN 😩**"
      ],
      "metadata": {
        "id": "YDKlTsRKB5kg"
      }
    },
    {
      "cell_type": "code",
      "source": [
        "df_train.isna().mean() * 100"
      ],
      "metadata": {
        "colab": {
          "base_uri": "https://localhost:8080/",
          "height": 742
        },
        "collapsed": true,
        "id": "Gzi_0Q_sBQNq",
        "outputId": "85c2945f-2561-466d-b257-8df8a58a1c8c"
      },
      "execution_count": null,
      "outputs": [
        {
          "output_type": "execute_result",
          "data": {
            "text/plain": [
              "class                    0.000000\n",
              "cap-diameter             0.000120\n",
              "cap-shape                0.001404\n",
              "cap-surface             21.524762\n",
              "cap-color                0.000361\n",
              "does-bruise-or-bleed     0.000281\n",
              "gill-attachment         16.795693\n",
              "gill-spacing            40.363080\n",
              "gill-color               0.001885\n",
              "stem-height              0.000000\n",
              "stem-width               0.000000\n",
              "stem-root               88.460335\n",
              "stem-surface            63.564163\n",
              "stem-color               0.001243\n",
              "veil-type               94.889828\n",
              "veil-color              87.934019\n",
              "has-ring                 0.000722\n",
              "ring-type                4.132331\n",
              "spore-print-color       91.416515\n",
              "habitat                  0.001604\n",
              "season                   0.000000\n",
              "dtype: float64"
            ],
            "text/html": [
              "<div>\n",
              "<style scoped>\n",
              "    .dataframe tbody tr th:only-of-type {\n",
              "        vertical-align: middle;\n",
              "    }\n",
              "\n",
              "    .dataframe tbody tr th {\n",
              "        vertical-align: top;\n",
              "    }\n",
              "\n",
              "    .dataframe thead th {\n",
              "        text-align: right;\n",
              "    }\n",
              "</style>\n",
              "<table border=\"1\" class=\"dataframe\">\n",
              "  <thead>\n",
              "    <tr style=\"text-align: right;\">\n",
              "      <th></th>\n",
              "      <th>0</th>\n",
              "    </tr>\n",
              "  </thead>\n",
              "  <tbody>\n",
              "    <tr>\n",
              "      <th>class</th>\n",
              "      <td>0.000000</td>\n",
              "    </tr>\n",
              "    <tr>\n",
              "      <th>cap-diameter</th>\n",
              "      <td>0.000120</td>\n",
              "    </tr>\n",
              "    <tr>\n",
              "      <th>cap-shape</th>\n",
              "      <td>0.001404</td>\n",
              "    </tr>\n",
              "    <tr>\n",
              "      <th>cap-surface</th>\n",
              "      <td>21.524762</td>\n",
              "    </tr>\n",
              "    <tr>\n",
              "      <th>cap-color</th>\n",
              "      <td>0.000361</td>\n",
              "    </tr>\n",
              "    <tr>\n",
              "      <th>does-bruise-or-bleed</th>\n",
              "      <td>0.000281</td>\n",
              "    </tr>\n",
              "    <tr>\n",
              "      <th>gill-attachment</th>\n",
              "      <td>16.795693</td>\n",
              "    </tr>\n",
              "    <tr>\n",
              "      <th>gill-spacing</th>\n",
              "      <td>40.363080</td>\n",
              "    </tr>\n",
              "    <tr>\n",
              "      <th>gill-color</th>\n",
              "      <td>0.001885</td>\n",
              "    </tr>\n",
              "    <tr>\n",
              "      <th>stem-height</th>\n",
              "      <td>0.000000</td>\n",
              "    </tr>\n",
              "    <tr>\n",
              "      <th>stem-width</th>\n",
              "      <td>0.000000</td>\n",
              "    </tr>\n",
              "    <tr>\n",
              "      <th>stem-root</th>\n",
              "      <td>88.460335</td>\n",
              "    </tr>\n",
              "    <tr>\n",
              "      <th>stem-surface</th>\n",
              "      <td>63.564163</td>\n",
              "    </tr>\n",
              "    <tr>\n",
              "      <th>stem-color</th>\n",
              "      <td>0.001243</td>\n",
              "    </tr>\n",
              "    <tr>\n",
              "      <th>veil-type</th>\n",
              "      <td>94.889828</td>\n",
              "    </tr>\n",
              "    <tr>\n",
              "      <th>veil-color</th>\n",
              "      <td>87.934019</td>\n",
              "    </tr>\n",
              "    <tr>\n",
              "      <th>has-ring</th>\n",
              "      <td>0.000722</td>\n",
              "    </tr>\n",
              "    <tr>\n",
              "      <th>ring-type</th>\n",
              "      <td>4.132331</td>\n",
              "    </tr>\n",
              "    <tr>\n",
              "      <th>spore-print-color</th>\n",
              "      <td>91.416515</td>\n",
              "    </tr>\n",
              "    <tr>\n",
              "      <th>habitat</th>\n",
              "      <td>0.001604</td>\n",
              "    </tr>\n",
              "    <tr>\n",
              "      <th>season</th>\n",
              "      <td>0.000000</td>\n",
              "    </tr>\n",
              "  </tbody>\n",
              "</table>\n",
              "</div><br><label><b>dtype:</b> float64</label>"
            ]
          },
          "metadata": {},
          "execution_count": 16
        }
      ]
    },
    {
      "cell_type": "code",
      "source": [
        "missing_threshold = 0.95\n",
        "\n",
        "high_missing_columns = df_train.columns[df_train.isna().mean() > missing_threshold]\n",
        "print(high_missing_columns)\n",
        "\n",
        "df_train = df_train.drop(columns=high_missing_columns)\n",
        "df_valid = df_valid.drop(columns=high_missing_columns)\n",
        "\n",
        "df_train.head()"
      ],
      "metadata": {
        "colab": {
          "base_uri": "https://localhost:8080/"
        },
        "id": "9EsTZdktQoAr",
        "outputId": "485e3714-617f-4181-a653-3fa510fcafb3"
      },
      "execution_count": null,
      "outputs": [
        {
          "output_type": "stream",
          "name": "stdout",
          "text": [
            "Index([], dtype='object')\n"
          ]
        },
        {
          "output_type": "execute_result",
          "data": {
            "text/plain": [
              "        class  cap-diameter cap-shape cap-surface cap-color  \\\n",
              "2256566     p          3.30         c         NaN         u   \n",
              "2032804     e          3.04         s         NaN         n   \n",
              "350767      e          6.32         x           t         n   \n",
              "402889      e          0.97         c           g         n   \n",
              "946147      e          3.54         b           g         n   \n",
              "\n",
              "        does-bruise-or-bleed gill-attachment gill-spacing gill-color  \\\n",
              "2256566                    f               a            c          n   \n",
              "2032804                    f               f            f          f   \n",
              "350767                     f               e          NaN          w   \n",
              "402889                     t               a          NaN          p   \n",
              "946147                     f               a            d          g   \n",
              "\n",
              "         stem-height  ...  stem-root stem-surface stem-color veil-type  \\\n",
              "2256566         3.76  ...        NaN            i          u       NaN   \n",
              "2032804         5.79  ...        NaN          NaN          y       NaN   \n",
              "350767         12.86  ...        NaN            s          n         u   \n",
              "402889          5.14  ...        NaN          NaN          n       NaN   \n",
              "946147          5.89  ...        NaN            s          g       NaN   \n",
              "\n",
              "        veil-color has-ring ring-type spore-print-color habitat season  \n",
              "2256566        NaN        f         f               NaN       d      a  \n",
              "2032804        NaN        f         f               NaN       d      a  \n",
              "350767           w        f         f               NaN       d      u  \n",
              "402889         NaN        f         f               NaN       h      u  \n",
              "946147         NaN        f         f               NaN       d      u  \n",
              "\n",
              "[5 rows x 21 columns]"
            ],
            "text/html": [
              "\n",
              "  <div id=\"df-654146f0-964a-4342-8d41-a52f33a1203c\" class=\"colab-df-container\">\n",
              "    <div>\n",
              "<style scoped>\n",
              "    .dataframe tbody tr th:only-of-type {\n",
              "        vertical-align: middle;\n",
              "    }\n",
              "\n",
              "    .dataframe tbody tr th {\n",
              "        vertical-align: top;\n",
              "    }\n",
              "\n",
              "    .dataframe thead th {\n",
              "        text-align: right;\n",
              "    }\n",
              "</style>\n",
              "<table border=\"1\" class=\"dataframe\">\n",
              "  <thead>\n",
              "    <tr style=\"text-align: right;\">\n",
              "      <th></th>\n",
              "      <th>class</th>\n",
              "      <th>cap-diameter</th>\n",
              "      <th>cap-shape</th>\n",
              "      <th>cap-surface</th>\n",
              "      <th>cap-color</th>\n",
              "      <th>does-bruise-or-bleed</th>\n",
              "      <th>gill-attachment</th>\n",
              "      <th>gill-spacing</th>\n",
              "      <th>gill-color</th>\n",
              "      <th>stem-height</th>\n",
              "      <th>...</th>\n",
              "      <th>stem-root</th>\n",
              "      <th>stem-surface</th>\n",
              "      <th>stem-color</th>\n",
              "      <th>veil-type</th>\n",
              "      <th>veil-color</th>\n",
              "      <th>has-ring</th>\n",
              "      <th>ring-type</th>\n",
              "      <th>spore-print-color</th>\n",
              "      <th>habitat</th>\n",
              "      <th>season</th>\n",
              "    </tr>\n",
              "  </thead>\n",
              "  <tbody>\n",
              "    <tr>\n",
              "      <th>2256566</th>\n",
              "      <td>p</td>\n",
              "      <td>3.30</td>\n",
              "      <td>c</td>\n",
              "      <td>NaN</td>\n",
              "      <td>u</td>\n",
              "      <td>f</td>\n",
              "      <td>a</td>\n",
              "      <td>c</td>\n",
              "      <td>n</td>\n",
              "      <td>3.76</td>\n",
              "      <td>...</td>\n",
              "      <td>NaN</td>\n",
              "      <td>i</td>\n",
              "      <td>u</td>\n",
              "      <td>NaN</td>\n",
              "      <td>NaN</td>\n",
              "      <td>f</td>\n",
              "      <td>f</td>\n",
              "      <td>NaN</td>\n",
              "      <td>d</td>\n",
              "      <td>a</td>\n",
              "    </tr>\n",
              "    <tr>\n",
              "      <th>2032804</th>\n",
              "      <td>e</td>\n",
              "      <td>3.04</td>\n",
              "      <td>s</td>\n",
              "      <td>NaN</td>\n",
              "      <td>n</td>\n",
              "      <td>f</td>\n",
              "      <td>f</td>\n",
              "      <td>f</td>\n",
              "      <td>f</td>\n",
              "      <td>5.79</td>\n",
              "      <td>...</td>\n",
              "      <td>NaN</td>\n",
              "      <td>NaN</td>\n",
              "      <td>y</td>\n",
              "      <td>NaN</td>\n",
              "      <td>NaN</td>\n",
              "      <td>f</td>\n",
              "      <td>f</td>\n",
              "      <td>NaN</td>\n",
              "      <td>d</td>\n",
              "      <td>a</td>\n",
              "    </tr>\n",
              "    <tr>\n",
              "      <th>350767</th>\n",
              "      <td>e</td>\n",
              "      <td>6.32</td>\n",
              "      <td>x</td>\n",
              "      <td>t</td>\n",
              "      <td>n</td>\n",
              "      <td>f</td>\n",
              "      <td>e</td>\n",
              "      <td>NaN</td>\n",
              "      <td>w</td>\n",
              "      <td>12.86</td>\n",
              "      <td>...</td>\n",
              "      <td>NaN</td>\n",
              "      <td>s</td>\n",
              "      <td>n</td>\n",
              "      <td>u</td>\n",
              "      <td>w</td>\n",
              "      <td>f</td>\n",
              "      <td>f</td>\n",
              "      <td>NaN</td>\n",
              "      <td>d</td>\n",
              "      <td>u</td>\n",
              "    </tr>\n",
              "    <tr>\n",
              "      <th>402889</th>\n",
              "      <td>e</td>\n",
              "      <td>0.97</td>\n",
              "      <td>c</td>\n",
              "      <td>g</td>\n",
              "      <td>n</td>\n",
              "      <td>t</td>\n",
              "      <td>a</td>\n",
              "      <td>NaN</td>\n",
              "      <td>p</td>\n",
              "      <td>5.14</td>\n",
              "      <td>...</td>\n",
              "      <td>NaN</td>\n",
              "      <td>NaN</td>\n",
              "      <td>n</td>\n",
              "      <td>NaN</td>\n",
              "      <td>NaN</td>\n",
              "      <td>f</td>\n",
              "      <td>f</td>\n",
              "      <td>NaN</td>\n",
              "      <td>h</td>\n",
              "      <td>u</td>\n",
              "    </tr>\n",
              "    <tr>\n",
              "      <th>946147</th>\n",
              "      <td>e</td>\n",
              "      <td>3.54</td>\n",
              "      <td>b</td>\n",
              "      <td>g</td>\n",
              "      <td>n</td>\n",
              "      <td>f</td>\n",
              "      <td>a</td>\n",
              "      <td>d</td>\n",
              "      <td>g</td>\n",
              "      <td>5.89</td>\n",
              "      <td>...</td>\n",
              "      <td>NaN</td>\n",
              "      <td>s</td>\n",
              "      <td>g</td>\n",
              "      <td>NaN</td>\n",
              "      <td>NaN</td>\n",
              "      <td>f</td>\n",
              "      <td>f</td>\n",
              "      <td>NaN</td>\n",
              "      <td>d</td>\n",
              "      <td>u</td>\n",
              "    </tr>\n",
              "  </tbody>\n",
              "</table>\n",
              "<p>5 rows × 21 columns</p>\n",
              "</div>\n",
              "    <div class=\"colab-df-buttons\">\n",
              "\n",
              "  <div class=\"colab-df-container\">\n",
              "    <button class=\"colab-df-convert\" onclick=\"convertToInteractive('df-654146f0-964a-4342-8d41-a52f33a1203c')\"\n",
              "            title=\"Convert this dataframe to an interactive table.\"\n",
              "            style=\"display:none;\">\n",
              "\n",
              "  <svg xmlns=\"http://www.w3.org/2000/svg\" height=\"24px\" viewBox=\"0 -960 960 960\">\n",
              "    <path d=\"M120-120v-720h720v720H120Zm60-500h600v-160H180v160Zm220 220h160v-160H400v160Zm0 220h160v-160H400v160ZM180-400h160v-160H180v160Zm440 0h160v-160H620v160ZM180-180h160v-160H180v160Zm440 0h160v-160H620v160Z\"/>\n",
              "  </svg>\n",
              "    </button>\n",
              "\n",
              "  <style>\n",
              "    .colab-df-container {\n",
              "      display:flex;\n",
              "      gap: 12px;\n",
              "    }\n",
              "\n",
              "    .colab-df-convert {\n",
              "      background-color: #E8F0FE;\n",
              "      border: none;\n",
              "      border-radius: 50%;\n",
              "      cursor: pointer;\n",
              "      display: none;\n",
              "      fill: #1967D2;\n",
              "      height: 32px;\n",
              "      padding: 0 0 0 0;\n",
              "      width: 32px;\n",
              "    }\n",
              "\n",
              "    .colab-df-convert:hover {\n",
              "      background-color: #E2EBFA;\n",
              "      box-shadow: 0px 1px 2px rgba(60, 64, 67, 0.3), 0px 1px 3px 1px rgba(60, 64, 67, 0.15);\n",
              "      fill: #174EA6;\n",
              "    }\n",
              "\n",
              "    .colab-df-buttons div {\n",
              "      margin-bottom: 4px;\n",
              "    }\n",
              "\n",
              "    [theme=dark] .colab-df-convert {\n",
              "      background-color: #3B4455;\n",
              "      fill: #D2E3FC;\n",
              "    }\n",
              "\n",
              "    [theme=dark] .colab-df-convert:hover {\n",
              "      background-color: #434B5C;\n",
              "      box-shadow: 0px 1px 3px 1px rgba(0, 0, 0, 0.15);\n",
              "      filter: drop-shadow(0px 1px 2px rgba(0, 0, 0, 0.3));\n",
              "      fill: #FFFFFF;\n",
              "    }\n",
              "  </style>\n",
              "\n",
              "    <script>\n",
              "      const buttonEl =\n",
              "        document.querySelector('#df-654146f0-964a-4342-8d41-a52f33a1203c button.colab-df-convert');\n",
              "      buttonEl.style.display =\n",
              "        google.colab.kernel.accessAllowed ? 'block' : 'none';\n",
              "\n",
              "      async function convertToInteractive(key) {\n",
              "        const element = document.querySelector('#df-654146f0-964a-4342-8d41-a52f33a1203c');\n",
              "        const dataTable =\n",
              "          await google.colab.kernel.invokeFunction('convertToInteractive',\n",
              "                                                    [key], {});\n",
              "        if (!dataTable) return;\n",
              "\n",
              "        const docLinkHtml = 'Like what you see? Visit the ' +\n",
              "          '<a target=\"_blank\" href=https://colab.research.google.com/notebooks/data_table.ipynb>data table notebook</a>'\n",
              "          + ' to learn more about interactive tables.';\n",
              "        element.innerHTML = '';\n",
              "        dataTable['output_type'] = 'display_data';\n",
              "        await google.colab.output.renderOutput(dataTable, element);\n",
              "        const docLink = document.createElement('div');\n",
              "        docLink.innerHTML = docLinkHtml;\n",
              "        element.appendChild(docLink);\n",
              "      }\n",
              "    </script>\n",
              "  </div>\n",
              "\n",
              "\n",
              "<div id=\"df-0b0b63dd-046c-4810-a1b7-d885512420a4\">\n",
              "  <button class=\"colab-df-quickchart\" onclick=\"quickchart('df-0b0b63dd-046c-4810-a1b7-d885512420a4')\"\n",
              "            title=\"Suggest charts\"\n",
              "            style=\"display:none;\">\n",
              "\n",
              "<svg xmlns=\"http://www.w3.org/2000/svg\" height=\"24px\"viewBox=\"0 0 24 24\"\n",
              "     width=\"24px\">\n",
              "    <g>\n",
              "        <path d=\"M19 3H5c-1.1 0-2 .9-2 2v14c0 1.1.9 2 2 2h14c1.1 0 2-.9 2-2V5c0-1.1-.9-2-2-2zM9 17H7v-7h2v7zm4 0h-2V7h2v10zm4 0h-2v-4h2v4z\"/>\n",
              "    </g>\n",
              "</svg>\n",
              "  </button>\n",
              "\n",
              "<style>\n",
              "  .colab-df-quickchart {\n",
              "      --bg-color: #E8F0FE;\n",
              "      --fill-color: #1967D2;\n",
              "      --hover-bg-color: #E2EBFA;\n",
              "      --hover-fill-color: #174EA6;\n",
              "      --disabled-fill-color: #AAA;\n",
              "      --disabled-bg-color: #DDD;\n",
              "  }\n",
              "\n",
              "  [theme=dark] .colab-df-quickchart {\n",
              "      --bg-color: #3B4455;\n",
              "      --fill-color: #D2E3FC;\n",
              "      --hover-bg-color: #434B5C;\n",
              "      --hover-fill-color: #FFFFFF;\n",
              "      --disabled-bg-color: #3B4455;\n",
              "      --disabled-fill-color: #666;\n",
              "  }\n",
              "\n",
              "  .colab-df-quickchart {\n",
              "    background-color: var(--bg-color);\n",
              "    border: none;\n",
              "    border-radius: 50%;\n",
              "    cursor: pointer;\n",
              "    display: none;\n",
              "    fill: var(--fill-color);\n",
              "    height: 32px;\n",
              "    padding: 0;\n",
              "    width: 32px;\n",
              "  }\n",
              "\n",
              "  .colab-df-quickchart:hover {\n",
              "    background-color: var(--hover-bg-color);\n",
              "    box-shadow: 0 1px 2px rgba(60, 64, 67, 0.3), 0 1px 3px 1px rgba(60, 64, 67, 0.15);\n",
              "    fill: var(--button-hover-fill-color);\n",
              "  }\n",
              "\n",
              "  .colab-df-quickchart-complete:disabled,\n",
              "  .colab-df-quickchart-complete:disabled:hover {\n",
              "    background-color: var(--disabled-bg-color);\n",
              "    fill: var(--disabled-fill-color);\n",
              "    box-shadow: none;\n",
              "  }\n",
              "\n",
              "  .colab-df-spinner {\n",
              "    border: 2px solid var(--fill-color);\n",
              "    border-color: transparent;\n",
              "    border-bottom-color: var(--fill-color);\n",
              "    animation:\n",
              "      spin 1s steps(1) infinite;\n",
              "  }\n",
              "\n",
              "  @keyframes spin {\n",
              "    0% {\n",
              "      border-color: transparent;\n",
              "      border-bottom-color: var(--fill-color);\n",
              "      border-left-color: var(--fill-color);\n",
              "    }\n",
              "    20% {\n",
              "      border-color: transparent;\n",
              "      border-left-color: var(--fill-color);\n",
              "      border-top-color: var(--fill-color);\n",
              "    }\n",
              "    30% {\n",
              "      border-color: transparent;\n",
              "      border-left-color: var(--fill-color);\n",
              "      border-top-color: var(--fill-color);\n",
              "      border-right-color: var(--fill-color);\n",
              "    }\n",
              "    40% {\n",
              "      border-color: transparent;\n",
              "      border-right-color: var(--fill-color);\n",
              "      border-top-color: var(--fill-color);\n",
              "    }\n",
              "    60% {\n",
              "      border-color: transparent;\n",
              "      border-right-color: var(--fill-color);\n",
              "    }\n",
              "    80% {\n",
              "      border-color: transparent;\n",
              "      border-right-color: var(--fill-color);\n",
              "      border-bottom-color: var(--fill-color);\n",
              "    }\n",
              "    90% {\n",
              "      border-color: transparent;\n",
              "      border-bottom-color: var(--fill-color);\n",
              "    }\n",
              "  }\n",
              "</style>\n",
              "\n",
              "  <script>\n",
              "    async function quickchart(key) {\n",
              "      const quickchartButtonEl =\n",
              "        document.querySelector('#' + key + ' button');\n",
              "      quickchartButtonEl.disabled = true;  // To prevent multiple clicks.\n",
              "      quickchartButtonEl.classList.add('colab-df-spinner');\n",
              "      try {\n",
              "        const charts = await google.colab.kernel.invokeFunction(\n",
              "            'suggestCharts', [key], {});\n",
              "      } catch (error) {\n",
              "        console.error('Error during call to suggestCharts:', error);\n",
              "      }\n",
              "      quickchartButtonEl.classList.remove('colab-df-spinner');\n",
              "      quickchartButtonEl.classList.add('colab-df-quickchart-complete');\n",
              "    }\n",
              "    (() => {\n",
              "      let quickchartButtonEl =\n",
              "        document.querySelector('#df-0b0b63dd-046c-4810-a1b7-d885512420a4 button');\n",
              "      quickchartButtonEl.style.display =\n",
              "        google.colab.kernel.accessAllowed ? 'block' : 'none';\n",
              "    })();\n",
              "  </script>\n",
              "</div>\n",
              "\n",
              "    </div>\n",
              "  </div>\n"
            ],
            "application/vnd.google.colaboratory.intrinsic+json": {
              "type": "dataframe",
              "variable_name": "df_train"
            }
          },
          "metadata": {},
          "execution_count": 14
        }
      ]
    },
    {
      "cell_type": "code",
      "source": [
        "mode_values = df_train.mode()\n",
        "mode_values = mode_values.loc[0].to_dict()\n",
        "mode_values['cap-diameter']"
      ],
      "metadata": {
        "colab": {
          "base_uri": "https://localhost:8080/"
        },
        "id": "77xAJ2BKUmQj",
        "outputId": "efb3ac40-7004-43b6-b03f-f1cba6b4ed79"
      },
      "execution_count": null,
      "outputs": [
        {
          "output_type": "execute_result",
          "data": {
            "text/plain": [
              "1.49"
            ]
          },
          "metadata": {},
          "execution_count": 15
        }
      ]
    },
    {
      "cell_type": "code",
      "source": [
        "median_values = df_train.median(numeric_only=True).to_dict()\n",
        "median_values"
      ],
      "metadata": {
        "colab": {
          "base_uri": "https://localhost:8080/"
        },
        "id": "VjXoT9WLVfOP",
        "outputId": "2d68f884-4c4e-4fe5-b39c-5e3ff2ace713"
      },
      "execution_count": null,
      "outputs": [
        {
          "output_type": "execute_result",
          "data": {
            "text/plain": [
              "{'cap-diameter': 5.75, 'stem-height': 5.88, 'stem-width': 9.65}"
            ]
          },
          "metadata": {},
          "execution_count": 16
        }
      ]
    },
    {
      "cell_type": "code",
      "source": [
        "for column in df_train.columns:\n",
        "\n",
        "  if df_train[column].isna().any():\n",
        "\n",
        "    if df_train[column].dtype == 'object':\n",
        "      df_train[column] = df_train[column].fillna(mode_values[column])\n",
        "      df_valid[column] = df_valid[column].fillna(mode_values[column])\n",
        "\n",
        "    else:\n",
        "      df_train[column] = df_train[column].fillna(median_values[column])\n",
        "      df_valid[column] = df_valid[column].fillna(median_values[column])\n",
        "\n",
        "df_train.head()"
      ],
      "metadata": {
        "colab": {
          "base_uri": "https://localhost:8080/"
        },
        "id": "AMLkddFVV0ee",
        "outputId": "28c807f7-4ba5-4690-abac-3300a8eb8b34"
      },
      "execution_count": null,
      "outputs": [
        {
          "output_type": "execute_result",
          "data": {
            "text/plain": [
              "        class  cap-diameter cap-shape cap-surface cap-color  \\\n",
              "2256566     p          3.30         c           t         u   \n",
              "2032804     e          3.04         s           t         n   \n",
              "350767      e          6.32         x           t         n   \n",
              "402889      e          0.97         c           g         n   \n",
              "946147      e          3.54         b           g         n   \n",
              "\n",
              "        does-bruise-or-bleed gill-attachment gill-spacing gill-color  \\\n",
              "2256566                    f               a            c          n   \n",
              "2032804                    f               f            f          f   \n",
              "350767                     f               e            c          w   \n",
              "402889                     t               a            c          p   \n",
              "946147                     f               a            d          g   \n",
              "\n",
              "         stem-height  ...  stem-root stem-surface stem-color veil-type  \\\n",
              "2256566         3.76  ...          b            i          u         u   \n",
              "2032804         5.79  ...          b            s          y         u   \n",
              "350767         12.86  ...          b            s          n         u   \n",
              "402889          5.14  ...          b            s          n         u   \n",
              "946147          5.89  ...          b            s          g         u   \n",
              "\n",
              "        veil-color has-ring ring-type spore-print-color habitat season  \n",
              "2256566          w        f         f                 k       d      a  \n",
              "2032804          w        f         f                 k       d      a  \n",
              "350767           w        f         f                 k       d      u  \n",
              "402889           w        f         f                 k       h      u  \n",
              "946147           w        f         f                 k       d      u  \n",
              "\n",
              "[5 rows x 21 columns]"
            ],
            "text/html": [
              "\n",
              "  <div id=\"df-bbb56b2c-16fc-48ae-9dc9-422f913a3562\" class=\"colab-df-container\">\n",
              "    <div>\n",
              "<style scoped>\n",
              "    .dataframe tbody tr th:only-of-type {\n",
              "        vertical-align: middle;\n",
              "    }\n",
              "\n",
              "    .dataframe tbody tr th {\n",
              "        vertical-align: top;\n",
              "    }\n",
              "\n",
              "    .dataframe thead th {\n",
              "        text-align: right;\n",
              "    }\n",
              "</style>\n",
              "<table border=\"1\" class=\"dataframe\">\n",
              "  <thead>\n",
              "    <tr style=\"text-align: right;\">\n",
              "      <th></th>\n",
              "      <th>class</th>\n",
              "      <th>cap-diameter</th>\n",
              "      <th>cap-shape</th>\n",
              "      <th>cap-surface</th>\n",
              "      <th>cap-color</th>\n",
              "      <th>does-bruise-or-bleed</th>\n",
              "      <th>gill-attachment</th>\n",
              "      <th>gill-spacing</th>\n",
              "      <th>gill-color</th>\n",
              "      <th>stem-height</th>\n",
              "      <th>...</th>\n",
              "      <th>stem-root</th>\n",
              "      <th>stem-surface</th>\n",
              "      <th>stem-color</th>\n",
              "      <th>veil-type</th>\n",
              "      <th>veil-color</th>\n",
              "      <th>has-ring</th>\n",
              "      <th>ring-type</th>\n",
              "      <th>spore-print-color</th>\n",
              "      <th>habitat</th>\n",
              "      <th>season</th>\n",
              "    </tr>\n",
              "  </thead>\n",
              "  <tbody>\n",
              "    <tr>\n",
              "      <th>2256566</th>\n",
              "      <td>p</td>\n",
              "      <td>3.30</td>\n",
              "      <td>c</td>\n",
              "      <td>t</td>\n",
              "      <td>u</td>\n",
              "      <td>f</td>\n",
              "      <td>a</td>\n",
              "      <td>c</td>\n",
              "      <td>n</td>\n",
              "      <td>3.76</td>\n",
              "      <td>...</td>\n",
              "      <td>b</td>\n",
              "      <td>i</td>\n",
              "      <td>u</td>\n",
              "      <td>u</td>\n",
              "      <td>w</td>\n",
              "      <td>f</td>\n",
              "      <td>f</td>\n",
              "      <td>k</td>\n",
              "      <td>d</td>\n",
              "      <td>a</td>\n",
              "    </tr>\n",
              "    <tr>\n",
              "      <th>2032804</th>\n",
              "      <td>e</td>\n",
              "      <td>3.04</td>\n",
              "      <td>s</td>\n",
              "      <td>t</td>\n",
              "      <td>n</td>\n",
              "      <td>f</td>\n",
              "      <td>f</td>\n",
              "      <td>f</td>\n",
              "      <td>f</td>\n",
              "      <td>5.79</td>\n",
              "      <td>...</td>\n",
              "      <td>b</td>\n",
              "      <td>s</td>\n",
              "      <td>y</td>\n",
              "      <td>u</td>\n",
              "      <td>w</td>\n",
              "      <td>f</td>\n",
              "      <td>f</td>\n",
              "      <td>k</td>\n",
              "      <td>d</td>\n",
              "      <td>a</td>\n",
              "    </tr>\n",
              "    <tr>\n",
              "      <th>350767</th>\n",
              "      <td>e</td>\n",
              "      <td>6.32</td>\n",
              "      <td>x</td>\n",
              "      <td>t</td>\n",
              "      <td>n</td>\n",
              "      <td>f</td>\n",
              "      <td>e</td>\n",
              "      <td>c</td>\n",
              "      <td>w</td>\n",
              "      <td>12.86</td>\n",
              "      <td>...</td>\n",
              "      <td>b</td>\n",
              "      <td>s</td>\n",
              "      <td>n</td>\n",
              "      <td>u</td>\n",
              "      <td>w</td>\n",
              "      <td>f</td>\n",
              "      <td>f</td>\n",
              "      <td>k</td>\n",
              "      <td>d</td>\n",
              "      <td>u</td>\n",
              "    </tr>\n",
              "    <tr>\n",
              "      <th>402889</th>\n",
              "      <td>e</td>\n",
              "      <td>0.97</td>\n",
              "      <td>c</td>\n",
              "      <td>g</td>\n",
              "      <td>n</td>\n",
              "      <td>t</td>\n",
              "      <td>a</td>\n",
              "      <td>c</td>\n",
              "      <td>p</td>\n",
              "      <td>5.14</td>\n",
              "      <td>...</td>\n",
              "      <td>b</td>\n",
              "      <td>s</td>\n",
              "      <td>n</td>\n",
              "      <td>u</td>\n",
              "      <td>w</td>\n",
              "      <td>f</td>\n",
              "      <td>f</td>\n",
              "      <td>k</td>\n",
              "      <td>h</td>\n",
              "      <td>u</td>\n",
              "    </tr>\n",
              "    <tr>\n",
              "      <th>946147</th>\n",
              "      <td>e</td>\n",
              "      <td>3.54</td>\n",
              "      <td>b</td>\n",
              "      <td>g</td>\n",
              "      <td>n</td>\n",
              "      <td>f</td>\n",
              "      <td>a</td>\n",
              "      <td>d</td>\n",
              "      <td>g</td>\n",
              "      <td>5.89</td>\n",
              "      <td>...</td>\n",
              "      <td>b</td>\n",
              "      <td>s</td>\n",
              "      <td>g</td>\n",
              "      <td>u</td>\n",
              "      <td>w</td>\n",
              "      <td>f</td>\n",
              "      <td>f</td>\n",
              "      <td>k</td>\n",
              "      <td>d</td>\n",
              "      <td>u</td>\n",
              "    </tr>\n",
              "  </tbody>\n",
              "</table>\n",
              "<p>5 rows × 21 columns</p>\n",
              "</div>\n",
              "    <div class=\"colab-df-buttons\">\n",
              "\n",
              "  <div class=\"colab-df-container\">\n",
              "    <button class=\"colab-df-convert\" onclick=\"convertToInteractive('df-bbb56b2c-16fc-48ae-9dc9-422f913a3562')\"\n",
              "            title=\"Convert this dataframe to an interactive table.\"\n",
              "            style=\"display:none;\">\n",
              "\n",
              "  <svg xmlns=\"http://www.w3.org/2000/svg\" height=\"24px\" viewBox=\"0 -960 960 960\">\n",
              "    <path d=\"M120-120v-720h720v720H120Zm60-500h600v-160H180v160Zm220 220h160v-160H400v160Zm0 220h160v-160H400v160ZM180-400h160v-160H180v160Zm440 0h160v-160H620v160ZM180-180h160v-160H180v160Zm440 0h160v-160H620v160Z\"/>\n",
              "  </svg>\n",
              "    </button>\n",
              "\n",
              "  <style>\n",
              "    .colab-df-container {\n",
              "      display:flex;\n",
              "      gap: 12px;\n",
              "    }\n",
              "\n",
              "    .colab-df-convert {\n",
              "      background-color: #E8F0FE;\n",
              "      border: none;\n",
              "      border-radius: 50%;\n",
              "      cursor: pointer;\n",
              "      display: none;\n",
              "      fill: #1967D2;\n",
              "      height: 32px;\n",
              "      padding: 0 0 0 0;\n",
              "      width: 32px;\n",
              "    }\n",
              "\n",
              "    .colab-df-convert:hover {\n",
              "      background-color: #E2EBFA;\n",
              "      box-shadow: 0px 1px 2px rgba(60, 64, 67, 0.3), 0px 1px 3px 1px rgba(60, 64, 67, 0.15);\n",
              "      fill: #174EA6;\n",
              "    }\n",
              "\n",
              "    .colab-df-buttons div {\n",
              "      margin-bottom: 4px;\n",
              "    }\n",
              "\n",
              "    [theme=dark] .colab-df-convert {\n",
              "      background-color: #3B4455;\n",
              "      fill: #D2E3FC;\n",
              "    }\n",
              "\n",
              "    [theme=dark] .colab-df-convert:hover {\n",
              "      background-color: #434B5C;\n",
              "      box-shadow: 0px 1px 3px 1px rgba(0, 0, 0, 0.15);\n",
              "      filter: drop-shadow(0px 1px 2px rgba(0, 0, 0, 0.3));\n",
              "      fill: #FFFFFF;\n",
              "    }\n",
              "  </style>\n",
              "\n",
              "    <script>\n",
              "      const buttonEl =\n",
              "        document.querySelector('#df-bbb56b2c-16fc-48ae-9dc9-422f913a3562 button.colab-df-convert');\n",
              "      buttonEl.style.display =\n",
              "        google.colab.kernel.accessAllowed ? 'block' : 'none';\n",
              "\n",
              "      async function convertToInteractive(key) {\n",
              "        const element = document.querySelector('#df-bbb56b2c-16fc-48ae-9dc9-422f913a3562');\n",
              "        const dataTable =\n",
              "          await google.colab.kernel.invokeFunction('convertToInteractive',\n",
              "                                                    [key], {});\n",
              "        if (!dataTable) return;\n",
              "\n",
              "        const docLinkHtml = 'Like what you see? Visit the ' +\n",
              "          '<a target=\"_blank\" href=https://colab.research.google.com/notebooks/data_table.ipynb>data table notebook</a>'\n",
              "          + ' to learn more about interactive tables.';\n",
              "        element.innerHTML = '';\n",
              "        dataTable['output_type'] = 'display_data';\n",
              "        await google.colab.output.renderOutput(dataTable, element);\n",
              "        const docLink = document.createElement('div');\n",
              "        docLink.innerHTML = docLinkHtml;\n",
              "        element.appendChild(docLink);\n",
              "      }\n",
              "    </script>\n",
              "  </div>\n",
              "\n",
              "\n",
              "<div id=\"df-4231a1e2-a66b-4548-84f4-e76afe91497c\">\n",
              "  <button class=\"colab-df-quickchart\" onclick=\"quickchart('df-4231a1e2-a66b-4548-84f4-e76afe91497c')\"\n",
              "            title=\"Suggest charts\"\n",
              "            style=\"display:none;\">\n",
              "\n",
              "<svg xmlns=\"http://www.w3.org/2000/svg\" height=\"24px\"viewBox=\"0 0 24 24\"\n",
              "     width=\"24px\">\n",
              "    <g>\n",
              "        <path d=\"M19 3H5c-1.1 0-2 .9-2 2v14c0 1.1.9 2 2 2h14c1.1 0 2-.9 2-2V5c0-1.1-.9-2-2-2zM9 17H7v-7h2v7zm4 0h-2V7h2v10zm4 0h-2v-4h2v4z\"/>\n",
              "    </g>\n",
              "</svg>\n",
              "  </button>\n",
              "\n",
              "<style>\n",
              "  .colab-df-quickchart {\n",
              "      --bg-color: #E8F0FE;\n",
              "      --fill-color: #1967D2;\n",
              "      --hover-bg-color: #E2EBFA;\n",
              "      --hover-fill-color: #174EA6;\n",
              "      --disabled-fill-color: #AAA;\n",
              "      --disabled-bg-color: #DDD;\n",
              "  }\n",
              "\n",
              "  [theme=dark] .colab-df-quickchart {\n",
              "      --bg-color: #3B4455;\n",
              "      --fill-color: #D2E3FC;\n",
              "      --hover-bg-color: #434B5C;\n",
              "      --hover-fill-color: #FFFFFF;\n",
              "      --disabled-bg-color: #3B4455;\n",
              "      --disabled-fill-color: #666;\n",
              "  }\n",
              "\n",
              "  .colab-df-quickchart {\n",
              "    background-color: var(--bg-color);\n",
              "    border: none;\n",
              "    border-radius: 50%;\n",
              "    cursor: pointer;\n",
              "    display: none;\n",
              "    fill: var(--fill-color);\n",
              "    height: 32px;\n",
              "    padding: 0;\n",
              "    width: 32px;\n",
              "  }\n",
              "\n",
              "  .colab-df-quickchart:hover {\n",
              "    background-color: var(--hover-bg-color);\n",
              "    box-shadow: 0 1px 2px rgba(60, 64, 67, 0.3), 0 1px 3px 1px rgba(60, 64, 67, 0.15);\n",
              "    fill: var(--button-hover-fill-color);\n",
              "  }\n",
              "\n",
              "  .colab-df-quickchart-complete:disabled,\n",
              "  .colab-df-quickchart-complete:disabled:hover {\n",
              "    background-color: var(--disabled-bg-color);\n",
              "    fill: var(--disabled-fill-color);\n",
              "    box-shadow: none;\n",
              "  }\n",
              "\n",
              "  .colab-df-spinner {\n",
              "    border: 2px solid var(--fill-color);\n",
              "    border-color: transparent;\n",
              "    border-bottom-color: var(--fill-color);\n",
              "    animation:\n",
              "      spin 1s steps(1) infinite;\n",
              "  }\n",
              "\n",
              "  @keyframes spin {\n",
              "    0% {\n",
              "      border-color: transparent;\n",
              "      border-bottom-color: var(--fill-color);\n",
              "      border-left-color: var(--fill-color);\n",
              "    }\n",
              "    20% {\n",
              "      border-color: transparent;\n",
              "      border-left-color: var(--fill-color);\n",
              "      border-top-color: var(--fill-color);\n",
              "    }\n",
              "    30% {\n",
              "      border-color: transparent;\n",
              "      border-left-color: var(--fill-color);\n",
              "      border-top-color: var(--fill-color);\n",
              "      border-right-color: var(--fill-color);\n",
              "    }\n",
              "    40% {\n",
              "      border-color: transparent;\n",
              "      border-right-color: var(--fill-color);\n",
              "      border-top-color: var(--fill-color);\n",
              "    }\n",
              "    60% {\n",
              "      border-color: transparent;\n",
              "      border-right-color: var(--fill-color);\n",
              "    }\n",
              "    80% {\n",
              "      border-color: transparent;\n",
              "      border-right-color: var(--fill-color);\n",
              "      border-bottom-color: var(--fill-color);\n",
              "    }\n",
              "    90% {\n",
              "      border-color: transparent;\n",
              "      border-bottom-color: var(--fill-color);\n",
              "    }\n",
              "  }\n",
              "</style>\n",
              "\n",
              "  <script>\n",
              "    async function quickchart(key) {\n",
              "      const quickchartButtonEl =\n",
              "        document.querySelector('#' + key + ' button');\n",
              "      quickchartButtonEl.disabled = true;  // To prevent multiple clicks.\n",
              "      quickchartButtonEl.classList.add('colab-df-spinner');\n",
              "      try {\n",
              "        const charts = await google.colab.kernel.invokeFunction(\n",
              "            'suggestCharts', [key], {});\n",
              "      } catch (error) {\n",
              "        console.error('Error during call to suggestCharts:', error);\n",
              "      }\n",
              "      quickchartButtonEl.classList.remove('colab-df-spinner');\n",
              "      quickchartButtonEl.classList.add('colab-df-quickchart-complete');\n",
              "    }\n",
              "    (() => {\n",
              "      let quickchartButtonEl =\n",
              "        document.querySelector('#df-4231a1e2-a66b-4548-84f4-e76afe91497c button');\n",
              "      quickchartButtonEl.style.display =\n",
              "        google.colab.kernel.accessAllowed ? 'block' : 'none';\n",
              "    })();\n",
              "  </script>\n",
              "</div>\n",
              "\n",
              "    </div>\n",
              "  </div>\n"
            ],
            "application/vnd.google.colaboratory.intrinsic+json": {
              "type": "dataframe",
              "variable_name": "df_train"
            }
          },
          "metadata": {},
          "execution_count": 17
        }
      ]
    },
    {
      "cell_type": "code",
      "source": [
        "df_train.isna().mean()"
      ],
      "metadata": {
        "colab": {
          "base_uri": "https://localhost:8080/"
        },
        "collapsed": true,
        "id": "ePrLZaouXXDl",
        "outputId": "7cf1d9f8-3288-4608-c9fa-ae2023287d0b"
      },
      "execution_count": null,
      "outputs": [
        {
          "output_type": "execute_result",
          "data": {
            "text/plain": [
              "class                   0.0\n",
              "cap-diameter            0.0\n",
              "cap-shape               0.0\n",
              "cap-surface             0.0\n",
              "cap-color               0.0\n",
              "does-bruise-or-bleed    0.0\n",
              "gill-attachment         0.0\n",
              "gill-spacing            0.0\n",
              "gill-color              0.0\n",
              "stem-height             0.0\n",
              "stem-width              0.0\n",
              "stem-root               0.0\n",
              "stem-surface            0.0\n",
              "stem-color              0.0\n",
              "veil-type               0.0\n",
              "veil-color              0.0\n",
              "has-ring                0.0\n",
              "ring-type               0.0\n",
              "spore-print-color       0.0\n",
              "habitat                 0.0\n",
              "season                  0.0\n",
              "dtype: float64"
            ],
            "text/html": [
              "<div>\n",
              "<style scoped>\n",
              "    .dataframe tbody tr th:only-of-type {\n",
              "        vertical-align: middle;\n",
              "    }\n",
              "\n",
              "    .dataframe tbody tr th {\n",
              "        vertical-align: top;\n",
              "    }\n",
              "\n",
              "    .dataframe thead th {\n",
              "        text-align: right;\n",
              "    }\n",
              "</style>\n",
              "<table border=\"1\" class=\"dataframe\">\n",
              "  <thead>\n",
              "    <tr style=\"text-align: right;\">\n",
              "      <th></th>\n",
              "      <th>0</th>\n",
              "    </tr>\n",
              "  </thead>\n",
              "  <tbody>\n",
              "    <tr>\n",
              "      <th>class</th>\n",
              "      <td>0.0</td>\n",
              "    </tr>\n",
              "    <tr>\n",
              "      <th>cap-diameter</th>\n",
              "      <td>0.0</td>\n",
              "    </tr>\n",
              "    <tr>\n",
              "      <th>cap-shape</th>\n",
              "      <td>0.0</td>\n",
              "    </tr>\n",
              "    <tr>\n",
              "      <th>cap-surface</th>\n",
              "      <td>0.0</td>\n",
              "    </tr>\n",
              "    <tr>\n",
              "      <th>cap-color</th>\n",
              "      <td>0.0</td>\n",
              "    </tr>\n",
              "    <tr>\n",
              "      <th>does-bruise-or-bleed</th>\n",
              "      <td>0.0</td>\n",
              "    </tr>\n",
              "    <tr>\n",
              "      <th>gill-attachment</th>\n",
              "      <td>0.0</td>\n",
              "    </tr>\n",
              "    <tr>\n",
              "      <th>gill-spacing</th>\n",
              "      <td>0.0</td>\n",
              "    </tr>\n",
              "    <tr>\n",
              "      <th>gill-color</th>\n",
              "      <td>0.0</td>\n",
              "    </tr>\n",
              "    <tr>\n",
              "      <th>stem-height</th>\n",
              "      <td>0.0</td>\n",
              "    </tr>\n",
              "    <tr>\n",
              "      <th>stem-width</th>\n",
              "      <td>0.0</td>\n",
              "    </tr>\n",
              "    <tr>\n",
              "      <th>stem-root</th>\n",
              "      <td>0.0</td>\n",
              "    </tr>\n",
              "    <tr>\n",
              "      <th>stem-surface</th>\n",
              "      <td>0.0</td>\n",
              "    </tr>\n",
              "    <tr>\n",
              "      <th>stem-color</th>\n",
              "      <td>0.0</td>\n",
              "    </tr>\n",
              "    <tr>\n",
              "      <th>veil-type</th>\n",
              "      <td>0.0</td>\n",
              "    </tr>\n",
              "    <tr>\n",
              "      <th>veil-color</th>\n",
              "      <td>0.0</td>\n",
              "    </tr>\n",
              "    <tr>\n",
              "      <th>has-ring</th>\n",
              "      <td>0.0</td>\n",
              "    </tr>\n",
              "    <tr>\n",
              "      <th>ring-type</th>\n",
              "      <td>0.0</td>\n",
              "    </tr>\n",
              "    <tr>\n",
              "      <th>spore-print-color</th>\n",
              "      <td>0.0</td>\n",
              "    </tr>\n",
              "    <tr>\n",
              "      <th>habitat</th>\n",
              "      <td>0.0</td>\n",
              "    </tr>\n",
              "    <tr>\n",
              "      <th>season</th>\n",
              "      <td>0.0</td>\n",
              "    </tr>\n",
              "  </tbody>\n",
              "</table>\n",
              "</div><br><label><b>dtype:</b> float64</label>"
            ]
          },
          "metadata": {},
          "execution_count": 18
        }
      ]
    },
    {
      "cell_type": "markdown",
      "source": [
        "#### 🟨 **Encoding**"
      ],
      "metadata": {
        "id": "7hLaLQcUOsyq"
      }
    },
    {
      "cell_type": "code",
      "source": [
        "df_train"
      ],
      "metadata": {
        "id": "gn7zkEa-D9gv",
        "colab": {
          "base_uri": "https://localhost:8080/",
          "height": 458
        },
        "outputId": "543afc77-a748-482a-c1ec-dd38d72f2207"
      },
      "execution_count": null,
      "outputs": [
        {
          "output_type": "execute_result",
          "data": {
            "text/plain": [
              "        class  cap-diameter cap-shape cap-surface cap-color  \\\n",
              "2256566     p          3.30         c           t         u   \n",
              "2032804     e          3.04         s           t         n   \n",
              "350767      e          6.32         x           t         n   \n",
              "402889      e          0.97         c           g         n   \n",
              "946147      e          3.54         b           g         n   \n",
              "...       ...           ...       ...         ...       ...   \n",
              "2449163     p          2.26         f           i         l   \n",
              "1514277     p          6.49         x           g         n   \n",
              "1734244     p          1.46         x           t         n   \n",
              "1229858     p          6.20         b           y         g   \n",
              "544763      p          7.08         x           t         r   \n",
              "\n",
              "        does-bruise-or-bleed gill-attachment gill-spacing gill-color  \\\n",
              "2256566                    f               a            c          n   \n",
              "2032804                    f               f            f          f   \n",
              "350767                     f               e            c          w   \n",
              "402889                     t               a            c          p   \n",
              "946147                     f               a            d          g   \n",
              "...                      ...             ...          ...        ...   \n",
              "2449163                    f               a            c          p   \n",
              "1514277                    f               e            c          w   \n",
              "1734244                    f               a            c          n   \n",
              "1229858                    f               a            c          w   \n",
              "544763                     t               d            c          n   \n",
              "\n",
              "         stem-height  ...  stem-root stem-surface stem-color veil-type  \\\n",
              "2256566         3.76  ...          b            i          u         u   \n",
              "2032804         5.79  ...          b            s          y         u   \n",
              "350767         12.86  ...          b            s          n         u   \n",
              "402889          5.14  ...          b            s          n         u   \n",
              "946147          5.89  ...          b            s          g         u   \n",
              "...              ...  ...        ...          ...        ...       ...   \n",
              "2449163         3.89  ...          b            s          w         u   \n",
              "1514277         7.59  ...          b            y          w         u   \n",
              "1734244         4.67  ...          b            s          n         u   \n",
              "1229858        11.35  ...          b            s          w         u   \n",
              "544763          5.35  ...          b            s          n         u   \n",
              "\n",
              "        veil-color has-ring ring-type spore-print-color habitat season  \n",
              "2256566          w        f         f                 k       d      a  \n",
              "2032804          w        f         f                 k       d      a  \n",
              "350767           w        f         f                 k       d      u  \n",
              "402889           w        f         f                 k       h      u  \n",
              "946147           w        f         f                 k       d      u  \n",
              "...            ...      ...       ...               ...     ...    ...  \n",
              "2449163          w        f         f                 p       g      a  \n",
              "1514277          w        t         p                 k       d      a  \n",
              "1734244          w        f         f                 k       g      a  \n",
              "1229858          w        t         z                 k       d      s  \n",
              "544763           w        f         f                 k       d      a  \n",
              "\n",
              "[2493556 rows x 21 columns]"
            ],
            "text/html": [
              "\n",
              "  <div id=\"df-a503d025-4662-4f28-b800-c23b3f9b9a65\" class=\"colab-df-container\">\n",
              "    <div>\n",
              "<style scoped>\n",
              "    .dataframe tbody tr th:only-of-type {\n",
              "        vertical-align: middle;\n",
              "    }\n",
              "\n",
              "    .dataframe tbody tr th {\n",
              "        vertical-align: top;\n",
              "    }\n",
              "\n",
              "    .dataframe thead th {\n",
              "        text-align: right;\n",
              "    }\n",
              "</style>\n",
              "<table border=\"1\" class=\"dataframe\">\n",
              "  <thead>\n",
              "    <tr style=\"text-align: right;\">\n",
              "      <th></th>\n",
              "      <th>class</th>\n",
              "      <th>cap-diameter</th>\n",
              "      <th>cap-shape</th>\n",
              "      <th>cap-surface</th>\n",
              "      <th>cap-color</th>\n",
              "      <th>does-bruise-or-bleed</th>\n",
              "      <th>gill-attachment</th>\n",
              "      <th>gill-spacing</th>\n",
              "      <th>gill-color</th>\n",
              "      <th>stem-height</th>\n",
              "      <th>...</th>\n",
              "      <th>stem-root</th>\n",
              "      <th>stem-surface</th>\n",
              "      <th>stem-color</th>\n",
              "      <th>veil-type</th>\n",
              "      <th>veil-color</th>\n",
              "      <th>has-ring</th>\n",
              "      <th>ring-type</th>\n",
              "      <th>spore-print-color</th>\n",
              "      <th>habitat</th>\n",
              "      <th>season</th>\n",
              "    </tr>\n",
              "  </thead>\n",
              "  <tbody>\n",
              "    <tr>\n",
              "      <th>2256566</th>\n",
              "      <td>p</td>\n",
              "      <td>3.30</td>\n",
              "      <td>c</td>\n",
              "      <td>t</td>\n",
              "      <td>u</td>\n",
              "      <td>f</td>\n",
              "      <td>a</td>\n",
              "      <td>c</td>\n",
              "      <td>n</td>\n",
              "      <td>3.76</td>\n",
              "      <td>...</td>\n",
              "      <td>b</td>\n",
              "      <td>i</td>\n",
              "      <td>u</td>\n",
              "      <td>u</td>\n",
              "      <td>w</td>\n",
              "      <td>f</td>\n",
              "      <td>f</td>\n",
              "      <td>k</td>\n",
              "      <td>d</td>\n",
              "      <td>a</td>\n",
              "    </tr>\n",
              "    <tr>\n",
              "      <th>2032804</th>\n",
              "      <td>e</td>\n",
              "      <td>3.04</td>\n",
              "      <td>s</td>\n",
              "      <td>t</td>\n",
              "      <td>n</td>\n",
              "      <td>f</td>\n",
              "      <td>f</td>\n",
              "      <td>f</td>\n",
              "      <td>f</td>\n",
              "      <td>5.79</td>\n",
              "      <td>...</td>\n",
              "      <td>b</td>\n",
              "      <td>s</td>\n",
              "      <td>y</td>\n",
              "      <td>u</td>\n",
              "      <td>w</td>\n",
              "      <td>f</td>\n",
              "      <td>f</td>\n",
              "      <td>k</td>\n",
              "      <td>d</td>\n",
              "      <td>a</td>\n",
              "    </tr>\n",
              "    <tr>\n",
              "      <th>350767</th>\n",
              "      <td>e</td>\n",
              "      <td>6.32</td>\n",
              "      <td>x</td>\n",
              "      <td>t</td>\n",
              "      <td>n</td>\n",
              "      <td>f</td>\n",
              "      <td>e</td>\n",
              "      <td>c</td>\n",
              "      <td>w</td>\n",
              "      <td>12.86</td>\n",
              "      <td>...</td>\n",
              "      <td>b</td>\n",
              "      <td>s</td>\n",
              "      <td>n</td>\n",
              "      <td>u</td>\n",
              "      <td>w</td>\n",
              "      <td>f</td>\n",
              "      <td>f</td>\n",
              "      <td>k</td>\n",
              "      <td>d</td>\n",
              "      <td>u</td>\n",
              "    </tr>\n",
              "    <tr>\n",
              "      <th>402889</th>\n",
              "      <td>e</td>\n",
              "      <td>0.97</td>\n",
              "      <td>c</td>\n",
              "      <td>g</td>\n",
              "      <td>n</td>\n",
              "      <td>t</td>\n",
              "      <td>a</td>\n",
              "      <td>c</td>\n",
              "      <td>p</td>\n",
              "      <td>5.14</td>\n",
              "      <td>...</td>\n",
              "      <td>b</td>\n",
              "      <td>s</td>\n",
              "      <td>n</td>\n",
              "      <td>u</td>\n",
              "      <td>w</td>\n",
              "      <td>f</td>\n",
              "      <td>f</td>\n",
              "      <td>k</td>\n",
              "      <td>h</td>\n",
              "      <td>u</td>\n",
              "    </tr>\n",
              "    <tr>\n",
              "      <th>946147</th>\n",
              "      <td>e</td>\n",
              "      <td>3.54</td>\n",
              "      <td>b</td>\n",
              "      <td>g</td>\n",
              "      <td>n</td>\n",
              "      <td>f</td>\n",
              "      <td>a</td>\n",
              "      <td>d</td>\n",
              "      <td>g</td>\n",
              "      <td>5.89</td>\n",
              "      <td>...</td>\n",
              "      <td>b</td>\n",
              "      <td>s</td>\n",
              "      <td>g</td>\n",
              "      <td>u</td>\n",
              "      <td>w</td>\n",
              "      <td>f</td>\n",
              "      <td>f</td>\n",
              "      <td>k</td>\n",
              "      <td>d</td>\n",
              "      <td>u</td>\n",
              "    </tr>\n",
              "    <tr>\n",
              "      <th>...</th>\n",
              "      <td>...</td>\n",
              "      <td>...</td>\n",
              "      <td>...</td>\n",
              "      <td>...</td>\n",
              "      <td>...</td>\n",
              "      <td>...</td>\n",
              "      <td>...</td>\n",
              "      <td>...</td>\n",
              "      <td>...</td>\n",
              "      <td>...</td>\n",
              "      <td>...</td>\n",
              "      <td>...</td>\n",
              "      <td>...</td>\n",
              "      <td>...</td>\n",
              "      <td>...</td>\n",
              "      <td>...</td>\n",
              "      <td>...</td>\n",
              "      <td>...</td>\n",
              "      <td>...</td>\n",
              "      <td>...</td>\n",
              "      <td>...</td>\n",
              "    </tr>\n",
              "    <tr>\n",
              "      <th>2449163</th>\n",
              "      <td>p</td>\n",
              "      <td>2.26</td>\n",
              "      <td>f</td>\n",
              "      <td>i</td>\n",
              "      <td>l</td>\n",
              "      <td>f</td>\n",
              "      <td>a</td>\n",
              "      <td>c</td>\n",
              "      <td>p</td>\n",
              "      <td>3.89</td>\n",
              "      <td>...</td>\n",
              "      <td>b</td>\n",
              "      <td>s</td>\n",
              "      <td>w</td>\n",
              "      <td>u</td>\n",
              "      <td>w</td>\n",
              "      <td>f</td>\n",
              "      <td>f</td>\n",
              "      <td>p</td>\n",
              "      <td>g</td>\n",
              "      <td>a</td>\n",
              "    </tr>\n",
              "    <tr>\n",
              "      <th>1514277</th>\n",
              "      <td>p</td>\n",
              "      <td>6.49</td>\n",
              "      <td>x</td>\n",
              "      <td>g</td>\n",
              "      <td>n</td>\n",
              "      <td>f</td>\n",
              "      <td>e</td>\n",
              "      <td>c</td>\n",
              "      <td>w</td>\n",
              "      <td>7.59</td>\n",
              "      <td>...</td>\n",
              "      <td>b</td>\n",
              "      <td>y</td>\n",
              "      <td>w</td>\n",
              "      <td>u</td>\n",
              "      <td>w</td>\n",
              "      <td>t</td>\n",
              "      <td>p</td>\n",
              "      <td>k</td>\n",
              "      <td>d</td>\n",
              "      <td>a</td>\n",
              "    </tr>\n",
              "    <tr>\n",
              "      <th>1734244</th>\n",
              "      <td>p</td>\n",
              "      <td>1.46</td>\n",
              "      <td>x</td>\n",
              "      <td>t</td>\n",
              "      <td>n</td>\n",
              "      <td>f</td>\n",
              "      <td>a</td>\n",
              "      <td>c</td>\n",
              "      <td>n</td>\n",
              "      <td>4.67</td>\n",
              "      <td>...</td>\n",
              "      <td>b</td>\n",
              "      <td>s</td>\n",
              "      <td>n</td>\n",
              "      <td>u</td>\n",
              "      <td>w</td>\n",
              "      <td>f</td>\n",
              "      <td>f</td>\n",
              "      <td>k</td>\n",
              "      <td>g</td>\n",
              "      <td>a</td>\n",
              "    </tr>\n",
              "    <tr>\n",
              "      <th>1229858</th>\n",
              "      <td>p</td>\n",
              "      <td>6.20</td>\n",
              "      <td>b</td>\n",
              "      <td>y</td>\n",
              "      <td>g</td>\n",
              "      <td>f</td>\n",
              "      <td>a</td>\n",
              "      <td>c</td>\n",
              "      <td>w</td>\n",
              "      <td>11.35</td>\n",
              "      <td>...</td>\n",
              "      <td>b</td>\n",
              "      <td>s</td>\n",
              "      <td>w</td>\n",
              "      <td>u</td>\n",
              "      <td>w</td>\n",
              "      <td>t</td>\n",
              "      <td>z</td>\n",
              "      <td>k</td>\n",
              "      <td>d</td>\n",
              "      <td>s</td>\n",
              "    </tr>\n",
              "    <tr>\n",
              "      <th>544763</th>\n",
              "      <td>p</td>\n",
              "      <td>7.08</td>\n",
              "      <td>x</td>\n",
              "      <td>t</td>\n",
              "      <td>r</td>\n",
              "      <td>t</td>\n",
              "      <td>d</td>\n",
              "      <td>c</td>\n",
              "      <td>n</td>\n",
              "      <td>5.35</td>\n",
              "      <td>...</td>\n",
              "      <td>b</td>\n",
              "      <td>s</td>\n",
              "      <td>n</td>\n",
              "      <td>u</td>\n",
              "      <td>w</td>\n",
              "      <td>f</td>\n",
              "      <td>f</td>\n",
              "      <td>k</td>\n",
              "      <td>d</td>\n",
              "      <td>a</td>\n",
              "    </tr>\n",
              "  </tbody>\n",
              "</table>\n",
              "<p>2493556 rows × 21 columns</p>\n",
              "</div>\n",
              "    <div class=\"colab-df-buttons\">\n",
              "\n",
              "  <div class=\"colab-df-container\">\n",
              "    <button class=\"colab-df-convert\" onclick=\"convertToInteractive('df-a503d025-4662-4f28-b800-c23b3f9b9a65')\"\n",
              "            title=\"Convert this dataframe to an interactive table.\"\n",
              "            style=\"display:none;\">\n",
              "\n",
              "  <svg xmlns=\"http://www.w3.org/2000/svg\" height=\"24px\" viewBox=\"0 -960 960 960\">\n",
              "    <path d=\"M120-120v-720h720v720H120Zm60-500h600v-160H180v160Zm220 220h160v-160H400v160Zm0 220h160v-160H400v160ZM180-400h160v-160H180v160Zm440 0h160v-160H620v160ZM180-180h160v-160H180v160Zm440 0h160v-160H620v160Z\"/>\n",
              "  </svg>\n",
              "    </button>\n",
              "\n",
              "  <style>\n",
              "    .colab-df-container {\n",
              "      display:flex;\n",
              "      gap: 12px;\n",
              "    }\n",
              "\n",
              "    .colab-df-convert {\n",
              "      background-color: #E8F0FE;\n",
              "      border: none;\n",
              "      border-radius: 50%;\n",
              "      cursor: pointer;\n",
              "      display: none;\n",
              "      fill: #1967D2;\n",
              "      height: 32px;\n",
              "      padding: 0 0 0 0;\n",
              "      width: 32px;\n",
              "    }\n",
              "\n",
              "    .colab-df-convert:hover {\n",
              "      background-color: #E2EBFA;\n",
              "      box-shadow: 0px 1px 2px rgba(60, 64, 67, 0.3), 0px 1px 3px 1px rgba(60, 64, 67, 0.15);\n",
              "      fill: #174EA6;\n",
              "    }\n",
              "\n",
              "    .colab-df-buttons div {\n",
              "      margin-bottom: 4px;\n",
              "    }\n",
              "\n",
              "    [theme=dark] .colab-df-convert {\n",
              "      background-color: #3B4455;\n",
              "      fill: #D2E3FC;\n",
              "    }\n",
              "\n",
              "    [theme=dark] .colab-df-convert:hover {\n",
              "      background-color: #434B5C;\n",
              "      box-shadow: 0px 1px 3px 1px rgba(0, 0, 0, 0.15);\n",
              "      filter: drop-shadow(0px 1px 2px rgba(0, 0, 0, 0.3));\n",
              "      fill: #FFFFFF;\n",
              "    }\n",
              "  </style>\n",
              "\n",
              "    <script>\n",
              "      const buttonEl =\n",
              "        document.querySelector('#df-a503d025-4662-4f28-b800-c23b3f9b9a65 button.colab-df-convert');\n",
              "      buttonEl.style.display =\n",
              "        google.colab.kernel.accessAllowed ? 'block' : 'none';\n",
              "\n",
              "      async function convertToInteractive(key) {\n",
              "        const element = document.querySelector('#df-a503d025-4662-4f28-b800-c23b3f9b9a65');\n",
              "        const dataTable =\n",
              "          await google.colab.kernel.invokeFunction('convertToInteractive',\n",
              "                                                    [key], {});\n",
              "        if (!dataTable) return;\n",
              "\n",
              "        const docLinkHtml = 'Like what you see? Visit the ' +\n",
              "          '<a target=\"_blank\" href=https://colab.research.google.com/notebooks/data_table.ipynb>data table notebook</a>'\n",
              "          + ' to learn more about interactive tables.';\n",
              "        element.innerHTML = '';\n",
              "        dataTable['output_type'] = 'display_data';\n",
              "        await google.colab.output.renderOutput(dataTable, element);\n",
              "        const docLink = document.createElement('div');\n",
              "        docLink.innerHTML = docLinkHtml;\n",
              "        element.appendChild(docLink);\n",
              "      }\n",
              "    </script>\n",
              "  </div>\n",
              "\n",
              "\n",
              "<div id=\"df-99aa21a3-f2c3-47c2-a78b-9ab4f374b2c0\">\n",
              "  <button class=\"colab-df-quickchart\" onclick=\"quickchart('df-99aa21a3-f2c3-47c2-a78b-9ab4f374b2c0')\"\n",
              "            title=\"Suggest charts\"\n",
              "            style=\"display:none;\">\n",
              "\n",
              "<svg xmlns=\"http://www.w3.org/2000/svg\" height=\"24px\"viewBox=\"0 0 24 24\"\n",
              "     width=\"24px\">\n",
              "    <g>\n",
              "        <path d=\"M19 3H5c-1.1 0-2 .9-2 2v14c0 1.1.9 2 2 2h14c1.1 0 2-.9 2-2V5c0-1.1-.9-2-2-2zM9 17H7v-7h2v7zm4 0h-2V7h2v10zm4 0h-2v-4h2v4z\"/>\n",
              "    </g>\n",
              "</svg>\n",
              "  </button>\n",
              "\n",
              "<style>\n",
              "  .colab-df-quickchart {\n",
              "      --bg-color: #E8F0FE;\n",
              "      --fill-color: #1967D2;\n",
              "      --hover-bg-color: #E2EBFA;\n",
              "      --hover-fill-color: #174EA6;\n",
              "      --disabled-fill-color: #AAA;\n",
              "      --disabled-bg-color: #DDD;\n",
              "  }\n",
              "\n",
              "  [theme=dark] .colab-df-quickchart {\n",
              "      --bg-color: #3B4455;\n",
              "      --fill-color: #D2E3FC;\n",
              "      --hover-bg-color: #434B5C;\n",
              "      --hover-fill-color: #FFFFFF;\n",
              "      --disabled-bg-color: #3B4455;\n",
              "      --disabled-fill-color: #666;\n",
              "  }\n",
              "\n",
              "  .colab-df-quickchart {\n",
              "    background-color: var(--bg-color);\n",
              "    border: none;\n",
              "    border-radius: 50%;\n",
              "    cursor: pointer;\n",
              "    display: none;\n",
              "    fill: var(--fill-color);\n",
              "    height: 32px;\n",
              "    padding: 0;\n",
              "    width: 32px;\n",
              "  }\n",
              "\n",
              "  .colab-df-quickchart:hover {\n",
              "    background-color: var(--hover-bg-color);\n",
              "    box-shadow: 0 1px 2px rgba(60, 64, 67, 0.3), 0 1px 3px 1px rgba(60, 64, 67, 0.15);\n",
              "    fill: var(--button-hover-fill-color);\n",
              "  }\n",
              "\n",
              "  .colab-df-quickchart-complete:disabled,\n",
              "  .colab-df-quickchart-complete:disabled:hover {\n",
              "    background-color: var(--disabled-bg-color);\n",
              "    fill: var(--disabled-fill-color);\n",
              "    box-shadow: none;\n",
              "  }\n",
              "\n",
              "  .colab-df-spinner {\n",
              "    border: 2px solid var(--fill-color);\n",
              "    border-color: transparent;\n",
              "    border-bottom-color: var(--fill-color);\n",
              "    animation:\n",
              "      spin 1s steps(1) infinite;\n",
              "  }\n",
              "\n",
              "  @keyframes spin {\n",
              "    0% {\n",
              "      border-color: transparent;\n",
              "      border-bottom-color: var(--fill-color);\n",
              "      border-left-color: var(--fill-color);\n",
              "    }\n",
              "    20% {\n",
              "      border-color: transparent;\n",
              "      border-left-color: var(--fill-color);\n",
              "      border-top-color: var(--fill-color);\n",
              "    }\n",
              "    30% {\n",
              "      border-color: transparent;\n",
              "      border-left-color: var(--fill-color);\n",
              "      border-top-color: var(--fill-color);\n",
              "      border-right-color: var(--fill-color);\n",
              "    }\n",
              "    40% {\n",
              "      border-color: transparent;\n",
              "      border-right-color: var(--fill-color);\n",
              "      border-top-color: var(--fill-color);\n",
              "    }\n",
              "    60% {\n",
              "      border-color: transparent;\n",
              "      border-right-color: var(--fill-color);\n",
              "    }\n",
              "    80% {\n",
              "      border-color: transparent;\n",
              "      border-right-color: var(--fill-color);\n",
              "      border-bottom-color: var(--fill-color);\n",
              "    }\n",
              "    90% {\n",
              "      border-color: transparent;\n",
              "      border-bottom-color: var(--fill-color);\n",
              "    }\n",
              "  }\n",
              "</style>\n",
              "\n",
              "  <script>\n",
              "    async function quickchart(key) {\n",
              "      const quickchartButtonEl =\n",
              "        document.querySelector('#' + key + ' button');\n",
              "      quickchartButtonEl.disabled = true;  // To prevent multiple clicks.\n",
              "      quickchartButtonEl.classList.add('colab-df-spinner');\n",
              "      try {\n",
              "        const charts = await google.colab.kernel.invokeFunction(\n",
              "            'suggestCharts', [key], {});\n",
              "      } catch (error) {\n",
              "        console.error('Error during call to suggestCharts:', error);\n",
              "      }\n",
              "      quickchartButtonEl.classList.remove('colab-df-spinner');\n",
              "      quickchartButtonEl.classList.add('colab-df-quickchart-complete');\n",
              "    }\n",
              "    (() => {\n",
              "      let quickchartButtonEl =\n",
              "        document.querySelector('#df-99aa21a3-f2c3-47c2-a78b-9ab4f374b2c0 button');\n",
              "      quickchartButtonEl.style.display =\n",
              "        google.colab.kernel.accessAllowed ? 'block' : 'none';\n",
              "    })();\n",
              "  </script>\n",
              "</div>\n",
              "\n",
              "  <div id=\"id_3ed7e6b0-90a1-4f88-88c4-5735907e7550\">\n",
              "    <style>\n",
              "      .colab-df-generate {\n",
              "        background-color: #E8F0FE;\n",
              "        border: none;\n",
              "        border-radius: 50%;\n",
              "        cursor: pointer;\n",
              "        display: none;\n",
              "        fill: #1967D2;\n",
              "        height: 32px;\n",
              "        padding: 0 0 0 0;\n",
              "        width: 32px;\n",
              "      }\n",
              "\n",
              "      .colab-df-generate:hover {\n",
              "        background-color: #E2EBFA;\n",
              "        box-shadow: 0px 1px 2px rgba(60, 64, 67, 0.3), 0px 1px 3px 1px rgba(60, 64, 67, 0.15);\n",
              "        fill: #174EA6;\n",
              "      }\n",
              "\n",
              "      [theme=dark] .colab-df-generate {\n",
              "        background-color: #3B4455;\n",
              "        fill: #D2E3FC;\n",
              "      }\n",
              "\n",
              "      [theme=dark] .colab-df-generate:hover {\n",
              "        background-color: #434B5C;\n",
              "        box-shadow: 0px 1px 3px 1px rgba(0, 0, 0, 0.15);\n",
              "        filter: drop-shadow(0px 1px 2px rgba(0, 0, 0, 0.3));\n",
              "        fill: #FFFFFF;\n",
              "      }\n",
              "    </style>\n",
              "    <button class=\"colab-df-generate\" onclick=\"generateWithVariable('df_train')\"\n",
              "            title=\"Generate code using this dataframe.\"\n",
              "            style=\"display:none;\">\n",
              "\n",
              "  <svg xmlns=\"http://www.w3.org/2000/svg\" height=\"24px\"viewBox=\"0 0 24 24\"\n",
              "       width=\"24px\">\n",
              "    <path d=\"M7,19H8.4L18.45,9,17,7.55,7,17.6ZM5,21V16.75L18.45,3.32a2,2,0,0,1,2.83,0l1.4,1.43a1.91,1.91,0,0,1,.58,1.4,1.91,1.91,0,0,1-.58,1.4L9.25,21ZM18.45,9,17,7.55Zm-12,3A5.31,5.31,0,0,0,4.9,8.1,5.31,5.31,0,0,0,1,6.5,5.31,5.31,0,0,0,4.9,4.9,5.31,5.31,0,0,0,6.5,1,5.31,5.31,0,0,0,8.1,4.9,5.31,5.31,0,0,0,12,6.5,5.46,5.46,0,0,0,6.5,12Z\"/>\n",
              "  </svg>\n",
              "    </button>\n",
              "    <script>\n",
              "      (() => {\n",
              "      const buttonEl =\n",
              "        document.querySelector('#id_3ed7e6b0-90a1-4f88-88c4-5735907e7550 button.colab-df-generate');\n",
              "      buttonEl.style.display =\n",
              "        google.colab.kernel.accessAllowed ? 'block' : 'none';\n",
              "\n",
              "      buttonEl.onclick = () => {\n",
              "        google.colab.notebook.generateWithVariable('df_train');\n",
              "      }\n",
              "      })();\n",
              "    </script>\n",
              "  </div>\n",
              "\n",
              "    </div>\n",
              "  </div>\n"
            ],
            "application/vnd.google.colaboratory.intrinsic+json": {
              "type": "dataframe",
              "variable_name": "df_train"
            }
          },
          "metadata": {},
          "execution_count": 35
        }
      ]
    },
    {
      "cell_type": "code",
      "source": [
        "ordinal_encoder = OrdinalEncoder(handle_unknown='use_encoded_value', unknown_value=-1)\n",
        "\n",
        "cat_cols_train = df_train.select_dtypes(include=['object']).columns\n",
        "print(cat_cols_train)\n",
        "\n",
        "df_train[cat_cols_train] = ordinal_encoder.fit_transform(df_train[cat_cols_train].astype(str))\n",
        "df_valid[cat_cols_train] = ordinal_encoder.transform(df_valid[cat_cols_train].astype(str))\n",
        "\n",
        "df_train.head()"
      ],
      "metadata": {
        "colab": {
          "base_uri": "https://localhost:8080/"
        },
        "id": "SexXIoO_YDDM",
        "outputId": "09b53b74-9ecc-479d-e7ec-6757757448d4"
      },
      "execution_count": null,
      "outputs": [
        {
          "output_type": "stream",
          "name": "stdout",
          "text": [
            "Index(['class', 'cap-shape', 'cap-surface', 'cap-color',\n",
            "       'does-bruise-or-bleed', 'gill-attachment', 'gill-spacing', 'gill-color',\n",
            "       'stem-root', 'stem-surface', 'stem-color', 'veil-type', 'veil-color',\n",
            "       'has-ring', 'ring-type', 'spore-print-color', 'habitat', 'season'],\n",
            "      dtype='object')\n"
          ]
        },
        {
          "output_type": "execute_result",
          "data": {
            "text/plain": [
              "         class  cap-diameter  cap-shape  cap-surface  cap-color  \\\n",
              "2256566    1.0          3.30       39.0         66.0       61.0   \n",
              "2032804    0.0          3.04       56.0         66.0       52.0   \n",
              "350767     0.0          6.32       60.0         66.0       52.0   \n",
              "402889     0.0          0.97       39.0         46.0       52.0   \n",
              "946147     0.0          3.54       37.0         46.0       52.0   \n",
              "\n",
              "         does-bruise-or-bleed  gill-attachment  gill-spacing  gill-color  \\\n",
              "2256566                   6.0             37.0          23.0        40.0   \n",
              "2032804                   6.0             44.0          28.0        30.0   \n",
              "350767                    6.0             43.0          23.0        51.0   \n",
              "402889                   18.0             37.0          23.0        42.0   \n",
              "946147                    6.0             37.0          25.0        31.0   \n",
              "\n",
              "         stem-height  ...  stem-root  stem-surface  stem-color  veil-type  \\\n",
              "2256566         3.76  ...       11.0          40.0        47.0       19.0   \n",
              "2032804         5.79  ...       11.0          48.0        50.0       19.0   \n",
              "350767         12.86  ...       11.0          48.0        39.0       19.0   \n",
              "402889          5.14  ...       11.0          48.0        39.0       19.0   \n",
              "946147          5.89  ...       11.0          48.0        31.0       19.0   \n",
              "\n",
              "         veil-color  has-ring  ring-type  spore-print-color  habitat  season  \n",
              "2256566        21.0       3.0       14.0               14.0     21.0     0.0  \n",
              "2032804        21.0       3.0       14.0               14.0     21.0     0.0  \n",
              "350767         21.0       3.0       14.0               14.0     21.0     2.0  \n",
              "402889         21.0       3.0       14.0               14.0     26.0     2.0  \n",
              "946147         21.0       3.0       14.0               14.0     21.0     2.0  \n",
              "\n",
              "[5 rows x 21 columns]"
            ],
            "text/html": [
              "\n",
              "  <div id=\"df-468c2f9b-1d2d-4838-a3be-e60af2573ca9\" class=\"colab-df-container\">\n",
              "    <div>\n",
              "<style scoped>\n",
              "    .dataframe tbody tr th:only-of-type {\n",
              "        vertical-align: middle;\n",
              "    }\n",
              "\n",
              "    .dataframe tbody tr th {\n",
              "        vertical-align: top;\n",
              "    }\n",
              "\n",
              "    .dataframe thead th {\n",
              "        text-align: right;\n",
              "    }\n",
              "</style>\n",
              "<table border=\"1\" class=\"dataframe\">\n",
              "  <thead>\n",
              "    <tr style=\"text-align: right;\">\n",
              "      <th></th>\n",
              "      <th>class</th>\n",
              "      <th>cap-diameter</th>\n",
              "      <th>cap-shape</th>\n",
              "      <th>cap-surface</th>\n",
              "      <th>cap-color</th>\n",
              "      <th>does-bruise-or-bleed</th>\n",
              "      <th>gill-attachment</th>\n",
              "      <th>gill-spacing</th>\n",
              "      <th>gill-color</th>\n",
              "      <th>stem-height</th>\n",
              "      <th>...</th>\n",
              "      <th>stem-root</th>\n",
              "      <th>stem-surface</th>\n",
              "      <th>stem-color</th>\n",
              "      <th>veil-type</th>\n",
              "      <th>veil-color</th>\n",
              "      <th>has-ring</th>\n",
              "      <th>ring-type</th>\n",
              "      <th>spore-print-color</th>\n",
              "      <th>habitat</th>\n",
              "      <th>season</th>\n",
              "    </tr>\n",
              "  </thead>\n",
              "  <tbody>\n",
              "    <tr>\n",
              "      <th>2256566</th>\n",
              "      <td>1.0</td>\n",
              "      <td>3.30</td>\n",
              "      <td>39.0</td>\n",
              "      <td>66.0</td>\n",
              "      <td>61.0</td>\n",
              "      <td>6.0</td>\n",
              "      <td>37.0</td>\n",
              "      <td>23.0</td>\n",
              "      <td>40.0</td>\n",
              "      <td>3.76</td>\n",
              "      <td>...</td>\n",
              "      <td>11.0</td>\n",
              "      <td>40.0</td>\n",
              "      <td>47.0</td>\n",
              "      <td>19.0</td>\n",
              "      <td>21.0</td>\n",
              "      <td>3.0</td>\n",
              "      <td>14.0</td>\n",
              "      <td>14.0</td>\n",
              "      <td>21.0</td>\n",
              "      <td>0.0</td>\n",
              "    </tr>\n",
              "    <tr>\n",
              "      <th>2032804</th>\n",
              "      <td>0.0</td>\n",
              "      <td>3.04</td>\n",
              "      <td>56.0</td>\n",
              "      <td>66.0</td>\n",
              "      <td>52.0</td>\n",
              "      <td>6.0</td>\n",
              "      <td>44.0</td>\n",
              "      <td>28.0</td>\n",
              "      <td>30.0</td>\n",
              "      <td>5.79</td>\n",
              "      <td>...</td>\n",
              "      <td>11.0</td>\n",
              "      <td>48.0</td>\n",
              "      <td>50.0</td>\n",
              "      <td>19.0</td>\n",
              "      <td>21.0</td>\n",
              "      <td>3.0</td>\n",
              "      <td>14.0</td>\n",
              "      <td>14.0</td>\n",
              "      <td>21.0</td>\n",
              "      <td>0.0</td>\n",
              "    </tr>\n",
              "    <tr>\n",
              "      <th>350767</th>\n",
              "      <td>0.0</td>\n",
              "      <td>6.32</td>\n",
              "      <td>60.0</td>\n",
              "      <td>66.0</td>\n",
              "      <td>52.0</td>\n",
              "      <td>6.0</td>\n",
              "      <td>43.0</td>\n",
              "      <td>23.0</td>\n",
              "      <td>51.0</td>\n",
              "      <td>12.86</td>\n",
              "      <td>...</td>\n",
              "      <td>11.0</td>\n",
              "      <td>48.0</td>\n",
              "      <td>39.0</td>\n",
              "      <td>19.0</td>\n",
              "      <td>21.0</td>\n",
              "      <td>3.0</td>\n",
              "      <td>14.0</td>\n",
              "      <td>14.0</td>\n",
              "      <td>21.0</td>\n",
              "      <td>2.0</td>\n",
              "    </tr>\n",
              "    <tr>\n",
              "      <th>402889</th>\n",
              "      <td>0.0</td>\n",
              "      <td>0.97</td>\n",
              "      <td>39.0</td>\n",
              "      <td>46.0</td>\n",
              "      <td>52.0</td>\n",
              "      <td>18.0</td>\n",
              "      <td>37.0</td>\n",
              "      <td>23.0</td>\n",
              "      <td>42.0</td>\n",
              "      <td>5.14</td>\n",
              "      <td>...</td>\n",
              "      <td>11.0</td>\n",
              "      <td>48.0</td>\n",
              "      <td>39.0</td>\n",
              "      <td>19.0</td>\n",
              "      <td>21.0</td>\n",
              "      <td>3.0</td>\n",
              "      <td>14.0</td>\n",
              "      <td>14.0</td>\n",
              "      <td>26.0</td>\n",
              "      <td>2.0</td>\n",
              "    </tr>\n",
              "    <tr>\n",
              "      <th>946147</th>\n",
              "      <td>0.0</td>\n",
              "      <td>3.54</td>\n",
              "      <td>37.0</td>\n",
              "      <td>46.0</td>\n",
              "      <td>52.0</td>\n",
              "      <td>6.0</td>\n",
              "      <td>37.0</td>\n",
              "      <td>25.0</td>\n",
              "      <td>31.0</td>\n",
              "      <td>5.89</td>\n",
              "      <td>...</td>\n",
              "      <td>11.0</td>\n",
              "      <td>48.0</td>\n",
              "      <td>31.0</td>\n",
              "      <td>19.0</td>\n",
              "      <td>21.0</td>\n",
              "      <td>3.0</td>\n",
              "      <td>14.0</td>\n",
              "      <td>14.0</td>\n",
              "      <td>21.0</td>\n",
              "      <td>2.0</td>\n",
              "    </tr>\n",
              "  </tbody>\n",
              "</table>\n",
              "<p>5 rows × 21 columns</p>\n",
              "</div>\n",
              "    <div class=\"colab-df-buttons\">\n",
              "\n",
              "  <div class=\"colab-df-container\">\n",
              "    <button class=\"colab-df-convert\" onclick=\"convertToInteractive('df-468c2f9b-1d2d-4838-a3be-e60af2573ca9')\"\n",
              "            title=\"Convert this dataframe to an interactive table.\"\n",
              "            style=\"display:none;\">\n",
              "\n",
              "  <svg xmlns=\"http://www.w3.org/2000/svg\" height=\"24px\" viewBox=\"0 -960 960 960\">\n",
              "    <path d=\"M120-120v-720h720v720H120Zm60-500h600v-160H180v160Zm220 220h160v-160H400v160Zm0 220h160v-160H400v160ZM180-400h160v-160H180v160Zm440 0h160v-160H620v160ZM180-180h160v-160H180v160Zm440 0h160v-160H620v160Z\"/>\n",
              "  </svg>\n",
              "    </button>\n",
              "\n",
              "  <style>\n",
              "    .colab-df-container {\n",
              "      display:flex;\n",
              "      gap: 12px;\n",
              "    }\n",
              "\n",
              "    .colab-df-convert {\n",
              "      background-color: #E8F0FE;\n",
              "      border: none;\n",
              "      border-radius: 50%;\n",
              "      cursor: pointer;\n",
              "      display: none;\n",
              "      fill: #1967D2;\n",
              "      height: 32px;\n",
              "      padding: 0 0 0 0;\n",
              "      width: 32px;\n",
              "    }\n",
              "\n",
              "    .colab-df-convert:hover {\n",
              "      background-color: #E2EBFA;\n",
              "      box-shadow: 0px 1px 2px rgba(60, 64, 67, 0.3), 0px 1px 3px 1px rgba(60, 64, 67, 0.15);\n",
              "      fill: #174EA6;\n",
              "    }\n",
              "\n",
              "    .colab-df-buttons div {\n",
              "      margin-bottom: 4px;\n",
              "    }\n",
              "\n",
              "    [theme=dark] .colab-df-convert {\n",
              "      background-color: #3B4455;\n",
              "      fill: #D2E3FC;\n",
              "    }\n",
              "\n",
              "    [theme=dark] .colab-df-convert:hover {\n",
              "      background-color: #434B5C;\n",
              "      box-shadow: 0px 1px 3px 1px rgba(0, 0, 0, 0.15);\n",
              "      filter: drop-shadow(0px 1px 2px rgba(0, 0, 0, 0.3));\n",
              "      fill: #FFFFFF;\n",
              "    }\n",
              "  </style>\n",
              "\n",
              "    <script>\n",
              "      const buttonEl =\n",
              "        document.querySelector('#df-468c2f9b-1d2d-4838-a3be-e60af2573ca9 button.colab-df-convert');\n",
              "      buttonEl.style.display =\n",
              "        google.colab.kernel.accessAllowed ? 'block' : 'none';\n",
              "\n",
              "      async function convertToInteractive(key) {\n",
              "        const element = document.querySelector('#df-468c2f9b-1d2d-4838-a3be-e60af2573ca9');\n",
              "        const dataTable =\n",
              "          await google.colab.kernel.invokeFunction('convertToInteractive',\n",
              "                                                    [key], {});\n",
              "        if (!dataTable) return;\n",
              "\n",
              "        const docLinkHtml = 'Like what you see? Visit the ' +\n",
              "          '<a target=\"_blank\" href=https://colab.research.google.com/notebooks/data_table.ipynb>data table notebook</a>'\n",
              "          + ' to learn more about interactive tables.';\n",
              "        element.innerHTML = '';\n",
              "        dataTable['output_type'] = 'display_data';\n",
              "        await google.colab.output.renderOutput(dataTable, element);\n",
              "        const docLink = document.createElement('div');\n",
              "        docLink.innerHTML = docLinkHtml;\n",
              "        element.appendChild(docLink);\n",
              "      }\n",
              "    </script>\n",
              "  </div>\n",
              "\n",
              "\n",
              "<div id=\"df-ff94f34d-0325-409e-8378-b502fed1e218\">\n",
              "  <button class=\"colab-df-quickchart\" onclick=\"quickchart('df-ff94f34d-0325-409e-8378-b502fed1e218')\"\n",
              "            title=\"Suggest charts\"\n",
              "            style=\"display:none;\">\n",
              "\n",
              "<svg xmlns=\"http://www.w3.org/2000/svg\" height=\"24px\"viewBox=\"0 0 24 24\"\n",
              "     width=\"24px\">\n",
              "    <g>\n",
              "        <path d=\"M19 3H5c-1.1 0-2 .9-2 2v14c0 1.1.9 2 2 2h14c1.1 0 2-.9 2-2V5c0-1.1-.9-2-2-2zM9 17H7v-7h2v7zm4 0h-2V7h2v10zm4 0h-2v-4h2v4z\"/>\n",
              "    </g>\n",
              "</svg>\n",
              "  </button>\n",
              "\n",
              "<style>\n",
              "  .colab-df-quickchart {\n",
              "      --bg-color: #E8F0FE;\n",
              "      --fill-color: #1967D2;\n",
              "      --hover-bg-color: #E2EBFA;\n",
              "      --hover-fill-color: #174EA6;\n",
              "      --disabled-fill-color: #AAA;\n",
              "      --disabled-bg-color: #DDD;\n",
              "  }\n",
              "\n",
              "  [theme=dark] .colab-df-quickchart {\n",
              "      --bg-color: #3B4455;\n",
              "      --fill-color: #D2E3FC;\n",
              "      --hover-bg-color: #434B5C;\n",
              "      --hover-fill-color: #FFFFFF;\n",
              "      --disabled-bg-color: #3B4455;\n",
              "      --disabled-fill-color: #666;\n",
              "  }\n",
              "\n",
              "  .colab-df-quickchart {\n",
              "    background-color: var(--bg-color);\n",
              "    border: none;\n",
              "    border-radius: 50%;\n",
              "    cursor: pointer;\n",
              "    display: none;\n",
              "    fill: var(--fill-color);\n",
              "    height: 32px;\n",
              "    padding: 0;\n",
              "    width: 32px;\n",
              "  }\n",
              "\n",
              "  .colab-df-quickchart:hover {\n",
              "    background-color: var(--hover-bg-color);\n",
              "    box-shadow: 0 1px 2px rgba(60, 64, 67, 0.3), 0 1px 3px 1px rgba(60, 64, 67, 0.15);\n",
              "    fill: var(--button-hover-fill-color);\n",
              "  }\n",
              "\n",
              "  .colab-df-quickchart-complete:disabled,\n",
              "  .colab-df-quickchart-complete:disabled:hover {\n",
              "    background-color: var(--disabled-bg-color);\n",
              "    fill: var(--disabled-fill-color);\n",
              "    box-shadow: none;\n",
              "  }\n",
              "\n",
              "  .colab-df-spinner {\n",
              "    border: 2px solid var(--fill-color);\n",
              "    border-color: transparent;\n",
              "    border-bottom-color: var(--fill-color);\n",
              "    animation:\n",
              "      spin 1s steps(1) infinite;\n",
              "  }\n",
              "\n",
              "  @keyframes spin {\n",
              "    0% {\n",
              "      border-color: transparent;\n",
              "      border-bottom-color: var(--fill-color);\n",
              "      border-left-color: var(--fill-color);\n",
              "    }\n",
              "    20% {\n",
              "      border-color: transparent;\n",
              "      border-left-color: var(--fill-color);\n",
              "      border-top-color: var(--fill-color);\n",
              "    }\n",
              "    30% {\n",
              "      border-color: transparent;\n",
              "      border-left-color: var(--fill-color);\n",
              "      border-top-color: var(--fill-color);\n",
              "      border-right-color: var(--fill-color);\n",
              "    }\n",
              "    40% {\n",
              "      border-color: transparent;\n",
              "      border-right-color: var(--fill-color);\n",
              "      border-top-color: var(--fill-color);\n",
              "    }\n",
              "    60% {\n",
              "      border-color: transparent;\n",
              "      border-right-color: var(--fill-color);\n",
              "    }\n",
              "    80% {\n",
              "      border-color: transparent;\n",
              "      border-right-color: var(--fill-color);\n",
              "      border-bottom-color: var(--fill-color);\n",
              "    }\n",
              "    90% {\n",
              "      border-color: transparent;\n",
              "      border-bottom-color: var(--fill-color);\n",
              "    }\n",
              "  }\n",
              "</style>\n",
              "\n",
              "  <script>\n",
              "    async function quickchart(key) {\n",
              "      const quickchartButtonEl =\n",
              "        document.querySelector('#' + key + ' button');\n",
              "      quickchartButtonEl.disabled = true;  // To prevent multiple clicks.\n",
              "      quickchartButtonEl.classList.add('colab-df-spinner');\n",
              "      try {\n",
              "        const charts = await google.colab.kernel.invokeFunction(\n",
              "            'suggestCharts', [key], {});\n",
              "      } catch (error) {\n",
              "        console.error('Error during call to suggestCharts:', error);\n",
              "      }\n",
              "      quickchartButtonEl.classList.remove('colab-df-spinner');\n",
              "      quickchartButtonEl.classList.add('colab-df-quickchart-complete');\n",
              "    }\n",
              "    (() => {\n",
              "      let quickchartButtonEl =\n",
              "        document.querySelector('#df-ff94f34d-0325-409e-8378-b502fed1e218 button');\n",
              "      quickchartButtonEl.style.display =\n",
              "        google.colab.kernel.accessAllowed ? 'block' : 'none';\n",
              "    })();\n",
              "  </script>\n",
              "</div>\n",
              "\n",
              "    </div>\n",
              "  </div>\n"
            ],
            "application/vnd.google.colaboratory.intrinsic+json": {
              "type": "dataframe",
              "variable_name": "df_train"
            }
          },
          "metadata": {},
          "execution_count": 19
        }
      ]
    },
    {
      "cell_type": "code",
      "source": [
        "df_train['cap-surface'].value_counts()"
      ],
      "metadata": {
        "colab": {
          "base_uri": "https://localhost:8080/",
          "height": 489
        },
        "id": "usqidpONZHgf",
        "outputId": "93bdfeff-2aad-4e2b-b9fb-fded7ce53770"
      },
      "execution_count": null,
      "outputs": [
        {
          "output_type": "execute_result",
          "data": {
            "text/plain": [
              "cap-surface\n",
              "66.0    905331\n",
              "62.0    308250\n",
              "71.0    262150\n",
              "47.0    227390\n",
              "46.0    210792\n",
              "         ...  \n",
              "5.0          1\n",
              "18.0         1\n",
              "19.0         1\n",
              "52.0         1\n",
              "41.0         1\n",
              "Name: count, Length: 73, dtype: int64"
            ],
            "text/html": [
              "<div>\n",
              "<style scoped>\n",
              "    .dataframe tbody tr th:only-of-type {\n",
              "        vertical-align: middle;\n",
              "    }\n",
              "\n",
              "    .dataframe tbody tr th {\n",
              "        vertical-align: top;\n",
              "    }\n",
              "\n",
              "    .dataframe thead th {\n",
              "        text-align: right;\n",
              "    }\n",
              "</style>\n",
              "<table border=\"1\" class=\"dataframe\">\n",
              "  <thead>\n",
              "    <tr style=\"text-align: right;\">\n",
              "      <th></th>\n",
              "      <th>count</th>\n",
              "    </tr>\n",
              "    <tr>\n",
              "      <th>cap-surface</th>\n",
              "      <th></th>\n",
              "    </tr>\n",
              "  </thead>\n",
              "  <tbody>\n",
              "    <tr>\n",
              "      <th>66.0</th>\n",
              "      <td>905331</td>\n",
              "    </tr>\n",
              "    <tr>\n",
              "      <th>62.0</th>\n",
              "      <td>308250</td>\n",
              "    </tr>\n",
              "    <tr>\n",
              "      <th>71.0</th>\n",
              "      <td>262150</td>\n",
              "    </tr>\n",
              "    <tr>\n",
              "      <th>47.0</th>\n",
              "      <td>227390</td>\n",
              "    </tr>\n",
              "    <tr>\n",
              "      <th>46.0</th>\n",
              "      <td>210792</td>\n",
              "    </tr>\n",
              "    <tr>\n",
              "      <th>...</th>\n",
              "      <td>...</td>\n",
              "    </tr>\n",
              "    <tr>\n",
              "      <th>5.0</th>\n",
              "      <td>1</td>\n",
              "    </tr>\n",
              "    <tr>\n",
              "      <th>18.0</th>\n",
              "      <td>1</td>\n",
              "    </tr>\n",
              "    <tr>\n",
              "      <th>19.0</th>\n",
              "      <td>1</td>\n",
              "    </tr>\n",
              "    <tr>\n",
              "      <th>52.0</th>\n",
              "      <td>1</td>\n",
              "    </tr>\n",
              "    <tr>\n",
              "      <th>41.0</th>\n",
              "      <td>1</td>\n",
              "    </tr>\n",
              "  </tbody>\n",
              "</table>\n",
              "<p>73 rows × 1 columns</p>\n",
              "</div><br><label><b>dtype:</b> int64</label>"
            ]
          },
          "metadata": {},
          "execution_count": 39
        }
      ]
    },
    {
      "cell_type": "markdown",
      "source": [
        "#### 🟨 **Normalization ❓**"
      ],
      "metadata": {
        "id": "FedcgT-3ZiRN"
      }
    },
    {
      "cell_type": "code",
      "source": [],
      "metadata": {
        "id": "KrX0zzfofD7V"
      },
      "execution_count": null,
      "outputs": []
    },
    {
      "cell_type": "markdown",
      "source": [
        "#### 🟨 **Balancing data ❓**"
      ],
      "metadata": {
        "id": "wg4FwAl0dYID"
      }
    },
    {
      "cell_type": "code",
      "source": [
        "df_train['class'].value_counts()"
      ],
      "metadata": {
        "colab": {
          "base_uri": "https://localhost:8080/",
          "height": 178
        },
        "id": "irM4eEQi6EV0",
        "outputId": "7c27119d-47a4-4701-93f1-07c3664b2beb"
      },
      "execution_count": null,
      "outputs": [
        {
          "output_type": "execute_result",
          "data": {
            "text/plain": [
              "class\n",
              "1.0    1364317\n",
              "0.0    1129239\n",
              "Name: count, dtype: int64"
            ],
            "text/html": [
              "<div>\n",
              "<style scoped>\n",
              "    .dataframe tbody tr th:only-of-type {\n",
              "        vertical-align: middle;\n",
              "    }\n",
              "\n",
              "    .dataframe tbody tr th {\n",
              "        vertical-align: top;\n",
              "    }\n",
              "\n",
              "    .dataframe thead th {\n",
              "        text-align: right;\n",
              "    }\n",
              "</style>\n",
              "<table border=\"1\" class=\"dataframe\">\n",
              "  <thead>\n",
              "    <tr style=\"text-align: right;\">\n",
              "      <th></th>\n",
              "      <th>count</th>\n",
              "    </tr>\n",
              "    <tr>\n",
              "      <th>class</th>\n",
              "      <th></th>\n",
              "    </tr>\n",
              "  </thead>\n",
              "  <tbody>\n",
              "    <tr>\n",
              "      <th>1.0</th>\n",
              "      <td>1364317</td>\n",
              "    </tr>\n",
              "    <tr>\n",
              "      <th>0.0</th>\n",
              "      <td>1129239</td>\n",
              "    </tr>\n",
              "  </tbody>\n",
              "</table>\n",
              "</div><br><label><b>dtype:</b> int64</label>"
            ]
          },
          "metadata": {},
          "execution_count": 40
        }
      ]
    },
    {
      "cell_type": "markdown",
      "source": [
        "### 🟪 **Increasing the output font size in Colab cells**"
      ],
      "metadata": {
        "id": "Yr3bfpgyoD_c"
      }
    },
    {
      "cell_type": "code",
      "source": [
        "from IPython.display import HTML\n",
        "shell = get_ipython()\n",
        "\n",
        "def adjust_font_size():\n",
        "  display(HTML('''<style>\n",
        "    body {\n",
        "      font-size: 30px;\n",
        "    }\n",
        "  '''))\n",
        "\n",
        "if adjust_font_size not in shell.events.callbacks['pre_execute']:\n",
        "  shell.events.register('pre_execute', adjust_font_size)"
      ],
      "metadata": {
        "id": "V5KCx1Cqmiya"
      },
      "execution_count": null,
      "outputs": []
    },
    {
      "cell_type": "code",
      "source": [
        "a = 3\n",
        "a"
      ],
      "metadata": {
        "id": "reSgRYEYqGHZ",
        "colab": {
          "base_uri": "https://localhost:8080/"
        },
        "outputId": "09a6263b-85ef-414b-b6d4-6c33bdd90047"
      },
      "execution_count": null,
      "outputs": [
        {
          "output_type": "display_data",
          "data": {
            "text/plain": [
              "<IPython.core.display.HTML object>"
            ],
            "text/html": [
              "<style>\n",
              "    body {\n",
              "      font-size: 30px;\n",
              "    }\n",
              "  "
            ]
          },
          "metadata": {}
        },
        {
          "output_type": "execute_result",
          "data": {
            "text/plain": [
              "3"
            ]
          },
          "metadata": {},
          "execution_count": 21
        }
      ]
    },
    {
      "cell_type": "markdown",
      "source": [
        "### 🟧 **Hitorch! 🤪**"
      ],
      "metadata": {
        "id": "bXh5IDxEAsE2"
      }
    },
    {
      "cell_type": "code",
      "source": [
        "X_train = df_train.drop(['class'], axis=1).values\n",
        "y_train = df_train['class'].values.reshape(-1, 1)\n",
        "\n",
        "X_valid = df_valid.drop(['class'], axis=1).values\n",
        "y_valid = df_valid['class'].values.reshape(-1, 1)\n",
        "\n",
        "X_train.shape, y_train.shape, X_valid.shape, y_valid.shape"
      ],
      "metadata": {
        "colab": {
          "base_uri": "https://localhost:8080/"
        },
        "id": "SVTHEQepGUvD",
        "outputId": "92f9e5dd-3abd-4ff1-8579-cc704e2285e4"
      },
      "execution_count": null,
      "outputs": [
        {
          "output_type": "display_data",
          "data": {
            "text/plain": [
              "<IPython.core.display.HTML object>"
            ],
            "text/html": [
              "<style>\n",
              "    body {\n",
              "      font-size: 30px;\n",
              "    }\n",
              "  "
            ]
          },
          "metadata": {}
        },
        {
          "output_type": "execute_result",
          "data": {
            "text/plain": [
              "((2493556, 20), (2493556, 1), (623389, 20), (623389, 1))"
            ]
          },
          "metadata": {},
          "execution_count": 22
        }
      ]
    },
    {
      "cell_type": "code",
      "source": [
        "X_train = torch.tensor(X_train, dtype=torch.float32)\n",
        "y_train = torch.tensor(y_train, dtype=torch.float32)\n",
        "\n",
        "X_valid = torch.tensor(X_valid, dtype=torch.float32)\n",
        "y_valid = torch.tensor(y_valid, dtype=torch.float32)\n",
        "\n",
        "X_train.shape, y_train.shape, X_valid.shape, y_valid.shape"
      ],
      "metadata": {
        "colab": {
          "base_uri": "https://localhost:8080/"
        },
        "id": "W4ZNEsoArPkI",
        "outputId": "781d2c33-c0d6-4c22-f283-c4c640290cdc"
      },
      "execution_count": null,
      "outputs": [
        {
          "output_type": "display_data",
          "data": {
            "text/plain": [
              "<IPython.core.display.HTML object>"
            ],
            "text/html": [
              "<style>\n",
              "    body {\n",
              "      font-size: 30px;\n",
              "    }\n",
              "  "
            ]
          },
          "metadata": {}
        },
        {
          "output_type": "execute_result",
          "data": {
            "text/plain": [
              "(torch.Size([2493556, 20]),\n",
              " torch.Size([2493556, 1]),\n",
              " torch.Size([623389, 20]),\n",
              " torch.Size([623389, 1]))"
            ]
          },
          "metadata": {},
          "execution_count": 23
        }
      ]
    },
    {
      "cell_type": "code",
      "source": [
        "train_set = TensorDataset(X_train, y_train)\n",
        "valid_set = TensorDataset(X_valid, y_valid)"
      ],
      "metadata": {
        "id": "6-ObtWMFsE6q",
        "colab": {
          "base_uri": "https://localhost:8080/"
        },
        "outputId": "423fae10-27a7-4c18-92aa-5244cbbf80ca"
      },
      "execution_count": null,
      "outputs": [
        {
          "output_type": "display_data",
          "data": {
            "text/plain": [
              "<IPython.core.display.HTML object>"
            ],
            "text/html": [
              "<style>\n",
              "    body {\n",
              "      font-size: 30px;\n",
              "    }\n",
              "  "
            ]
          },
          "metadata": {}
        }
      ]
    },
    {
      "cell_type": "code",
      "source": [
        "train_loader = DataLoader(train_set, batch_size=256, shuffle=True)\n",
        "valid_loader = DataLoader(valid_set, batch_size=256)"
      ],
      "metadata": {
        "id": "LenzGWZWsOPi",
        "colab": {
          "base_uri": "https://localhost:8080/"
        },
        "outputId": "ef8f44ec-7e6d-4404-8dc5-87885dbbe84d"
      },
      "execution_count": null,
      "outputs": [
        {
          "output_type": "display_data",
          "data": {
            "text/plain": [
              "<IPython.core.display.HTML object>"
            ],
            "text/html": [
              "<style>\n",
              "    body {\n",
              "      font-size: 30px;\n",
              "    }\n",
              "  "
            ]
          },
          "metadata": {}
        }
      ]
    },
    {
      "cell_type": "code",
      "source": [
        "x_batch, y_batch = next(iter(train_loader))\n",
        "x_batch.shape, y_batch.shape"
      ],
      "metadata": {
        "colab": {
          "base_uri": "https://localhost:8080/"
        },
        "id": "lXglVLU3tp_G",
        "outputId": "01f3b872-c578-4740-dad7-263a46a59df9"
      },
      "execution_count": null,
      "outputs": [
        {
          "output_type": "display_data",
          "data": {
            "text/plain": [
              "<IPython.core.display.HTML object>"
            ],
            "text/html": [
              "<style>\n",
              "    body {\n",
              "      font-size: 30px;\n",
              "    }\n",
              "  "
            ]
          },
          "metadata": {}
        },
        {
          "output_type": "execute_result",
          "data": {
            "text/plain": [
              "(torch.Size([256, 20]), torch.Size([256, 1]))"
            ]
          },
          "metadata": {},
          "execution_count": 26
        }
      ]
    },
    {
      "cell_type": "markdown",
      "metadata": {
        "tags": [],
        "id": "HX_M1Kwgboyd"
      },
      "source": [
        "## 🟥 **Step 2: Model**"
      ]
    },
    {
      "cell_type": "code",
      "source": [
        "nfl1 = 4 * num_features\n",
        "nfl2 = 2 * num_features\n",
        "\n",
        "model = nn.Sequential(\n",
        "    nn.Linear(num_features, nfl1),\n",
        "    nn.ReLU(),\n",
        "    # nn.Linear(nfl1, nfl2),\n",
        "    # nn.ReLU(),\n",
        "    nn.Linear(nfl1, num_classes-1),\n",
        "    nn.Sigmoid()\n",
        ")\n",
        "model.to(device)"
      ],
      "metadata": {
        "colab": {
          "base_uri": "https://localhost:8080/"
        },
        "id": "zgeys_CxbcvR",
        "outputId": "14e7a78e-7f6a-47c0-893a-14bf2d62f81a"
      },
      "execution_count": null,
      "outputs": [
        {
          "output_type": "display_data",
          "data": {
            "text/plain": [
              "<IPython.core.display.HTML object>"
            ],
            "text/html": [
              "<style>\n",
              "    body {\n",
              "      font-size: 30px;\n",
              "    }\n",
              "  "
            ]
          },
          "metadata": {}
        },
        {
          "output_type": "execute_result",
          "data": {
            "text/plain": [
              "Sequential(\n",
              "  (0): Linear(in_features=20, out_features=80, bias=True)\n",
              "  (1): ReLU()\n",
              "  (2): Linear(in_features=80, out_features=1, bias=True)\n",
              "  (3): Sigmoid()\n",
              ")"
            ]
          },
          "metadata": {},
          "execution_count": 31
        }
      ]
    },
    {
      "cell_type": "code",
      "source": [
        "model[0].bias"
      ],
      "metadata": {
        "colab": {
          "base_uri": "https://localhost:8080/"
        },
        "collapsed": true,
        "id": "sag0OT-EwWW_",
        "outputId": "b3085723-e9b0-4a54-b0eb-7b67df4500c9"
      },
      "execution_count": null,
      "outputs": [
        {
          "output_type": "display_data",
          "data": {
            "text/plain": [
              "<IPython.core.display.HTML object>"
            ],
            "text/html": [
              "<style>\n",
              "    body {\n",
              "      font-size: 30px;\n",
              "    }\n",
              "  "
            ]
          },
          "metadata": {}
        },
        {
          "output_type": "execute_result",
          "data": {
            "text/plain": [
              "Parameter containing:\n",
              "tensor([-0.1333,  0.1571,  0.0924, -0.1272,  0.2007,  0.1592, -0.0938,  0.0124,\n",
              "         0.0278, -0.1720, -0.0997, -0.2102,  0.0871, -0.1665, -0.1204, -0.0069,\n",
              "        -0.1289,  0.0587, -0.0629,  0.1585,  0.1370, -0.2029, -0.1495, -0.0495,\n",
              "         0.0144, -0.0767, -0.0628,  0.0406, -0.1391, -0.0355, -0.1748, -0.0998,\n",
              "        -0.0720, -0.0311, -0.2188, -0.0963,  0.1185,  0.1486,  0.1420,  0.1048,\n",
              "         0.1708, -0.1985,  0.0348,  0.0581,  0.0851, -0.0961, -0.0601, -0.0459,\n",
              "        -0.0151,  0.0768, -0.0757,  0.2201,  0.0239, -0.1853, -0.1417,  0.1058,\n",
              "         0.1223,  0.0684, -0.1804, -0.1994,  0.0054,  0.1707, -0.1445,  0.0640,\n",
              "        -0.1050,  0.1199, -0.1787, -0.0763, -0.1626,  0.0113, -0.0783, -0.1387,\n",
              "        -0.0978, -0.0517, -0.2113,  0.2076, -0.1790,  0.0846, -0.0421,  0.1448],\n",
              "       device='cuda:0', requires_grad=True)"
            ]
          },
          "metadata": {},
          "execution_count": 33
        }
      ]
    },
    {
      "cell_type": "code",
      "source": [
        "model(x_batch.to(device)).shape"
      ],
      "metadata": {
        "colab": {
          "base_uri": "https://localhost:8080/"
        },
        "id": "YQp8wReffKG_",
        "outputId": "e524bbf3-007c-4dab-c4b4-ef81159ce110"
      },
      "execution_count": null,
      "outputs": [
        {
          "output_type": "display_data",
          "data": {
            "text/plain": [
              "<IPython.core.display.HTML object>"
            ],
            "text/html": [
              "<style>\n",
              "    body {\n",
              "      font-size: 30px;\n",
              "    }\n",
              "  "
            ]
          },
          "metadata": {}
        },
        {
          "output_type": "execute_result",
          "data": {
            "text/plain": [
              "torch.Size([256, 1])"
            ]
          },
          "metadata": {},
          "execution_count": 35
        }
      ]
    },
    {
      "cell_type": "code",
      "source": [
        "model[0].weight.shape, model[0].bias.shape"
      ],
      "metadata": {
        "colab": {
          "base_uri": "https://localhost:8080/",
          "height": 55
        },
        "id": "poaTavPBf2ja",
        "outputId": "53d34ba2-7826-4783-b69e-7a6c0b1446fc"
      },
      "execution_count": null,
      "outputs": [
        {
          "output_type": "display_data",
          "data": {
            "text/plain": [
              "<IPython.core.display.HTML object>"
            ],
            "text/html": [
              "<style>\n",
              "    body {\n",
              "      font-size: 30px;\n",
              "    }\n",
              "  "
            ]
          },
          "metadata": {}
        },
        {
          "output_type": "execute_result",
          "data": {
            "text/plain": [
              "(torch.Size([40, 20]), torch.Size([40]))"
            ]
          },
          "metadata": {},
          "execution_count": 58
        }
      ]
    },
    {
      "cell_type": "markdown",
      "metadata": {
        "tags": [],
        "id": "eJwX1uUo9s65"
      },
      "source": [
        "## 🟥 **Step 3: Loss**"
      ]
    },
    {
      "cell_type": "code",
      "source": [
        "loss_fn = nn.BCELoss()\n",
        "loss_fn"
      ],
      "metadata": {
        "colab": {
          "base_uri": "https://localhost:8080/"
        },
        "id": "y-SR3AZAzsy4",
        "outputId": "d483af30-b06c-4eff-a937-4c9c0845bd0d"
      },
      "execution_count": null,
      "outputs": [
        {
          "output_type": "display_data",
          "data": {
            "text/plain": [
              "<IPython.core.display.HTML object>"
            ],
            "text/html": [
              "<style>\n",
              "    body {\n",
              "      font-size: 30px;\n",
              "    }\n",
              "  "
            ]
          },
          "metadata": {}
        },
        {
          "output_type": "execute_result",
          "data": {
            "text/plain": [
              "BCELoss()"
            ]
          },
          "metadata": {},
          "execution_count": 36
        }
      ]
    },
    {
      "cell_type": "code",
      "source": [
        "out = model(x_batch.to(device))\n",
        "loss_fn(out, y_batch.to(device))"
      ],
      "metadata": {
        "colab": {
          "base_uri": "https://localhost:8080/"
        },
        "id": "jYS6-sa0xBWc",
        "outputId": "2211e14f-6b94-4046-d8cb-b9ffc1ea39a5"
      },
      "execution_count": null,
      "outputs": [
        {
          "output_type": "display_data",
          "data": {
            "text/plain": [
              "<IPython.core.display.HTML object>"
            ],
            "text/html": [
              "<style>\n",
              "    body {\n",
              "      font-size: 30px;\n",
              "    }\n",
              "  "
            ]
          },
          "metadata": {}
        },
        {
          "output_type": "execute_result",
          "data": {
            "text/plain": [
              "tensor(1.6959, device='cuda:0', grad_fn=<BinaryCrossEntropyBackward0>)"
            ]
          },
          "metadata": {},
          "execution_count": 39
        }
      ]
    },
    {
      "cell_type": "code",
      "source": [
        "a = torch.tensor([1.], device=device)\n",
        "b = torch.tensor([2.])\n",
        "a * b"
      ],
      "metadata": {
        "colab": {
          "base_uri": "https://localhost:8080/"
        },
        "id": "Qyyx_ixPxdgL",
        "outputId": "5e797392-5ebe-41bf-c2c9-962326cd78bc"
      },
      "execution_count": null,
      "outputs": [
        {
          "output_type": "display_data",
          "data": {
            "text/plain": [
              "<IPython.core.display.HTML object>"
            ],
            "text/html": [
              "<style>\n",
              "    body {\n",
              "      font-size: 30px;\n",
              "    }\n",
              "  "
            ]
          },
          "metadata": {}
        },
        {
          "output_type": "error",
          "ename": "RuntimeError",
          "evalue": "Expected all tensors to be on the same device, but found at least two devices, cuda:0 and cpu!",
          "traceback": [
            "\u001b[0;31m---------------------------------------------------------------------------\u001b[0m",
            "\u001b[0;31mRuntimeError\u001b[0m                              Traceback (most recent call last)",
            "\u001b[0;32m<ipython-input-41-ffa5df1e6af1>\u001b[0m in \u001b[0;36m<cell line: 3>\u001b[0;34m()\u001b[0m\n\u001b[1;32m      1\u001b[0m \u001b[0ma\u001b[0m \u001b[0;34m=\u001b[0m \u001b[0mtorch\u001b[0m\u001b[0;34m.\u001b[0m\u001b[0mtensor\u001b[0m\u001b[0;34m(\u001b[0m\u001b[0;34m[\u001b[0m\u001b[0;36m1.\u001b[0m\u001b[0;34m]\u001b[0m\u001b[0;34m,\u001b[0m \u001b[0mdevice\u001b[0m\u001b[0;34m=\u001b[0m\u001b[0mdevice\u001b[0m\u001b[0;34m)\u001b[0m\u001b[0;34m\u001b[0m\u001b[0;34m\u001b[0m\u001b[0m\n\u001b[1;32m      2\u001b[0m \u001b[0mb\u001b[0m \u001b[0;34m=\u001b[0m \u001b[0mtorch\u001b[0m\u001b[0;34m.\u001b[0m\u001b[0mtensor\u001b[0m\u001b[0;34m(\u001b[0m\u001b[0;34m[\u001b[0m\u001b[0;36m2.\u001b[0m\u001b[0;34m]\u001b[0m\u001b[0;34m)\u001b[0m\u001b[0;34m\u001b[0m\u001b[0;34m\u001b[0m\u001b[0m\n\u001b[0;32m----> 3\u001b[0;31m \u001b[0ma\u001b[0m \u001b[0;34m*\u001b[0m \u001b[0mb\u001b[0m\u001b[0;34m\u001b[0m\u001b[0;34m\u001b[0m\u001b[0m\n\u001b[0m",
            "\u001b[0;31mRuntimeError\u001b[0m: Expected all tensors to be on the same device, but found at least two devices, cuda:0 and cpu!"
          ]
        }
      ]
    },
    {
      "cell_type": "markdown",
      "metadata": {
        "tags": [],
        "id": "ogv19AK90GHQ"
      },
      "source": [
        "## 🟥 **Step 4: Optimizer**"
      ]
    },
    {
      "cell_type": "code",
      "source": [
        "optimizer = SGD(model.parameters(), lr=0.0001, momentum=0.9)\n",
        "optimizer"
      ],
      "metadata": {
        "colab": {
          "base_uri": "https://localhost:8080/"
        },
        "id": "RLe7lHV20Fcf",
        "outputId": "ce3a12df-00e5-4099-8f33-38bade594a3a"
      },
      "execution_count": null,
      "outputs": [
        {
          "output_type": "display_data",
          "data": {
            "text/plain": [
              "<IPython.core.display.HTML object>"
            ],
            "text/html": [
              "<style>\n",
              "    body {\n",
              "      font-size: 30px;\n",
              "    }\n",
              "  "
            ]
          },
          "metadata": {}
        },
        {
          "output_type": "execute_result",
          "data": {
            "text/plain": [
              "SGD (\n",
              "Parameter Group 0\n",
              "    dampening: 0\n",
              "    differentiable: False\n",
              "    foreach: None\n",
              "    fused: None\n",
              "    lr: 0.0001\n",
              "    maximize: False\n",
              "    momentum: 0.9\n",
              "    nesterov: False\n",
              "    weight_decay: 0\n",
              ")"
            ]
          },
          "metadata": {},
          "execution_count": 42
        }
      ]
    },
    {
      "cell_type": "markdown",
      "metadata": {
        "tags": [],
        "id": "jw1VwE7d97gD"
      },
      "source": [
        "## 🟥 **Step 5: Train**"
      ]
    },
    {
      "cell_type": "code",
      "source": [
        "loss_train_hist, loss_valid_hist = [], []\n",
        "acc_train_hist, acc_valid_hist = [], []\n",
        "best_loss_valid = 10000"
      ],
      "metadata": {
        "colab": {
          "base_uri": "https://localhost:8080/",
          "height": 17
        },
        "id": "y9AXjuo6hUxg",
        "outputId": "ce324e57-55ed-4b9d-b6db-3f7566fa53ab"
      },
      "execution_count": null,
      "outputs": [
        {
          "output_type": "display_data",
          "data": {
            "text/plain": [
              "<IPython.core.display.HTML object>"
            ],
            "text/html": [
              "<style>\n",
              "    body {\n",
              "      font-size: 30px;\n",
              "    }\n",
              "  "
            ]
          },
          "metadata": {}
        }
      ]
    },
    {
      "cell_type": "code",
      "source": [
        "n_epochs = 10\n",
        "\n",
        "for epoch in range(n_epochs):\n",
        "\n",
        "  mean_loss_train, mean_loss_valid = 0, 0\n",
        "  mean_acc_train, mean_acc_valid = 0, 0\n",
        "\n",
        "  for iter, (x_batch, y_batch) in enumerate(train_loader):\n",
        "\n",
        "    # GPU!\n",
        "    x_batch = x_batch.to(device)\n",
        "    y_batch = y_batch.to(device)\n",
        "\n",
        "    # model\n",
        "    y_hat = model(x_batch)\n",
        "\n",
        "    # loss\n",
        "    loss = loss_fn(y_hat, y_batch)\n",
        "\n",
        "    # gradient\n",
        "    loss.backward()\n",
        "\n",
        "    # update\n",
        "    optimizer.step()\n",
        "    optimizer.zero_grad()\n",
        "\n",
        "    mean_loss_train += loss.item() * len(x_batch)\n",
        "    mean_acc_train += torch.sum(y_hat.round() == y_batch).item()\n",
        "\n",
        "  mean_loss_train = mean_loss_train / len(train_set)\n",
        "  mean_acc_train = mean_acc_train / len(train_set)\n",
        "\n",
        "  loss_train_hist.append(mean_loss_train)\n",
        "  acc_train_hist.append(mean_acc_train)\n",
        "\n",
        "\n",
        "  with torch.no_grad():\n",
        "    for x_batch, y_batch in valid_loader:\n",
        "      x_batch = x_batch.to(device)\n",
        "      y_batch = y_batch.to(device)\n",
        "      y_hat = model(x_batch)\n",
        "      loss = loss_fn(y_hat, y_batch)\n",
        "      mean_loss_valid += loss.item() * len(x_batch)\n",
        "      mean_acc_valid += torch.sum(y_hat.round() == y_batch).item()\n",
        "\n",
        "    mean_loss_valid = mean_loss_valid / len(valid_set)\n",
        "    mean_acc_valid = mean_acc_valid / len(valid_set)\n",
        "\n",
        "    loss_valid_hist.append(mean_loss_valid)\n",
        "    acc_valid_hist.append(mean_acc_valid)\n",
        "\n",
        "  print(\n",
        "  f\"Epoch: {epoch}   \"\n",
        "  f\"LossTrain: {mean_loss_train:.3}   \"\n",
        "  f\"AccTrain: {mean_acc_train:.3}   \"\n",
        "  f\"LossValid: {mean_loss_valid:.3}   \"\n",
        "  f\"AccValid: {mean_acc_valid:.3}\"\n",
        "  )\n",
        "\n",
        "  if mean_loss_valid < best_loss_valid:\n",
        "    torch.save(model, \"best-model.pt\")\n",
        "    best_loss_valid = mean_loss_valid\n",
        "    print(\"Model Saved!\")\n",
        "    print()"
      ],
      "metadata": {
        "colab": {
          "base_uri": "https://localhost:8080/",
          "height": 853
        },
        "id": "rytOv6HChSc3",
        "outputId": "704bec5e-1ae6-4b50-9fb0-bdd140b98711"
      },
      "execution_count": null,
      "outputs": [
        {
          "output_type": "display_data",
          "data": {
            "text/plain": [
              "<IPython.core.display.HTML object>"
            ],
            "text/html": [
              "<style>\n",
              "    body {\n",
              "      font-size: 30px;\n",
              "    }\n",
              "  "
            ]
          },
          "metadata": {}
        },
        {
          "output_type": "stream",
          "name": "stdout",
          "text": [
            "Epoch: 0   LossTrain: 0.18   AccTrain: 0.944   LossValid: 0.172   AccValid: 0.948\n",
            "Model Saved!\n",
            "\n",
            "Epoch: 1   LossTrain: 0.175   AccTrain: 0.946   LossValid: 0.19   AccValid: 0.939\n",
            "Epoch: 2   LossTrain: 0.169   AccTrain: 0.949   LossValid: 0.163   AccValid: 0.95\n",
            "Model Saved!\n",
            "\n",
            "Epoch: 3   LossTrain: 0.164   AccTrain: 0.951   LossValid: 0.156   AccValid: 0.955\n",
            "Model Saved!\n",
            "\n",
            "Epoch: 4   LossTrain: 0.159   AccTrain: 0.953   LossValid: 0.163   AccValid: 0.952\n",
            "Epoch: 5   LossTrain: 0.155   AccTrain: 0.955   LossValid: 0.146   AccValid: 0.959\n",
            "Model Saved!\n",
            "\n",
            "Epoch: 6   LossTrain: 0.151   AccTrain: 0.956   LossValid: 0.146   AccValid: 0.958\n",
            "Model Saved!\n",
            "\n",
            "Epoch: 7   LossTrain: 0.147   AccTrain: 0.958   LossValid: 0.151   AccValid: 0.955\n",
            "Epoch: 8   LossTrain: 0.144   AccTrain: 0.959   LossValid: 0.137   AccValid: 0.963\n",
            "Model Saved!\n",
            "\n",
            "Epoch: 9   LossTrain: 0.141   AccTrain: 0.961   LossValid: 0.138   AccValid: 0.961\n"
          ]
        }
      ]
    },
    {
      "cell_type": "code",
      "source": [
        "n = len(loss_train_hist)\n",
        "\n",
        "plt.plot(torch.arange(n), loss_train_hist)\n",
        "plt.plot(torch.arange(n), loss_valid_hist)\n",
        "plt.legend([\"Train\", \"Valid\"]);"
      ],
      "metadata": {
        "id": "fBpJWv2eIeBD",
        "colab": {
          "base_uri": "https://localhost:8080/",
          "height": 430
        },
        "outputId": "307b3b8d-57d1-4c91-9ddd-7b5f224a311f"
      },
      "execution_count": null,
      "outputs": [
        {
          "output_type": "display_data",
          "data": {
            "text/plain": [
              "<IPython.core.display.HTML object>"
            ],
            "text/html": [
              "<style>\n",
              "    body {\n",
              "      font-size: 30px;\n",
              "    }\n",
              "  "
            ]
          },
          "metadata": {}
        },
        {
          "output_type": "display_data",
          "data": {
            "text/plain": [
              "<Figure size 640x480 with 1 Axes>"
            ],
            "image/png": "[encoded data removed]"
          },
          "metadata": {}
        }
      ]
    },
    {
      "cell_type": "code",
      "source": [
        "plt.plot(torch.arange(n), acc_train_hist)\n",
        "plt.plot(torch.arange(n), acc_valid_hist)\n",
        "plt.legend([\"Train\", \"Valid\"]);"
      ],
      "metadata": {
        "id": "2Y-gTcgyIzCr",
        "colab": {
          "base_uri": "https://localhost:8080/",
          "height": 430
        },
        "outputId": "36729eb4-719f-42f7-ab9b-59c5190a19ba"
      },
      "execution_count": null,
      "outputs": [
        {
          "output_type": "display_data",
          "data": {
            "text/plain": [
              "<IPython.core.display.HTML object>"
            ],
            "text/html": [
              "<style>\n",
              "    body {\n",
              "      font-size: 30px;\n",
              "    }\n",
              "  "
            ]
          },
          "metadata": {}
        },
        {
          "output_type": "display_data",
          "data": {
            "text/plain": [
              "<Figure size 640x480 with 1 Axes>"
            ],
            "image/png": "[encoded data removed]"
          },
          "metadata": {}
        }
      ]
    },
    {
      "cell_type": "markdown",
      "metadata": {
        "tags": [],
        "id": "VkNBA0NvhVTU"
      },
      "source": [
        "## 🟪 **Test**"
      ]
    },
    {
      "cell_type": "code",
      "source": [
        "model = torch.load(\"best-model.pt\")"
      ],
      "metadata": {
        "id": "zbZArNUQ-2Qv"
      },
      "execution_count": null,
      "outputs": []
    },
    {
      "cell_type": "code",
      "source": [
        "mean_acc_test = 0\n",
        "\n",
        "with torch.no_grad():\n",
        "  for x_batch, y_batch in test_loader:\n",
        "    y_hat = model(x_batch)\n"
      ],
      "metadata": {
        "id": "KDZi8N0q-bCf"
      },
      "execution_count": null,
      "outputs": []
    }
  ]
}